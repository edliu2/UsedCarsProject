{
  "nbformat": 4,
  "nbformat_minor": 0,
  "metadata": {
    "kernelspec": {
      "display_name": "Python 3",
      "language": "python",
      "name": "python3"
    },
    "language_info": {
      "codemirror_mode": {
        "name": "ipython",
        "version": 3
      },
      "file_extension": ".py",
      "mimetype": "text/x-python",
      "name": "python",
      "nbconvert_exporter": "python",
      "pygments_lexer": "ipython3",
      "version": "3.8.1"
    },
    "colab": {
      "name": "RandomForestReg.ipynb",
      "provenance": []
    },
    "accelerator": "GPU"
  },
  "cells": [
    {
      "cell_type": "code",
      "metadata": {
        "id": "vWg5RLUrjcW7",
        "colab_type": "code",
        "colab": {}
      },
      "source": [
        "#Random Forest Regression\n",
        "\n",
        "import numpy as np\n",
        "import matplotlib.pyplot as plt\n",
        "import pandas as pd\n",
        "\n",
        "#Loading the dataset\n",
        "dataset = pd.read_csv('drive/My Drive/processed.csv')\n",
        "\n",
        "# print(dataset)\n",
        "\n",
        "X = dataset.iloc[:,2:].values #We are not using column 1. Also we slice it this way because we want X to be a matrix\n",
        "y = dataset.iloc[:,1].values\n",
        "\n",
        "#Splitting the data into Training Set and Test Set\n",
        "from sklearn.model_selection import train_test_split\n",
        "X_train, X_test, y_train, y_test = train_test_split(X,y,test_size=0.3,random_state=0)"
      ],
      "execution_count": 0,
      "outputs": []
    },
    {
      "cell_type": "code",
      "metadata": {
        "id": "dGuC6EKljiX7",
        "colab_type": "code",
        "colab": {
          "base_uri": "https://localhost:8080/",
          "height": 122
        },
        "outputId": "11be61eb-cd0b-460b-9cb1-b2ed36a961b4"
      },
      "source": [
        "from google.colab import drive\n",
        "drive.mount('/content/drive')"
      ],
      "execution_count": 2,
      "outputs": [
        {
          "output_type": "stream",
          "text": [
            "Go to this URL in a browser: https://accounts.google.com/o/oauth2/auth?client_id=947318989803-6bn6qk8qdgf4n4g3pfee6491hc0brc4i.apps.googleusercontent.com&redirect_uri=urn%3aietf%3awg%3aoauth%3a2.0%3aoob&response_type=code&scope=email%20https%3a%2f%2fwww.googleapis.com%2fauth%2fdocs.test%20https%3a%2f%2fwww.googleapis.com%2fauth%2fdrive%20https%3a%2f%2fwww.googleapis.com%2fauth%2fdrive.photos.readonly%20https%3a%2f%2fwww.googleapis.com%2fauth%2fpeopleapi.readonly\n",
            "\n",
            "Enter your authorization code:\n",
            "··········\n",
            "Mounted at /content/drive\n"
          ],
          "name": "stdout"
        }
      ]
    },
    {
      "cell_type": "code",
      "metadata": {
        "id": "5osNnyJXjcW_",
        "colab_type": "code",
        "colab": {
          "base_uri": "https://localhost:8080/",
          "height": 1000
        },
        "outputId": "ce8143dc-f278-4313-a773-8d1ae0be956f"
      },
      "source": [
        "\n",
        "# Import required libraries and create pipeline\n",
        "from sklearn.preprocessing import StandardScaler\n",
        "from sklearn.ensemble import RandomForestRegressor\n",
        "from sklearn.metrics import mean_squared_error\n",
        "from sklearn.pipeline import Pipeline\n",
        "\n",
        "print('starting pipeline')\n",
        "\n",
        "rf_pipeline = Pipeline([\n",
        "                    ('scale', StandardScaler()), \n",
        "                    ('rf', RandomForestRegressor(random_state=0, warm_start=True))\n",
        "                     ], verbose=True)\n",
        "grid_param = dict(rf__n_estimators=[10, 30, 50],\n",
        "                  rf__min_impurity_decrease=[1, 10],\n",
        "                  rf__bootstrap=[True,False])\n",
        "# Using a grid search to test parameters\n",
        "from sklearn.model_selection import GridSearchCV\n",
        "\n",
        "searchObj = GridSearchCV(rf_pipeline, grid_param, cv=10, scoring='neg_mean_squared_error', n_jobs=-1, verbose=10)\n",
        "searchObj.fit(X_train, y_train)\n",
        "print(searchObj.best_params_)  \n",
        "print(searchObj.best_score_)\n",
        "print(searchObj.cv_results_)\n",
        "\n",
        "y_pred = searchObj.predict(X_test)\n",
        "\n",
        "print(mean_squared_error(y_test, y_pred))\n",
        "\n",
        "\n",
        "# # Visualising the Decision Tree Regression in higher resolution\n",
        "# X_grid = np.arange(min(X), max(X), 0.01)\n",
        "# X_grid = X_grid.reshape((len(X_grid), 1))\n",
        "# plt.scatter(X, y, color = 'red')\n",
        "# plt.plot(X_grid, regObj.predict(X_grid), color = 'blue')\n",
        "# plt.title('Results')\n",
        "# plt.xlabel('Level')\n",
        "# plt.ylabel('Salary')\n",
        "# plt.show()\n",
        "\n",
        "# #Predicting with Linear Model\n",
        "# print(regObj.predict([[8.33]]))\n"
      ],
      "execution_count": 4,
      "outputs": [
        {
          "output_type": "stream",
          "text": [
            "starting pipeline\n",
            "Fitting 10 folds for each of 12 candidates, totalling 120 fits\n"
          ],
          "name": "stdout"
        },
        {
          "output_type": "stream",
          "text": [
            "[Parallel(n_jobs=-1)]: Using backend LokyBackend with 2 concurrent workers.\n",
            "[Parallel(n_jobs=-1)]: Done   1 tasks      | elapsed:  1.7min\n",
            "/usr/local/lib/python3.6/dist-packages/joblib/externals/loky/process_executor.py:706: UserWarning: A worker stopped while some jobs were given to the executor. This can be caused by a too short worker timeout or by a memory leak.\n",
            "  \"timeout or by a memory leak.\", UserWarning\n",
            "[Parallel(n_jobs=-1)]: Done   4 tasks      | elapsed:  3.2min\n",
            "[Parallel(n_jobs=-1)]: Done   9 tasks      | elapsed:  7.9min\n",
            "[Parallel(n_jobs=-1)]: Done  14 tasks      | elapsed: 17.3min\n",
            "[Parallel(n_jobs=-1)]: Done  21 tasks      | elapsed: 39.1min\n",
            "[Parallel(n_jobs=-1)]: Done  28 tasks      | elapsed: 62.0min\n",
            "[Parallel(n_jobs=-1)]: Done  37 tasks      | elapsed: 75.7min\n",
            "[Parallel(n_jobs=-1)]: Done  46 tasks      | elapsed: 90.6min\n",
            "[Parallel(n_jobs=-1)]: Done  57 tasks      | elapsed: 129.6min\n",
            "[Parallel(n_jobs=-1)]: Done  68 tasks      | elapsed: 148.5min\n",
            "[Parallel(n_jobs=-1)]: Done  81 tasks      | elapsed: 207.7min\n",
            "[Parallel(n_jobs=-1)]: Done  94 tasks      | elapsed: 269.5min\n",
            "[Parallel(n_jobs=-1)]: Done 109 tasks      | elapsed: 318.1min\n",
            "[Parallel(n_jobs=-1)]: Done 120 out of 120 | elapsed: 385.7min finished\n"
          ],
          "name": "stderr"
        },
        {
          "output_type": "stream",
          "text": [
            "[Pipeline] ............. (step 1 of 2) Processing scale, total=   1.5s\n",
            "[Pipeline] ................ (step 2 of 2) Processing rf, total= 1.8min\n",
            "{'rf__bootstrap': False, 'rf__min_impurity_decrease': 10, 'rf__n_estimators': 10}\n",
            "-22960721445894.285\n",
            "{'mean_fit_time': array([ 94.28063917, 279.06444135, 460.37437518,  89.63768411,\n",
            "       267.37464454, 451.58569722, 167.23579381, 505.91618373,\n",
            "       840.51404829, 165.08512318, 485.68608522, 808.67279804]), 'std_fit_time': array([ 2.44915104,  5.63919865, 11.5622492 ,  1.80607024,  6.45751762,\n",
            "       11.34253593,  8.04698966, 26.70725711, 37.05265263,  9.96682269,\n",
            "       23.32426084, 39.09766383]), 'mean_score_time': array([0.2167052 , 0.55481961, 0.79345164, 0.19286497, 0.39099348,\n",
            "       0.63981833, 0.23800581, 0.58650732, 0.99426885, 0.18550723,\n",
            "       0.45084586, 0.72561929]), 'std_score_time': array([0.02452375, 0.05795058, 0.05823818, 0.02027428, 0.04255302,\n",
            "       0.08301103, 0.0244092 , 0.06257195, 0.10844042, 0.01949404,\n",
            "       0.05054816, 0.12750298]), 'param_rf__bootstrap': masked_array(data=[True, True, True, True, True, True, False, False,\n",
            "                   False, False, False, False],\n",
            "             mask=[False, False, False, False, False, False, False, False,\n",
            "                   False, False, False, False],\n",
            "       fill_value='?',\n",
            "            dtype=object), 'param_rf__min_impurity_decrease': masked_array(data=[1, 1, 1, 10, 10, 10, 1, 1, 1, 10, 10, 10],\n",
            "             mask=[False, False, False, False, False, False, False, False,\n",
            "                   False, False, False, False],\n",
            "       fill_value='?',\n",
            "            dtype=object), 'param_rf__n_estimators': masked_array(data=[10, 30, 50, 10, 30, 50, 10, 30, 50, 10, 30, 50],\n",
            "             mask=[False, False, False, False, False, False, False, False,\n",
            "                   False, False, False, False],\n",
            "       fill_value='?',\n",
            "            dtype=object), 'params': [{'rf__bootstrap': True, 'rf__min_impurity_decrease': 1, 'rf__n_estimators': 10}, {'rf__bootstrap': True, 'rf__min_impurity_decrease': 1, 'rf__n_estimators': 30}, {'rf__bootstrap': True, 'rf__min_impurity_decrease': 1, 'rf__n_estimators': 50}, {'rf__bootstrap': True, 'rf__min_impurity_decrease': 10, 'rf__n_estimators': 10}, {'rf__bootstrap': True, 'rf__min_impurity_decrease': 10, 'rf__n_estimators': 30}, {'rf__bootstrap': True, 'rf__min_impurity_decrease': 10, 'rf__n_estimators': 50}, {'rf__bootstrap': False, 'rf__min_impurity_decrease': 1, 'rf__n_estimators': 10}, {'rf__bootstrap': False, 'rf__min_impurity_decrease': 1, 'rf__n_estimators': 30}, {'rf__bootstrap': False, 'rf__min_impurity_decrease': 1, 'rf__n_estimators': 50}, {'rf__bootstrap': False, 'rf__min_impurity_decrease': 10, 'rf__n_estimators': 10}, {'rf__bootstrap': False, 'rf__min_impurity_decrease': 10, 'rf__n_estimators': 30}, {'rf__bootstrap': False, 'rf__min_impurity_decrease': 10, 'rf__n_estimators': 50}], 'split0_test_score': array([-5.01363832e+11, -4.96273621e+11, -4.96039494e+11, -5.01158239e+11,\n",
            "       -4.96053613e+11, -4.95836034e+11, -4.98346372e+11, -4.96805034e+11,\n",
            "       -4.97387835e+11, -4.97382172e+11, -4.97916785e+11, -4.97851622e+11]), 'split1_test_score': array([-5.81517165e+11, -5.57159640e+11, -5.59306627e+11, -5.47335212e+11,\n",
            "       -5.27094610e+11, -5.35998957e+11, -5.44057969e+11, -5.35720096e+11,\n",
            "       -5.57617402e+11, -5.05780361e+11, -5.92580064e+11, -5.79432105e+11]), 'split2_test_score': array([-1.54080512e+11, -1.44476446e+11, -1.68931842e+11, -1.53894521e+11,\n",
            "       -1.37366595e+11, -1.68156082e+11, -4.97221672e+11, -4.97210460e+11,\n",
            "       -4.97202021e+11, -4.97202703e+11, -4.97206653e+11, -4.97195629e+11]), 'split3_test_score': array([-2.25477602e+14, -2.25479540e+14, -2.25479084e+14, -2.25492365e+14,\n",
            "       -2.25483112e+14, -2.25480644e+14, -2.25472793e+14, -2.25472792e+14,\n",
            "       -2.25472796e+14, -2.25472752e+14, -2.25472733e+14, -2.25472732e+14]), 'split4_test_score': array([-1.08285396e+11, -7.40216455e+10, -1.02546417e+11, -1.07855004e+11,\n",
            "       -7.41743962e+10, -9.89051568e+10, -6.83230948e+10, -7.56493724e+10,\n",
            "       -9.31316598e+10, -2.78900845e+10, -4.11634251e+10, -6.55459364e+10]), 'split5_test_score': array([-5.46281217e+11, -5.13620015e+11, -5.07872308e+11, -5.26344831e+11,\n",
            "       -5.08316384e+11, -5.09929648e+11, -5.03307691e+11, -5.03307587e+11,\n",
            "       -5.03307910e+11, -5.03307095e+11, -5.03306479e+11, -5.03306560e+11]), 'split6_test_score': array([-6.34907693e+11, -5.97108831e+11, -6.16236101e+11, -6.79136381e+11,\n",
            "       -6.13467937e+11, -6.25196878e+11, -1.09866778e+12, -1.09726248e+12,\n",
            "       -1.09712982e+12, -1.09799633e+12, -1.09696466e+12, -1.09703688e+12]), 'split7_test_score': array([-2.32561138e+12, -4.03206480e+12, -1.09329879e+13, -2.31048373e+12,\n",
            "       -4.02710567e+12, -1.09313745e+13, -1.43219357e+10, -1.43253745e+10,\n",
            "       -1.43265810e+10, -1.43322720e+10, -1.43277030e+10, -1.43277314e+10]), 'split8_test_score': array([-4.12222036e+11, -3.26844919e+11, -2.82901474e+11, -4.10381962e+11,\n",
            "       -3.24768985e+11, -2.95587119e+11, -5.03855110e+11, -5.03855159e+11,\n",
            "       -5.03855238e+11, -5.03854217e+11, -5.03854439e+11, -5.03855241e+11]), 'split9_test_score': array([-8.91403076e+10, -1.32857721e+11, -1.02345093e+11, -8.93766320e+10,\n",
            "       -1.21330536e+11, -8.76845948e+10, -4.86696313e+11, -4.86699016e+11,\n",
            "       -4.86691843e+11, -4.86717648e+11, -4.86701043e+11, -4.86698508e+11]), 'mean_test_score': array([-2.30831011e+13, -2.32353968e+13, -2.39248251e+13, -2.30818331e+13,\n",
            "       -2.32312791e+13, -2.39229313e+13, -2.29687591e+13, -2.29683627e+13,\n",
            "       -2.29723447e+13, -2.29607214e+13, -2.29706754e+13, -2.29717982e+13]), 'std_test_score': array([6.74675968e+13, 6.74238622e+13, 6.72589778e+13, 6.74729096e+13,\n",
            "       6.74264276e+13, 6.72601416e+13, 6.75019177e+13, 6.75020431e+13,\n",
            "       6.75007095e+13, 6.75046039e+13, 6.75012812e+13, 6.75008892e+13]), 'rank_test_score': array([ 8, 10, 12,  7,  9, 11,  3,  2,  6,  1,  4,  5], dtype=int32)}\n",
            "52963259393842.45\n"
          ],
          "name": "stdout"
        }
      ]
    },
    {
      "cell_type": "code",
      "metadata": {
        "id": "3tNwuDhJ_W-I",
        "colab_type": "code",
        "colab": {}
      },
      "source": [
        ""
      ],
      "execution_count": 0,
      "outputs": []
    }
  ]
}