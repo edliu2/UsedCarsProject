{
  "nbformat": 4,
  "nbformat_minor": 0,
  "metadata": {
    "kernelspec": {
      "display_name": "Python 3",
      "language": "python",
      "name": "python3"
    },
    "language_info": {
      "codemirror_mode": {
        "name": "ipython",
        "version": 3
      },
      "file_extension": ".py",
      "mimetype": "text/x-python",
      "name": "python",
      "nbconvert_exporter": "python",
      "pygments_lexer": "ipython3",
      "version": "3.8.1"
    },
    "colab": {
      "name": "RandomForestReg.ipynb",
      "provenance": []
    }
  },
  "cells": [
    {
      "cell_type": "code",
      "metadata": {
        "id": "vWg5RLUrjcW7",
        "colab_type": "code",
        "colab": {
          "base_uri": "https://localhost:8080/",
          "height": 442
        },
        "outputId": "d4de7464-2a45-46ff-9a2a-28375726df4a"
      },
      "source": [
        "#Random Forest Regression\n",
        "\n",
        "import numpy as np\n",
        "import matplotlib.pyplot as plt\n",
        "import pandas as pd\n",
        "\n",
        "#Loading the dataset\n",
        "dataset = pd.read_csv('drive/My Drive/processed.csv')\n",
        "\n",
        "# print(dataset)\n",
        "\n",
        "X = dataset.iloc[:,2:].values #We are not using column 1. Also we slice it this way because we want X to be a matrix\n",
        "y = dataset.iloc[:,1].values\n",
        "\n",
        "#Splitting the data into Training Set and Test Set\n",
        "from sklearn.model_selection import train_test_split\n",
        "X_train, X_test, y_train, y_test = train_test_split(X,y,test_size=0.3,random_state=0)"
      ],
      "execution_count": 3,
      "outputs": [
        {
          "output_type": "error",
          "ename": "FileNotFoundError",
          "evalue": "ignored",
          "traceback": [
            "\u001b[0;31m---------------------------------------------------------------------------\u001b[0m",
            "\u001b[0;31mFileNotFoundError\u001b[0m                         Traceback (most recent call last)",
            "\u001b[0;32m<ipython-input-3-f26472cfbf4b>\u001b[0m in \u001b[0;36m<module>\u001b[0;34m()\u001b[0m\n\u001b[1;32m      6\u001b[0m \u001b[0;34m\u001b[0m\u001b[0m\n\u001b[1;32m      7\u001b[0m \u001b[0;31m#Loading the dataset\u001b[0m\u001b[0;34m\u001b[0m\u001b[0;34m\u001b[0m\u001b[0;34m\u001b[0m\u001b[0m\n\u001b[0;32m----> 8\u001b[0;31m \u001b[0mdataset\u001b[0m \u001b[0;34m=\u001b[0m \u001b[0mpd\u001b[0m\u001b[0;34m.\u001b[0m\u001b[0mread_csv\u001b[0m\u001b[0;34m(\u001b[0m\u001b[0;34m'drive/My Drive/processed.csv'\u001b[0m\u001b[0;34m)\u001b[0m\u001b[0;34m\u001b[0m\u001b[0;34m\u001b[0m\u001b[0m\n\u001b[0m\u001b[1;32m      9\u001b[0m \u001b[0;34m\u001b[0m\u001b[0m\n\u001b[1;32m     10\u001b[0m \u001b[0;31m# print(dataset)\u001b[0m\u001b[0;34m\u001b[0m\u001b[0;34m\u001b[0m\u001b[0;34m\u001b[0m\u001b[0m\n",
            "\u001b[0;32m/usr/local/lib/python3.6/dist-packages/pandas/io/parsers.py\u001b[0m in \u001b[0;36mparser_f\u001b[0;34m(filepath_or_buffer, sep, delimiter, header, names, index_col, usecols, squeeze, prefix, mangle_dupe_cols, dtype, engine, converters, true_values, false_values, skipinitialspace, skiprows, skipfooter, nrows, na_values, keep_default_na, na_filter, verbose, skip_blank_lines, parse_dates, infer_datetime_format, keep_date_col, date_parser, dayfirst, cache_dates, iterator, chunksize, compression, thousands, decimal, lineterminator, quotechar, quoting, doublequote, escapechar, comment, encoding, dialect, error_bad_lines, warn_bad_lines, delim_whitespace, low_memory, memory_map, float_precision)\u001b[0m\n\u001b[1;32m    674\u001b[0m         )\n\u001b[1;32m    675\u001b[0m \u001b[0;34m\u001b[0m\u001b[0m\n\u001b[0;32m--> 676\u001b[0;31m         \u001b[0;32mreturn\u001b[0m \u001b[0m_read\u001b[0m\u001b[0;34m(\u001b[0m\u001b[0mfilepath_or_buffer\u001b[0m\u001b[0;34m,\u001b[0m \u001b[0mkwds\u001b[0m\u001b[0;34m)\u001b[0m\u001b[0;34m\u001b[0m\u001b[0;34m\u001b[0m\u001b[0m\n\u001b[0m\u001b[1;32m    677\u001b[0m \u001b[0;34m\u001b[0m\u001b[0m\n\u001b[1;32m    678\u001b[0m     \u001b[0mparser_f\u001b[0m\u001b[0;34m.\u001b[0m\u001b[0m__name__\u001b[0m \u001b[0;34m=\u001b[0m \u001b[0mname\u001b[0m\u001b[0;34m\u001b[0m\u001b[0;34m\u001b[0m\u001b[0m\n",
            "\u001b[0;32m/usr/local/lib/python3.6/dist-packages/pandas/io/parsers.py\u001b[0m in \u001b[0;36m_read\u001b[0;34m(filepath_or_buffer, kwds)\u001b[0m\n\u001b[1;32m    446\u001b[0m \u001b[0;34m\u001b[0m\u001b[0m\n\u001b[1;32m    447\u001b[0m     \u001b[0;31m# Create the parser.\u001b[0m\u001b[0;34m\u001b[0m\u001b[0;34m\u001b[0m\u001b[0;34m\u001b[0m\u001b[0m\n\u001b[0;32m--> 448\u001b[0;31m     \u001b[0mparser\u001b[0m \u001b[0;34m=\u001b[0m \u001b[0mTextFileReader\u001b[0m\u001b[0;34m(\u001b[0m\u001b[0mfp_or_buf\u001b[0m\u001b[0;34m,\u001b[0m \u001b[0;34m**\u001b[0m\u001b[0mkwds\u001b[0m\u001b[0;34m)\u001b[0m\u001b[0;34m\u001b[0m\u001b[0;34m\u001b[0m\u001b[0m\n\u001b[0m\u001b[1;32m    449\u001b[0m \u001b[0;34m\u001b[0m\u001b[0m\n\u001b[1;32m    450\u001b[0m     \u001b[0;32mif\u001b[0m \u001b[0mchunksize\u001b[0m \u001b[0;32mor\u001b[0m \u001b[0miterator\u001b[0m\u001b[0;34m:\u001b[0m\u001b[0;34m\u001b[0m\u001b[0;34m\u001b[0m\u001b[0m\n",
            "\u001b[0;32m/usr/local/lib/python3.6/dist-packages/pandas/io/parsers.py\u001b[0m in \u001b[0;36m__init__\u001b[0;34m(self, f, engine, **kwds)\u001b[0m\n\u001b[1;32m    878\u001b[0m             \u001b[0mself\u001b[0m\u001b[0;34m.\u001b[0m\u001b[0moptions\u001b[0m\u001b[0;34m[\u001b[0m\u001b[0;34m\"has_index_names\"\u001b[0m\u001b[0;34m]\u001b[0m \u001b[0;34m=\u001b[0m \u001b[0mkwds\u001b[0m\u001b[0;34m[\u001b[0m\u001b[0;34m\"has_index_names\"\u001b[0m\u001b[0;34m]\u001b[0m\u001b[0;34m\u001b[0m\u001b[0;34m\u001b[0m\u001b[0m\n\u001b[1;32m    879\u001b[0m \u001b[0;34m\u001b[0m\u001b[0m\n\u001b[0;32m--> 880\u001b[0;31m         \u001b[0mself\u001b[0m\u001b[0;34m.\u001b[0m\u001b[0m_make_engine\u001b[0m\u001b[0;34m(\u001b[0m\u001b[0mself\u001b[0m\u001b[0;34m.\u001b[0m\u001b[0mengine\u001b[0m\u001b[0;34m)\u001b[0m\u001b[0;34m\u001b[0m\u001b[0;34m\u001b[0m\u001b[0m\n\u001b[0m\u001b[1;32m    881\u001b[0m \u001b[0;34m\u001b[0m\u001b[0m\n\u001b[1;32m    882\u001b[0m     \u001b[0;32mdef\u001b[0m \u001b[0mclose\u001b[0m\u001b[0;34m(\u001b[0m\u001b[0mself\u001b[0m\u001b[0;34m)\u001b[0m\u001b[0;34m:\u001b[0m\u001b[0;34m\u001b[0m\u001b[0;34m\u001b[0m\u001b[0m\n",
            "\u001b[0;32m/usr/local/lib/python3.6/dist-packages/pandas/io/parsers.py\u001b[0m in \u001b[0;36m_make_engine\u001b[0;34m(self, engine)\u001b[0m\n\u001b[1;32m   1112\u001b[0m     \u001b[0;32mdef\u001b[0m \u001b[0m_make_engine\u001b[0m\u001b[0;34m(\u001b[0m\u001b[0mself\u001b[0m\u001b[0;34m,\u001b[0m \u001b[0mengine\u001b[0m\u001b[0;34m=\u001b[0m\u001b[0;34m\"c\"\u001b[0m\u001b[0;34m)\u001b[0m\u001b[0;34m:\u001b[0m\u001b[0;34m\u001b[0m\u001b[0;34m\u001b[0m\u001b[0m\n\u001b[1;32m   1113\u001b[0m         \u001b[0;32mif\u001b[0m \u001b[0mengine\u001b[0m \u001b[0;34m==\u001b[0m \u001b[0;34m\"c\"\u001b[0m\u001b[0;34m:\u001b[0m\u001b[0;34m\u001b[0m\u001b[0;34m\u001b[0m\u001b[0m\n\u001b[0;32m-> 1114\u001b[0;31m             \u001b[0mself\u001b[0m\u001b[0;34m.\u001b[0m\u001b[0m_engine\u001b[0m \u001b[0;34m=\u001b[0m \u001b[0mCParserWrapper\u001b[0m\u001b[0;34m(\u001b[0m\u001b[0mself\u001b[0m\u001b[0;34m.\u001b[0m\u001b[0mf\u001b[0m\u001b[0;34m,\u001b[0m \u001b[0;34m**\u001b[0m\u001b[0mself\u001b[0m\u001b[0;34m.\u001b[0m\u001b[0moptions\u001b[0m\u001b[0;34m)\u001b[0m\u001b[0;34m\u001b[0m\u001b[0;34m\u001b[0m\u001b[0m\n\u001b[0m\u001b[1;32m   1115\u001b[0m         \u001b[0;32melse\u001b[0m\u001b[0;34m:\u001b[0m\u001b[0;34m\u001b[0m\u001b[0;34m\u001b[0m\u001b[0m\n\u001b[1;32m   1116\u001b[0m             \u001b[0;32mif\u001b[0m \u001b[0mengine\u001b[0m \u001b[0;34m==\u001b[0m \u001b[0;34m\"python\"\u001b[0m\u001b[0;34m:\u001b[0m\u001b[0;34m\u001b[0m\u001b[0;34m\u001b[0m\u001b[0m\n",
            "\u001b[0;32m/usr/local/lib/python3.6/dist-packages/pandas/io/parsers.py\u001b[0m in \u001b[0;36m__init__\u001b[0;34m(self, src, **kwds)\u001b[0m\n\u001b[1;32m   1889\u001b[0m         \u001b[0mkwds\u001b[0m\u001b[0;34m[\u001b[0m\u001b[0;34m\"usecols\"\u001b[0m\u001b[0;34m]\u001b[0m \u001b[0;34m=\u001b[0m \u001b[0mself\u001b[0m\u001b[0;34m.\u001b[0m\u001b[0musecols\u001b[0m\u001b[0;34m\u001b[0m\u001b[0;34m\u001b[0m\u001b[0m\n\u001b[1;32m   1890\u001b[0m \u001b[0;34m\u001b[0m\u001b[0m\n\u001b[0;32m-> 1891\u001b[0;31m         \u001b[0mself\u001b[0m\u001b[0;34m.\u001b[0m\u001b[0m_reader\u001b[0m \u001b[0;34m=\u001b[0m \u001b[0mparsers\u001b[0m\u001b[0;34m.\u001b[0m\u001b[0mTextReader\u001b[0m\u001b[0;34m(\u001b[0m\u001b[0msrc\u001b[0m\u001b[0;34m,\u001b[0m \u001b[0;34m**\u001b[0m\u001b[0mkwds\u001b[0m\u001b[0;34m)\u001b[0m\u001b[0;34m\u001b[0m\u001b[0;34m\u001b[0m\u001b[0m\n\u001b[0m\u001b[1;32m   1892\u001b[0m         \u001b[0mself\u001b[0m\u001b[0;34m.\u001b[0m\u001b[0munnamed_cols\u001b[0m \u001b[0;34m=\u001b[0m \u001b[0mself\u001b[0m\u001b[0;34m.\u001b[0m\u001b[0m_reader\u001b[0m\u001b[0;34m.\u001b[0m\u001b[0munnamed_cols\u001b[0m\u001b[0;34m\u001b[0m\u001b[0;34m\u001b[0m\u001b[0m\n\u001b[1;32m   1893\u001b[0m \u001b[0;34m\u001b[0m\u001b[0m\n",
            "\u001b[0;32mpandas/_libs/parsers.pyx\u001b[0m in \u001b[0;36mpandas._libs.parsers.TextReader.__cinit__\u001b[0;34m()\u001b[0m\n",
            "\u001b[0;32mpandas/_libs/parsers.pyx\u001b[0m in \u001b[0;36mpandas._libs.parsers.TextReader._setup_parser_source\u001b[0;34m()\u001b[0m\n",
            "\u001b[0;31mFileNotFoundError\u001b[0m: [Errno 2] File drive/My Drive/processed.csv does not exist: 'drive/My Drive/processed.csv'"
          ]
        }
      ]
    },
    {
      "cell_type": "code",
      "metadata": {
        "id": "dGuC6EKljiX7",
        "colab_type": "code",
        "outputId": "f68aff62-2684-44c7-8ddc-aba6b5acd83d",
        "colab": {
          "base_uri": "https://localhost:8080/",
          "height": 121
        }
      },
      "source": [
        "from google.colab import drive\n",
        "drive.mount('/content/drive')"
      ],
      "execution_count": 0,
      "outputs": [
        {
          "output_type": "stream",
          "text": [
            "Go to this URL in a browser: https://accounts.google.com/o/oauth2/auth?client_id=947318989803-6bn6qk8qdgf4n4g3pfee6491hc0brc4i.apps.googleusercontent.com&redirect_uri=urn%3aietf%3awg%3aoauth%3a2.0%3aoob&response_type=code&scope=email%20https%3a%2f%2fwww.googleapis.com%2fauth%2fdocs.test%20https%3a%2f%2fwww.googleapis.com%2fauth%2fdrive%20https%3a%2f%2fwww.googleapis.com%2fauth%2fdrive.photos.readonly%20https%3a%2f%2fwww.googleapis.com%2fauth%2fpeopleapi.readonly\n",
            "\n",
            "Enter your authorization code:\n",
            "··········\n",
            "Mounted at /content/drive\n"
          ],
          "name": "stdout"
        }
      ]
    },
    {
      "cell_type": "code",
      "metadata": {
        "id": "5osNnyJXjcW_",
        "colab_type": "code",
        "outputId": "bb53a601-11c3-4315-f43d-acebaf78b255",
        "colab": {
          "base_uri": "https://localhost:8080/",
          "height": 1000
        }
      },
      "source": [
        "\n",
        "# Import required libraries and create pipeline\n",
        "from sklearn.preprocessing import StandardScaler\n",
        "from sklearn.ensemble import RandomForestRegressor\n",
        "from sklearn.metrics import mean_squared_error\n",
        "from sklearn.pipeline import Pipeline\n",
        "\n",
        "print('starting pipeline')\n",
        "\n",
        "rf_pipeline = Pipeline([\n",
        "                    ('scale', StandardScaler()), \n",
        "                    ('rf', RandomForestRegressor(random_state=0, warm_start=True))\n",
        "                     ], verbose=True)\n",
        "grid_param = dict(rf__n_estimators=[10, 30, 50],\n",
        "                  rf__min_impurity_decrease=[0.0001, 0.0005, 0.001, 0.005, 0.01],\n",
        "                  rf__bootstrap=[True,False])\n",
        "# Using a grid search to test parameters\n",
        "from sklearn.model_selection import GridSearchCV\n",
        "\n",
        "searchObj = GridSearchCV(rf_pipeline, grid_param, cv=10, scoring='neg_mean_squared_error', n_jobs=-1, verbose=10)\n",
        "searchObj.fit(X_train, y_train)\n",
        "print(searchObj.best_params_)  \n",
        "print(searchObj.best_score_)\n",
        "print(searchObj.cv_results_)\n",
        "\n",
        "y_pred = searchObj.predict(X_test)\n",
        "\n",
        "print(mean_squared_error(y_test, y_pred))\n"
      ],
      "execution_count": 0,
      "outputs": [
        {
          "output_type": "stream",
          "text": [
            "starting pipeline\n",
            "Fitting 10 folds for each of 30 candidates, totalling 300 fits\n"
          ],
          "name": "stdout"
        },
        {
          "output_type": "stream",
          "text": [
            "[Parallel(n_jobs=-1)]: Using backend LokyBackend with 2 concurrent workers.\n",
            "[Parallel(n_jobs=-1)]: Done   1 tasks      | elapsed:   39.0s\n",
            "/usr/local/lib/python3.6/dist-packages/joblib/externals/loky/process_executor.py:706: UserWarning: A worker stopped while some jobs were given to the executor. This can be caused by a too short worker timeout or by a memory leak.\n",
            "  \"timeout or by a memory leak.\", UserWarning\n",
            "[Parallel(n_jobs=-1)]: Done   4 tasks      | elapsed:  1.3min\n",
            "[Parallel(n_jobs=-1)]: Done   9 tasks      | elapsed:  3.2min\n",
            "[Parallel(n_jobs=-1)]: Done  14 tasks      | elapsed:  6.7min\n",
            "[Parallel(n_jobs=-1)]: Done  21 tasks      | elapsed: 15.1min\n",
            "[Parallel(n_jobs=-1)]: Done  28 tasks      | elapsed: 23.9min\n",
            "[Parallel(n_jobs=-1)]: Done  37 tasks      | elapsed: 29.2min\n",
            "[Parallel(n_jobs=-1)]: Done  46 tasks      | elapsed: 34.7min\n",
            "[Parallel(n_jobs=-1)]: Done  57 tasks      | elapsed: 48.8min\n",
            "[Parallel(n_jobs=-1)]: Done  68 tasks      | elapsed: 53.7min\n",
            "[Parallel(n_jobs=-1)]: Done  81 tasks      | elapsed: 64.6min\n",
            "[Parallel(n_jobs=-1)]: Done  94 tasks      | elapsed: 76.0min\n",
            "[Parallel(n_jobs=-1)]: Done 109 tasks      | elapsed: 84.2min\n",
            "[Parallel(n_jobs=-1)]: Done 124 tasks      | elapsed: 96.2min\n",
            "[Parallel(n_jobs=-1)]: Done 141 tasks      | elapsed: 105.2min\n",
            "[Parallel(n_jobs=-1)]: Done 158 tasks      | elapsed: 117.0min\n",
            "[Parallel(n_jobs=-1)]: Done 177 tasks      | elapsed: 152.5min\n",
            "[Parallel(n_jobs=-1)]: Done 196 tasks      | elapsed: 170.5min\n",
            "[Parallel(n_jobs=-1)]: Done 217 tasks      | elapsed: 203.4min\n",
            "[Parallel(n_jobs=-1)]: Done 238 tasks      | elapsed: 236.9min\n",
            "[Parallel(n_jobs=-1)]: Done 261 tasks      | elapsed: 260.9min\n",
            "[Parallel(n_jobs=-1)]: Done 284 tasks      | elapsed: 284.4min\n",
            "[Parallel(n_jobs=-1)]: Done 300 out of 300 | elapsed: 306.8min finished\n"
          ],
          "name": "stderr"
        },
        {
          "output_type": "stream",
          "text": [
            "[Pipeline] ............. (step 1 of 2) Processing scale, total=   1.7s\n",
            "[Pipeline] ................ (step 2 of 2) Processing rf, total=  57.2s\n",
            "{'rf__bootstrap': True, 'rf__min_impurity_decrease': 0.0001, 'rf__n_estimators': 30}\n",
            "-0.051883462787662114\n",
            "{'mean_fit_time': array([ 37.41037881, 106.48005285, 176.66700032,  34.43511658,\n",
            "        97.84750345, 160.38418941,  32.51820221,  92.90920942,\n",
            "       155.58810871,  28.15670869,  80.77894983, 132.71200304,\n",
            "        24.71310699,  68.82722774, 112.80238674,  63.21122918,\n",
            "       178.44239843, 293.89306531,  57.1194845 , 163.39073746,\n",
            "       281.35070131,  57.61378758, 167.59716959, 273.95390506,\n",
            "        48.21097264, 140.39411359, 235.55724647,  41.07948866,\n",
            "       119.13409047, 196.75952127]), 'std_fit_time': array([0.34073548, 0.55367524, 1.25640648, 0.32825324, 0.88548997,\n",
            "       0.95288387, 0.36530926, 1.39886607, 1.55394641, 0.41947354,\n",
            "       1.04162012, 1.34772929, 0.31539315, 0.94090691, 0.75545179,\n",
            "       0.91861478, 1.89514745, 6.85197525, 0.86274572, 1.19130447,\n",
            "       3.87679105, 0.75660384, 1.72487776, 2.21242784, 0.4314218 ,\n",
            "       0.70549174, 1.68600963, 0.30446337, 0.49397777, 3.23915043]), 'mean_score_time': array([0.09347646, 0.13458564, 0.18362448, 0.09433339, 0.1208185 ,\n",
            "       0.15687363, 0.09068139, 0.12051644, 0.15448012, 0.09590743,\n",
            "       0.11150181, 0.13204491, 0.08081567, 0.09184139, 0.10954876,\n",
            "       0.10571222, 0.13989046, 0.16669593, 0.09278023, 0.12569559,\n",
            "       0.15015514, 0.09278276, 0.12691813, 0.14789217, 0.09041982,\n",
            "       0.11136701, 0.13238702, 0.08839335, 0.10451388, 0.11709006]), 'std_score_time': array([0.01013048, 0.01411271, 0.02976384, 0.01715218, 0.01561352,\n",
            "       0.02111989, 0.00855831, 0.0136695 , 0.01614522, 0.01173338,\n",
            "       0.01004153, 0.01511703, 0.01071553, 0.01262886, 0.01257409,\n",
            "       0.01307632, 0.01472431, 0.01772638, 0.0080376 , 0.02701126,\n",
            "       0.01977605, 0.01443313, 0.01382429, 0.00790553, 0.0053811 ,\n",
            "       0.00400726, 0.00761989, 0.00320693, 0.0057895 , 0.01401928]), 'param_rf__bootstrap': masked_array(data=[True, True, True, True, True, True, True, True, True,\n",
            "                   True, True, True, True, True, True, False, False,\n",
            "                   False, False, False, False, False, False, False, False,\n",
            "                   False, False, False, False, False],\n",
            "             mask=[False, False, False, False, False, False, False, False,\n",
            "                   False, False, False, False, False, False, False, False,\n",
            "                   False, False, False, False, False, False, False, False,\n",
            "                   False, False, False, False, False, False],\n",
            "       fill_value='?',\n",
            "            dtype=object), 'param_rf__min_impurity_decrease': masked_array(data=[0.0001, 0.0001, 0.0001, 0.0005, 0.0005, 0.0005, 0.001,\n",
            "                   0.001, 0.001, 0.005, 0.005, 0.005, 0.01, 0.01, 0.01,\n",
            "                   0.0001, 0.0001, 0.0001, 0.0005, 0.0005, 0.0005, 0.001,\n",
            "                   0.001, 0.001, 0.005, 0.005, 0.005, 0.01, 0.01, 0.01],\n",
            "             mask=[False, False, False, False, False, False, False, False,\n",
            "                   False, False, False, False, False, False, False, False,\n",
            "                   False, False, False, False, False, False, False, False,\n",
            "                   False, False, False, False, False, False],\n",
            "       fill_value='?',\n",
            "            dtype=object), 'param_rf__n_estimators': masked_array(data=[10, 30, 50, 10, 30, 50, 10, 30, 50, 10, 30, 50, 10, 30,\n",
            "                   50, 10, 30, 50, 10, 30, 50, 10, 30, 50, 10, 30, 50, 10,\n",
            "                   30, 50],\n",
            "             mask=[False, False, False, False, False, False, False, False,\n",
            "                   False, False, False, False, False, False, False, False,\n",
            "                   False, False, False, False, False, False, False, False,\n",
            "                   False, False, False, False, False, False],\n",
            "       fill_value='?',\n",
            "            dtype=object), 'params': [{'rf__bootstrap': True, 'rf__min_impurity_decrease': 0.0001, 'rf__n_estimators': 10}, {'rf__bootstrap': True, 'rf__min_impurity_decrease': 0.0001, 'rf__n_estimators': 30}, {'rf__bootstrap': True, 'rf__min_impurity_decrease': 0.0001, 'rf__n_estimators': 50}, {'rf__bootstrap': True, 'rf__min_impurity_decrease': 0.0005, 'rf__n_estimators': 10}, {'rf__bootstrap': True, 'rf__min_impurity_decrease': 0.0005, 'rf__n_estimators': 30}, {'rf__bootstrap': True, 'rf__min_impurity_decrease': 0.0005, 'rf__n_estimators': 50}, {'rf__bootstrap': True, 'rf__min_impurity_decrease': 0.001, 'rf__n_estimators': 10}, {'rf__bootstrap': True, 'rf__min_impurity_decrease': 0.001, 'rf__n_estimators': 30}, {'rf__bootstrap': True, 'rf__min_impurity_decrease': 0.001, 'rf__n_estimators': 50}, {'rf__bootstrap': True, 'rf__min_impurity_decrease': 0.005, 'rf__n_estimators': 10}, {'rf__bootstrap': True, 'rf__min_impurity_decrease': 0.005, 'rf__n_estimators': 30}, {'rf__bootstrap': True, 'rf__min_impurity_decrease': 0.005, 'rf__n_estimators': 50}, {'rf__bootstrap': True, 'rf__min_impurity_decrease': 0.01, 'rf__n_estimators': 10}, {'rf__bootstrap': True, 'rf__min_impurity_decrease': 0.01, 'rf__n_estimators': 30}, {'rf__bootstrap': True, 'rf__min_impurity_decrease': 0.01, 'rf__n_estimators': 50}, {'rf__bootstrap': False, 'rf__min_impurity_decrease': 0.0001, 'rf__n_estimators': 10}, {'rf__bootstrap': False, 'rf__min_impurity_decrease': 0.0001, 'rf__n_estimators': 30}, {'rf__bootstrap': False, 'rf__min_impurity_decrease': 0.0001, 'rf__n_estimators': 50}, {'rf__bootstrap': False, 'rf__min_impurity_decrease': 0.0005, 'rf__n_estimators': 10}, {'rf__bootstrap': False, 'rf__min_impurity_decrease': 0.0005, 'rf__n_estimators': 30}, {'rf__bootstrap': False, 'rf__min_impurity_decrease': 0.0005, 'rf__n_estimators': 50}, {'rf__bootstrap': False, 'rf__min_impurity_decrease': 0.001, 'rf__n_estimators': 10}, {'rf__bootstrap': False, 'rf__min_impurity_decrease': 0.001, 'rf__n_estimators': 30}, {'rf__bootstrap': False, 'rf__min_impurity_decrease': 0.001, 'rf__n_estimators': 50}, {'rf__bootstrap': False, 'rf__min_impurity_decrease': 0.005, 'rf__n_estimators': 10}, {'rf__bootstrap': False, 'rf__min_impurity_decrease': 0.005, 'rf__n_estimators': 30}, {'rf__bootstrap': False, 'rf__min_impurity_decrease': 0.005, 'rf__n_estimators': 50}, {'rf__bootstrap': False, 'rf__min_impurity_decrease': 0.01, 'rf__n_estimators': 10}, {'rf__bootstrap': False, 'rf__min_impurity_decrease': 0.01, 'rf__n_estimators': 30}, {'rf__bootstrap': False, 'rf__min_impurity_decrease': 0.01, 'rf__n_estimators': 50}], 'split0_test_score': array([-0.0532432 , -0.05263475, -0.0526126 , -0.06544689, -0.06421294,\n",
            "       -0.06393449, -0.07542052, -0.07475644, -0.07454723, -0.10444698,\n",
            "       -0.10391695, -0.10380091, -0.12456207, -0.1242756 , -0.12438829,\n",
            "       -0.05618093, -0.05618093, -0.05618093, -0.06746324, -0.06746324,\n",
            "       -0.06746324, -0.07799093, -0.07799093, -0.07799093, -0.10504278,\n",
            "       -0.10504278, -0.10504278, -0.12456896, -0.12456896, -0.12456896]), 'split1_test_score': array([-0.05109721, -0.05078199, -0.05073805, -0.06314537, -0.06270063,\n",
            "       -0.06259357, -0.07234879, -0.07256744, -0.0727833 , -0.10124636,\n",
            "       -0.10089588, -0.10108896, -0.12316397, -0.12259522, -0.12281319,\n",
            "       -0.05419199, -0.05419199, -0.05419199, -0.06722564, -0.06722564,\n",
            "       -0.06722564, -0.07659878, -0.07659878, -0.07659878, -0.10271042,\n",
            "       -0.10271042, -0.10271042, -0.12316306, -0.12316306, -0.12316306]), 'split2_test_score': array([-0.05107638, -0.05088081, -0.05090593, -0.06192788, -0.06208479,\n",
            "       -0.06198812, -0.07282321, -0.07315874, -0.0734355 , -0.10297226,\n",
            "       -0.10350295, -0.10368615, -0.12354878, -0.12412167, -0.12424752,\n",
            "       -0.05374948, -0.05374948, -0.05374948, -0.0652981 , -0.0652981 ,\n",
            "       -0.0652981 , -0.07751535, -0.07751535, -0.07751535, -0.10492518,\n",
            "       -0.10492518, -0.10492518, -0.12444477, -0.12444477, -0.12444477]), 'split3_test_score': array([-0.05166153, -0.05137892, -0.05140728, -0.06302079, -0.06296732,\n",
            "       -0.06280681, -0.07241288, -0.07269001, -0.07290485, -0.10246517,\n",
            "       -0.10272096, -0.10285398, -0.12180251, -0.12208254, -0.12232352,\n",
            "       -0.05457011, -0.05457011, -0.05457011, -0.06649534, -0.06649534,\n",
            "       -0.06649534, -0.07492753, -0.07492753, -0.07492753, -0.10428288,\n",
            "       -0.10428288, -0.10428288, -0.12270943, -0.12270943, -0.12270943]), 'split4_test_score': array([-0.05423434, -0.05395204, -0.0539385 , -0.06619313, -0.06606054,\n",
            "       -0.06600565, -0.07741196, -0.07717023, -0.07735089, -0.10567211,\n",
            "       -0.10564128, -0.10561869, -0.12457486, -0.1245724 , -0.12457293,\n",
            "       -0.05715961, -0.05715961, -0.05715961, -0.06848819, -0.06848819,\n",
            "       -0.06848819, -0.08016474, -0.08016474, -0.08016474, -0.1066029 ,\n",
            "       -0.1066029 , -0.1066029 , -0.12456994, -0.12456994, -0.12456994]), 'split5_test_score': array([-0.05225632, -0.05193141, -0.0520303 , -0.06363387, -0.06366632,\n",
            "       -0.06379961, -0.07447816, -0.07452369, -0.07486027, -0.10363318,\n",
            "       -0.10372399, -0.10399455, -0.12500019, -0.12525385, -0.12547115,\n",
            "       -0.05546517, -0.05546517, -0.05546517, -0.06704144, -0.06704144,\n",
            "       -0.06704144, -0.07810181, -0.07810181, -0.07810181, -0.10534082,\n",
            "       -0.10534082, -0.10534082, -0.12582486, -0.12582486, -0.12582486]), 'split6_test_score': array([-0.05121815, -0.05116921, -0.05124394, -0.0631286 , -0.06312314,\n",
            "       -0.06321693, -0.07339269, -0.07316131, -0.07335631, -0.10322664,\n",
            "       -0.10297188, -0.103425  , -0.12327894, -0.12383158, -0.12395459,\n",
            "       -0.05434645, -0.05434645, -0.05434645, -0.06629567, -0.06629567,\n",
            "       -0.06629567, -0.07588471, -0.07588471, -0.07588471, -0.10496439,\n",
            "       -0.10496439, -0.10496439, -0.12414158, -0.12414158, -0.12414158]), 'split7_test_score': array([-0.05284536, -0.05271562, -0.05266634, -0.06430244, -0.06412877,\n",
            "       -0.06421438, -0.07426919, -0.074418  , -0.07446947, -0.10522012,\n",
            "       -0.10518276, -0.10520734, -0.12575137, -0.12575226, -0.12575241,\n",
            "       -0.05616169, -0.05616169, -0.05616169, -0.06709922, -0.06709922,\n",
            "       -0.06709922, -0.07659153, -0.07659153, -0.07659153, -0.10618099,\n",
            "       -0.10618099, -0.10618099, -0.12575151, -0.12575151, -0.12575151]), 'split8_test_score': array([-0.05329758, -0.05295088, -0.05300692, -0.06563131, -0.0651    ,\n",
            "       -0.06516832, -0.07671234, -0.07649011, -0.07672089, -0.1061293 ,\n",
            "       -0.1059255 , -0.10608629, -0.12620777, -0.12620718, -0.12620677,\n",
            "       -0.0567303 , -0.0567303 , -0.0567303 , -0.06735485, -0.06735485,\n",
            "       -0.06735485, -0.07936941, -0.07936941, -0.07936941, -0.10704054,\n",
            "       -0.10704054, -0.10704054, -0.12621371, -0.12621371, -0.12621371]), 'split9_test_score': array([-0.05097619, -0.05043899, -0.05046559, -0.06265829, -0.06211052,\n",
            "       -0.06210835, -0.07238094, -0.07215072, -0.07233757, -0.10030478,\n",
            "       -0.09996213, -0.10003671, -0.12062043, -0.12062309, -0.12062302,\n",
            "       -0.05353867, -0.05353867, -0.05353867, -0.06577269, -0.06577269,\n",
            "       -0.06577269, -0.07540717, -0.07540717, -0.07540717, -0.10107372,\n",
            "       -0.10107372, -0.10107372, -0.12062221, -0.12062221, -0.12062221]), 'mean_test_score': array([-0.05219063, -0.05188346, -0.05190154, -0.06390886, -0.0636155 ,\n",
            "       -0.06358362, -0.07416507, -0.07410867, -0.07427663, -0.10353169,\n",
            "       -0.10344443, -0.10357986, -0.12385109, -0.12393154, -0.12403534,\n",
            "       -0.05520944, -0.05520944, -0.05520944, -0.06685344, -0.06685344,\n",
            "       -0.06685344, -0.0772552 , -0.0772552 , -0.0772552 , -0.10481646,\n",
            "       -0.10481646, -0.10481646, -0.124201  , -0.124201  , -0.124201  ]), 'std_test_score': array([0.00109912, 0.00108385, 0.00107526, 0.0013509 , 0.00122117,\n",
            "       0.00124037, 0.00175115, 0.00160479, 0.00159068, 0.00179463,\n",
            "       0.00183512, 0.00180636, 0.00164437, 0.00164218, 0.00162043,\n",
            "       0.0012306 , 0.0012306 , 0.0012306 , 0.00086928, 0.00086928,\n",
            "       0.00086928, 0.0016076 , 0.0016076 , 0.0016076 , 0.00170552,\n",
            "       0.00170552, 0.00170552, 0.00159801, 0.00159801, 0.00159801]), 'rank_test_score': array([ 3,  1,  2,  9,  8,  7, 14, 13, 15, 20, 19, 21, 25, 26, 27,  5,  4,\n",
            "        5, 10, 10, 10, 16, 16, 16, 23, 23, 22, 28, 30, 29], dtype=int32)}\n",
            "0.0518881635649915\n"
          ],
          "name": "stdout"
        }
      ]
    },
    {
      "cell_type": "code",
      "metadata": {
        "id": "3tNwuDhJ_W-I",
        "colab_type": "code",
        "outputId": "52d4916e-2674-41f9-bcd7-89d457ac2f43",
        "colab": {
          "base_uri": "https://localhost:8080/",
          "height": 84
        }
      },
      "source": [
        "print(10**y_test)\n",
        "print(10**y_pred)\n",
        "print(mean_squared_error(10**y_test,10**y_pred))"
      ],
      "execution_count": 0,
      "outputs": [
        {
          "output_type": "stream",
          "text": [
            "[ 1300. 10900.  8200. ... 12800.  7500.  3500.]\n",
            "[ 1265.43811211 12702.14321607 11480.64955407 ... 11424.76961623\n",
            "  4190.00020888  4743.35182132]\n",
            "68681187.02017733\n"
          ],
          "name": "stdout"
        }
      ]
    },
    {
      "cell_type": "code",
      "metadata": {
        "id": "q8Oz_LxZBdi0",
        "colab_type": "code",
        "colab": {}
      },
      "source": [
        "##runtime crashed, copying result from above:\n",
        "\n",
        "mean_scores = np.array([-0.05219063, -0.05188346, -0.05190154, -0.06390886, -0.0636155 ,\n",
        "       -0.06358362, -0.07416507, -0.07410867, -0.07427663, -0.10353169,\n",
        "       -0.10344443, -0.10357986, -0.12385109, -0.12393154, -0.12403534,\n",
        "       -0.05520944, -0.05520944, -0.05520944, -0.06685344, -0.06685344,\n",
        "       -0.06685344, -0.0772552 , -0.0772552 , -0.0772552 , -0.10481646,\n",
        "       -0.10481646, -0.10481646, -0.124201  , -0.124201  , -0.124201  ]).reshape(2,5,3)"
      ],
      "execution_count": 0,
      "outputs": []
    },
    {
      "cell_type": "code",
      "metadata": {
        "id": "CLk8fjTkEZ7O",
        "colab_type": "code",
        "outputId": "b154da7f-1615-452c-dd7c-6dfcfacd516b",
        "colab": {
          "base_uri": "https://localhost:8080/",
          "height": 295
        }
      },
      "source": [
        "grid_param = dict(rf__n_estimators=[10, 30, 50],\n",
        "                  rf__min_impurity_decrease=[0.0001, 0.0005, 0.001, 0.005, 0.01],\n",
        "                  rf__bootstrap=[True,False])\n",
        "plt.plot(grid_param['rf__min_impurity_decrease'], mean_scores[0,:,0],\n",
        "         grid_param['rf__min_impurity_decrease'], mean_scores[0,:,1],\n",
        "         grid_param['rf__min_impurity_decrease'], mean_scores[0,:,2],\n",
        "         grid_param['rf__min_impurity_decrease'], mean_scores[1,:,0],\n",
        "         grid_param['rf__min_impurity_decrease'], mean_scores[1,:,1],\n",
        "         grid_param['rf__min_impurity_decrease'], mean_scores[1,:,2]\n",
        "         )\n",
        "plt.ylabel('Validation MSE (log-scale)')\n",
        "plt.xlabel('Minimum Impurity Decrease')\n",
        "plt.title('Mean Validation Scores of Random Forest')\n",
        "plt.legend(('Bootstrap True|10 estimators', 'Bootstrap True|30 estimators', 'Bootstrap True|50 estimators', 'Bootstrap False|10 estimators', 'Bootstrap False|30 estimators', 'Bootstrap False|50 estimators'))\n",
        "plt.show()"
      ],
      "execution_count": 7,
      "outputs": [
        {
          "output_type": "display_data",
          "data": {
            "image/png": "[encoded data removed]",
            "text/plain": [
              "<Figure size 432x288 with 1 Axes>"
            ]
          },
          "metadata": {
            "tags": [],
            "needs_background": "light"
          }
        }
      ]
    }
  ]
}