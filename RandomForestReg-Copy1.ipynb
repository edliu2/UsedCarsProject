{
 "cells": [
  {
   "cell_type": "code",
   "execution_count": 1,
   "metadata": {},
   "outputs": [],
   "source": [
    "#Random Forest Regression\n",
    "\n",
    "import numpy as np\n",
    "import matplotlib.pyplot as plt\n",
    "import pandas as pd\n",
    "\n",
    "#Loading the dataset\n",
    "dataset = pd.read_csv('processed.csv')\n",
    "\n",
    "# print(dataset)\n",
    "\n",
    "X = dataset.iloc[:,2:].values #We are not using column 1. Also we slice it this way because we want X to be a matrix\n",
    "y = dataset.iloc[:,1].values\n",
    "\n",
    "#Splitting the data into Training Set and Test Set\n",
    "from sklearn.model_selection import train_test_split\n",
    "X_train, X_test, y_train, y_test = train_test_split(X,y,test_size=0.3,random_state=0)"
   ]
  },
  {
   "cell_type": "code",
   "execution_count": null,
   "metadata": {},
   "outputs": [
    {
     "name": "stdout",
     "output_type": "stream",
     "text": [
      "starting pipeline\n",
      "Fitting 10 folds for each of 8 candidates, totalling 80 fits\n"
     ]
    },
    {
     "name": "stderr",
     "output_type": "stream",
     "text": [
      "[Parallel(n_jobs=-1)]: Using backend LokyBackend with 12 concurrent workers.\n",
      "[Parallel(n_jobs=-1)]: Done  26 tasks      | elapsed: 18.6min\n"
     ]
    }
   ],
   "source": [
    "\n",
    "# Import required libraries and create pipeline\n",
    "from sklearn.preprocessing import StandardScaler\n",
    "from sklearn.ensemble import RandomForestRegressor\n",
    "from sklearn.metrics import mean_squared_error\n",
    "from sklearn.pipeline import Pipeline\n",
    "\n",
    "print('starting pipeline')\n",
    "\n",
    "rf_pipeline = Pipeline([\n",
    "                    ('scale', StandardScaler()), \n",
    "                    ('rf', RandomForestRegressor())\n",
    "                     ], verbose=True)\n",
    "grid_param = dict(rf__n_estimators=[10, 30],\n",
    "                  rf__min_samples_leaf=[1,5],\n",
    "                  rf__bootstrap=[True,False])\n",
    "# Using a grid search to test parameters\n",
    "from sklearn.model_selection import GridSearchCV\n",
    "\n",
    "searchObj = GridSearchCV(rf_pipeline, grid_param, cv=10, scoring='neg_mean_squared_error', n_jobs=-1, verbose=1)\n",
    "searchObj.fit(X_train, y_train)\n",
    "print(searchObj.best_params_)  \n",
    "print(searchObj.best_score_)\n",
    "\n",
    "y_pred = searchObj.predict(X_test)\n",
    "\n",
    "\n",
    "\n",
    "print(y_pred)\n",
    "print(y_test)\n",
    "\n",
    "\n",
    "# # Visualising the Decision Tree Regression in higher resolution\n",
    "# X_grid = np.arange(min(X), max(X), 0.01)\n",
    "# X_grid = X_grid.reshape((len(X_grid), 1))\n",
    "# plt.scatter(X, y, color = 'red')\n",
    "# plt.plot(X_grid, regObj.predict(X_grid), color = 'blue')\n",
    "# plt.title('Results')\n",
    "# plt.xlabel('Level')\n",
    "# plt.ylabel('Salary')\n",
    "# plt.show()\n",
    "\n",
    "# #Predicting with Linear Model\n",
    "# print(regObj.predict([[8.33]]))\n"
   ]
  },
  {
   "cell_type": "code",
   "execution_count": null,
   "metadata": {},
   "outputs": [],
   "source": []
  }
 ],
 "metadata": {
  "kernelspec": {
   "display_name": "Python 3",
   "language": "python",
   "name": "python3"
  },
  "language_info": {
   "codemirror_mode": {
    "name": "ipython",
    "version": 3
   },
   "file_extension": ".py",
   "mimetype": "text/x-python",
   "name": "python",
   "nbconvert_exporter": "python",
   "pygments_lexer": "ipython3",
   "version": "3.8.1"
  }
 },
 "nbformat": 4,
 "nbformat_minor": 4
}
