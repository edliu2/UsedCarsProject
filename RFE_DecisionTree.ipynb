{
  "nbformat": 4,
  "nbformat_minor": 0,
  "metadata": {
    "colab": {
      "name": "Untitled1.ipynb",
      "provenance": [],
      "mount_file_id": "https://github.com/edliu2/UsedCarsProject/blob/master/RFE_DecisionTree.ipynb",
      "authorship_tag": "ABX9TyM0epfBPYJd9JwSf477IjYe",
      "include_colab_link": true
    },
    "kernelspec": {
      "name": "python3",
      "display_name": "Python 3"
    },
    "accelerator": "GPU"
  },
  "cells": [
    {
      "cell_type": "markdown",
      "metadata": {
        "id": "view-in-github",
        "colab_type": "text"
      },
      "source": [
        "<a href=\"https://colab.research.google.com/github/edliu2/UsedCarsProject/blob/master/RFE_DecisionTree.ipynb\" target=\"_parent\"><img src=\"https://colab.research.google.com/assets/colab-badge.svg\" alt=\"Open In Colab\"/></a>"
      ]
    },
    {
      "cell_type": "code",
      "metadata": {
        "id": "5UL3RvvLvcwY",
        "colab_type": "code",
        "colab": {}
      },
      "source": [
        "# Decision Tree + Feature Selection\n",
        "\n",
        "import numpy as np\n",
        "import matplotlib.pyplot as plt\n",
        "import pandas as pd\n",
        "\n",
        "#Loading the dataset\n",
        "try:\n",
        "  dataset = pd.read_csv('processed.csv')\n",
        "except:\n",
        "  dataset = pd.read_csv('drive/My Drive/processed.csv')\n",
        "\n",
        "# print(dataset)\n",
        "\n",
        "X = dataset.iloc[:,2:] #We are not using column 1. Also we slice it this way because we want X to be a matrix\n",
        "y = dataset.iloc[:,1]\n",
        "\n",
        "from sklearn.model_selection import train_test_split\n",
        "X_train, X_test, y_train, y_test = train_test_split(X,y, test_size = 0.3, random_state = 0)"
      ],
      "execution_count": 0,
      "outputs": []
    },
    {
      "cell_type": "code",
      "metadata": {
        "id": "QdoxqBuzvfPe",
        "colab_type": "code",
        "outputId": "90980756-a0a6-4f84-d985-534aae84c2eb",
        "colab": {
          "base_uri": "https://localhost:8080/",
          "height": 1000
        }
      },
      "source": [
        "#import model\n",
        "from sklearn.preprocessing import StandardScaler\n",
        "from sklearn.tree import DecisionTreeRegressor\n",
        "from sklearn.pipeline import Pipeline\n",
        "from sklearn.feature_selection import RFECV\n",
        "\n",
        "# define new class for pipeline that passes feature importance or coef to RFE\n",
        "class PipelineRFE(Pipeline):\n",
        "\n",
        "    def fit(self, X, y=None, **fit_params):\n",
        "        super(PipelineRFE, self).fit(X, y, **fit_params)\n",
        "        self.feature_importances_ = self.steps[-1][-1].feature_importances_\n",
        "        return self\n",
        "\n",
        "DT_pipeline =  PipelineRFE([\n",
        "                    ('scale', StandardScaler()), \n",
        "                    ('DT', DecisionTreeRegressor(random_state=0, min_samples_leaf=32))\n",
        "                     ], verbose=True)\n",
        "\n",
        "selectionObj = RFECV(DT_pipeline, min_features_to_select=1, step=5, cv=10, scoring='neg_mean_squared_error', n_jobs=-1, verbose=10)\n",
        "selectionObj.fit(X_train, y_train)\n",
        "print(\"Optimal number of features : %d\" % selectionObj.n_features_)"
      ],
      "execution_count": 3,
      "outputs": [
        {
          "output_type": "stream",
          "text": [
            "Fitting estimator with 307 features.\n",
            "[Pipeline] ............. (step 1 of 2) Processing scale, total=   1.5s\n",
            "[Pipeline] ................ (step 2 of 2) Processing DT, total=   4.5s\n",
            "Fitting estimator with 302 features.\n",
            "[Pipeline] ............. (step 1 of 2) Processing scale, total=   1.3s\n",
            "[Pipeline] ................ (step 2 of 2) Processing DT, total=   4.5s\n",
            "Fitting estimator with 297 features.\n",
            "[Pipeline] ............. (step 1 of 2) Processing scale, total=   1.2s\n",
            "[Pipeline] ................ (step 2 of 2) Processing DT, total=   4.4s\n",
            "Fitting estimator with 292 features.\n",
            "[Pipeline] ............. (step 1 of 2) Processing scale, total=   1.2s\n",
            "[Pipeline] ................ (step 2 of 2) Processing DT, total=   4.3s\n",
            "Fitting estimator with 287 features.\n",
            "[Pipeline] ............. (step 1 of 2) Processing scale, total=   1.2s\n",
            "[Pipeline] ................ (step 2 of 2) Processing DT, total=   4.3s\n",
            "Fitting estimator with 282 features.\n",
            "[Pipeline] ............. (step 1 of 2) Processing scale, total=   1.1s\n",
            "[Pipeline] ................ (step 2 of 2) Processing DT, total=   4.2s\n",
            "Fitting estimator with 277 features.\n",
            "[Pipeline] ............. (step 1 of 2) Processing scale, total=   1.1s\n",
            "[Pipeline] ................ (step 2 of 2) Processing DT, total=   4.1s\n",
            "Fitting estimator with 272 features.\n",
            "[Pipeline] ............. (step 1 of 2) Processing scale, total=   1.1s\n",
            "[Pipeline] ................ (step 2 of 2) Processing DT, total=   4.1s\n",
            "Fitting estimator with 267 features.\n",
            "[Pipeline] ............. (step 1 of 2) Processing scale, total=   1.1s\n",
            "[Pipeline] ................ (step 2 of 2) Processing DT, total=   4.0s\n",
            "Fitting estimator with 262 features.\n",
            "[Pipeline] ............. (step 1 of 2) Processing scale, total=   1.1s\n",
            "[Pipeline] ................ (step 2 of 2) Processing DT, total=   3.9s\n",
            "Fitting estimator with 257 features.\n",
            "[Pipeline] ............. (step 1 of 2) Processing scale, total=   1.1s\n",
            "[Pipeline] ................ (step 2 of 2) Processing DT, total=   3.9s\n",
            "Fitting estimator with 252 features.\n",
            "[Pipeline] ............. (step 1 of 2) Processing scale, total=   1.0s\n",
            "[Pipeline] ................ (step 2 of 2) Processing DT, total=   3.9s\n",
            "Fitting estimator with 247 features.\n",
            "[Pipeline] ............. (step 1 of 2) Processing scale, total=   1.0s\n",
            "[Pipeline] ................ (step 2 of 2) Processing DT, total=   3.7s\n",
            "Fitting estimator with 242 features.\n",
            "[Pipeline] ............. (step 1 of 2) Processing scale, total=   1.0s\n",
            "[Pipeline] ................ (step 2 of 2) Processing DT, total=   3.7s\n",
            "Fitting estimator with 237 features.\n",
            "[Pipeline] ............. (step 1 of 2) Processing scale, total=   1.0s\n",
            "[Pipeline] ................ (step 2 of 2) Processing DT, total=   3.7s\n",
            "Fitting estimator with 232 features.\n",
            "[Pipeline] ............. (step 1 of 2) Processing scale, total=   0.9s\n",
            "[Pipeline] ................ (step 2 of 2) Processing DT, total=   3.6s\n",
            "Fitting estimator with 227 features.\n",
            "[Pipeline] ............. (step 1 of 2) Processing scale, total=   0.9s\n",
            "[Pipeline] ................ (step 2 of 2) Processing DT, total=   3.5s\n",
            "Fitting estimator with 222 features.\n",
            "[Pipeline] ............. (step 1 of 2) Processing scale, total=   0.9s\n",
            "[Pipeline] ................ (step 2 of 2) Processing DT, total=   3.5s\n",
            "Fitting estimator with 217 features.\n",
            "[Pipeline] ............. (step 1 of 2) Processing scale, total=   0.9s\n",
            "[Pipeline] ................ (step 2 of 2) Processing DT, total=   3.4s\n",
            "Fitting estimator with 212 features.\n",
            "[Pipeline] ............. (step 1 of 2) Processing scale, total=   0.9s\n",
            "[Pipeline] ................ (step 2 of 2) Processing DT, total=   3.4s\n",
            "Fitting estimator with 207 features.\n",
            "[Pipeline] ............. (step 1 of 2) Processing scale, total=   0.8s\n",
            "[Pipeline] ................ (step 2 of 2) Processing DT, total=   3.2s\n",
            "Fitting estimator with 202 features.\n",
            "[Pipeline] ............. (step 1 of 2) Processing scale, total=   0.8s\n",
            "[Pipeline] ................ (step 2 of 2) Processing DT, total=   3.3s\n",
            "Fitting estimator with 197 features.\n",
            "[Pipeline] ............. (step 1 of 2) Processing scale, total=   0.8s\n",
            "[Pipeline] ................ (step 2 of 2) Processing DT, total=   3.1s\n",
            "Fitting estimator with 192 features.\n",
            "[Pipeline] ............. (step 1 of 2) Processing scale, total=   0.8s\n",
            "[Pipeline] ................ (step 2 of 2) Processing DT, total=   3.1s\n",
            "Fitting estimator with 187 features.\n",
            "[Pipeline] ............. (step 1 of 2) Processing scale, total=   0.8s\n",
            "[Pipeline] ................ (step 2 of 2) Processing DT, total=   3.0s\n",
            "Fitting estimator with 182 features.\n",
            "[Pipeline] ............. (step 1 of 2) Processing scale, total=   0.8s\n",
            "[Pipeline] ................ (step 2 of 2) Processing DT, total=   3.0s\n",
            "Fitting estimator with 177 features.\n",
            "[Pipeline] ............. (step 1 of 2) Processing scale, total=   0.7s\n",
            "[Pipeline] ................ (step 2 of 2) Processing DT, total=   2.9s\n",
            "Fitting estimator with 172 features.\n",
            "[Pipeline] ............. (step 1 of 2) Processing scale, total=   0.7s\n",
            "[Pipeline] ................ (step 2 of 2) Processing DT, total=   2.8s\n",
            "Fitting estimator with 167 features.\n",
            "[Pipeline] ............. (step 1 of 2) Processing scale, total=   0.7s\n",
            "[Pipeline] ................ (step 2 of 2) Processing DT, total=   2.9s\n",
            "Fitting estimator with 162 features.\n",
            "[Pipeline] ............. (step 1 of 2) Processing scale, total=   0.7s\n",
            "[Pipeline] ................ (step 2 of 2) Processing DT, total=   2.5s\n",
            "Fitting estimator with 157 features.\n",
            "[Pipeline] ............. (step 1 of 2) Processing scale, total=   0.7s\n",
            "[Pipeline] ................ (step 2 of 2) Processing DT, total=   2.6s\n",
            "Fitting estimator with 152 features.\n",
            "[Pipeline] ............. (step 1 of 2) Processing scale, total=   0.6s\n",
            "[Pipeline] ................ (step 2 of 2) Processing DT, total=   2.4s\n",
            "Fitting estimator with 147 features.\n",
            "[Pipeline] ............. (step 1 of 2) Processing scale, total=   0.6s\n",
            "[Pipeline] ................ (step 2 of 2) Processing DT, total=   2.3s\n",
            "Fitting estimator with 142 features.\n",
            "[Pipeline] ............. (step 1 of 2) Processing scale, total=   0.6s\n",
            "[Pipeline] ................ (step 2 of 2) Processing DT, total=   2.3s\n",
            "Fitting estimator with 137 features.\n",
            "[Pipeline] ............. (step 1 of 2) Processing scale, total=   0.6s\n",
            "[Pipeline] ................ (step 2 of 2) Processing DT, total=   2.2s\n",
            "Fitting estimator with 132 features.\n",
            "[Pipeline] ............. (step 1 of 2) Processing scale, total=   0.6s\n",
            "[Pipeline] ................ (step 2 of 2) Processing DT, total=   2.1s\n",
            "Fitting estimator with 127 features.\n",
            "[Pipeline] ............. (step 1 of 2) Processing scale, total=   0.5s\n",
            "[Pipeline] ................ (step 2 of 2) Processing DT, total=   2.1s\n",
            "[Pipeline] ............. (step 1 of 2) Processing scale, total=   0.5s\n",
            "[Pipeline] ................ (step 2 of 2) Processing DT, total=   2.0s\n",
            "[Pipeline] ............. (step 1 of 2) Processing scale, total=   0.5s\n",
            "[Pipeline] ................ (step 2 of 2) Processing DT, total=   2.0s\n",
            "Optimal number of features : 122\n"
          ],
          "name": "stdout"
        }
      ]
    },
    {
      "cell_type": "code",
      "metadata": {
        "id": "YP_3TVcMvg8R",
        "colab_type": "code",
        "outputId": "b536aa95-5181-476a-f4ef-d9698e1f806f",
        "colab": {
          "base_uri": "https://localhost:8080/",
          "height": 280
        }
      },
      "source": [
        "# Plot number of features VS. cross-validation scores\n",
        "plt.figure()\n",
        "plt.xlabel(\"Number of features selected\")\n",
        "plt.ylabel(\"Cross validation score (mean squared error)\")\n",
        "plt.plot(range(2, 5*len(selectionObj.grid_scores_) + 2, 5), selectionObj.grid_scores_)\n",
        "plt.show()"
      ],
      "execution_count": 4,
      "outputs": [
        {
          "output_type": "display_data",
          "data": {
            "image/png": "[encoded data removed]",
            "text/plain": [
              "<Figure size 432x288 with 1 Axes>"
            ]
          },
          "metadata": {
            "tags": [],
            "needs_background": "light"
          }
        }
      ]
    },
    {
      "cell_type": "code",
      "metadata": {
        "id": "3PDn0OeZviwK",
        "colab_type": "code",
        "outputId": "f7733daf-a8e5-4e5e-d03d-dc8cc553f0a8",
        "colab": {
          "base_uri": "https://localhost:8080/",
          "height": 153
        }
      },
      "source": [
        "#check features\n",
        "selected_features = X_train.columns[selectionObj.support_]\n",
        "print(selected_features)"
      ],
      "execution_count": 5,
      "outputs": [
        {
          "output_type": "stream",
          "text": [
            "Index(['gearbox', 'powerPS', 'kilometer', 'monthOfRegistration',\n",
            "       'notRepairedDamage', 'brand_audi', 'brand_bmw', 'brand_chevrolet',\n",
            "       'brand_chrysler', 'brand_citroen',\n",
            "       ...\n",
            "       'model_x_reihe', 'model_x_trail', 'model_x_type', 'model_xc_reihe',\n",
            "       'model_yaris', 'model_yeti', 'model_ypsilon', 'model_z_reihe',\n",
            "       'model_zafira', 'years_old'],\n",
            "      dtype='object', length=122)\n"
          ],
          "name": "stdout"
        }
      ]
    },
    {
      "cell_type": "code",
      "metadata": {
        "id": "nFPAHWWovkJy",
        "colab_type": "code",
        "outputId": "73a4e6aa-0a9f-4a6e-c48e-30c998d97b64",
        "colab": {
          "base_uri": "https://localhost:8080/",
          "height": 34
        }
      },
      "source": [
        "#Making predictions on the Test Set\n",
        "y_pred = selectionObj.predict(X_test)\n",
        "\n",
        "#Evaluating the predictions using a Confusion Matrix\n",
        "from sklearn.metrics import mean_squared_error\n",
        "print(mean_squared_error(y_pred,y_test))"
      ],
      "execution_count": 6,
      "outputs": [
        {
          "output_type": "stream",
          "text": [
            "0.040099079653937095\n"
          ],
          "name": "stdout"
        }
      ]
    },
    {
      "cell_type": "code",
      "metadata": {
        "id": "ZbAOD_wVvwv_",
        "colab_type": "code",
        "outputId": "3dd09f8d-1557-403e-93fe-30af0bca4560",
        "colab": {
          "base_uri": "https://localhost:8080/",
          "height": 272
        }
      },
      "source": [
        "print(10**y_pred)\n",
        "print(10**y_test)\n",
        "print(mean_squared_error(10**y_test,10**y_pred))"
      ],
      "execution_count": 7,
      "outputs": [
        {
          "output_type": "stream",
          "text": [
            "[  748.35256113 13942.4438755  11425.02599297 ... 11264.18436024\n",
            "  7787.98431295  3208.37772608]\n",
            "85971      1300.0\n",
            "205804    10900.0\n",
            "13374      8200.0\n",
            "235012    11000.0\n",
            "169522     1150.0\n",
            "           ...   \n",
            "16494      4500.0\n",
            "259055     2500.0\n",
            "24516     12800.0\n",
            "13263      7500.0\n",
            "25001      3500.0\n",
            "Name: log_price, Length: 81600, dtype: float64\n",
            "58869216.0597717\n"
          ],
          "name": "stdout"
        }
      ]
    },
    {
      "cell_type": "code",
      "metadata": {
        "id": "dpjSlV_qXUNg",
        "colab_type": "code",
        "colab": {
          "base_uri": "https://localhost:8080/",
          "height": 54
        },
        "outputId": "040b11e4-589a-4771-9551-6246a8b239c0"
      },
      "source": [
        "# store resulting model columns\n",
        "print(selectionObj.support_.tolist())"
      ],
      "execution_count": 9,
      "outputs": [
        {
          "output_type": "stream",
          "text": [
            "[True, True, True, True, True, True, True, True, True, True, True, True, True, True, True, True, True, True, True, True, False, False, False, True, True, True, True, False, True, True, True, True, False, False, True, True, True, True, False, False, True, False, True, True, True, True, True, True, True, True, True, True, False, True, False, False, False, True, False, True, False, False, True, False, True, False, True, True, False, True, False, True, False, False, False, False, True, False, False, False, False, True, True, False, True, True, True, True, False, True, False, False, False, False, False, False, True, False, True, True, False, False, False, False, False, False, False, False, False, False, False, False, False, False, False, False, True, False, False, True, False, False, False, False, False, False, False, False, False, False, False, False, True, True, False, False, False, True, False, False, True, False, False, False, False, False, False, False, False, False, False, False, False, True, False, False, False, False, False, False, True, True, False, False, True, True, False, False, False, False, False, False, False, False, True, False, False, False, True, False, True, False, False, False, False, False, True, False, False, False, False, False, False, False, False, False, False, False, False, False, False, True, False, True, True, False, True, True, False, True, False, False, True, False, False, False, True, False, False, False, False, False, True, False, False, False, False, True, False, False, True, False, False, True, True, False, True, False, False, False, False, False, False, False, False, True, False, False, False, True, False, False, False, False, False, False, False, False, False, False, True, False, False, True, True, False, False, False, False, True, True, True, False, False, False, True, True, True, True, False, True, True, False, True, True, True, False, False, False, False, True, False, False, True, True, False, False, True, True, True, True, True, True, True, True, True, True]\n"
          ],
          "name": "stdout"
        }
      ]
    },
    {
      "cell_type": "code",
      "metadata": {
        "id": "eu5dO8hMXiob",
        "colab_type": "code",
        "colab": {}
      },
      "source": [
        "# Get selected columns from previous result\n",
        "mask = [True, True, True, True, True, True, True, True, True, True, True, True, True, True, True, True, True, True, True, True, False, False, False, True, True, True, True, False, True, True, True, True, False, False, True, True, True, True, False, False, True, False, True, True, True, True, True, True, True, True, True, True, False, True, False, False, False, True, False, True, False, False, True, False, True, False, True, True, False, True, False, True, False, False, False, False, True, False, False, False, False, True, True, False, True, True, True, True, False, True, False, False, False, False, False, False, True, False, True, True, False, False, False, False, False, False, False, False, False, False, False, False, False, False, False, False, True, False, False, True, False, False, False, False, False, False, False, False, False, False, False, False, True, True, False, False, False, True, False, False, True, False, False, False, False, False, False, False, False, False, False, False, False, True, False, False, False, False, False, False, True, True, False, False, True, True, False, False, False, False, False, False, False, False, True, False, False, False, True, False, True, False, False, False, False, False, True, False, False, False, False, False, False, False, False, False, False, False, False, False, False, True, False, True, True, False, True, True, False, True, False, False, True, False, False, False, True, False, False, False, False, False, True, False, False, False, False, True, False, False, True, False, False, True, True, False, True, False, False, False, False, False, False, False, False, True, False, False, False, True, False, False, False, False, False, False, False, False, False, False, True, False, False, True, True, False, False, False, False, True, True, True, False, False, False, True, True, True, True, False, True, True, False, True, True, True, False, False, False, False, True, False, False, True, True, False, False, True, True, True, True, True, True, True, True, True, True]\n",
        "df = X.iloc[:,mask]"
      ],
      "execution_count": 0,
      "outputs": []
    },
    {
      "cell_type": "code",
      "metadata": {
        "id": "gSh-2SC-Kbp8",
        "colab_type": "code",
        "colab": {
          "base_uri": "https://localhost:8080/",
          "height": 68
        },
        "outputId": "7dfbc17b-3d8c-4f90-e89e-cb089e00f569"
      },
      "source": [
        "#Loop for counting brand and model variables\n",
        "column_list = df.columns.tolist()\n",
        "model_cnt = 0\n",
        "brand_cnt = 0\n",
        "total_cnt = 0\n",
        "\n",
        "for item in column_list:\n",
        "  if item.startswith('model'):\n",
        "    model_cnt += 1\n",
        "  elif item.startswith('brand'):\n",
        "    brand_cnt += 1\n",
        "  total_cnt +=1\n",
        "print('models: ', model_cnt)\n",
        "print('brands: ', brand_cnt)\n",
        "print('total: ', total_cnt)"
      ],
      "execution_count": 12,
      "outputs": [
        {
          "output_type": "stream",
          "text": [
            "models:  77\n",
            "brands:  30\n",
            "total:  122\n"
          ],
          "name": "stdout"
        }
      ]
    },
    {
      "cell_type": "code",
      "metadata": {
        "id": "a6n4frWYXvNA",
        "colab_type": "code",
        "colab": {}
      },
      "source": [
        ""
      ],
      "execution_count": 0,
      "outputs": []
    }
  ]
}