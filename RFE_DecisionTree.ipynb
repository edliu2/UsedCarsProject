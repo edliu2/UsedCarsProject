{
  "nbformat": 4,
  "nbformat_minor": 0,
  "metadata": {
    "colab": {
      "name": "Untitled1.ipynb",
      "provenance": [],
      "mount_file_id": "https://github.com/edliu2/UsedCarsProject/blob/master/DecisionTree_RFECV.ipynb",
      "authorship_tag": "ABX9TyPD36dbQ5i14i9szR2fED5F",
      "include_colab_link": true
    },
    "kernelspec": {
      "name": "python3",
      "display_name": "Python 3"
    },
    "accelerator": "GPU"
  },
  "cells": [
    {
      "cell_type": "markdown",
      "metadata": {
        "id": "view-in-github",
        "colab_type": "text"
      },
      "source": [
        "<a href=\"https://colab.research.google.com/github/edliu2/UsedCarsProject/blob/master/DecisionTree_RFECV.ipynb\" target=\"_parent\"><img src=\"https://colab.research.google.com/assets/colab-badge.svg\" alt=\"Open In Colab\"/></a>"
      ]
    },
    {
      "cell_type": "code",
      "metadata": {
        "id": "5UL3RvvLvcwY",
        "colab_type": "code",
        "colab": {}
      },
      "source": [
        "# Linear Regression + Feature Selection\n",
        "\n",
        "import numpy as np\n",
        "import matplotlib.pyplot as plt\n",
        "import pandas as pd\n",
        "\n",
        "#Loading the dataset\n",
        "try:\n",
        "  dataset = pd.read_csv('processed.csv')\n",
        "except:\n",
        "  dataset = pd.read_csv('drive/My Drive/processed.csv')\n",
        "\n",
        "# print(dataset)\n",
        "\n",
        "X = dataset.iloc[:,2:] #We are not using column 1. Also we slice it this way because we want X to be a matrix\n",
        "y = dataset.iloc[:,1]\n",
        "\n",
        "from sklearn.model_selection import train_test_split\n",
        "X_train, X_test, y_train, y_test = train_test_split(X,y, test_size = 0.3, random_state = 0)"
      ],
      "execution_count": 0,
      "outputs": []
    },
    {
      "cell_type": "code",
      "metadata": {
        "id": "QdoxqBuzvfPe",
        "colab_type": "code",
        "colab": {
          "base_uri": "https://localhost:8080/",
          "height": 403
        },
        "outputId": "a9ea23cf-661e-4edd-c727-a3271a3eb5d0"
      },
      "source": [
        "#import model\n",
        "from sklearn.preprocessing import StandardScaler\n",
        "from sklearn.tree import DecisionTreeRegressor\n",
        "from sklearn.pipeline import Pipeline\n",
        "from sklearn.feature_selection import RFECV\n",
        "\n",
        "# define new class for pipeline that passes feature importance or coef to RFE\n",
        "class PipelineRFE(Pipeline):\n",
        "\n",
        "    def fit(self, X, y=None, **fit_params):\n",
        "        super(PipelineRFE, self).fit(X, y, **fit_params)\n",
        "        self.feature_importances_ = self.steps[-1][-1].feature_importances_\n",
        "        return self\n",
        "\n",
        "DT_pipeline =  PipelineRFE([\n",
        "                    ('scale', StandardScaler()), \n",
        "                    ('DT', DecisionTreeRegressor())\n",
        "                     ], verbose=True)\n",
        "\n",
        "selectionObj = RFECV(DT_pipeline, min_features_to_select=1, step=5, cv=10, scoring='neg_mean_squared_error', n_jobs=-1, verbose=10)\n",
        "selectionObj.fit(X_train, y_train)\n",
        "print(\"Optimal number of features : %d\" % selectionObj.n_features_)"
      ],
      "execution_count": 2,
      "outputs": [
        {
          "output_type": "stream",
          "text": [
            "Fitting estimator with 307 features.\n",
            "[Pipeline] ............. (step 1 of 2) Processing scale, total=   1.3s\n",
            "[Pipeline] ................ (step 2 of 2) Processing DT, total=   5.4s\n",
            "Fitting estimator with 302 features.\n",
            "[Pipeline] ............. (step 1 of 2) Processing scale, total=   1.1s\n",
            "[Pipeline] ................ (step 2 of 2) Processing DT, total=   5.3s\n",
            "Fitting estimator with 297 features.\n",
            "[Pipeline] ............. (step 1 of 2) Processing scale, total=   1.0s\n",
            "[Pipeline] ................ (step 2 of 2) Processing DT, total=   5.2s\n",
            "Fitting estimator with 292 features.\n",
            "[Pipeline] ............. (step 1 of 2) Processing scale, total=   1.0s\n",
            "[Pipeline] ................ (step 2 of 2) Processing DT, total=   5.3s\n",
            "Fitting estimator with 287 features.\n",
            "[Pipeline] ............. (step 1 of 2) Processing scale, total=   1.0s\n",
            "[Pipeline] ................ (step 2 of 2) Processing DT, total=   5.2s\n",
            "Fitting estimator with 282 features.\n",
            "[Pipeline] ............. (step 1 of 2) Processing scale, total=   1.0s\n",
            "[Pipeline] ................ (step 2 of 2) Processing DT, total=   5.2s\n",
            "[Pipeline] ............. (step 1 of 2) Processing scale, total=   1.0s\n",
            "[Pipeline] ................ (step 2 of 2) Processing DT, total=   5.1s\n",
            "[Pipeline] ............. (step 1 of 2) Processing scale, total=   1.0s\n",
            "[Pipeline] ................ (step 2 of 2) Processing DT, total=   5.1s\n",
            "Optimal number of features : 277\n"
          ],
          "name": "stdout"
        }
      ]
    },
    {
      "cell_type": "code",
      "metadata": {
        "id": "YP_3TVcMvg8R",
        "colab_type": "code",
        "outputId": "5e174eeb-a33d-46dd-be70-99e43f2e60f4",
        "colab": {
          "base_uri": "https://localhost:8080/",
          "height": 280
        }
      },
      "source": [
        "# Plot number of features VS. cross-validation scores\n",
        "plt.figure()\n",
        "plt.xlabel(\"Number of features selected\")\n",
        "plt.ylabel(\"Cross validation score (mean squared error)\")\n",
        "plt.plot(range(2, 5*len(selectionObj.grid_scores_) + 2, 5), selectionObj.grid_scores_)\n",
        "plt.show()"
      ],
      "execution_count": 7,
      "outputs": [
        {
          "output_type": "display_data",
          "data": {
            "image/png": "[encoded data removed]",
            "text/plain": [
              "<Figure size 432x288 with 1 Axes>"
            ]
          },
          "metadata": {
            "tags": [],
            "needs_background": "light"
          }
        }
      ]
    },
    {
      "cell_type": "code",
      "metadata": {
        "id": "3PDn0OeZviwK",
        "colab_type": "code",
        "outputId": "7d6645e1-922e-496e-eaff-59eade9f7f61",
        "colab": {
          "base_uri": "https://localhost:8080/",
          "height": 151
        }
      },
      "source": [
        "#check features\n",
        "selected_features = X_train.columns[selectionObj.support_]\n",
        "print(selected_features)"
      ],
      "execution_count": 4,
      "outputs": [
        {
          "output_type": "stream",
          "text": [
            "Index(['gearbox', 'powerPS', 'kilometer', 'monthOfRegistration',\n",
            "       'notRepairedDamage', 'brand_audi', 'brand_bmw', 'brand_chevrolet',\n",
            "       'brand_chrysler', 'brand_citroen',\n",
            "       ...\n",
            "       'model_x_reihe', 'model_x_trail', 'model_x_type', 'model_xc_reihe',\n",
            "       'model_yaris', 'model_yeti', 'model_ypsilon', 'model_z_reihe',\n",
            "       'model_zafira', 'years_old'],\n",
            "      dtype='object', length=277)\n"
          ],
          "name": "stdout"
        }
      ]
    },
    {
      "cell_type": "code",
      "metadata": {
        "id": "nFPAHWWovkJy",
        "colab_type": "code",
        "colab": {
          "base_uri": "https://localhost:8080/",
          "height": 34
        },
        "outputId": "bd10ee40-a87d-49b4-9cec-ba1ffd27d5a1"
      },
      "source": [
        "#Making predictions on the Test Set\n",
        "y_pred = selectionObj.predict(X_test)\n",
        "\n",
        "#Evaluating the predictions using a Confusion Matrix\n",
        "from sklearn.metrics import mean_squared_error\n",
        "print(mean_squared_error(y_pred,y_test))"
      ],
      "execution_count": 5,
      "outputs": [
        {
          "output_type": "stream",
          "text": [
            "0.05303938112531647\n"
          ],
          "name": "stdout"
        }
      ]
    },
    {
      "cell_type": "code",
      "metadata": {
        "id": "ZbAOD_wVvwv_",
        "colab_type": "code",
        "colab": {
          "base_uri": "https://localhost:8080/",
          "height": 269
        },
        "outputId": "f8ce49e7-b8a7-48fa-b012-858bebd2fb01"
      },
      "source": [
        "print(10**y_pred)\n",
        "print(10**y_test)\n",
        "print(mean_squared_error(10**y_test,10**y_pred))"
      ],
      "execution_count": 6,
      "outputs": [
        {
          "output_type": "stream",
          "text": [
            "[  677.36360891 11900.          9700.         ... 14800.\n",
            " 11900.          3500.        ]\n",
            "85971      1300.0\n",
            "205804    10900.0\n",
            "13374      8200.0\n",
            "235012    11000.0\n",
            "169522     1150.0\n",
            "           ...   \n",
            "16494      4500.0\n",
            "259055     2500.0\n",
            "24516     12800.0\n",
            "13263      7500.0\n",
            "25001      3500.0\n",
            "Name: log_price, Length: 81600, dtype: float64\n",
            "78762178.05188462\n"
          ],
          "name": "stdout"
        }
      ]
    },
    {
      "cell_type": "code",
      "metadata": {
        "id": "gSh-2SC-Kbp8",
        "colab_type": "code",
        "colab": {}
      },
      "source": [
        ""
      ],
      "execution_count": 0,
      "outputs": []
    }
  ]
}
