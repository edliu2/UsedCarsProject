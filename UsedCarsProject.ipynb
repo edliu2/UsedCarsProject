{
  "nbformat": 4,
  "nbformat_minor": 0,
  "metadata": {
    "accelerator": "GPU",
    "colab": {
      "name": "UsedCarsProject.ipynb",
      "provenance": [],
      "toc_visible": true
    },
    "environment": {
      "name": "common-cpu.m47",
      "type": "gcloud",
      "uri": "gcr.io/deeplearning-platform-release/base-cpu:m47"
    },
    "kernelspec": {
      "display_name": "Python 3",
      "language": "python",
      "name": "python3"
    },
    "language_info": {
      "codemirror_mode": {
        "name": "ipython",
        "version": 3
      },
      "file_extension": ".py",
      "mimetype": "text/x-python",
      "name": "python",
      "nbconvert_exporter": "python",
      "pygments_lexer": "ipython3",
      "version": "3.8.1"
    }
  },
  "cells": [
    {
      "cell_type": "markdown",
      "metadata": {
        "id": "4CzYtX7LvCr8",
        "colab_type": "text"
      },
      "source": [
        "# 1. Preprocessing the data"
      ]
    },
    {
      "cell_type": "markdown",
      "metadata": {
        "id": "Ur0GiEwx4KAJ",
        "colab_type": "text"
      },
      "source": [
        "## Initial preprocessing steps"
      ]
    },
    {
      "cell_type": "code",
      "metadata": {
        "id": "pBS2-6xT4zBb",
        "colab_type": "code",
        "colab": {
          "base_uri": "https://localhost:8080/",
          "height": 122
        },
        "outputId": "c104980a-6e1c-4b79-8cbe-63104d7555df"
      },
      "source": [
        "from google.colab import drive\n",
        "drive.mount('/content/drive')"
      ],
      "execution_count": 2,
      "outputs": [
        {
          "output_type": "stream",
          "text": [
            "Go to this URL in a browser: https://accounts.google.com/o/oauth2/auth?client_id=947318989803-6bn6qk8qdgf4n4g3pfee6491hc0brc4i.apps.googleusercontent.com&redirect_uri=urn%3aietf%3awg%3aoauth%3a2.0%3aoob&response_type=code&scope=email%20https%3a%2f%2fwww.googleapis.com%2fauth%2fdocs.test%20https%3a%2f%2fwww.googleapis.com%2fauth%2fdrive%20https%3a%2f%2fwww.googleapis.com%2fauth%2fdrive.photos.readonly%20https%3a%2f%2fwww.googleapis.com%2fauth%2fpeopleapi.readonly\n",
            "\n",
            "Enter your authorization code:\n",
            "··········\n",
            "Mounted at /content/drive\n"
          ],
          "name": "stdout"
        }
      ]
    },
    {
      "cell_type": "markdown",
      "metadata": {
        "id": "kqmH4H543q7S",
        "colab_type": "text"
      },
      "source": [
        "Loading data and dropping string columns that we will not use.\n",
        "\n",
        "Also dropping columns which have 1 value"
      ]
    },
    {
      "cell_type": "code",
      "metadata": {
        "colab_type": "code",
        "id": "v7HI0yf9pegK",
        "outputId": "72f7a205-c3a3-48eb-ea1c-205ae92d698a",
        "colab": {
          "base_uri": "https://localhost:8080/",
          "height": 419
        }
      },
      "source": [
        "import pandas\n",
        "import numpy as np\n",
        "try:\n",
        "    df = pandas.read_csv('drive/My Drive/autos.csv', sep=\",\", encoding = 'Latin1')\n",
        "except:\n",
        "    df = pandas.read_csv('autos.csv', sep=\",\", encoding = 'Latin1')\n",
        "\n",
        "df = df.drop(['name','seller', 'abtest', 'offerType', 'nrOfPictures', 'lastSeen', 'abtest', 'postalCode', 'dateCreated', 'dateCrawled'], axis=1)\n",
        "\n",
        "display(df)"
      ],
      "execution_count": 13,
      "outputs": [
        {
          "output_type": "display_data",
          "data": {
            "text/html": [
              "<div>\n",
              "<style scoped>\n",
              "    .dataframe tbody tr th:only-of-type {\n",
              "        vertical-align: middle;\n",
              "    }\n",
              "\n",
              "    .dataframe tbody tr th {\n",
              "        vertical-align: top;\n",
              "    }\n",
              "\n",
              "    .dataframe thead th {\n",
              "        text-align: right;\n",
              "    }\n",
              "</style>\n",
              "<table border=\"1\" class=\"dataframe\">\n",
              "  <thead>\n",
              "    <tr style=\"text-align: right;\">\n",
              "      <th></th>\n",
              "      <th>price</th>\n",
              "      <th>vehicleType</th>\n",
              "      <th>yearOfRegistration</th>\n",
              "      <th>gearbox</th>\n",
              "      <th>powerPS</th>\n",
              "      <th>model</th>\n",
              "      <th>kilometer</th>\n",
              "      <th>monthOfRegistration</th>\n",
              "      <th>fuelType</th>\n",
              "      <th>brand</th>\n",
              "      <th>notRepairedDamage</th>\n",
              "    </tr>\n",
              "  </thead>\n",
              "  <tbody>\n",
              "    <tr>\n",
              "      <th>0</th>\n",
              "      <td>480</td>\n",
              "      <td>NaN</td>\n",
              "      <td>1993</td>\n",
              "      <td>manuell</td>\n",
              "      <td>0</td>\n",
              "      <td>golf</td>\n",
              "      <td>150000</td>\n",
              "      <td>0</td>\n",
              "      <td>benzin</td>\n",
              "      <td>volkswagen</td>\n",
              "      <td>NaN</td>\n",
              "    </tr>\n",
              "    <tr>\n",
              "      <th>1</th>\n",
              "      <td>18300</td>\n",
              "      <td>coupe</td>\n",
              "      <td>2011</td>\n",
              "      <td>manuell</td>\n",
              "      <td>190</td>\n",
              "      <td>NaN</td>\n",
              "      <td>125000</td>\n",
              "      <td>5</td>\n",
              "      <td>diesel</td>\n",
              "      <td>audi</td>\n",
              "      <td>ja</td>\n",
              "    </tr>\n",
              "    <tr>\n",
              "      <th>2</th>\n",
              "      <td>9800</td>\n",
              "      <td>suv</td>\n",
              "      <td>2004</td>\n",
              "      <td>automatik</td>\n",
              "      <td>163</td>\n",
              "      <td>grand</td>\n",
              "      <td>125000</td>\n",
              "      <td>8</td>\n",
              "      <td>diesel</td>\n",
              "      <td>jeep</td>\n",
              "      <td>NaN</td>\n",
              "    </tr>\n",
              "    <tr>\n",
              "      <th>3</th>\n",
              "      <td>1500</td>\n",
              "      <td>kleinwagen</td>\n",
              "      <td>2001</td>\n",
              "      <td>manuell</td>\n",
              "      <td>75</td>\n",
              "      <td>golf</td>\n",
              "      <td>150000</td>\n",
              "      <td>6</td>\n",
              "      <td>benzin</td>\n",
              "      <td>volkswagen</td>\n",
              "      <td>nein</td>\n",
              "    </tr>\n",
              "    <tr>\n",
              "      <th>4</th>\n",
              "      <td>3600</td>\n",
              "      <td>kleinwagen</td>\n",
              "      <td>2008</td>\n",
              "      <td>manuell</td>\n",
              "      <td>69</td>\n",
              "      <td>fabia</td>\n",
              "      <td>90000</td>\n",
              "      <td>7</td>\n",
              "      <td>diesel</td>\n",
              "      <td>skoda</td>\n",
              "      <td>nein</td>\n",
              "    </tr>\n",
              "    <tr>\n",
              "      <th>...</th>\n",
              "      <td>...</td>\n",
              "      <td>...</td>\n",
              "      <td>...</td>\n",
              "      <td>...</td>\n",
              "      <td>...</td>\n",
              "      <td>...</td>\n",
              "      <td>...</td>\n",
              "      <td>...</td>\n",
              "      <td>...</td>\n",
              "      <td>...</td>\n",
              "      <td>...</td>\n",
              "    </tr>\n",
              "    <tr>\n",
              "      <th>371523</th>\n",
              "      <td>2200</td>\n",
              "      <td>NaN</td>\n",
              "      <td>2005</td>\n",
              "      <td>NaN</td>\n",
              "      <td>0</td>\n",
              "      <td>NaN</td>\n",
              "      <td>20000</td>\n",
              "      <td>1</td>\n",
              "      <td>NaN</td>\n",
              "      <td>sonstige_autos</td>\n",
              "      <td>NaN</td>\n",
              "    </tr>\n",
              "    <tr>\n",
              "      <th>371524</th>\n",
              "      <td>1199</td>\n",
              "      <td>cabrio</td>\n",
              "      <td>2000</td>\n",
              "      <td>automatik</td>\n",
              "      <td>101</td>\n",
              "      <td>fortwo</td>\n",
              "      <td>125000</td>\n",
              "      <td>3</td>\n",
              "      <td>benzin</td>\n",
              "      <td>smart</td>\n",
              "      <td>nein</td>\n",
              "    </tr>\n",
              "    <tr>\n",
              "      <th>371525</th>\n",
              "      <td>9200</td>\n",
              "      <td>bus</td>\n",
              "      <td>1996</td>\n",
              "      <td>manuell</td>\n",
              "      <td>102</td>\n",
              "      <td>transporter</td>\n",
              "      <td>150000</td>\n",
              "      <td>3</td>\n",
              "      <td>diesel</td>\n",
              "      <td>volkswagen</td>\n",
              "      <td>nein</td>\n",
              "    </tr>\n",
              "    <tr>\n",
              "      <th>371526</th>\n",
              "      <td>3400</td>\n",
              "      <td>kombi</td>\n",
              "      <td>2002</td>\n",
              "      <td>manuell</td>\n",
              "      <td>100</td>\n",
              "      <td>golf</td>\n",
              "      <td>150000</td>\n",
              "      <td>6</td>\n",
              "      <td>diesel</td>\n",
              "      <td>volkswagen</td>\n",
              "      <td>NaN</td>\n",
              "    </tr>\n",
              "    <tr>\n",
              "      <th>371527</th>\n",
              "      <td>28990</td>\n",
              "      <td>limousine</td>\n",
              "      <td>2013</td>\n",
              "      <td>manuell</td>\n",
              "      <td>320</td>\n",
              "      <td>m_reihe</td>\n",
              "      <td>50000</td>\n",
              "      <td>8</td>\n",
              "      <td>benzin</td>\n",
              "      <td>bmw</td>\n",
              "      <td>nein</td>\n",
              "    </tr>\n",
              "  </tbody>\n",
              "</table>\n",
              "<p>371528 rows × 11 columns</p>\n",
              "</div>"
            ],
            "text/plain": [
              "        price vehicleType  ...           brand notRepairedDamage\n",
              "0         480         NaN  ...      volkswagen               NaN\n",
              "1       18300       coupe  ...            audi                ja\n",
              "2        9800         suv  ...            jeep               NaN\n",
              "3        1500  kleinwagen  ...      volkswagen              nein\n",
              "4        3600  kleinwagen  ...           skoda              nein\n",
              "...       ...         ...  ...             ...               ...\n",
              "371523   2200         NaN  ...  sonstige_autos               NaN\n",
              "371524   1199      cabrio  ...           smart              nein\n",
              "371525   9200         bus  ...      volkswagen              nein\n",
              "371526   3400       kombi  ...      volkswagen               NaN\n",
              "371527  28990   limousine  ...             bmw              nein\n",
              "\n",
              "[371528 rows x 11 columns]"
            ]
          },
          "metadata": {
            "tags": []
          }
        }
      ]
    },
    {
      "cell_type": "code",
      "metadata": {
        "colab_type": "code",
        "id": "U1L9SlQTI0nA",
        "outputId": "d8012e26-54c3-4608-bec7-f61d2d7e8d6d",
        "colab": {
          "base_uri": "https://localhost:8080/",
          "height": 297
        }
      },
      "source": [
        "# Look at distributions of the numerical columns\n",
        "df.describe()"
      ],
      "execution_count": 14,
      "outputs": [
        {
          "output_type": "execute_result",
          "data": {
            "text/html": [
              "<div>\n",
              "<style scoped>\n",
              "    .dataframe tbody tr th:only-of-type {\n",
              "        vertical-align: middle;\n",
              "    }\n",
              "\n",
              "    .dataframe tbody tr th {\n",
              "        vertical-align: top;\n",
              "    }\n",
              "\n",
              "    .dataframe thead th {\n",
              "        text-align: right;\n",
              "    }\n",
              "</style>\n",
              "<table border=\"1\" class=\"dataframe\">\n",
              "  <thead>\n",
              "    <tr style=\"text-align: right;\">\n",
              "      <th></th>\n",
              "      <th>price</th>\n",
              "      <th>yearOfRegistration</th>\n",
              "      <th>powerPS</th>\n",
              "      <th>kilometer</th>\n",
              "      <th>monthOfRegistration</th>\n",
              "    </tr>\n",
              "  </thead>\n",
              "  <tbody>\n",
              "    <tr>\n",
              "      <th>count</th>\n",
              "      <td>3.715280e+05</td>\n",
              "      <td>371528.000000</td>\n",
              "      <td>371528.000000</td>\n",
              "      <td>371528.000000</td>\n",
              "      <td>371528.000000</td>\n",
              "    </tr>\n",
              "    <tr>\n",
              "      <th>mean</th>\n",
              "      <td>1.729514e+04</td>\n",
              "      <td>2004.577997</td>\n",
              "      <td>115.549477</td>\n",
              "      <td>125618.688228</td>\n",
              "      <td>5.734445</td>\n",
              "    </tr>\n",
              "    <tr>\n",
              "      <th>std</th>\n",
              "      <td>3.587954e+06</td>\n",
              "      <td>92.866598</td>\n",
              "      <td>192.139578</td>\n",
              "      <td>40112.337051</td>\n",
              "      <td>3.712412</td>\n",
              "    </tr>\n",
              "    <tr>\n",
              "      <th>min</th>\n",
              "      <td>0.000000e+00</td>\n",
              "      <td>1000.000000</td>\n",
              "      <td>0.000000</td>\n",
              "      <td>5000.000000</td>\n",
              "      <td>0.000000</td>\n",
              "    </tr>\n",
              "    <tr>\n",
              "      <th>25%</th>\n",
              "      <td>1.150000e+03</td>\n",
              "      <td>1999.000000</td>\n",
              "      <td>70.000000</td>\n",
              "      <td>125000.000000</td>\n",
              "      <td>3.000000</td>\n",
              "    </tr>\n",
              "    <tr>\n",
              "      <th>50%</th>\n",
              "      <td>2.950000e+03</td>\n",
              "      <td>2003.000000</td>\n",
              "      <td>105.000000</td>\n",
              "      <td>150000.000000</td>\n",
              "      <td>6.000000</td>\n",
              "    </tr>\n",
              "    <tr>\n",
              "      <th>75%</th>\n",
              "      <td>7.200000e+03</td>\n",
              "      <td>2008.000000</td>\n",
              "      <td>150.000000</td>\n",
              "      <td>150000.000000</td>\n",
              "      <td>9.000000</td>\n",
              "    </tr>\n",
              "    <tr>\n",
              "      <th>max</th>\n",
              "      <td>2.147484e+09</td>\n",
              "      <td>9999.000000</td>\n",
              "      <td>20000.000000</td>\n",
              "      <td>150000.000000</td>\n",
              "      <td>12.000000</td>\n",
              "    </tr>\n",
              "  </tbody>\n",
              "</table>\n",
              "</div>"
            ],
            "text/plain": [
              "              price  yearOfRegistration  ...      kilometer  monthOfRegistration\n",
              "count  3.715280e+05       371528.000000  ...  371528.000000        371528.000000\n",
              "mean   1.729514e+04         2004.577997  ...  125618.688228             5.734445\n",
              "std    3.587954e+06           92.866598  ...   40112.337051             3.712412\n",
              "min    0.000000e+00         1000.000000  ...    5000.000000             0.000000\n",
              "25%    1.150000e+03         1999.000000  ...  125000.000000             3.000000\n",
              "50%    2.950000e+03         2003.000000  ...  150000.000000             6.000000\n",
              "75%    7.200000e+03         2008.000000  ...  150000.000000             9.000000\n",
              "max    2.147484e+09         9999.000000  ...  150000.000000            12.000000\n",
              "\n",
              "[8 rows x 5 columns]"
            ]
          },
          "metadata": {
            "tags": []
          },
          "execution_count": 14
        }
      ]
    },
    {
      "cell_type": "code",
      "metadata": {
        "colab_type": "code",
        "id": "3OzRTWaB9sIt",
        "outputId": "76cf699d-a92f-4620-f39c-aa3ab862160c",
        "colab": {
          "base_uri": "https://localhost:8080/",
          "height": 119
        }
      },
      "source": [
        "# Eliminating outliers that do not make sense\n",
        "\n",
        "print('records with <= 0 horsepower: ', len(df[df['powerPS'] <= 0].index))\n",
        "print('records with > 1500 horsepower: ', len(df[df['powerPS'] > 1500].index)) #https://en.wikipedia.org/wiki/List_of_production_cars_by_horsepower has 2015 cars with max 1500PS\n",
        "print('records with year > 2019: ', len(df[df['yearOfRegistration'] > 2019].index))\n",
        "print('records with year < 1900: ', len(df[df['yearOfRegistration'] < 1900].index))\n",
        "print('records with price <= 10 ', len(df[df['price'] <= 10].index))\n",
        "print('records with price > 1e6 ', len(df[df['price'] > 1e6].index))\n",
        "\n",
        "df_removed_outliers = df[\n",
        "                         (df['powerPS'] > 0) & (df['powerPS'] <= 1500)\n",
        "                         & (df['yearOfRegistration'] >= 1900) & (df['yearOfRegistration'] < 2020)\n",
        "                         & (df['price'] > 10) & (df['price'] < 1e6)\n",
        "                      ]"
      ],
      "execution_count": 15,
      "outputs": [
        {
          "output_type": "stream",
          "text": [
            "records with <= 0 horsepower:  40820\n",
            "records with > 1500 horsepower:  207\n",
            "records with year > 2019:  114\n",
            "records with year < 1900:  68\n",
            "records with price <= 10  12118\n",
            "records with price > 1e6  65\n"
          ],
          "name": "stdout"
        }
      ]
    },
    {
      "cell_type": "code",
      "metadata": {
        "colab_type": "code",
        "id": "m2A36ZeAFsjW",
        "outputId": "5980b1ba-8581-43d0-d2c1-43bdf9b5ffb7",
        "colab": {
          "base_uri": "https://localhost:8080/",
          "height": 574
        }
      },
      "source": [
        "df_removed_outliers.hist(column='price')\n",
        "df_removed_outliers.describe()"
      ],
      "execution_count": 16,
      "outputs": [
        {
          "output_type": "execute_result",
          "data": {
            "text/html": [
              "<div>\n",
              "<style scoped>\n",
              "    .dataframe tbody tr th:only-of-type {\n",
              "        vertical-align: middle;\n",
              "    }\n",
              "\n",
              "    .dataframe tbody tr th {\n",
              "        vertical-align: top;\n",
              "    }\n",
              "\n",
              "    .dataframe thead th {\n",
              "        text-align: right;\n",
              "    }\n",
              "</style>\n",
              "<table border=\"1\" class=\"dataframe\">\n",
              "  <thead>\n",
              "    <tr style=\"text-align: right;\">\n",
              "      <th></th>\n",
              "      <th>price</th>\n",
              "      <th>yearOfRegistration</th>\n",
              "      <th>powerPS</th>\n",
              "      <th>kilometer</th>\n",
              "      <th>monthOfRegistration</th>\n",
              "    </tr>\n",
              "  </thead>\n",
              "  <tbody>\n",
              "    <tr>\n",
              "      <th>count</th>\n",
              "      <td>322771.000000</td>\n",
              "      <td>322771.000000</td>\n",
              "      <td>322771.000000</td>\n",
              "      <td>322771.000000</td>\n",
              "      <td>322771.000000</td>\n",
              "    </tr>\n",
              "    <tr>\n",
              "      <th>mean</th>\n",
              "      <td>6316.325237</td>\n",
              "      <td>2003.608199</td>\n",
              "      <td>126.477063</td>\n",
              "      <td>125516.062472</td>\n",
              "      <td>5.979939</td>\n",
              "    </tr>\n",
              "    <tr>\n",
              "      <th>std</th>\n",
              "      <td>11478.876584</td>\n",
              "      <td>7.211519</td>\n",
              "      <td>65.602833</td>\n",
              "      <td>39298.922014</td>\n",
              "      <td>3.586419</td>\n",
              "    </tr>\n",
              "    <tr>\n",
              "      <th>min</th>\n",
              "      <td>11.000000</td>\n",
              "      <td>1910.000000</td>\n",
              "      <td>1.000000</td>\n",
              "      <td>5000.000000</td>\n",
              "      <td>0.000000</td>\n",
              "    </tr>\n",
              "    <tr>\n",
              "      <th>25%</th>\n",
              "      <td>1400.000000</td>\n",
              "      <td>1999.000000</td>\n",
              "      <td>80.000000</td>\n",
              "      <td>100000.000000</td>\n",
              "      <td>3.000000</td>\n",
              "    </tr>\n",
              "    <tr>\n",
              "      <th>50%</th>\n",
              "      <td>3495.000000</td>\n",
              "      <td>2004.000000</td>\n",
              "      <td>116.000000</td>\n",
              "      <td>150000.000000</td>\n",
              "      <td>6.000000</td>\n",
              "    </tr>\n",
              "    <tr>\n",
              "      <th>75%</th>\n",
              "      <td>7950.000000</td>\n",
              "      <td>2008.000000</td>\n",
              "      <td>150.000000</td>\n",
              "      <td>150000.000000</td>\n",
              "      <td>9.000000</td>\n",
              "    </tr>\n",
              "    <tr>\n",
              "      <th>max</th>\n",
              "      <td>999999.000000</td>\n",
              "      <td>2019.000000</td>\n",
              "      <td>1500.000000</td>\n",
              "      <td>150000.000000</td>\n",
              "      <td>12.000000</td>\n",
              "    </tr>\n",
              "  </tbody>\n",
              "</table>\n",
              "</div>"
            ],
            "text/plain": [
              "               price  yearOfRegistration  ...      kilometer  monthOfRegistration\n",
              "count  322771.000000       322771.000000  ...  322771.000000        322771.000000\n",
              "mean     6316.325237         2003.608199  ...  125516.062472             5.979939\n",
              "std     11478.876584            7.211519  ...   39298.922014             3.586419\n",
              "min        11.000000         1910.000000  ...    5000.000000             0.000000\n",
              "25%      1400.000000         1999.000000  ...  100000.000000             3.000000\n",
              "50%      3495.000000         2004.000000  ...  150000.000000             6.000000\n",
              "75%      7950.000000         2008.000000  ...  150000.000000             9.000000\n",
              "max    999999.000000         2019.000000  ...  150000.000000            12.000000\n",
              "\n",
              "[8 rows x 5 columns]"
            ]
          },
          "metadata": {
            "tags": []
          },
          "execution_count": 16
        },
        {
          "output_type": "display_data",
          "data": {
            "image/png": "[encoded data removed]",
            "text/plain": [
              "<Figure size 432x288 with 1 Axes>"
            ]
          },
          "metadata": {
            "tags": [],
            "needs_background": "light"
          }
        }
      ]
    },
    {
      "cell_type": "code",
      "metadata": {
        "colab_type": "code",
        "id": "UPtdvfDMJWoY",
        "colab": {}
      },
      "source": [
        "# Replace price by column log_price as it is highly right-skewed\n",
        "log_price = np.log10(df_removed_outliers['price'])\n",
        "log_price.name = 'log_price'\n",
        "df_log = pandas.concat([log_price, df_removed_outliers], axis=1).drop(['price'], axis=1)"
      ],
      "execution_count": 0,
      "outputs": []
    },
    {
      "cell_type": "code",
      "metadata": {
        "colab_type": "code",
        "id": "sZiHMj2wMi0k",
        "outputId": "bb5a21d2-d58f-4c63-c049-6abba49a87c9",
        "colab": {
          "base_uri": "https://localhost:8080/",
          "height": 315
        }
      },
      "source": [
        "df_log.hist(column='log_price')"
      ],
      "execution_count": 18,
      "outputs": [
        {
          "output_type": "execute_result",
          "data": {
            "text/plain": [
              "array([[<matplotlib.axes._subplots.AxesSubplot object at 0x7f73a02093c8>]],\n",
              "      dtype=object)"
            ]
          },
          "metadata": {
            "tags": []
          },
          "execution_count": 18
        },
        {
          "output_type": "display_data",
          "data": {
            "image/png": "[encoded data removed]",
            "text/plain": [
              "<Figure size 432x288 with 1 Axes>"
            ]
          },
          "metadata": {
            "tags": [],
            "needs_background": "light"
          }
        }
      ]
    },
    {
      "cell_type": "code",
      "metadata": {
        "colab_type": "code",
        "id": "cXv8UtDiN8q4",
        "outputId": "10d7e66d-8dd6-40a6-a8c0-e9d64a17789f",
        "colab": {
          "base_uri": "https://localhost:8080/",
          "height": 1000
        }
      },
      "source": [
        "# Exploring distinct values for categorical variables\n",
        "print(df_log['gearbox'].value_counts(dropna=False))\n",
        "print()\n",
        "print(df_log['notRepairedDamage'].value_counts(dropna=False))\n",
        "print()\n",
        "print(df_log['fuelType'].value_counts(dropna=False))\n",
        "print()\n",
        "print(df_log['vehicleType'].value_counts(dropna=False))\n",
        "print()\n",
        "print(df_log['brand'].value_counts(dropna=False))\n",
        "print()\n",
        "print(df_log['model'].value_counts(dropna=False))"
      ],
      "execution_count": 19,
      "outputs": [
        {
          "output_type": "stream",
          "text": [
            "manuell      245797\n",
            "automatik     70828\n",
            "NaN            6146\n",
            "Name: gearbox, dtype: int64\n",
            "\n",
            "nein    245516\n",
            "NaN      47501\n",
            "ja       29754\n",
            "Name: notRepairedDamage, dtype: int64\n",
            "\n",
            "benzin     198837\n",
            "diesel      98261\n",
            "NaN         19886\n",
            "lpg          4853\n",
            "cng           503\n",
            "hybrid        247\n",
            "andere         97\n",
            "elektro        87\n",
            "Name: fuelType, dtype: int64\n",
            "\n",
            "limousine     87306\n",
            "kleinwagen    70193\n",
            "kombi         61529\n",
            "bus           27570\n",
            "NaN           21375\n",
            "cabrio        21367\n",
            "coupe         17300\n",
            "suv           13588\n",
            "andere         2543\n",
            "Name: vehicleType, dtype: int64\n",
            "\n",
            "volkswagen        69361\n",
            "bmw               36266\n",
            "opel              34017\n",
            "mercedes_benz     31114\n",
            "audi              29702\n",
            "ford              21766\n",
            "renault           14607\n",
            "peugeot            9679\n",
            "fiat               7996\n",
            "seat               6244\n",
            "skoda              5193\n",
            "mazda              4955\n",
            "smart              4611\n",
            "citroen            4440\n",
            "nissan             4270\n",
            "toyota             4200\n",
            "hyundai            3254\n",
            "mini               3235\n",
            "volvo              2983\n",
            "mitsubishi         2610\n",
            "honda              2480\n",
            "sonstige_autos     2420\n",
            "kia                2247\n",
            "alfa_romeo         2058\n",
            "suzuki             2019\n",
            "porsche            2016\n",
            "chevrolet          1572\n",
            "chrysler           1204\n",
            "dacia               823\n",
            "jeep                721\n",
            "land_rover          687\n",
            "subaru              673\n",
            "daihatsu            636\n",
            "jaguar              547\n",
            "saab                487\n",
            "daewoo              425\n",
            "lancia              411\n",
            "rover               387\n",
            "trabant             296\n",
            "lada                159\n",
            "Name: brand, dtype: int64\n",
            "\n",
            "golf               26767\n",
            "andere             22620\n",
            "3er                18516\n",
            "NaN                13009\n",
            "polo               11144\n",
            "                   ...  \n",
            "rangerover             5\n",
            "samara                 5\n",
            "kalina                 5\n",
            "serie_3                3\n",
            "discovery_sport        1\n",
            "Name: model, Length: 251, dtype: int64\n"
          ],
          "name": "stdout"
        }
      ]
    },
    {
      "cell_type": "code",
      "metadata": {
        "colab_type": "code",
        "id": "uZHUos5LRc7G",
        "outputId": "32148bc4-92d9-46d3-da0b-843aa31fa956",
        "colab": {
          "base_uri": "https://localhost:8080/",
          "height": 282
        }
      },
      "source": [
        "import matplotlib.pyplot as plt\n",
        "plt.plot(df_log['model'].value_counts(dropna=False).values)"
      ],
      "execution_count": 20,
      "outputs": [
        {
          "output_type": "execute_result",
          "data": {
            "text/plain": [
              "[<matplotlib.lines.Line2D at 0x7f739d7050b8>]"
            ]
          },
          "metadata": {
            "tags": []
          },
          "execution_count": 20
        },
        {
          "output_type": "display_data",
          "data": {
            "image/png": "[encoded data removed]",
            "text/plain": [
              "<Figure size 432x288 with 1 Axes>"
            ]
          },
          "metadata": {
            "tags": [],
            "needs_background": "light"
          }
        }
      ]
    },
    {
      "cell_type": "code",
      "metadata": {
        "colab_type": "code",
        "id": "0EJrOmo1pegN",
        "outputId": "f26a0356-945f-44c6-bd93-4c71bbb7a866",
        "colab": {
          "base_uri": "https://localhost:8080/",
          "height": 272
        }
      },
      "source": [
        "# Translating categorical variables to 0 and 1 values\n",
        "df = df_log\n",
        "df['gearbox'].loc[df['gearbox'] == 'manuell'] = 1\n",
        "df['gearbox'].loc[df['gearbox'] == 'automatik'] = 0\n",
        "df = df.dropna(axis=0, subset=['gearbox'])\n",
        "\n",
        "df['notRepairedDamage'].loc[df['notRepairedDamage'] == 'ja'] = 1\n",
        "df['notRepairedDamage'].loc[df['notRepairedDamage'] == 'nein'] = 0\n",
        "df = df.dropna(axis=0, subset=['notRepairedDamage'])"
      ],
      "execution_count": 21,
      "outputs": [
        {
          "output_type": "stream",
          "text": [
            "/usr/local/lib/python3.6/dist-packages/pandas/core/indexing.py:671: SettingWithCopyWarning: \n",
            "A value is trying to be set on a copy of a slice from a DataFrame\n",
            "\n",
            "See the caveats in the documentation: https://pandas.pydata.org/pandas-docs/stable/user_guide/indexing.html#returning-a-view-versus-a-copy\n",
            "  self._setitem_with_indexer(indexer, value)\n",
            "/usr/local/lib/python3.6/dist-packages/ipykernel_launcher.py:7: SettingWithCopyWarning: \n",
            "A value is trying to be set on a copy of a slice from a DataFrame\n",
            "\n",
            "See the caveats in the documentation: https://pandas.pydata.org/pandas-docs/stable/user_guide/indexing.html#returning-a-view-versus-a-copy\n",
            "  import sys\n",
            "/usr/local/lib/python3.6/dist-packages/ipykernel_launcher.py:8: SettingWithCopyWarning: \n",
            "A value is trying to be set on a copy of a slice from a DataFrame\n",
            "\n",
            "See the caveats in the documentation: https://pandas.pydata.org/pandas-docs/stable/user_guide/indexing.html#returning-a-view-versus-a-copy\n",
            "  \n"
          ],
          "name": "stderr"
        }
      ]
    },
    {
      "cell_type": "markdown",
      "metadata": {
        "id": "VStbwE8336-m",
        "colab_type": "text"
      },
      "source": [
        "## Create a version of the data without model or brand one-hot encoded to reduce the dimensions"
      ]
    },
    {
      "cell_type": "code",
      "metadata": {
        "id": "dcN9J3RN3m1N",
        "colab_type": "code",
        "colab": {
          "base_uri": "https://localhost:8080/",
          "height": 439
        },
        "outputId": "2e0b8571-34ec-43e6-dd28-85321810b7be"
      },
      "source": [
        "# One hot encoding on vehicleType and fuelType (skipping model and brand for now), using drop_first to not introduce redundant columns\n",
        "cats_no_model_brand = pandas.get_dummies(df[['vehicleType', 'fuelType']], drop_first=True)\n",
        "df2 = df.drop(['vehicleType', 'fuelType','brand', 'model'], axis = 1)\n",
        "years_old = 2016 - df2['yearOfRegistration']\n",
        "years_old.name ='years_old'\n",
        "df2 = df2.drop(['yearOfRegistration'], axis = 1)\n",
        "df2 = pandas.concat([df2, cats_no_model_brand, years_old], axis = 1)\n",
        "display(df2)"
      ],
      "execution_count": 22,
      "outputs": [
        {
          "output_type": "display_data",
          "data": {
            "text/html": [
              "<div>\n",
              "<style scoped>\n",
              "    .dataframe tbody tr th:only-of-type {\n",
              "        vertical-align: middle;\n",
              "    }\n",
              "\n",
              "    .dataframe tbody tr th {\n",
              "        vertical-align: top;\n",
              "    }\n",
              "\n",
              "    .dataframe thead th {\n",
              "        text-align: right;\n",
              "    }\n",
              "</style>\n",
              "<table border=\"1\" class=\"dataframe\">\n",
              "  <thead>\n",
              "    <tr style=\"text-align: right;\">\n",
              "      <th></th>\n",
              "      <th>log_price</th>\n",
              "      <th>gearbox</th>\n",
              "      <th>powerPS</th>\n",
              "      <th>kilometer</th>\n",
              "      <th>monthOfRegistration</th>\n",
              "      <th>notRepairedDamage</th>\n",
              "      <th>vehicleType_bus</th>\n",
              "      <th>vehicleType_cabrio</th>\n",
              "      <th>vehicleType_coupe</th>\n",
              "      <th>vehicleType_kleinwagen</th>\n",
              "      <th>vehicleType_kombi</th>\n",
              "      <th>vehicleType_limousine</th>\n",
              "      <th>vehicleType_suv</th>\n",
              "      <th>fuelType_benzin</th>\n",
              "      <th>fuelType_cng</th>\n",
              "      <th>fuelType_diesel</th>\n",
              "      <th>fuelType_elektro</th>\n",
              "      <th>fuelType_hybrid</th>\n",
              "      <th>fuelType_lpg</th>\n",
              "      <th>years_old</th>\n",
              "    </tr>\n",
              "  </thead>\n",
              "  <tbody>\n",
              "    <tr>\n",
              "      <th>1</th>\n",
              "      <td>4.262451</td>\n",
              "      <td>1</td>\n",
              "      <td>190</td>\n",
              "      <td>125000</td>\n",
              "      <td>5</td>\n",
              "      <td>1</td>\n",
              "      <td>0</td>\n",
              "      <td>0</td>\n",
              "      <td>1</td>\n",
              "      <td>0</td>\n",
              "      <td>0</td>\n",
              "      <td>0</td>\n",
              "      <td>0</td>\n",
              "      <td>0</td>\n",
              "      <td>0</td>\n",
              "      <td>1</td>\n",
              "      <td>0</td>\n",
              "      <td>0</td>\n",
              "      <td>0</td>\n",
              "      <td>5</td>\n",
              "    </tr>\n",
              "    <tr>\n",
              "      <th>3</th>\n",
              "      <td>3.176091</td>\n",
              "      <td>1</td>\n",
              "      <td>75</td>\n",
              "      <td>150000</td>\n",
              "      <td>6</td>\n",
              "      <td>0</td>\n",
              "      <td>0</td>\n",
              "      <td>0</td>\n",
              "      <td>0</td>\n",
              "      <td>1</td>\n",
              "      <td>0</td>\n",
              "      <td>0</td>\n",
              "      <td>0</td>\n",
              "      <td>1</td>\n",
              "      <td>0</td>\n",
              "      <td>0</td>\n",
              "      <td>0</td>\n",
              "      <td>0</td>\n",
              "      <td>0</td>\n",
              "      <td>15</td>\n",
              "    </tr>\n",
              "    <tr>\n",
              "      <th>4</th>\n",
              "      <td>3.556303</td>\n",
              "      <td>1</td>\n",
              "      <td>69</td>\n",
              "      <td>90000</td>\n",
              "      <td>7</td>\n",
              "      <td>0</td>\n",
              "      <td>0</td>\n",
              "      <td>0</td>\n",
              "      <td>0</td>\n",
              "      <td>1</td>\n",
              "      <td>0</td>\n",
              "      <td>0</td>\n",
              "      <td>0</td>\n",
              "      <td>0</td>\n",
              "      <td>0</td>\n",
              "      <td>1</td>\n",
              "      <td>0</td>\n",
              "      <td>0</td>\n",
              "      <td>0</td>\n",
              "      <td>8</td>\n",
              "    </tr>\n",
              "    <tr>\n",
              "      <th>5</th>\n",
              "      <td>2.812913</td>\n",
              "      <td>1</td>\n",
              "      <td>102</td>\n",
              "      <td>150000</td>\n",
              "      <td>10</td>\n",
              "      <td>1</td>\n",
              "      <td>0</td>\n",
              "      <td>0</td>\n",
              "      <td>0</td>\n",
              "      <td>0</td>\n",
              "      <td>0</td>\n",
              "      <td>1</td>\n",
              "      <td>0</td>\n",
              "      <td>1</td>\n",
              "      <td>0</td>\n",
              "      <td>0</td>\n",
              "      <td>0</td>\n",
              "      <td>0</td>\n",
              "      <td>0</td>\n",
              "      <td>21</td>\n",
              "    </tr>\n",
              "    <tr>\n",
              "      <th>6</th>\n",
              "      <td>3.342423</td>\n",
              "      <td>1</td>\n",
              "      <td>109</td>\n",
              "      <td>150000</td>\n",
              "      <td>8</td>\n",
              "      <td>0</td>\n",
              "      <td>0</td>\n",
              "      <td>1</td>\n",
              "      <td>0</td>\n",
              "      <td>0</td>\n",
              "      <td>0</td>\n",
              "      <td>0</td>\n",
              "      <td>0</td>\n",
              "      <td>1</td>\n",
              "      <td>0</td>\n",
              "      <td>0</td>\n",
              "      <td>0</td>\n",
              "      <td>0</td>\n",
              "      <td>0</td>\n",
              "      <td>12</td>\n",
              "    </tr>\n",
              "    <tr>\n",
              "      <th>...</th>\n",
              "      <td>...</td>\n",
              "      <td>...</td>\n",
              "      <td>...</td>\n",
              "      <td>...</td>\n",
              "      <td>...</td>\n",
              "      <td>...</td>\n",
              "      <td>...</td>\n",
              "      <td>...</td>\n",
              "      <td>...</td>\n",
              "      <td>...</td>\n",
              "      <td>...</td>\n",
              "      <td>...</td>\n",
              "      <td>...</td>\n",
              "      <td>...</td>\n",
              "      <td>...</td>\n",
              "      <td>...</td>\n",
              "      <td>...</td>\n",
              "      <td>...</td>\n",
              "      <td>...</td>\n",
              "      <td>...</td>\n",
              "    </tr>\n",
              "    <tr>\n",
              "      <th>371519</th>\n",
              "      <td>3.720159</td>\n",
              "      <td>0</td>\n",
              "      <td>150</td>\n",
              "      <td>150000</td>\n",
              "      <td>12</td>\n",
              "      <td>0</td>\n",
              "      <td>0</td>\n",
              "      <td>0</td>\n",
              "      <td>0</td>\n",
              "      <td>0</td>\n",
              "      <td>0</td>\n",
              "      <td>0</td>\n",
              "      <td>0</td>\n",
              "      <td>0</td>\n",
              "      <td>0</td>\n",
              "      <td>0</td>\n",
              "      <td>0</td>\n",
              "      <td>0</td>\n",
              "      <td>0</td>\n",
              "      <td>0</td>\n",
              "    </tr>\n",
              "    <tr>\n",
              "      <th>371520</th>\n",
              "      <td>3.505150</td>\n",
              "      <td>1</td>\n",
              "      <td>225</td>\n",
              "      <td>150000</td>\n",
              "      <td>5</td>\n",
              "      <td>1</td>\n",
              "      <td>0</td>\n",
              "      <td>0</td>\n",
              "      <td>0</td>\n",
              "      <td>0</td>\n",
              "      <td>0</td>\n",
              "      <td>1</td>\n",
              "      <td>0</td>\n",
              "      <td>1</td>\n",
              "      <td>0</td>\n",
              "      <td>0</td>\n",
              "      <td>0</td>\n",
              "      <td>0</td>\n",
              "      <td>0</td>\n",
              "      <td>12</td>\n",
              "    </tr>\n",
              "    <tr>\n",
              "      <th>371524</th>\n",
              "      <td>3.078819</td>\n",
              "      <td>0</td>\n",
              "      <td>101</td>\n",
              "      <td>125000</td>\n",
              "      <td>3</td>\n",
              "      <td>0</td>\n",
              "      <td>0</td>\n",
              "      <td>1</td>\n",
              "      <td>0</td>\n",
              "      <td>0</td>\n",
              "      <td>0</td>\n",
              "      <td>0</td>\n",
              "      <td>0</td>\n",
              "      <td>1</td>\n",
              "      <td>0</td>\n",
              "      <td>0</td>\n",
              "      <td>0</td>\n",
              "      <td>0</td>\n",
              "      <td>0</td>\n",
              "      <td>16</td>\n",
              "    </tr>\n",
              "    <tr>\n",
              "      <th>371525</th>\n",
              "      <td>3.963788</td>\n",
              "      <td>1</td>\n",
              "      <td>102</td>\n",
              "      <td>150000</td>\n",
              "      <td>3</td>\n",
              "      <td>0</td>\n",
              "      <td>1</td>\n",
              "      <td>0</td>\n",
              "      <td>0</td>\n",
              "      <td>0</td>\n",
              "      <td>0</td>\n",
              "      <td>0</td>\n",
              "      <td>0</td>\n",
              "      <td>0</td>\n",
              "      <td>0</td>\n",
              "      <td>1</td>\n",
              "      <td>0</td>\n",
              "      <td>0</td>\n",
              "      <td>0</td>\n",
              "      <td>20</td>\n",
              "    </tr>\n",
              "    <tr>\n",
              "      <th>371527</th>\n",
              "      <td>4.462248</td>\n",
              "      <td>1</td>\n",
              "      <td>320</td>\n",
              "      <td>50000</td>\n",
              "      <td>8</td>\n",
              "      <td>0</td>\n",
              "      <td>0</td>\n",
              "      <td>0</td>\n",
              "      <td>0</td>\n",
              "      <td>0</td>\n",
              "      <td>0</td>\n",
              "      <td>1</td>\n",
              "      <td>0</td>\n",
              "      <td>1</td>\n",
              "      <td>0</td>\n",
              "      <td>0</td>\n",
              "      <td>0</td>\n",
              "      <td>0</td>\n",
              "      <td>0</td>\n",
              "      <td>3</td>\n",
              "    </tr>\n",
              "  </tbody>\n",
              "</table>\n",
              "<p>271997 rows × 20 columns</p>\n",
              "</div>"
            ],
            "text/plain": [
              "        log_price gearbox  powerPS  ...  fuelType_hybrid  fuelType_lpg years_old\n",
              "1        4.262451       1      190  ...                0             0         5\n",
              "3        3.176091       1       75  ...                0             0        15\n",
              "4        3.556303       1       69  ...                0             0         8\n",
              "5        2.812913       1      102  ...                0             0        21\n",
              "6        3.342423       1      109  ...                0             0        12\n",
              "...           ...     ...      ...  ...              ...           ...       ...\n",
              "371519   3.720159       0      150  ...                0             0         0\n",
              "371520   3.505150       1      225  ...                0             0        12\n",
              "371524   3.078819       0      101  ...                0             0        16\n",
              "371525   3.963788       1      102  ...                0             0        20\n",
              "371527   4.462248       1      320  ...                0             0         3\n",
              "\n",
              "[271997 rows x 20 columns]"
            ]
          },
          "metadata": {
            "tags": []
          }
        }
      ]
    },
    {
      "cell_type": "code",
      "metadata": {
        "id": "tGgTchAjQfUr",
        "colab_type": "code",
        "outputId": "4b2aed8e-f3d5-4748-9411-df2885768d17",
        "colab": {
          "base_uri": "https://localhost:8080/",
          "height": 255
        }
      },
      "source": [
        "df2.to_csv('processed_without_modelbrand.csv', index='False')\n",
        "print(df2)\n"
      ],
      "execution_count": 23,
      "outputs": [
        {
          "output_type": "stream",
          "text": [
            "        log_price gearbox  powerPS  ...  fuelType_hybrid  fuelType_lpg years_old\n",
            "1        4.262451       1      190  ...                0             0         5\n",
            "3        3.176091       1       75  ...                0             0        15\n",
            "4        3.556303       1       69  ...                0             0         8\n",
            "5        2.812913       1      102  ...                0             0        21\n",
            "6        3.342423       1      109  ...                0             0        12\n",
            "...           ...     ...      ...  ...              ...           ...       ...\n",
            "371519   3.720159       0      150  ...                0             0         0\n",
            "371520   3.505150       1      225  ...                0             0        12\n",
            "371524   3.078819       0      101  ...                0             0        16\n",
            "371525   3.963788       1      102  ...                0             0        20\n",
            "371527   4.462248       1      320  ...                0             0         3\n",
            "\n",
            "[271997 rows x 20 columns]\n"
          ],
          "name": "stdout"
        }
      ]
    },
    {
      "cell_type": "markdown",
      "metadata": {
        "id": "Rymz-vkw4oq6",
        "colab_type": "text"
      },
      "source": [
        "## Create complete model file with brand and model one-hot encoded variables"
      ]
    },
    {
      "cell_type": "code",
      "metadata": {
        "id": "7Hi2FsIU2_Dn",
        "colab_type": "code",
        "colab": {
          "base_uri": "https://localhost:8080/",
          "height": 439
        },
        "outputId": "1223ef7d-5802-4141-c684-d68a58c913a5"
      },
      "source": [
        "# Finish one-hot encoding model and brand variables\n",
        "cats = pandas.get_dummies(df[['brand','vehicleType', 'fuelType', 'model']], drop_first=True)\n",
        "df = df.drop(['brand','vehicleType', 'fuelType', 'model'], axis = 1)\n",
        "years_old = 2016 - df['yearOfRegistration']\n",
        "years_old.name ='years_old'\n",
        "df = df.drop(['yearOfRegistration'], axis = 1)\n",
        "df = pandas.concat([df, cats, years_old], axis = 1)\n",
        "display(df)"
      ],
      "execution_count": 24,
      "outputs": [
        {
          "output_type": "display_data",
          "data": {
            "text/html": [
              "<div>\n",
              "<style scoped>\n",
              "    .dataframe tbody tr th:only-of-type {\n",
              "        vertical-align: middle;\n",
              "    }\n",
              "\n",
              "    .dataframe tbody tr th {\n",
              "        vertical-align: top;\n",
              "    }\n",
              "\n",
              "    .dataframe thead th {\n",
              "        text-align: right;\n",
              "    }\n",
              "</style>\n",
              "<table border=\"1\" class=\"dataframe\">\n",
              "  <thead>\n",
              "    <tr style=\"text-align: right;\">\n",
              "      <th></th>\n",
              "      <th>log_price</th>\n",
              "      <th>gearbox</th>\n",
              "      <th>powerPS</th>\n",
              "      <th>kilometer</th>\n",
              "      <th>monthOfRegistration</th>\n",
              "      <th>notRepairedDamage</th>\n",
              "      <th>brand_audi</th>\n",
              "      <th>brand_bmw</th>\n",
              "      <th>brand_chevrolet</th>\n",
              "      <th>brand_chrysler</th>\n",
              "      <th>brand_citroen</th>\n",
              "      <th>brand_dacia</th>\n",
              "      <th>brand_daewoo</th>\n",
              "      <th>brand_daihatsu</th>\n",
              "      <th>brand_fiat</th>\n",
              "      <th>brand_ford</th>\n",
              "      <th>brand_honda</th>\n",
              "      <th>brand_hyundai</th>\n",
              "      <th>brand_jaguar</th>\n",
              "      <th>brand_jeep</th>\n",
              "      <th>brand_kia</th>\n",
              "      <th>brand_lada</th>\n",
              "      <th>brand_lancia</th>\n",
              "      <th>brand_land_rover</th>\n",
              "      <th>brand_mazda</th>\n",
              "      <th>brand_mercedes_benz</th>\n",
              "      <th>brand_mini</th>\n",
              "      <th>brand_mitsubishi</th>\n",
              "      <th>brand_nissan</th>\n",
              "      <th>brand_opel</th>\n",
              "      <th>brand_peugeot</th>\n",
              "      <th>brand_porsche</th>\n",
              "      <th>brand_renault</th>\n",
              "      <th>brand_rover</th>\n",
              "      <th>brand_saab</th>\n",
              "      <th>brand_seat</th>\n",
              "      <th>brand_skoda</th>\n",
              "      <th>brand_smart</th>\n",
              "      <th>brand_sonstige_autos</th>\n",
              "      <th>brand_subaru</th>\n",
              "      <th>...</th>\n",
              "      <th>model_spider</th>\n",
              "      <th>model_sportage</th>\n",
              "      <th>model_sprinter</th>\n",
              "      <th>model_stilo</th>\n",
              "      <th>model_superb</th>\n",
              "      <th>model_swift</th>\n",
              "      <th>model_terios</th>\n",
              "      <th>model_tigra</th>\n",
              "      <th>model_tiguan</th>\n",
              "      <th>model_toledo</th>\n",
              "      <th>model_touareg</th>\n",
              "      <th>model_touran</th>\n",
              "      <th>model_transit</th>\n",
              "      <th>model_transporter</th>\n",
              "      <th>model_tt</th>\n",
              "      <th>model_tucson</th>\n",
              "      <th>model_twingo</th>\n",
              "      <th>model_up</th>\n",
              "      <th>model_v40</th>\n",
              "      <th>model_v50</th>\n",
              "      <th>model_v60</th>\n",
              "      <th>model_v70</th>\n",
              "      <th>model_v_klasse</th>\n",
              "      <th>model_vectra</th>\n",
              "      <th>model_verso</th>\n",
              "      <th>model_viano</th>\n",
              "      <th>model_vito</th>\n",
              "      <th>model_vivaro</th>\n",
              "      <th>model_voyager</th>\n",
              "      <th>model_wrangler</th>\n",
              "      <th>model_x_reihe</th>\n",
              "      <th>model_x_trail</th>\n",
              "      <th>model_x_type</th>\n",
              "      <th>model_xc_reihe</th>\n",
              "      <th>model_yaris</th>\n",
              "      <th>model_yeti</th>\n",
              "      <th>model_ypsilon</th>\n",
              "      <th>model_z_reihe</th>\n",
              "      <th>model_zafira</th>\n",
              "      <th>years_old</th>\n",
              "    </tr>\n",
              "  </thead>\n",
              "  <tbody>\n",
              "    <tr>\n",
              "      <th>1</th>\n",
              "      <td>4.262451</td>\n",
              "      <td>1</td>\n",
              "      <td>190</td>\n",
              "      <td>125000</td>\n",
              "      <td>5</td>\n",
              "      <td>1</td>\n",
              "      <td>1</td>\n",
              "      <td>0</td>\n",
              "      <td>0</td>\n",
              "      <td>0</td>\n",
              "      <td>0</td>\n",
              "      <td>0</td>\n",
              "      <td>0</td>\n",
              "      <td>0</td>\n",
              "      <td>0</td>\n",
              "      <td>0</td>\n",
              "      <td>0</td>\n",
              "      <td>0</td>\n",
              "      <td>0</td>\n",
              "      <td>0</td>\n",
              "      <td>0</td>\n",
              "      <td>0</td>\n",
              "      <td>0</td>\n",
              "      <td>0</td>\n",
              "      <td>0</td>\n",
              "      <td>0</td>\n",
              "      <td>0</td>\n",
              "      <td>0</td>\n",
              "      <td>0</td>\n",
              "      <td>0</td>\n",
              "      <td>0</td>\n",
              "      <td>0</td>\n",
              "      <td>0</td>\n",
              "      <td>0</td>\n",
              "      <td>0</td>\n",
              "      <td>0</td>\n",
              "      <td>0</td>\n",
              "      <td>0</td>\n",
              "      <td>0</td>\n",
              "      <td>0</td>\n",
              "      <td>...</td>\n",
              "      <td>0</td>\n",
              "      <td>0</td>\n",
              "      <td>0</td>\n",
              "      <td>0</td>\n",
              "      <td>0</td>\n",
              "      <td>0</td>\n",
              "      <td>0</td>\n",
              "      <td>0</td>\n",
              "      <td>0</td>\n",
              "      <td>0</td>\n",
              "      <td>0</td>\n",
              "      <td>0</td>\n",
              "      <td>0</td>\n",
              "      <td>0</td>\n",
              "      <td>0</td>\n",
              "      <td>0</td>\n",
              "      <td>0</td>\n",
              "      <td>0</td>\n",
              "      <td>0</td>\n",
              "      <td>0</td>\n",
              "      <td>0</td>\n",
              "      <td>0</td>\n",
              "      <td>0</td>\n",
              "      <td>0</td>\n",
              "      <td>0</td>\n",
              "      <td>0</td>\n",
              "      <td>0</td>\n",
              "      <td>0</td>\n",
              "      <td>0</td>\n",
              "      <td>0</td>\n",
              "      <td>0</td>\n",
              "      <td>0</td>\n",
              "      <td>0</td>\n",
              "      <td>0</td>\n",
              "      <td>0</td>\n",
              "      <td>0</td>\n",
              "      <td>0</td>\n",
              "      <td>0</td>\n",
              "      <td>0</td>\n",
              "      <td>5</td>\n",
              "    </tr>\n",
              "    <tr>\n",
              "      <th>3</th>\n",
              "      <td>3.176091</td>\n",
              "      <td>1</td>\n",
              "      <td>75</td>\n",
              "      <td>150000</td>\n",
              "      <td>6</td>\n",
              "      <td>0</td>\n",
              "      <td>0</td>\n",
              "      <td>0</td>\n",
              "      <td>0</td>\n",
              "      <td>0</td>\n",
              "      <td>0</td>\n",
              "      <td>0</td>\n",
              "      <td>0</td>\n",
              "      <td>0</td>\n",
              "      <td>0</td>\n",
              "      <td>0</td>\n",
              "      <td>0</td>\n",
              "      <td>0</td>\n",
              "      <td>0</td>\n",
              "      <td>0</td>\n",
              "      <td>0</td>\n",
              "      <td>0</td>\n",
              "      <td>0</td>\n",
              "      <td>0</td>\n",
              "      <td>0</td>\n",
              "      <td>0</td>\n",
              "      <td>0</td>\n",
              "      <td>0</td>\n",
              "      <td>0</td>\n",
              "      <td>0</td>\n",
              "      <td>0</td>\n",
              "      <td>0</td>\n",
              "      <td>0</td>\n",
              "      <td>0</td>\n",
              "      <td>0</td>\n",
              "      <td>0</td>\n",
              "      <td>0</td>\n",
              "      <td>0</td>\n",
              "      <td>0</td>\n",
              "      <td>0</td>\n",
              "      <td>...</td>\n",
              "      <td>0</td>\n",
              "      <td>0</td>\n",
              "      <td>0</td>\n",
              "      <td>0</td>\n",
              "      <td>0</td>\n",
              "      <td>0</td>\n",
              "      <td>0</td>\n",
              "      <td>0</td>\n",
              "      <td>0</td>\n",
              "      <td>0</td>\n",
              "      <td>0</td>\n",
              "      <td>0</td>\n",
              "      <td>0</td>\n",
              "      <td>0</td>\n",
              "      <td>0</td>\n",
              "      <td>0</td>\n",
              "      <td>0</td>\n",
              "      <td>0</td>\n",
              "      <td>0</td>\n",
              "      <td>0</td>\n",
              "      <td>0</td>\n",
              "      <td>0</td>\n",
              "      <td>0</td>\n",
              "      <td>0</td>\n",
              "      <td>0</td>\n",
              "      <td>0</td>\n",
              "      <td>0</td>\n",
              "      <td>0</td>\n",
              "      <td>0</td>\n",
              "      <td>0</td>\n",
              "      <td>0</td>\n",
              "      <td>0</td>\n",
              "      <td>0</td>\n",
              "      <td>0</td>\n",
              "      <td>0</td>\n",
              "      <td>0</td>\n",
              "      <td>0</td>\n",
              "      <td>0</td>\n",
              "      <td>0</td>\n",
              "      <td>15</td>\n",
              "    </tr>\n",
              "    <tr>\n",
              "      <th>4</th>\n",
              "      <td>3.556303</td>\n",
              "      <td>1</td>\n",
              "      <td>69</td>\n",
              "      <td>90000</td>\n",
              "      <td>7</td>\n",
              "      <td>0</td>\n",
              "      <td>0</td>\n",
              "      <td>0</td>\n",
              "      <td>0</td>\n",
              "      <td>0</td>\n",
              "      <td>0</td>\n",
              "      <td>0</td>\n",
              "      <td>0</td>\n",
              "      <td>0</td>\n",
              "      <td>0</td>\n",
              "      <td>0</td>\n",
              "      <td>0</td>\n",
              "      <td>0</td>\n",
              "      <td>0</td>\n",
              "      <td>0</td>\n",
              "      <td>0</td>\n",
              "      <td>0</td>\n",
              "      <td>0</td>\n",
              "      <td>0</td>\n",
              "      <td>0</td>\n",
              "      <td>0</td>\n",
              "      <td>0</td>\n",
              "      <td>0</td>\n",
              "      <td>0</td>\n",
              "      <td>0</td>\n",
              "      <td>0</td>\n",
              "      <td>0</td>\n",
              "      <td>0</td>\n",
              "      <td>0</td>\n",
              "      <td>0</td>\n",
              "      <td>0</td>\n",
              "      <td>1</td>\n",
              "      <td>0</td>\n",
              "      <td>0</td>\n",
              "      <td>0</td>\n",
              "      <td>...</td>\n",
              "      <td>0</td>\n",
              "      <td>0</td>\n",
              "      <td>0</td>\n",
              "      <td>0</td>\n",
              "      <td>0</td>\n",
              "      <td>0</td>\n",
              "      <td>0</td>\n",
              "      <td>0</td>\n",
              "      <td>0</td>\n",
              "      <td>0</td>\n",
              "      <td>0</td>\n",
              "      <td>0</td>\n",
              "      <td>0</td>\n",
              "      <td>0</td>\n",
              "      <td>0</td>\n",
              "      <td>0</td>\n",
              "      <td>0</td>\n",
              "      <td>0</td>\n",
              "      <td>0</td>\n",
              "      <td>0</td>\n",
              "      <td>0</td>\n",
              "      <td>0</td>\n",
              "      <td>0</td>\n",
              "      <td>0</td>\n",
              "      <td>0</td>\n",
              "      <td>0</td>\n",
              "      <td>0</td>\n",
              "      <td>0</td>\n",
              "      <td>0</td>\n",
              "      <td>0</td>\n",
              "      <td>0</td>\n",
              "      <td>0</td>\n",
              "      <td>0</td>\n",
              "      <td>0</td>\n",
              "      <td>0</td>\n",
              "      <td>0</td>\n",
              "      <td>0</td>\n",
              "      <td>0</td>\n",
              "      <td>0</td>\n",
              "      <td>8</td>\n",
              "    </tr>\n",
              "    <tr>\n",
              "      <th>5</th>\n",
              "      <td>2.812913</td>\n",
              "      <td>1</td>\n",
              "      <td>102</td>\n",
              "      <td>150000</td>\n",
              "      <td>10</td>\n",
              "      <td>1</td>\n",
              "      <td>0</td>\n",
              "      <td>1</td>\n",
              "      <td>0</td>\n",
              "      <td>0</td>\n",
              "      <td>0</td>\n",
              "      <td>0</td>\n",
              "      <td>0</td>\n",
              "      <td>0</td>\n",
              "      <td>0</td>\n",
              "      <td>0</td>\n",
              "      <td>0</td>\n",
              "      <td>0</td>\n",
              "      <td>0</td>\n",
              "      <td>0</td>\n",
              "      <td>0</td>\n",
              "      <td>0</td>\n",
              "      <td>0</td>\n",
              "      <td>0</td>\n",
              "      <td>0</td>\n",
              "      <td>0</td>\n",
              "      <td>0</td>\n",
              "      <td>0</td>\n",
              "      <td>0</td>\n",
              "      <td>0</td>\n",
              "      <td>0</td>\n",
              "      <td>0</td>\n",
              "      <td>0</td>\n",
              "      <td>0</td>\n",
              "      <td>0</td>\n",
              "      <td>0</td>\n",
              "      <td>0</td>\n",
              "      <td>0</td>\n",
              "      <td>0</td>\n",
              "      <td>0</td>\n",
              "      <td>...</td>\n",
              "      <td>0</td>\n",
              "      <td>0</td>\n",
              "      <td>0</td>\n",
              "      <td>0</td>\n",
              "      <td>0</td>\n",
              "      <td>0</td>\n",
              "      <td>0</td>\n",
              "      <td>0</td>\n",
              "      <td>0</td>\n",
              "      <td>0</td>\n",
              "      <td>0</td>\n",
              "      <td>0</td>\n",
              "      <td>0</td>\n",
              "      <td>0</td>\n",
              "      <td>0</td>\n",
              "      <td>0</td>\n",
              "      <td>0</td>\n",
              "      <td>0</td>\n",
              "      <td>0</td>\n",
              "      <td>0</td>\n",
              "      <td>0</td>\n",
              "      <td>0</td>\n",
              "      <td>0</td>\n",
              "      <td>0</td>\n",
              "      <td>0</td>\n",
              "      <td>0</td>\n",
              "      <td>0</td>\n",
              "      <td>0</td>\n",
              "      <td>0</td>\n",
              "      <td>0</td>\n",
              "      <td>0</td>\n",
              "      <td>0</td>\n",
              "      <td>0</td>\n",
              "      <td>0</td>\n",
              "      <td>0</td>\n",
              "      <td>0</td>\n",
              "      <td>0</td>\n",
              "      <td>0</td>\n",
              "      <td>0</td>\n",
              "      <td>21</td>\n",
              "    </tr>\n",
              "    <tr>\n",
              "      <th>6</th>\n",
              "      <td>3.342423</td>\n",
              "      <td>1</td>\n",
              "      <td>109</td>\n",
              "      <td>150000</td>\n",
              "      <td>8</td>\n",
              "      <td>0</td>\n",
              "      <td>0</td>\n",
              "      <td>0</td>\n",
              "      <td>0</td>\n",
              "      <td>0</td>\n",
              "      <td>0</td>\n",
              "      <td>0</td>\n",
              "      <td>0</td>\n",
              "      <td>0</td>\n",
              "      <td>0</td>\n",
              "      <td>0</td>\n",
              "      <td>0</td>\n",
              "      <td>0</td>\n",
              "      <td>0</td>\n",
              "      <td>0</td>\n",
              "      <td>0</td>\n",
              "      <td>0</td>\n",
              "      <td>0</td>\n",
              "      <td>0</td>\n",
              "      <td>0</td>\n",
              "      <td>0</td>\n",
              "      <td>0</td>\n",
              "      <td>0</td>\n",
              "      <td>0</td>\n",
              "      <td>0</td>\n",
              "      <td>1</td>\n",
              "      <td>0</td>\n",
              "      <td>0</td>\n",
              "      <td>0</td>\n",
              "      <td>0</td>\n",
              "      <td>0</td>\n",
              "      <td>0</td>\n",
              "      <td>0</td>\n",
              "      <td>0</td>\n",
              "      <td>0</td>\n",
              "      <td>...</td>\n",
              "      <td>0</td>\n",
              "      <td>0</td>\n",
              "      <td>0</td>\n",
              "      <td>0</td>\n",
              "      <td>0</td>\n",
              "      <td>0</td>\n",
              "      <td>0</td>\n",
              "      <td>0</td>\n",
              "      <td>0</td>\n",
              "      <td>0</td>\n",
              "      <td>0</td>\n",
              "      <td>0</td>\n",
              "      <td>0</td>\n",
              "      <td>0</td>\n",
              "      <td>0</td>\n",
              "      <td>0</td>\n",
              "      <td>0</td>\n",
              "      <td>0</td>\n",
              "      <td>0</td>\n",
              "      <td>0</td>\n",
              "      <td>0</td>\n",
              "      <td>0</td>\n",
              "      <td>0</td>\n",
              "      <td>0</td>\n",
              "      <td>0</td>\n",
              "      <td>0</td>\n",
              "      <td>0</td>\n",
              "      <td>0</td>\n",
              "      <td>0</td>\n",
              "      <td>0</td>\n",
              "      <td>0</td>\n",
              "      <td>0</td>\n",
              "      <td>0</td>\n",
              "      <td>0</td>\n",
              "      <td>0</td>\n",
              "      <td>0</td>\n",
              "      <td>0</td>\n",
              "      <td>0</td>\n",
              "      <td>0</td>\n",
              "      <td>12</td>\n",
              "    </tr>\n",
              "    <tr>\n",
              "      <th>...</th>\n",
              "      <td>...</td>\n",
              "      <td>...</td>\n",
              "      <td>...</td>\n",
              "      <td>...</td>\n",
              "      <td>...</td>\n",
              "      <td>...</td>\n",
              "      <td>...</td>\n",
              "      <td>...</td>\n",
              "      <td>...</td>\n",
              "      <td>...</td>\n",
              "      <td>...</td>\n",
              "      <td>...</td>\n",
              "      <td>...</td>\n",
              "      <td>...</td>\n",
              "      <td>...</td>\n",
              "      <td>...</td>\n",
              "      <td>...</td>\n",
              "      <td>...</td>\n",
              "      <td>...</td>\n",
              "      <td>...</td>\n",
              "      <td>...</td>\n",
              "      <td>...</td>\n",
              "      <td>...</td>\n",
              "      <td>...</td>\n",
              "      <td>...</td>\n",
              "      <td>...</td>\n",
              "      <td>...</td>\n",
              "      <td>...</td>\n",
              "      <td>...</td>\n",
              "      <td>...</td>\n",
              "      <td>...</td>\n",
              "      <td>...</td>\n",
              "      <td>...</td>\n",
              "      <td>...</td>\n",
              "      <td>...</td>\n",
              "      <td>...</td>\n",
              "      <td>...</td>\n",
              "      <td>...</td>\n",
              "      <td>...</td>\n",
              "      <td>...</td>\n",
              "      <td>...</td>\n",
              "      <td>...</td>\n",
              "      <td>...</td>\n",
              "      <td>...</td>\n",
              "      <td>...</td>\n",
              "      <td>...</td>\n",
              "      <td>...</td>\n",
              "      <td>...</td>\n",
              "      <td>...</td>\n",
              "      <td>...</td>\n",
              "      <td>...</td>\n",
              "      <td>...</td>\n",
              "      <td>...</td>\n",
              "      <td>...</td>\n",
              "      <td>...</td>\n",
              "      <td>...</td>\n",
              "      <td>...</td>\n",
              "      <td>...</td>\n",
              "      <td>...</td>\n",
              "      <td>...</td>\n",
              "      <td>...</td>\n",
              "      <td>...</td>\n",
              "      <td>...</td>\n",
              "      <td>...</td>\n",
              "      <td>...</td>\n",
              "      <td>...</td>\n",
              "      <td>...</td>\n",
              "      <td>...</td>\n",
              "      <td>...</td>\n",
              "      <td>...</td>\n",
              "      <td>...</td>\n",
              "      <td>...</td>\n",
              "      <td>...</td>\n",
              "      <td>...</td>\n",
              "      <td>...</td>\n",
              "      <td>...</td>\n",
              "      <td>...</td>\n",
              "      <td>...</td>\n",
              "      <td>...</td>\n",
              "      <td>...</td>\n",
              "      <td>...</td>\n",
              "    </tr>\n",
              "    <tr>\n",
              "      <th>371519</th>\n",
              "      <td>3.720159</td>\n",
              "      <td>0</td>\n",
              "      <td>150</td>\n",
              "      <td>150000</td>\n",
              "      <td>12</td>\n",
              "      <td>0</td>\n",
              "      <td>0</td>\n",
              "      <td>0</td>\n",
              "      <td>0</td>\n",
              "      <td>0</td>\n",
              "      <td>0</td>\n",
              "      <td>0</td>\n",
              "      <td>0</td>\n",
              "      <td>0</td>\n",
              "      <td>0</td>\n",
              "      <td>0</td>\n",
              "      <td>0</td>\n",
              "      <td>0</td>\n",
              "      <td>0</td>\n",
              "      <td>0</td>\n",
              "      <td>0</td>\n",
              "      <td>0</td>\n",
              "      <td>0</td>\n",
              "      <td>0</td>\n",
              "      <td>0</td>\n",
              "      <td>0</td>\n",
              "      <td>0</td>\n",
              "      <td>0</td>\n",
              "      <td>0</td>\n",
              "      <td>0</td>\n",
              "      <td>0</td>\n",
              "      <td>0</td>\n",
              "      <td>0</td>\n",
              "      <td>0</td>\n",
              "      <td>0</td>\n",
              "      <td>0</td>\n",
              "      <td>0</td>\n",
              "      <td>0</td>\n",
              "      <td>0</td>\n",
              "      <td>0</td>\n",
              "      <td>...</td>\n",
              "      <td>0</td>\n",
              "      <td>0</td>\n",
              "      <td>0</td>\n",
              "      <td>0</td>\n",
              "      <td>0</td>\n",
              "      <td>0</td>\n",
              "      <td>0</td>\n",
              "      <td>0</td>\n",
              "      <td>0</td>\n",
              "      <td>0</td>\n",
              "      <td>0</td>\n",
              "      <td>0</td>\n",
              "      <td>0</td>\n",
              "      <td>0</td>\n",
              "      <td>0</td>\n",
              "      <td>0</td>\n",
              "      <td>0</td>\n",
              "      <td>0</td>\n",
              "      <td>0</td>\n",
              "      <td>0</td>\n",
              "      <td>0</td>\n",
              "      <td>0</td>\n",
              "      <td>0</td>\n",
              "      <td>0</td>\n",
              "      <td>0</td>\n",
              "      <td>0</td>\n",
              "      <td>0</td>\n",
              "      <td>0</td>\n",
              "      <td>0</td>\n",
              "      <td>0</td>\n",
              "      <td>0</td>\n",
              "      <td>0</td>\n",
              "      <td>0</td>\n",
              "      <td>0</td>\n",
              "      <td>0</td>\n",
              "      <td>0</td>\n",
              "      <td>0</td>\n",
              "      <td>0</td>\n",
              "      <td>0</td>\n",
              "      <td>0</td>\n",
              "    </tr>\n",
              "    <tr>\n",
              "      <th>371520</th>\n",
              "      <td>3.505150</td>\n",
              "      <td>1</td>\n",
              "      <td>225</td>\n",
              "      <td>150000</td>\n",
              "      <td>5</td>\n",
              "      <td>1</td>\n",
              "      <td>0</td>\n",
              "      <td>0</td>\n",
              "      <td>0</td>\n",
              "      <td>0</td>\n",
              "      <td>0</td>\n",
              "      <td>0</td>\n",
              "      <td>0</td>\n",
              "      <td>0</td>\n",
              "      <td>0</td>\n",
              "      <td>0</td>\n",
              "      <td>0</td>\n",
              "      <td>0</td>\n",
              "      <td>0</td>\n",
              "      <td>0</td>\n",
              "      <td>0</td>\n",
              "      <td>0</td>\n",
              "      <td>0</td>\n",
              "      <td>0</td>\n",
              "      <td>0</td>\n",
              "      <td>0</td>\n",
              "      <td>0</td>\n",
              "      <td>0</td>\n",
              "      <td>0</td>\n",
              "      <td>0</td>\n",
              "      <td>0</td>\n",
              "      <td>0</td>\n",
              "      <td>0</td>\n",
              "      <td>0</td>\n",
              "      <td>0</td>\n",
              "      <td>1</td>\n",
              "      <td>0</td>\n",
              "      <td>0</td>\n",
              "      <td>0</td>\n",
              "      <td>0</td>\n",
              "      <td>...</td>\n",
              "      <td>0</td>\n",
              "      <td>0</td>\n",
              "      <td>0</td>\n",
              "      <td>0</td>\n",
              "      <td>0</td>\n",
              "      <td>0</td>\n",
              "      <td>0</td>\n",
              "      <td>0</td>\n",
              "      <td>0</td>\n",
              "      <td>0</td>\n",
              "      <td>0</td>\n",
              "      <td>0</td>\n",
              "      <td>0</td>\n",
              "      <td>0</td>\n",
              "      <td>0</td>\n",
              "      <td>0</td>\n",
              "      <td>0</td>\n",
              "      <td>0</td>\n",
              "      <td>0</td>\n",
              "      <td>0</td>\n",
              "      <td>0</td>\n",
              "      <td>0</td>\n",
              "      <td>0</td>\n",
              "      <td>0</td>\n",
              "      <td>0</td>\n",
              "      <td>0</td>\n",
              "      <td>0</td>\n",
              "      <td>0</td>\n",
              "      <td>0</td>\n",
              "      <td>0</td>\n",
              "      <td>0</td>\n",
              "      <td>0</td>\n",
              "      <td>0</td>\n",
              "      <td>0</td>\n",
              "      <td>0</td>\n",
              "      <td>0</td>\n",
              "      <td>0</td>\n",
              "      <td>0</td>\n",
              "      <td>0</td>\n",
              "      <td>12</td>\n",
              "    </tr>\n",
              "    <tr>\n",
              "      <th>371524</th>\n",
              "      <td>3.078819</td>\n",
              "      <td>0</td>\n",
              "      <td>101</td>\n",
              "      <td>125000</td>\n",
              "      <td>3</td>\n",
              "      <td>0</td>\n",
              "      <td>0</td>\n",
              "      <td>0</td>\n",
              "      <td>0</td>\n",
              "      <td>0</td>\n",
              "      <td>0</td>\n",
              "      <td>0</td>\n",
              "      <td>0</td>\n",
              "      <td>0</td>\n",
              "      <td>0</td>\n",
              "      <td>0</td>\n",
              "      <td>0</td>\n",
              "      <td>0</td>\n",
              "      <td>0</td>\n",
              "      <td>0</td>\n",
              "      <td>0</td>\n",
              "      <td>0</td>\n",
              "      <td>0</td>\n",
              "      <td>0</td>\n",
              "      <td>0</td>\n",
              "      <td>0</td>\n",
              "      <td>0</td>\n",
              "      <td>0</td>\n",
              "      <td>0</td>\n",
              "      <td>0</td>\n",
              "      <td>0</td>\n",
              "      <td>0</td>\n",
              "      <td>0</td>\n",
              "      <td>0</td>\n",
              "      <td>0</td>\n",
              "      <td>0</td>\n",
              "      <td>0</td>\n",
              "      <td>1</td>\n",
              "      <td>0</td>\n",
              "      <td>0</td>\n",
              "      <td>...</td>\n",
              "      <td>0</td>\n",
              "      <td>0</td>\n",
              "      <td>0</td>\n",
              "      <td>0</td>\n",
              "      <td>0</td>\n",
              "      <td>0</td>\n",
              "      <td>0</td>\n",
              "      <td>0</td>\n",
              "      <td>0</td>\n",
              "      <td>0</td>\n",
              "      <td>0</td>\n",
              "      <td>0</td>\n",
              "      <td>0</td>\n",
              "      <td>0</td>\n",
              "      <td>0</td>\n",
              "      <td>0</td>\n",
              "      <td>0</td>\n",
              "      <td>0</td>\n",
              "      <td>0</td>\n",
              "      <td>0</td>\n",
              "      <td>0</td>\n",
              "      <td>0</td>\n",
              "      <td>0</td>\n",
              "      <td>0</td>\n",
              "      <td>0</td>\n",
              "      <td>0</td>\n",
              "      <td>0</td>\n",
              "      <td>0</td>\n",
              "      <td>0</td>\n",
              "      <td>0</td>\n",
              "      <td>0</td>\n",
              "      <td>0</td>\n",
              "      <td>0</td>\n",
              "      <td>0</td>\n",
              "      <td>0</td>\n",
              "      <td>0</td>\n",
              "      <td>0</td>\n",
              "      <td>0</td>\n",
              "      <td>0</td>\n",
              "      <td>16</td>\n",
              "    </tr>\n",
              "    <tr>\n",
              "      <th>371525</th>\n",
              "      <td>3.963788</td>\n",
              "      <td>1</td>\n",
              "      <td>102</td>\n",
              "      <td>150000</td>\n",
              "      <td>3</td>\n",
              "      <td>0</td>\n",
              "      <td>0</td>\n",
              "      <td>0</td>\n",
              "      <td>0</td>\n",
              "      <td>0</td>\n",
              "      <td>0</td>\n",
              "      <td>0</td>\n",
              "      <td>0</td>\n",
              "      <td>0</td>\n",
              "      <td>0</td>\n",
              "      <td>0</td>\n",
              "      <td>0</td>\n",
              "      <td>0</td>\n",
              "      <td>0</td>\n",
              "      <td>0</td>\n",
              "      <td>0</td>\n",
              "      <td>0</td>\n",
              "      <td>0</td>\n",
              "      <td>0</td>\n",
              "      <td>0</td>\n",
              "      <td>0</td>\n",
              "      <td>0</td>\n",
              "      <td>0</td>\n",
              "      <td>0</td>\n",
              "      <td>0</td>\n",
              "      <td>0</td>\n",
              "      <td>0</td>\n",
              "      <td>0</td>\n",
              "      <td>0</td>\n",
              "      <td>0</td>\n",
              "      <td>0</td>\n",
              "      <td>0</td>\n",
              "      <td>0</td>\n",
              "      <td>0</td>\n",
              "      <td>0</td>\n",
              "      <td>...</td>\n",
              "      <td>0</td>\n",
              "      <td>0</td>\n",
              "      <td>0</td>\n",
              "      <td>0</td>\n",
              "      <td>0</td>\n",
              "      <td>0</td>\n",
              "      <td>0</td>\n",
              "      <td>0</td>\n",
              "      <td>0</td>\n",
              "      <td>0</td>\n",
              "      <td>0</td>\n",
              "      <td>0</td>\n",
              "      <td>0</td>\n",
              "      <td>1</td>\n",
              "      <td>0</td>\n",
              "      <td>0</td>\n",
              "      <td>0</td>\n",
              "      <td>0</td>\n",
              "      <td>0</td>\n",
              "      <td>0</td>\n",
              "      <td>0</td>\n",
              "      <td>0</td>\n",
              "      <td>0</td>\n",
              "      <td>0</td>\n",
              "      <td>0</td>\n",
              "      <td>0</td>\n",
              "      <td>0</td>\n",
              "      <td>0</td>\n",
              "      <td>0</td>\n",
              "      <td>0</td>\n",
              "      <td>0</td>\n",
              "      <td>0</td>\n",
              "      <td>0</td>\n",
              "      <td>0</td>\n",
              "      <td>0</td>\n",
              "      <td>0</td>\n",
              "      <td>0</td>\n",
              "      <td>0</td>\n",
              "      <td>0</td>\n",
              "      <td>20</td>\n",
              "    </tr>\n",
              "    <tr>\n",
              "      <th>371527</th>\n",
              "      <td>4.462248</td>\n",
              "      <td>1</td>\n",
              "      <td>320</td>\n",
              "      <td>50000</td>\n",
              "      <td>8</td>\n",
              "      <td>0</td>\n",
              "      <td>0</td>\n",
              "      <td>1</td>\n",
              "      <td>0</td>\n",
              "      <td>0</td>\n",
              "      <td>0</td>\n",
              "      <td>0</td>\n",
              "      <td>0</td>\n",
              "      <td>0</td>\n",
              "      <td>0</td>\n",
              "      <td>0</td>\n",
              "      <td>0</td>\n",
              "      <td>0</td>\n",
              "      <td>0</td>\n",
              "      <td>0</td>\n",
              "      <td>0</td>\n",
              "      <td>0</td>\n",
              "      <td>0</td>\n",
              "      <td>0</td>\n",
              "      <td>0</td>\n",
              "      <td>0</td>\n",
              "      <td>0</td>\n",
              "      <td>0</td>\n",
              "      <td>0</td>\n",
              "      <td>0</td>\n",
              "      <td>0</td>\n",
              "      <td>0</td>\n",
              "      <td>0</td>\n",
              "      <td>0</td>\n",
              "      <td>0</td>\n",
              "      <td>0</td>\n",
              "      <td>0</td>\n",
              "      <td>0</td>\n",
              "      <td>0</td>\n",
              "      <td>0</td>\n",
              "      <td>...</td>\n",
              "      <td>0</td>\n",
              "      <td>0</td>\n",
              "      <td>0</td>\n",
              "      <td>0</td>\n",
              "      <td>0</td>\n",
              "      <td>0</td>\n",
              "      <td>0</td>\n",
              "      <td>0</td>\n",
              "      <td>0</td>\n",
              "      <td>0</td>\n",
              "      <td>0</td>\n",
              "      <td>0</td>\n",
              "      <td>0</td>\n",
              "      <td>0</td>\n",
              "      <td>0</td>\n",
              "      <td>0</td>\n",
              "      <td>0</td>\n",
              "      <td>0</td>\n",
              "      <td>0</td>\n",
              "      <td>0</td>\n",
              "      <td>0</td>\n",
              "      <td>0</td>\n",
              "      <td>0</td>\n",
              "      <td>0</td>\n",
              "      <td>0</td>\n",
              "      <td>0</td>\n",
              "      <td>0</td>\n",
              "      <td>0</td>\n",
              "      <td>0</td>\n",
              "      <td>0</td>\n",
              "      <td>0</td>\n",
              "      <td>0</td>\n",
              "      <td>0</td>\n",
              "      <td>0</td>\n",
              "      <td>0</td>\n",
              "      <td>0</td>\n",
              "      <td>0</td>\n",
              "      <td>0</td>\n",
              "      <td>0</td>\n",
              "      <td>3</td>\n",
              "    </tr>\n",
              "  </tbody>\n",
              "</table>\n",
              "<p>271997 rows × 308 columns</p>\n",
              "</div>"
            ],
            "text/plain": [
              "        log_price gearbox  powerPS  ...  model_z_reihe  model_zafira years_old\n",
              "1        4.262451       1      190  ...              0             0         5\n",
              "3        3.176091       1       75  ...              0             0        15\n",
              "4        3.556303       1       69  ...              0             0         8\n",
              "5        2.812913       1      102  ...              0             0        21\n",
              "6        3.342423       1      109  ...              0             0        12\n",
              "...           ...     ...      ...  ...            ...           ...       ...\n",
              "371519   3.720159       0      150  ...              0             0         0\n",
              "371520   3.505150       1      225  ...              0             0        12\n",
              "371524   3.078819       0      101  ...              0             0        16\n",
              "371525   3.963788       1      102  ...              0             0        20\n",
              "371527   4.462248       1      320  ...              0             0         3\n",
              "\n",
              "[271997 rows x 308 columns]"
            ]
          },
          "metadata": {
            "tags": []
          }
        }
      ]
    },
    {
      "cell_type": "code",
      "metadata": {
        "colab_type": "code",
        "id": "Eqz3Y8JiK3-v",
        "outputId": "aebdaba4-4506-48b7-8cd8-d85eb8902b91",
        "colab": {
          "base_uri": "https://localhost:8080/",
          "height": 68
        }
      },
      "source": [
        "#Loop for counting brand and model variables\n",
        "column_list = df.columns.tolist()\n",
        "model_cnt = 0\n",
        "brand_cnt = 0\n",
        "total_cnt = 0\n",
        "\n",
        "for item in column_list:\n",
        "  if item.startswith('model'):\n",
        "    model_cnt += 1\n",
        "  elif item.startswith('brand'):\n",
        "    brand_cnt += 1\n",
        "  total_cnt +=1\n",
        "print('models: ', model_cnt)\n",
        "print('brands: ', brand_cnt)\n",
        "print('total: ', total_cnt)"
      ],
      "execution_count": 25,
      "outputs": [
        {
          "output_type": "stream",
          "text": [
            "models:  249\n",
            "brands:  39\n",
            "total:  308\n"
          ],
          "name": "stdout"
        }
      ]
    },
    {
      "cell_type": "code",
      "metadata": {
        "colab_type": "code",
        "id": "kLJhQFf4pegS",
        "colab": {}
      },
      "source": [
        "df.to_csv('processed.csv', index='False')"
      ],
      "execution_count": 0,
      "outputs": []
    },
    {
      "cell_type": "markdown",
      "metadata": {
        "id": "-lntje5QvNXa",
        "colab_type": "text"
      },
      "source": [
        "# 2. Initial Models on Raw Data"
      ]
    },
    {
      "cell_type": "markdown",
      "metadata": {
        "id": "Hz-06xKKv0Wp",
        "colab_type": "text"
      },
      "source": [
        "## Linear Regression on Raw Data"
      ]
    },
    {
      "cell_type": "code",
      "metadata": {
        "colab_type": "code",
        "id": "_9zmIz5lVhC1",
        "colab": {}
      },
      "source": [
        "#Multiple Linear Regression\n",
        "\n",
        "import numpy as np\n",
        "import matplotlib.pyplot as plt\n",
        "import pandas as pd\n",
        "\n",
        "#Loading the dataset\n",
        "try:\n",
        "  dataset = pd.read_csv('processed.csv')\n",
        "except:\n",
        "  dataset = pd.read_csv('drive/My Drive/processed.csv')\n",
        "# print(dataset)\n",
        "\n",
        "X = dataset.iloc[:,2:] #We are not using column 1. Also we slice it this way because we want X to be a matrix\n",
        "y = dataset.iloc[:,1]\n",
        "\n",
        "#Splitting the data into Training Set and Test Set\n",
        "from sklearn.model_selection import train_test_split\n",
        "X_train, X_test, y_train, y_test = train_test_split(X,y,test_size=0.3,random_state=0)"
      ],
      "execution_count": 0,
      "outputs": []
    },
    {
      "cell_type": "code",
      "metadata": {
        "colab_type": "code",
        "id": "fBVfchpmVhC5",
        "outputId": "5c1fac89-876c-46b3-990d-66e159cdc9b7",
        "colab": {
          "base_uri": "https://localhost:8080/",
          "height": 306
        }
      },
      "source": [
        "# Import required libraries and create pipeline\n",
        "from sklearn.preprocessing import StandardScaler\n",
        "from sklearn.linear_model import LinearRegression\n",
        "from sklearn.metrics import mean_squared_error\n",
        "from sklearn.pipeline import Pipeline\n",
        "\n",
        "print('starting pipeline')\n",
        "\n",
        "lr_pipeline = Pipeline([\n",
        "                    ('scale', StandardScaler()), \n",
        "                    ('LR', LinearRegression())\n",
        "                     ], verbose=True)\n",
        "\n",
        "lr_pipeline.fit(X_train, y_train)\n",
        "y_pred = lr_pipeline.predict(X_test)\n",
        "\n",
        "print(y_pred)\n",
        "print(y_test)\n",
        "print(mean_squared_error(y_test, y_pred))"
      ],
      "execution_count": 0,
      "outputs": [
        {
          "output_type": "stream",
          "text": [
            "starting pipeline\n",
            "[Pipeline] ............. (step 1 of 2) Processing scale, total=   1.8s\n",
            "[Pipeline] ................ (step 2 of 2) Processing LR, total=   5.3s\n",
            "[2.85932719 4.0153248  3.90359306 ... 4.14138205 3.95396876 3.45497342]\n",
            "85971     3.113943\n",
            "205804    4.037426\n",
            "13374     3.913814\n",
            "235012    4.041393\n",
            "169522    3.060698\n",
            "            ...   \n",
            "16494     3.653213\n",
            "259055    3.397940\n",
            "24516     4.107210\n",
            "13263     3.875061\n",
            "25001     3.544068\n",
            "Name: log_price, Length: 81600, dtype: float64\n",
            "0.06779693364579975\n"
          ],
          "name": "stdout"
        }
      ]
    },
    {
      "cell_type": "code",
      "metadata": {
        "colab_type": "code",
        "id": "jxhDSYH6koN4",
        "outputId": "eda6e637-58a3-4f0f-fa1e-6cb83da8e111",
        "colab": {
          "base_uri": "https://localhost:8080/",
          "height": 272
        }
      },
      "source": [
        "print(10**y_pred)\n",
        "print(10**y_test)\n",
        "print(mean_squared_error(10**y_test, 10**y_pred))"
      ],
      "execution_count": 0,
      "outputs": [
        {
          "output_type": "stream",
          "text": [
            "[  723.31453045 10359.16613224  8009.27232257 ... 13847.84041978\n",
            "  8994.32877639  2850.84375044]\n",
            "85971      1300.0\n",
            "205804    10900.0\n",
            "13374      8200.0\n",
            "235012    11000.0\n",
            "169522     1150.0\n",
            "           ...   \n",
            "16494      4500.0\n",
            "259055     2500.0\n",
            "24516     12800.0\n",
            "13263      7500.0\n",
            "25001      3500.0\n",
            "Name: log_price, Length: 81600, dtype: float64\n",
            "232717125.6909711\n"
          ],
          "name": "stdout"
        }
      ]
    },
    {
      "cell_type": "markdown",
      "metadata": {
        "id": "JXroeo_Qv5GR",
        "colab_type": "text"
      },
      "source": [
        "## Decision Tree Regression on Raw Data"
      ]
    },
    {
      "cell_type": "code",
      "metadata": {
        "colab_type": "code",
        "id": "CV_ANCXN7f4u",
        "outputId": "20f04909-fdf0-4fc2-e8a2-44d05487b0fc",
        "colab": {
          "base_uri": "https://localhost:8080/",
          "height": 270
        }
      },
      "source": [
        "#Decision Tree Regression\n",
        "\n",
        "import numpy as np\n",
        "import matplotlib.pyplot as plt\n",
        "import pandas as pd\n",
        "\n",
        "#Loading the dataset\n",
        "try:\n",
        "  dataset = pd.read_csv('processed.csv')\n",
        "except:\n",
        "  dataset = pd.read_csv('drive/My Drive/processed.csv')\n",
        "\n",
        "dataset.head()"
      ],
      "execution_count": 0,
      "outputs": [
        {
          "output_type": "execute_result",
          "data": {
            "text/html": [
              "<div>\n",
              "<style scoped>\n",
              "    .dataframe tbody tr th:only-of-type {\n",
              "        vertical-align: middle;\n",
              "    }\n",
              "\n",
              "    .dataframe tbody tr th {\n",
              "        vertical-align: top;\n",
              "    }\n",
              "\n",
              "    .dataframe thead th {\n",
              "        text-align: right;\n",
              "    }\n",
              "</style>\n",
              "<table border=\"1\" class=\"dataframe\">\n",
              "  <thead>\n",
              "    <tr style=\"text-align: right;\">\n",
              "      <th></th>\n",
              "      <th>Unnamed: 0</th>\n",
              "      <th>log_price</th>\n",
              "      <th>gearbox</th>\n",
              "      <th>powerPS</th>\n",
              "      <th>kilometer</th>\n",
              "      <th>monthOfRegistration</th>\n",
              "      <th>notRepairedDamage</th>\n",
              "      <th>brand_audi</th>\n",
              "      <th>brand_bmw</th>\n",
              "      <th>brand_chevrolet</th>\n",
              "      <th>brand_chrysler</th>\n",
              "      <th>brand_citroen</th>\n",
              "      <th>brand_dacia</th>\n",
              "      <th>brand_daewoo</th>\n",
              "      <th>brand_daihatsu</th>\n",
              "      <th>brand_fiat</th>\n",
              "      <th>brand_ford</th>\n",
              "      <th>brand_honda</th>\n",
              "      <th>brand_hyundai</th>\n",
              "      <th>brand_jaguar</th>\n",
              "      <th>brand_jeep</th>\n",
              "      <th>brand_kia</th>\n",
              "      <th>brand_lada</th>\n",
              "      <th>brand_lancia</th>\n",
              "      <th>brand_land_rover</th>\n",
              "      <th>brand_mazda</th>\n",
              "      <th>brand_mercedes_benz</th>\n",
              "      <th>brand_mini</th>\n",
              "      <th>brand_mitsubishi</th>\n",
              "      <th>brand_nissan</th>\n",
              "      <th>brand_opel</th>\n",
              "      <th>brand_peugeot</th>\n",
              "      <th>brand_porsche</th>\n",
              "      <th>brand_renault</th>\n",
              "      <th>brand_rover</th>\n",
              "      <th>brand_saab</th>\n",
              "      <th>brand_seat</th>\n",
              "      <th>brand_skoda</th>\n",
              "      <th>brand_smart</th>\n",
              "      <th>brand_sonstige_autos</th>\n",
              "      <th>...</th>\n",
              "      <th>model_spider</th>\n",
              "      <th>model_sportage</th>\n",
              "      <th>model_sprinter</th>\n",
              "      <th>model_stilo</th>\n",
              "      <th>model_superb</th>\n",
              "      <th>model_swift</th>\n",
              "      <th>model_terios</th>\n",
              "      <th>model_tigra</th>\n",
              "      <th>model_tiguan</th>\n",
              "      <th>model_toledo</th>\n",
              "      <th>model_touareg</th>\n",
              "      <th>model_touran</th>\n",
              "      <th>model_transit</th>\n",
              "      <th>model_transporter</th>\n",
              "      <th>model_tt</th>\n",
              "      <th>model_tucson</th>\n",
              "      <th>model_twingo</th>\n",
              "      <th>model_up</th>\n",
              "      <th>model_v40</th>\n",
              "      <th>model_v50</th>\n",
              "      <th>model_v60</th>\n",
              "      <th>model_v70</th>\n",
              "      <th>model_v_klasse</th>\n",
              "      <th>model_vectra</th>\n",
              "      <th>model_verso</th>\n",
              "      <th>model_viano</th>\n",
              "      <th>model_vito</th>\n",
              "      <th>model_vivaro</th>\n",
              "      <th>model_voyager</th>\n",
              "      <th>model_wrangler</th>\n",
              "      <th>model_x_reihe</th>\n",
              "      <th>model_x_trail</th>\n",
              "      <th>model_x_type</th>\n",
              "      <th>model_xc_reihe</th>\n",
              "      <th>model_yaris</th>\n",
              "      <th>model_yeti</th>\n",
              "      <th>model_ypsilon</th>\n",
              "      <th>model_z_reihe</th>\n",
              "      <th>model_zafira</th>\n",
              "      <th>years_old</th>\n",
              "    </tr>\n",
              "  </thead>\n",
              "  <tbody>\n",
              "    <tr>\n",
              "      <th>0</th>\n",
              "      <td>1</td>\n",
              "      <td>4.262451</td>\n",
              "      <td>1</td>\n",
              "      <td>190</td>\n",
              "      <td>125000</td>\n",
              "      <td>5</td>\n",
              "      <td>1</td>\n",
              "      <td>1</td>\n",
              "      <td>0</td>\n",
              "      <td>0</td>\n",
              "      <td>0</td>\n",
              "      <td>0</td>\n",
              "      <td>0</td>\n",
              "      <td>0</td>\n",
              "      <td>0</td>\n",
              "      <td>0</td>\n",
              "      <td>0</td>\n",
              "      <td>0</td>\n",
              "      <td>0</td>\n",
              "      <td>0</td>\n",
              "      <td>0</td>\n",
              "      <td>0</td>\n",
              "      <td>0</td>\n",
              "      <td>0</td>\n",
              "      <td>0</td>\n",
              "      <td>0</td>\n",
              "      <td>0</td>\n",
              "      <td>0</td>\n",
              "      <td>0</td>\n",
              "      <td>0</td>\n",
              "      <td>0</td>\n",
              "      <td>0</td>\n",
              "      <td>0</td>\n",
              "      <td>0</td>\n",
              "      <td>0</td>\n",
              "      <td>0</td>\n",
              "      <td>0</td>\n",
              "      <td>0</td>\n",
              "      <td>0</td>\n",
              "      <td>0</td>\n",
              "      <td>...</td>\n",
              "      <td>0</td>\n",
              "      <td>0</td>\n",
              "      <td>0</td>\n",
              "      <td>0</td>\n",
              "      <td>0</td>\n",
              "      <td>0</td>\n",
              "      <td>0</td>\n",
              "      <td>0</td>\n",
              "      <td>0</td>\n",
              "      <td>0</td>\n",
              "      <td>0</td>\n",
              "      <td>0</td>\n",
              "      <td>0</td>\n",
              "      <td>0</td>\n",
              "      <td>0</td>\n",
              "      <td>0</td>\n",
              "      <td>0</td>\n",
              "      <td>0</td>\n",
              "      <td>0</td>\n",
              "      <td>0</td>\n",
              "      <td>0</td>\n",
              "      <td>0</td>\n",
              "      <td>0</td>\n",
              "      <td>0</td>\n",
              "      <td>0</td>\n",
              "      <td>0</td>\n",
              "      <td>0</td>\n",
              "      <td>0</td>\n",
              "      <td>0</td>\n",
              "      <td>0</td>\n",
              "      <td>0</td>\n",
              "      <td>0</td>\n",
              "      <td>0</td>\n",
              "      <td>0</td>\n",
              "      <td>0</td>\n",
              "      <td>0</td>\n",
              "      <td>0</td>\n",
              "      <td>0</td>\n",
              "      <td>0</td>\n",
              "      <td>5</td>\n",
              "    </tr>\n",
              "    <tr>\n",
              "      <th>1</th>\n",
              "      <td>3</td>\n",
              "      <td>3.176091</td>\n",
              "      <td>1</td>\n",
              "      <td>75</td>\n",
              "      <td>150000</td>\n",
              "      <td>6</td>\n",
              "      <td>0</td>\n",
              "      <td>0</td>\n",
              "      <td>0</td>\n",
              "      <td>0</td>\n",
              "      <td>0</td>\n",
              "      <td>0</td>\n",
              "      <td>0</td>\n",
              "      <td>0</td>\n",
              "      <td>0</td>\n",
              "      <td>0</td>\n",
              "      <td>0</td>\n",
              "      <td>0</td>\n",
              "      <td>0</td>\n",
              "      <td>0</td>\n",
              "      <td>0</td>\n",
              "      <td>0</td>\n",
              "      <td>0</td>\n",
              "      <td>0</td>\n",
              "      <td>0</td>\n",
              "      <td>0</td>\n",
              "      <td>0</td>\n",
              "      <td>0</td>\n",
              "      <td>0</td>\n",
              "      <td>0</td>\n",
              "      <td>0</td>\n",
              "      <td>0</td>\n",
              "      <td>0</td>\n",
              "      <td>0</td>\n",
              "      <td>0</td>\n",
              "      <td>0</td>\n",
              "      <td>0</td>\n",
              "      <td>0</td>\n",
              "      <td>0</td>\n",
              "      <td>0</td>\n",
              "      <td>...</td>\n",
              "      <td>0</td>\n",
              "      <td>0</td>\n",
              "      <td>0</td>\n",
              "      <td>0</td>\n",
              "      <td>0</td>\n",
              "      <td>0</td>\n",
              "      <td>0</td>\n",
              "      <td>0</td>\n",
              "      <td>0</td>\n",
              "      <td>0</td>\n",
              "      <td>0</td>\n",
              "      <td>0</td>\n",
              "      <td>0</td>\n",
              "      <td>0</td>\n",
              "      <td>0</td>\n",
              "      <td>0</td>\n",
              "      <td>0</td>\n",
              "      <td>0</td>\n",
              "      <td>0</td>\n",
              "      <td>0</td>\n",
              "      <td>0</td>\n",
              "      <td>0</td>\n",
              "      <td>0</td>\n",
              "      <td>0</td>\n",
              "      <td>0</td>\n",
              "      <td>0</td>\n",
              "      <td>0</td>\n",
              "      <td>0</td>\n",
              "      <td>0</td>\n",
              "      <td>0</td>\n",
              "      <td>0</td>\n",
              "      <td>0</td>\n",
              "      <td>0</td>\n",
              "      <td>0</td>\n",
              "      <td>0</td>\n",
              "      <td>0</td>\n",
              "      <td>0</td>\n",
              "      <td>0</td>\n",
              "      <td>0</td>\n",
              "      <td>15</td>\n",
              "    </tr>\n",
              "    <tr>\n",
              "      <th>2</th>\n",
              "      <td>4</td>\n",
              "      <td>3.556303</td>\n",
              "      <td>1</td>\n",
              "      <td>69</td>\n",
              "      <td>90000</td>\n",
              "      <td>7</td>\n",
              "      <td>0</td>\n",
              "      <td>0</td>\n",
              "      <td>0</td>\n",
              "      <td>0</td>\n",
              "      <td>0</td>\n",
              "      <td>0</td>\n",
              "      <td>0</td>\n",
              "      <td>0</td>\n",
              "      <td>0</td>\n",
              "      <td>0</td>\n",
              "      <td>0</td>\n",
              "      <td>0</td>\n",
              "      <td>0</td>\n",
              "      <td>0</td>\n",
              "      <td>0</td>\n",
              "      <td>0</td>\n",
              "      <td>0</td>\n",
              "      <td>0</td>\n",
              "      <td>0</td>\n",
              "      <td>0</td>\n",
              "      <td>0</td>\n",
              "      <td>0</td>\n",
              "      <td>0</td>\n",
              "      <td>0</td>\n",
              "      <td>0</td>\n",
              "      <td>0</td>\n",
              "      <td>0</td>\n",
              "      <td>0</td>\n",
              "      <td>0</td>\n",
              "      <td>0</td>\n",
              "      <td>0</td>\n",
              "      <td>1</td>\n",
              "      <td>0</td>\n",
              "      <td>0</td>\n",
              "      <td>...</td>\n",
              "      <td>0</td>\n",
              "      <td>0</td>\n",
              "      <td>0</td>\n",
              "      <td>0</td>\n",
              "      <td>0</td>\n",
              "      <td>0</td>\n",
              "      <td>0</td>\n",
              "      <td>0</td>\n",
              "      <td>0</td>\n",
              "      <td>0</td>\n",
              "      <td>0</td>\n",
              "      <td>0</td>\n",
              "      <td>0</td>\n",
              "      <td>0</td>\n",
              "      <td>0</td>\n",
              "      <td>0</td>\n",
              "      <td>0</td>\n",
              "      <td>0</td>\n",
              "      <td>0</td>\n",
              "      <td>0</td>\n",
              "      <td>0</td>\n",
              "      <td>0</td>\n",
              "      <td>0</td>\n",
              "      <td>0</td>\n",
              "      <td>0</td>\n",
              "      <td>0</td>\n",
              "      <td>0</td>\n",
              "      <td>0</td>\n",
              "      <td>0</td>\n",
              "      <td>0</td>\n",
              "      <td>0</td>\n",
              "      <td>0</td>\n",
              "      <td>0</td>\n",
              "      <td>0</td>\n",
              "      <td>0</td>\n",
              "      <td>0</td>\n",
              "      <td>0</td>\n",
              "      <td>0</td>\n",
              "      <td>0</td>\n",
              "      <td>8</td>\n",
              "    </tr>\n",
              "    <tr>\n",
              "      <th>3</th>\n",
              "      <td>5</td>\n",
              "      <td>2.812913</td>\n",
              "      <td>1</td>\n",
              "      <td>102</td>\n",
              "      <td>150000</td>\n",
              "      <td>10</td>\n",
              "      <td>1</td>\n",
              "      <td>0</td>\n",
              "      <td>1</td>\n",
              "      <td>0</td>\n",
              "      <td>0</td>\n",
              "      <td>0</td>\n",
              "      <td>0</td>\n",
              "      <td>0</td>\n",
              "      <td>0</td>\n",
              "      <td>0</td>\n",
              "      <td>0</td>\n",
              "      <td>0</td>\n",
              "      <td>0</td>\n",
              "      <td>0</td>\n",
              "      <td>0</td>\n",
              "      <td>0</td>\n",
              "      <td>0</td>\n",
              "      <td>0</td>\n",
              "      <td>0</td>\n",
              "      <td>0</td>\n",
              "      <td>0</td>\n",
              "      <td>0</td>\n",
              "      <td>0</td>\n",
              "      <td>0</td>\n",
              "      <td>0</td>\n",
              "      <td>0</td>\n",
              "      <td>0</td>\n",
              "      <td>0</td>\n",
              "      <td>0</td>\n",
              "      <td>0</td>\n",
              "      <td>0</td>\n",
              "      <td>0</td>\n",
              "      <td>0</td>\n",
              "      <td>0</td>\n",
              "      <td>...</td>\n",
              "      <td>0</td>\n",
              "      <td>0</td>\n",
              "      <td>0</td>\n",
              "      <td>0</td>\n",
              "      <td>0</td>\n",
              "      <td>0</td>\n",
              "      <td>0</td>\n",
              "      <td>0</td>\n",
              "      <td>0</td>\n",
              "      <td>0</td>\n",
              "      <td>0</td>\n",
              "      <td>0</td>\n",
              "      <td>0</td>\n",
              "      <td>0</td>\n",
              "      <td>0</td>\n",
              "      <td>0</td>\n",
              "      <td>0</td>\n",
              "      <td>0</td>\n",
              "      <td>0</td>\n",
              "      <td>0</td>\n",
              "      <td>0</td>\n",
              "      <td>0</td>\n",
              "      <td>0</td>\n",
              "      <td>0</td>\n",
              "      <td>0</td>\n",
              "      <td>0</td>\n",
              "      <td>0</td>\n",
              "      <td>0</td>\n",
              "      <td>0</td>\n",
              "      <td>0</td>\n",
              "      <td>0</td>\n",
              "      <td>0</td>\n",
              "      <td>0</td>\n",
              "      <td>0</td>\n",
              "      <td>0</td>\n",
              "      <td>0</td>\n",
              "      <td>0</td>\n",
              "      <td>0</td>\n",
              "      <td>0</td>\n",
              "      <td>21</td>\n",
              "    </tr>\n",
              "    <tr>\n",
              "      <th>4</th>\n",
              "      <td>6</td>\n",
              "      <td>3.342423</td>\n",
              "      <td>1</td>\n",
              "      <td>109</td>\n",
              "      <td>150000</td>\n",
              "      <td>8</td>\n",
              "      <td>0</td>\n",
              "      <td>0</td>\n",
              "      <td>0</td>\n",
              "      <td>0</td>\n",
              "      <td>0</td>\n",
              "      <td>0</td>\n",
              "      <td>0</td>\n",
              "      <td>0</td>\n",
              "      <td>0</td>\n",
              "      <td>0</td>\n",
              "      <td>0</td>\n",
              "      <td>0</td>\n",
              "      <td>0</td>\n",
              "      <td>0</td>\n",
              "      <td>0</td>\n",
              "      <td>0</td>\n",
              "      <td>0</td>\n",
              "      <td>0</td>\n",
              "      <td>0</td>\n",
              "      <td>0</td>\n",
              "      <td>0</td>\n",
              "      <td>0</td>\n",
              "      <td>0</td>\n",
              "      <td>0</td>\n",
              "      <td>0</td>\n",
              "      <td>1</td>\n",
              "      <td>0</td>\n",
              "      <td>0</td>\n",
              "      <td>0</td>\n",
              "      <td>0</td>\n",
              "      <td>0</td>\n",
              "      <td>0</td>\n",
              "      <td>0</td>\n",
              "      <td>0</td>\n",
              "      <td>...</td>\n",
              "      <td>0</td>\n",
              "      <td>0</td>\n",
              "      <td>0</td>\n",
              "      <td>0</td>\n",
              "      <td>0</td>\n",
              "      <td>0</td>\n",
              "      <td>0</td>\n",
              "      <td>0</td>\n",
              "      <td>0</td>\n",
              "      <td>0</td>\n",
              "      <td>0</td>\n",
              "      <td>0</td>\n",
              "      <td>0</td>\n",
              "      <td>0</td>\n",
              "      <td>0</td>\n",
              "      <td>0</td>\n",
              "      <td>0</td>\n",
              "      <td>0</td>\n",
              "      <td>0</td>\n",
              "      <td>0</td>\n",
              "      <td>0</td>\n",
              "      <td>0</td>\n",
              "      <td>0</td>\n",
              "      <td>0</td>\n",
              "      <td>0</td>\n",
              "      <td>0</td>\n",
              "      <td>0</td>\n",
              "      <td>0</td>\n",
              "      <td>0</td>\n",
              "      <td>0</td>\n",
              "      <td>0</td>\n",
              "      <td>0</td>\n",
              "      <td>0</td>\n",
              "      <td>0</td>\n",
              "      <td>0</td>\n",
              "      <td>0</td>\n",
              "      <td>0</td>\n",
              "      <td>0</td>\n",
              "      <td>0</td>\n",
              "      <td>12</td>\n",
              "    </tr>\n",
              "  </tbody>\n",
              "</table>\n",
              "<p>5 rows � 309 columns</p>\n",
              "</div>"
            ],
            "text/plain": [
              "   Unnamed: 0  log_price  gearbox  ...  model_z_reihe  model_zafira  years_old\n",
              "0           1   4.262451        1  ...              0             0          5\n",
              "1           3   3.176091        1  ...              0             0         15\n",
              "2           4   3.556303        1  ...              0             0          8\n",
              "3           5   2.812913        1  ...              0             0         21\n",
              "4           6   3.342423        1  ...              0             0         12\n",
              "\n",
              "[5 rows x 309 columns]"
            ]
          },
          "metadata": {
            "tags": []
          },
          "execution_count": 7
        }
      ]
    },
    {
      "cell_type": "code",
      "metadata": {
        "colab_type": "code",
        "id": "99eXzDlT7f40",
        "outputId": "c3e85789-d73b-4eb9-edb3-c3f798033aaa",
        "colab": {
          "base_uri": "https://localhost:8080/",
          "height": 68
        }
      },
      "source": [
        "\n",
        "X = dataset.iloc[:,2:].values \n",
        "y = dataset.iloc[:,1].values\n",
        "\n",
        "#Splitting the data into Training Set and Test Set\n",
        "from sklearn.model_selection import train_test_split\n",
        "X_train, X_test, y_train, y_test = train_test_split(X,y,test_size=0.3)\n",
        "\n",
        "#Normalizing the features\n",
        "from sklearn.preprocessing import StandardScaler\n",
        "sc_X = StandardScaler()\n",
        "X_train = sc_X.fit_transform(X_train)\n",
        "X_test = sc_X.transform(X_test)\n",
        "\n",
        "#Create and Fit a Regressor Object\n",
        "from sklearn.tree import DecisionTreeRegressor\n",
        "regObj = DecisionTreeRegressor()\n",
        "regObj.fit(X_train,y_train) \n",
        "y_pred = regObj.predict(X_test)\n",
        "\n",
        "from sklearn.metrics import mean_squared_error\n",
        "mse = mean_squared_error(y_test, y_pred)\n",
        "print(mse)\n",
        "\n",
        "print(y_pred)\n",
        "print(y_test)"
      ],
      "execution_count": 0,
      "outputs": [
        {
          "output_type": "stream",
          "text": [
            "0.05215963198602538\n",
            "[3.47697647 4.39776626 2.92941893 ... 3.12915071 3.67209786 3.35378509]\n",
            "[3.79927161 4.39776626 2.74036269 ... 3.11394335 3.30081279 3.11394335]\n"
          ],
          "name": "stdout"
        }
      ]
    },
    {
      "cell_type": "code",
      "metadata": {
        "colab_type": "code",
        "id": "-Yo430OD7-Xh",
        "outputId": "eca2773c-b8de-4cbd-b754-282f3e41fc58",
        "colab": {
          "base_uri": "https://localhost:8080/",
          "height": 85
        }
      },
      "source": [
        "mse_exp = mean_squared_error(10**y_test, 10**y_pred)\n",
        "print(mse_exp)\n",
        "print(10**y_pred)\n",
        "print(10**y_test)"
      ],
      "execution_count": 0,
      "outputs": [
        {
          "output_type": "stream",
          "text": [
            "63238336.62957917\n",
            "[ 2999.         24990.           850.         ...  1346.32746688\n",
            "  4700.          2258.31795813]\n",
            "[ 6299. 24990.   550. ...  1300.  1999.  1300.]\n"
          ],
          "name": "stdout"
        }
      ]
    },
    {
      "cell_type": "markdown",
      "metadata": {
        "id": "RyvOImRdwKlY",
        "colab_type": "text"
      },
      "source": [
        "## Random Forest Regression on Raw Data"
      ]
    },
    {
      "cell_type": "code",
      "metadata": {
        "colab_type": "code",
        "id": "vWg5RLUrjcW7",
        "colab": {}
      },
      "source": [
        "#Random Forest Regression\n",
        "\n",
        "import numpy as np\n",
        "import matplotlib.pyplot as plt\n",
        "import pandas as pd\n",
        "\n",
        "#Loading the dataset\n",
        "try:\n",
        "  dataset = pd.read_csv('drive/My Drive/processed.csv')\n",
        "except:\n",
        "  dataset = pd.read_csv('processed.csv')\n",
        "# print(dataset)\n",
        "\n",
        "X = dataset.iloc[:,2:].values #We are not using column 1. Also we slice it this way because we want X to be a matrix\n",
        "y = dataset.iloc[:,1].values\n",
        "\n",
        "#Splitting the data into Training Set and Test Set\n",
        "from sklearn.model_selection import train_test_split\n",
        "X_train, X_test, y_train, y_test = train_test_split(X,y,test_size=0.3,random_state=0)"
      ],
      "execution_count": 0,
      "outputs": []
    },
    {
      "cell_type": "code",
      "metadata": {
        "colab_type": "code",
        "id": "5osNnyJXjcW_",
        "outputId": "bb53a601-11c3-4315-f43d-acebaf78b255",
        "colab": {
          "base_uri": "https://localhost:8080/",
          "height": 1000
        }
      },
      "source": [
        "\n",
        "# Import required libraries and create pipeline\n",
        "from sklearn.preprocessing import StandardScaler\n",
        "from sklearn.ensemble import RandomForestRegressor\n",
        "from sklearn.metrics import mean_squared_error\n",
        "from sklearn.pipeline import Pipeline\n",
        "\n",
        "print('starting pipeline')\n",
        "\n",
        "rf_pipeline = Pipeline([\n",
        "                    ('scale', StandardScaler()), \n",
        "                    ('rf', RandomForestRegressor(random_state=0, warm_start=True))\n",
        "                     ], verbose=True)\n",
        "grid_param = dict(rf__n_estimators=[10, 30, 50],\n",
        "                  rf__min_impurity_decrease=[0.0001, 0.0005, 0.001, 0.005, 0.01],\n",
        "                  rf__bootstrap=[True,False])\n",
        "# Using a grid search to test parameters\n",
        "from sklearn.model_selection import GridSearchCV\n",
        "\n",
        "searchObj = GridSearchCV(rf_pipeline, grid_param, cv=10, scoring='neg_mean_squared_error', n_jobs=-1, verbose=10)\n",
        "searchObj.fit(X_train, y_train)\n",
        "print(searchObj.best_params_)  \n",
        "print(searchObj.best_score_)\n",
        "print(searchObj.cv_results_)\n",
        "\n",
        "y_pred = searchObj.predict(X_test)\n",
        "\n",
        "print(mean_squared_error(y_test, y_pred))\n"
      ],
      "execution_count": 0,
      "outputs": [
        {
          "output_type": "stream",
          "text": [
            "starting pipeline\n",
            "Fitting 10 folds for each of 30 candidates, totalling 300 fits\n"
          ],
          "name": "stdout"
        },
        {
          "output_type": "stream",
          "text": [
            "[Parallel(n_jobs=-1)]: Using backend LokyBackend with 2 concurrent workers.\n",
            "[Parallel(n_jobs=-1)]: Done   1 tasks      | elapsed:   39.0s\n",
            "/usr/local/lib/python3.6/dist-packages/joblib/externals/loky/process_executor.py:706: UserWarning: A worker stopped while some jobs were given to the executor. This can be caused by a too short worker timeout or by a memory leak.\n",
            "  \"timeout or by a memory leak.\", UserWarning\n",
            "[Parallel(n_jobs=-1)]: Done   4 tasks      | elapsed:  1.3min\n",
            "[Parallel(n_jobs=-1)]: Done   9 tasks      | elapsed:  3.2min\n",
            "[Parallel(n_jobs=-1)]: Done  14 tasks      | elapsed:  6.7min\n",
            "[Parallel(n_jobs=-1)]: Done  21 tasks      | elapsed: 15.1min\n",
            "[Parallel(n_jobs=-1)]: Done  28 tasks      | elapsed: 23.9min\n",
            "[Parallel(n_jobs=-1)]: Done  37 tasks      | elapsed: 29.2min\n",
            "[Parallel(n_jobs=-1)]: Done  46 tasks      | elapsed: 34.7min\n",
            "[Parallel(n_jobs=-1)]: Done  57 tasks      | elapsed: 48.8min\n",
            "[Parallel(n_jobs=-1)]: Done  68 tasks      | elapsed: 53.7min\n",
            "[Parallel(n_jobs=-1)]: Done  81 tasks      | elapsed: 64.6min\n",
            "[Parallel(n_jobs=-1)]: Done  94 tasks      | elapsed: 76.0min\n",
            "[Parallel(n_jobs=-1)]: Done 109 tasks      | elapsed: 84.2min\n",
            "[Parallel(n_jobs=-1)]: Done 124 tasks      | elapsed: 96.2min\n",
            "[Parallel(n_jobs=-1)]: Done 141 tasks      | elapsed: 105.2min\n",
            "[Parallel(n_jobs=-1)]: Done 158 tasks      | elapsed: 117.0min\n",
            "[Parallel(n_jobs=-1)]: Done 177 tasks      | elapsed: 152.5min\n",
            "[Parallel(n_jobs=-1)]: Done 196 tasks      | elapsed: 170.5min\n",
            "[Parallel(n_jobs=-1)]: Done 217 tasks      | elapsed: 203.4min\n",
            "[Parallel(n_jobs=-1)]: Done 238 tasks      | elapsed: 236.9min\n",
            "[Parallel(n_jobs=-1)]: Done 261 tasks      | elapsed: 260.9min\n",
            "[Parallel(n_jobs=-1)]: Done 284 tasks      | elapsed: 284.4min\n",
            "[Parallel(n_jobs=-1)]: Done 300 out of 300 | elapsed: 306.8min finished\n"
          ],
          "name": "stderr"
        },
        {
          "output_type": "stream",
          "text": [
            "[Pipeline] ............. (step 1 of 2) Processing scale, total=   1.7s\n",
            "[Pipeline] ................ (step 2 of 2) Processing rf, total=  57.2s\n",
            "{'rf__bootstrap': True, 'rf__min_impurity_decrease': 0.0001, 'rf__n_estimators': 30}\n",
            "-0.051883462787662114\n",
            "{'mean_fit_time': array([ 37.41037881, 106.48005285, 176.66700032,  34.43511658,\n",
            "        97.84750345, 160.38418941,  32.51820221,  92.90920942,\n",
            "       155.58810871,  28.15670869,  80.77894983, 132.71200304,\n",
            "        24.71310699,  68.82722774, 112.80238674,  63.21122918,\n",
            "       178.44239843, 293.89306531,  57.1194845 , 163.39073746,\n",
            "       281.35070131,  57.61378758, 167.59716959, 273.95390506,\n",
            "        48.21097264, 140.39411359, 235.55724647,  41.07948866,\n",
            "       119.13409047, 196.75952127]), 'std_fit_time': array([0.34073548, 0.55367524, 1.25640648, 0.32825324, 0.88548997,\n",
            "       0.95288387, 0.36530926, 1.39886607, 1.55394641, 0.41947354,\n",
            "       1.04162012, 1.34772929, 0.31539315, 0.94090691, 0.75545179,\n",
            "       0.91861478, 1.89514745, 6.85197525, 0.86274572, 1.19130447,\n",
            "       3.87679105, 0.75660384, 1.72487776, 2.21242784, 0.4314218 ,\n",
            "       0.70549174, 1.68600963, 0.30446337, 0.49397777, 3.23915043]), 'mean_score_time': array([0.09347646, 0.13458564, 0.18362448, 0.09433339, 0.1208185 ,\n",
            "       0.15687363, 0.09068139, 0.12051644, 0.15448012, 0.09590743,\n",
            "       0.11150181, 0.13204491, 0.08081567, 0.09184139, 0.10954876,\n",
            "       0.10571222, 0.13989046, 0.16669593, 0.09278023, 0.12569559,\n",
            "       0.15015514, 0.09278276, 0.12691813, 0.14789217, 0.09041982,\n",
            "       0.11136701, 0.13238702, 0.08839335, 0.10451388, 0.11709006]), 'std_score_time': array([0.01013048, 0.01411271, 0.02976384, 0.01715218, 0.01561352,\n",
            "       0.02111989, 0.00855831, 0.0136695 , 0.01614522, 0.01173338,\n",
            "       0.01004153, 0.01511703, 0.01071553, 0.01262886, 0.01257409,\n",
            "       0.01307632, 0.01472431, 0.01772638, 0.0080376 , 0.02701126,\n",
            "       0.01977605, 0.01443313, 0.01382429, 0.00790553, 0.0053811 ,\n",
            "       0.00400726, 0.00761989, 0.00320693, 0.0057895 , 0.01401928]), 'param_rf__bootstrap': masked_array(data=[True, True, True, True, True, True, True, True, True,\n",
            "                   True, True, True, True, True, True, False, False,\n",
            "                   False, False, False, False, False, False, False, False,\n",
            "                   False, False, False, False, False],\n",
            "             mask=[False, False, False, False, False, False, False, False,\n",
            "                   False, False, False, False, False, False, False, False,\n",
            "                   False, False, False, False, False, False, False, False,\n",
            "                   False, False, False, False, False, False],\n",
            "       fill_value='?',\n",
            "            dtype=object), 'param_rf__min_impurity_decrease': masked_array(data=[0.0001, 0.0001, 0.0001, 0.0005, 0.0005, 0.0005, 0.001,\n",
            "                   0.001, 0.001, 0.005, 0.005, 0.005, 0.01, 0.01, 0.01,\n",
            "                   0.0001, 0.0001, 0.0001, 0.0005, 0.0005, 0.0005, 0.001,\n",
            "                   0.001, 0.001, 0.005, 0.005, 0.005, 0.01, 0.01, 0.01],\n",
            "             mask=[False, False, False, False, False, False, False, False,\n",
            "                   False, False, False, False, False, False, False, False,\n",
            "                   False, False, False, False, False, False, False, False,\n",
            "                   False, False, False, False, False, False],\n",
            "       fill_value='?',\n",
            "            dtype=object), 'param_rf__n_estimators': masked_array(data=[10, 30, 50, 10, 30, 50, 10, 30, 50, 10, 30, 50, 10, 30,\n",
            "                   50, 10, 30, 50, 10, 30, 50, 10, 30, 50, 10, 30, 50, 10,\n",
            "                   30, 50],\n",
            "             mask=[False, False, False, False, False, False, False, False,\n",
            "                   False, False, False, False, False, False, False, False,\n",
            "                   False, False, False, False, False, False, False, False,\n",
            "                   False, False, False, False, False, False],\n",
            "       fill_value='?',\n",
            "            dtype=object), 'params': [{'rf__bootstrap': True, 'rf__min_impurity_decrease': 0.0001, 'rf__n_estimators': 10}, {'rf__bootstrap': True, 'rf__min_impurity_decrease': 0.0001, 'rf__n_estimators': 30}, {'rf__bootstrap': True, 'rf__min_impurity_decrease': 0.0001, 'rf__n_estimators': 50}, {'rf__bootstrap': True, 'rf__min_impurity_decrease': 0.0005, 'rf__n_estimators': 10}, {'rf__bootstrap': True, 'rf__min_impurity_decrease': 0.0005, 'rf__n_estimators': 30}, {'rf__bootstrap': True, 'rf__min_impurity_decrease': 0.0005, 'rf__n_estimators': 50}, {'rf__bootstrap': True, 'rf__min_impurity_decrease': 0.001, 'rf__n_estimators': 10}, {'rf__bootstrap': True, 'rf__min_impurity_decrease': 0.001, 'rf__n_estimators': 30}, {'rf__bootstrap': True, 'rf__min_impurity_decrease': 0.001, 'rf__n_estimators': 50}, {'rf__bootstrap': True, 'rf__min_impurity_decrease': 0.005, 'rf__n_estimators': 10}, {'rf__bootstrap': True, 'rf__min_impurity_decrease': 0.005, 'rf__n_estimators': 30}, {'rf__bootstrap': True, 'rf__min_impurity_decrease': 0.005, 'rf__n_estimators': 50}, {'rf__bootstrap': True, 'rf__min_impurity_decrease': 0.01, 'rf__n_estimators': 10}, {'rf__bootstrap': True, 'rf__min_impurity_decrease': 0.01, 'rf__n_estimators': 30}, {'rf__bootstrap': True, 'rf__min_impurity_decrease': 0.01, 'rf__n_estimators': 50}, {'rf__bootstrap': False, 'rf__min_impurity_decrease': 0.0001, 'rf__n_estimators': 10}, {'rf__bootstrap': False, 'rf__min_impurity_decrease': 0.0001, 'rf__n_estimators': 30}, {'rf__bootstrap': False, 'rf__min_impurity_decrease': 0.0001, 'rf__n_estimators': 50}, {'rf__bootstrap': False, 'rf__min_impurity_decrease': 0.0005, 'rf__n_estimators': 10}, {'rf__bootstrap': False, 'rf__min_impurity_decrease': 0.0005, 'rf__n_estimators': 30}, {'rf__bootstrap': False, 'rf__min_impurity_decrease': 0.0005, 'rf__n_estimators': 50}, {'rf__bootstrap': False, 'rf__min_impurity_decrease': 0.001, 'rf__n_estimators': 10}, {'rf__bootstrap': False, 'rf__min_impurity_decrease': 0.001, 'rf__n_estimators': 30}, {'rf__bootstrap': False, 'rf__min_impurity_decrease': 0.001, 'rf__n_estimators': 50}, {'rf__bootstrap': False, 'rf__min_impurity_decrease': 0.005, 'rf__n_estimators': 10}, {'rf__bootstrap': False, 'rf__min_impurity_decrease': 0.005, 'rf__n_estimators': 30}, {'rf__bootstrap': False, 'rf__min_impurity_decrease': 0.005, 'rf__n_estimators': 50}, {'rf__bootstrap': False, 'rf__min_impurity_decrease': 0.01, 'rf__n_estimators': 10}, {'rf__bootstrap': False, 'rf__min_impurity_decrease': 0.01, 'rf__n_estimators': 30}, {'rf__bootstrap': False, 'rf__min_impurity_decrease': 0.01, 'rf__n_estimators': 50}], 'split0_test_score': array([-0.0532432 , -0.05263475, -0.0526126 , -0.06544689, -0.06421294,\n",
            "       -0.06393449, -0.07542052, -0.07475644, -0.07454723, -0.10444698,\n",
            "       -0.10391695, -0.10380091, -0.12456207, -0.1242756 , -0.12438829,\n",
            "       -0.05618093, -0.05618093, -0.05618093, -0.06746324, -0.06746324,\n",
            "       -0.06746324, -0.07799093, -0.07799093, -0.07799093, -0.10504278,\n",
            "       -0.10504278, -0.10504278, -0.12456896, -0.12456896, -0.12456896]), 'split1_test_score': array([-0.05109721, -0.05078199, -0.05073805, -0.06314537, -0.06270063,\n",
            "       -0.06259357, -0.07234879, -0.07256744, -0.0727833 , -0.10124636,\n",
            "       -0.10089588, -0.10108896, -0.12316397, -0.12259522, -0.12281319,\n",
            "       -0.05419199, -0.05419199, -0.05419199, -0.06722564, -0.06722564,\n",
            "       -0.06722564, -0.07659878, -0.07659878, -0.07659878, -0.10271042,\n",
            "       -0.10271042, -0.10271042, -0.12316306, -0.12316306, -0.12316306]), 'split2_test_score': array([-0.05107638, -0.05088081, -0.05090593, -0.06192788, -0.06208479,\n",
            "       -0.06198812, -0.07282321, -0.07315874, -0.0734355 , -0.10297226,\n",
            "       -0.10350295, -0.10368615, -0.12354878, -0.12412167, -0.12424752,\n",
            "       -0.05374948, -0.05374948, -0.05374948, -0.0652981 , -0.0652981 ,\n",
            "       -0.0652981 , -0.07751535, -0.07751535, -0.07751535, -0.10492518,\n",
            "       -0.10492518, -0.10492518, -0.12444477, -0.12444477, -0.12444477]), 'split3_test_score': array([-0.05166153, -0.05137892, -0.05140728, -0.06302079, -0.06296732,\n",
            "       -0.06280681, -0.07241288, -0.07269001, -0.07290485, -0.10246517,\n",
            "       -0.10272096, -0.10285398, -0.12180251, -0.12208254, -0.12232352,\n",
            "       -0.05457011, -0.05457011, -0.05457011, -0.06649534, -0.06649534,\n",
            "       -0.06649534, -0.07492753, -0.07492753, -0.07492753, -0.10428288,\n",
            "       -0.10428288, -0.10428288, -0.12270943, -0.12270943, -0.12270943]), 'split4_test_score': array([-0.05423434, -0.05395204, -0.0539385 , -0.06619313, -0.06606054,\n",
            "       -0.06600565, -0.07741196, -0.07717023, -0.07735089, -0.10567211,\n",
            "       -0.10564128, -0.10561869, -0.12457486, -0.1245724 , -0.12457293,\n",
            "       -0.05715961, -0.05715961, -0.05715961, -0.06848819, -0.06848819,\n",
            "       -0.06848819, -0.08016474, -0.08016474, -0.08016474, -0.1066029 ,\n",
            "       -0.1066029 , -0.1066029 , -0.12456994, -0.12456994, -0.12456994]), 'split5_test_score': array([-0.05225632, -0.05193141, -0.0520303 , -0.06363387, -0.06366632,\n",
            "       -0.06379961, -0.07447816, -0.07452369, -0.07486027, -0.10363318,\n",
            "       -0.10372399, -0.10399455, -0.12500019, -0.12525385, -0.12547115,\n",
            "       -0.05546517, -0.05546517, -0.05546517, -0.06704144, -0.06704144,\n",
            "       -0.06704144, -0.07810181, -0.07810181, -0.07810181, -0.10534082,\n",
            "       -0.10534082, -0.10534082, -0.12582486, -0.12582486, -0.12582486]), 'split6_test_score': array([-0.05121815, -0.05116921, -0.05124394, -0.0631286 , -0.06312314,\n",
            "       -0.06321693, -0.07339269, -0.07316131, -0.07335631, -0.10322664,\n",
            "       -0.10297188, -0.103425  , -0.12327894, -0.12383158, -0.12395459,\n",
            "       -0.05434645, -0.05434645, -0.05434645, -0.06629567, -0.06629567,\n",
            "       -0.06629567, -0.07588471, -0.07588471, -0.07588471, -0.10496439,\n",
            "       -0.10496439, -0.10496439, -0.12414158, -0.12414158, -0.12414158]), 'split7_test_score': array([-0.05284536, -0.05271562, -0.05266634, -0.06430244, -0.06412877,\n",
            "       -0.06421438, -0.07426919, -0.074418  , -0.07446947, -0.10522012,\n",
            "       -0.10518276, -0.10520734, -0.12575137, -0.12575226, -0.12575241,\n",
            "       -0.05616169, -0.05616169, -0.05616169, -0.06709922, -0.06709922,\n",
            "       -0.06709922, -0.07659153, -0.07659153, -0.07659153, -0.10618099,\n",
            "       -0.10618099, -0.10618099, -0.12575151, -0.12575151, -0.12575151]), 'split8_test_score': array([-0.05329758, -0.05295088, -0.05300692, -0.06563131, -0.0651    ,\n",
            "       -0.06516832, -0.07671234, -0.07649011, -0.07672089, -0.1061293 ,\n",
            "       -0.1059255 , -0.10608629, -0.12620777, -0.12620718, -0.12620677,\n",
            "       -0.0567303 , -0.0567303 , -0.0567303 , -0.06735485, -0.06735485,\n",
            "       -0.06735485, -0.07936941, -0.07936941, -0.07936941, -0.10704054,\n",
            "       -0.10704054, -0.10704054, -0.12621371, -0.12621371, -0.12621371]), 'split9_test_score': array([-0.05097619, -0.05043899, -0.05046559, -0.06265829, -0.06211052,\n",
            "       -0.06210835, -0.07238094, -0.07215072, -0.07233757, -0.10030478,\n",
            "       -0.09996213, -0.10003671, -0.12062043, -0.12062309, -0.12062302,\n",
            "       -0.05353867, -0.05353867, -0.05353867, -0.06577269, -0.06577269,\n",
            "       -0.06577269, -0.07540717, -0.07540717, -0.07540717, -0.10107372,\n",
            "       -0.10107372, -0.10107372, -0.12062221, -0.12062221, -0.12062221]), 'mean_test_score': array([-0.05219063, -0.05188346, -0.05190154, -0.06390886, -0.0636155 ,\n",
            "       -0.06358362, -0.07416507, -0.07410867, -0.07427663, -0.10353169,\n",
            "       -0.10344443, -0.10357986, -0.12385109, -0.12393154, -0.12403534,\n",
            "       -0.05520944, -0.05520944, -0.05520944, -0.06685344, -0.06685344,\n",
            "       -0.06685344, -0.0772552 , -0.0772552 , -0.0772552 , -0.10481646,\n",
            "       -0.10481646, -0.10481646, -0.124201  , -0.124201  , -0.124201  ]), 'std_test_score': array([0.00109912, 0.00108385, 0.00107526, 0.0013509 , 0.00122117,\n",
            "       0.00124037, 0.00175115, 0.00160479, 0.00159068, 0.00179463,\n",
            "       0.00183512, 0.00180636, 0.00164437, 0.00164218, 0.00162043,\n",
            "       0.0012306 , 0.0012306 , 0.0012306 , 0.00086928, 0.00086928,\n",
            "       0.00086928, 0.0016076 , 0.0016076 , 0.0016076 , 0.00170552,\n",
            "       0.00170552, 0.00170552, 0.00159801, 0.00159801, 0.00159801]), 'rank_test_score': array([ 3,  1,  2,  9,  8,  7, 14, 13, 15, 20, 19, 21, 25, 26, 27,  5,  4,\n",
            "        5, 10, 10, 10, 16, 16, 16, 23, 23, 22, 28, 30, 29], dtype=int32)}\n",
            "0.0518881635649915\n"
          ],
          "name": "stdout"
        }
      ]
    },
    {
      "cell_type": "code",
      "metadata": {
        "colab_type": "code",
        "id": "3tNwuDhJ_W-I",
        "outputId": "52d4916e-2674-41f9-bcd7-89d457ac2f43",
        "colab": {
          "base_uri": "https://localhost:8080/",
          "height": 84
        }
      },
      "source": [
        "print(10**y_test)\n",
        "print(10**y_pred)\n",
        "print(mean_squared_error(10**y_test,10**y_pred))"
      ],
      "execution_count": 0,
      "outputs": [
        {
          "output_type": "stream",
          "text": [
            "[ 1300. 10900.  8200. ... 12800.  7500.  3500.]\n",
            "[ 1265.43811211 12702.14321607 11480.64955407 ... 11424.76961623\n",
            "  4190.00020888  4743.35182132]\n",
            "68681187.02017733\n"
          ],
          "name": "stdout"
        }
      ]
    },
    {
      "cell_type": "code",
      "metadata": {
        "colab_type": "code",
        "id": "q8Oz_LxZBdi0",
        "colab": {}
      },
      "source": [
        "##runtime crashed, copying result from above:\n",
        "\n",
        "mean_scores = np.array([-0.05219063, -0.05188346, -0.05190154, -0.06390886, -0.0636155 ,\n",
        "       -0.06358362, -0.07416507, -0.07410867, -0.07427663, -0.10353169,\n",
        "       -0.10344443, -0.10357986, -0.12385109, -0.12393154, -0.12403534,\n",
        "       -0.05520944, -0.05520944, -0.05520944, -0.06685344, -0.06685344,\n",
        "       -0.06685344, -0.0772552 , -0.0772552 , -0.0772552 , -0.10481646,\n",
        "       -0.10481646, -0.10481646, -0.124201  , -0.124201  , -0.124201  ]).reshape(2,5,3)"
      ],
      "execution_count": 0,
      "outputs": []
    },
    {
      "cell_type": "code",
      "metadata": {
        "colab_type": "code",
        "id": "CLk8fjTkEZ7O",
        "outputId": "b154da7f-1615-452c-dd7c-6dfcfacd516b",
        "colab": {
          "base_uri": "https://localhost:8080/",
          "height": 295
        }
      },
      "source": [
        "grid_param = dict(rf__n_estimators=[10, 30, 50],\n",
        "                  rf__min_impurity_decrease=[0.0001, 0.0005, 0.001, 0.005, 0.01],\n",
        "                  rf__bootstrap=[True,False])\n",
        "plt.plot(grid_param['rf__min_impurity_decrease'], mean_scores[0,:,0],\n",
        "         grid_param['rf__min_impurity_decrease'], mean_scores[0,:,1],\n",
        "         grid_param['rf__min_impurity_decrease'], mean_scores[0,:,2],\n",
        "         grid_param['rf__min_impurity_decrease'], mean_scores[1,:,0],\n",
        "         grid_param['rf__min_impurity_decrease'], mean_scores[1,:,1],\n",
        "         grid_param['rf__min_impurity_decrease'], mean_scores[1,:,2]\n",
        "         )\n",
        "plt.ylabel('Validation MSE (log-scale)')\n",
        "plt.xlabel('Minimum Impurity Decrease')\n",
        "plt.title('Mean Validation Scores of Random Forest')\n",
        "plt.legend(('Bootstrap True|10 estimators', 'Bootstrap True|30 estimators', 'Bootstrap True|50 estimators', 'Bootstrap False|10 estimators', 'Bootstrap False|30 estimators', 'Bootstrap False|50 estimators'))\n",
        "plt.show()"
      ],
      "execution_count": 0,
      "outputs": [
        {
          "output_type": "display_data",
          "data": {
            "image/png": "[encoded data removed]",
            "text/plain": [
              "<Figure size 432x288 with 1 Axes>"
            ]
          },
          "metadata": {
            "tags": [],
            "needs_background": "light"
          }
        }
      ]
    },
    {
      "cell_type": "markdown",
      "metadata": {
        "id": "rQ_id4p7wSwH",
        "colab_type": "text"
      },
      "source": [
        "#3. Principal Component Analysis"
      ]
    },
    {
      "cell_type": "markdown",
      "metadata": {
        "colab_type": "text",
        "id": "XBd9LzGacmdo"
      },
      "source": [
        "##Initial modelling to determine # of components"
      ]
    },
    {
      "cell_type": "code",
      "metadata": {
        "colab_type": "code",
        "id": "vYOtNf0-NJVW",
        "colab": {}
      },
      "source": [
        "#Linear PCA\n",
        "\n",
        "import numpy as np\n",
        "import matplotlib.pyplot as plt\n",
        "import pandas as pd\n",
        "\n",
        "#Loading the dataset\n",
        "try:\n",
        "  dataset = pd.read_csv('drive/My Drive/processed.csv')\n",
        "except:\n",
        "  dataset = pd.read_csv('processed.csv')\n",
        "\n",
        "# print(dataset)\n",
        "\n",
        "X = dataset.iloc[:,2:].values #We are not using column 1. Also we slice it this way because we want X to be a matrix\n",
        "y = dataset.iloc[:,1].values\n",
        "\n",
        "#Splitting the data into Training Set and Test Set\n",
        "from sklearn.model_selection import train_test_split\n",
        "X_train, X_test, y_train, y_test = train_test_split(X,y,test_size=0.3,random_state=0)"
      ],
      "execution_count": 0,
      "outputs": []
    },
    {
      "cell_type": "code",
      "metadata": {
        "colab_type": "code",
        "id": "jiHKuDzcNQYx",
        "colab": {}
      },
      "source": [
        "# Import required libraries for PCA\n",
        "from sklearn.preprocessing import StandardScaler\n",
        "from sklearn.decomposition import PCA\n",
        "\n",
        "#Normalizing the features\n",
        "sc_X = StandardScaler()\n",
        "X_train = sc_X.fit_transform(X_train)\n",
        "X_test = sc_X.transform(X_test)\n",
        "\n",
        "#Linear PCA\n",
        "PCAObj = PCA(n_components=None, random_state=42)\n",
        "X_train = PCAObj.fit_transform(X_train)\n",
        "X_test = PCAObj.transform(X_test)\n",
        "\n"
      ],
      "execution_count": 0,
      "outputs": []
    },
    {
      "cell_type": "code",
      "metadata": {
        "colab_type": "code",
        "id": "wFxS4kBCVbRB",
        "outputId": "601277a2-1fd2-45c4-8ed3-123d802740b8",
        "colab": {
          "base_uri": "https://localhost:8080/",
          "height": 731
        }
      },
      "source": [
        "# Define cumulative explained variance ratio\n",
        "total_variance = np.cumsum(PCAObj.explained_variance_ratio_)\n",
        "\n",
        "# Show when total_variance is 0.95 using a plot\n",
        "plt.figure(1, figsize=[16,12])\n",
        "plot1 = plt.subplot(211)\n",
        "plt.plot(PCAObj.explained_variance_ratio_, c='red')\n",
        "plt.xlabel('Number of components')\n",
        "plt.ylabel('Explained variance ratio')\n",
        "\n",
        "plot2 = plt.subplot(212)\n",
        "plt.plot(total_variance, c='blue')\n",
        "plt.xlabel('Number of components')\n",
        "plt.ylabel('Total explained variance')\n",
        "# Look for where cumulative explained variance is 0.95\n",
        "expl_95_index = np.where((total_variance > 0.949) & (total_variance < 0.951))[0][0]\n",
        "print('Number of components with 0.95 cumulative variance: ', expl_95_index)\n",
        "plt.hlines(0.95, 0, len(total_variance), linestyles='dashed', color='green')\n",
        "plt.vlines(expl_95_index, 0, 1, linestyles='dashed')\n",
        "plot1.vlines(expl_95_index, 0, np.max(PCAObj.explained_variance_ratio_), linestyles='dashed')\n",
        "plt.text(0, 0.95-0.05, 'y = 0.95', color='green')\n",
        "plt.text(expl_95_index+2, 0, 'x = '+str(expl_95_index))\n",
        "\n",
        "plt.show()"
      ],
      "execution_count": 0,
      "outputs": [
        {
          "output_type": "stream",
          "text": [
            "Number of components with 0.95 cumulative variance:  249\n"
          ],
          "name": "stdout"
        },
        {
          "output_type": "display_data",
          "data": {
            "image/png": "[encoded data removed]",
            "text/plain": [
              "<Figure size 1152x864 with 2 Axes>"
            ]
          },
          "metadata": {
            "tags": [],
            "needs_background": "light"
          }
        }
      ]
    },
    {
      "cell_type": "markdown",
      "metadata": {
        "colab_type": "text",
        "id": "TfiGmtkhcLrV"
      },
      "source": [
        "## Clear variables except the index to \"reset\" the runtime"
      ]
    },
    {
      "cell_type": "code",
      "metadata": {
        "colab_type": "code",
        "id": "l5SXVPVSbdJc",
        "colab": {}
      },
      "source": [
        "%reset_selective -f ^(?!expl_95_index).*$ "
      ],
      "execution_count": 0,
      "outputs": []
    },
    {
      "cell_type": "markdown",
      "metadata": {
        "colab_type": "text",
        "id": "fi1i9NXzc_Fp"
      },
      "source": [
        "## Run PCA + Linear Regression with the # of components from above"
      ]
    },
    {
      "cell_type": "code",
      "metadata": {
        "colab_type": "code",
        "id": "0E0YGuYyd7EW",
        "colab": {}
      },
      "source": [
        "#Linear PCA\n",
        "\n",
        "import numpy as np\n",
        "import matplotlib.pyplot as plt\n",
        "import pandas as pd\n",
        "\n",
        "#Loading the dataset\n",
        "try:\n",
        "  dataset = pd.read_csv('drive/My Drive/processed.csv')\n",
        "except:\n",
        "  dataset = pd.read_csv('processed.csv')\n",
        "\n",
        "# print(dataset)\n",
        "\n",
        "X = dataset.iloc[:,2:].values #We are not using column 1. Also we slice it this way because we want X to be a matrix\n",
        "y = dataset.iloc[:,1].values\n",
        "\n",
        "#Splitting the data into Training Set and Test Set\n",
        "from sklearn.model_selection import train_test_split\n",
        "X_train, X_test, y_train, y_test = train_test_split(X,y,test_size=0.3,random_state=0)"
      ],
      "execution_count": 0,
      "outputs": []
    },
    {
      "cell_type": "code",
      "metadata": {
        "colab_type": "code",
        "id": "4ZewHcIFO8rz",
        "outputId": "78262bf4-45cf-4fb7-dae3-e76ac949d23b",
        "colab": {
          "base_uri": "https://localhost:8080/",
          "height": 67
        }
      },
      "source": [
        "# Import required libraries for making a PCA pipeline\n",
        "from sklearn.preprocessing import StandardScaler\n",
        "from sklearn.decomposition import PCA\n",
        "from sklearn.linear_model import LinearRegression\n",
        "from sklearn.metrics import mean_squared_error\n",
        "from sklearn.pipeline import Pipeline\n",
        "\n",
        "# Pipeline for predicting the target\n",
        "LR_PCA_pipeline = Pipeline([\n",
        "                    ('scale', StandardScaler()), \n",
        "                    ('PCA', PCA(n_components=expl_95_index, random_state=0)),\n",
        "                    ('LR', LinearRegression())\n",
        "                     ], verbose=True)\n",
        "\n",
        "LR_PCA_pipeline.fit(X_train, y_train)\n",
        "y_pred = LR_PCA_pipeline.predict(X_test)"
      ],
      "execution_count": 0,
      "outputs": [
        {
          "output_type": "stream",
          "text": [
            "[Pipeline] ............. (step 1 of 3) Processing scale, total=   1.3s\n",
            "[Pipeline] ............... (step 2 of 3) Processing PCA, total=   5.9s\n",
            "[Pipeline] ................ (step 3 of 3) Processing LR, total=   2.7s\n"
          ],
          "name": "stdout"
        }
      ]
    },
    {
      "cell_type": "code",
      "metadata": {
        "colab_type": "code",
        "id": "zW8xw_fgex9L",
        "outputId": "c5a7bedc-694b-4c54-dcf4-a0c392ac53d0",
        "colab": {
          "base_uri": "https://localhost:8080/",
          "height": 84
        }
      },
      "source": [
        "# Evaluating the model\n",
        "print(mean_squared_error(y_test, y_pred))\n",
        "\n",
        "print(y_test)\n",
        "print(y_pred)\n",
        "print(mean_squared_error(10**y_test, 10**y_pred))"
      ],
      "execution_count": 0,
      "outputs": [
        {
          "output_type": "stream",
          "text": [
            "0.0842831499245702\n",
            "[3.11394335 4.0374265  3.91381385 ... 4.10720997 3.87506126 3.54406804]\n",
            "[2.8640125  3.9968724  3.78759324 ... 4.2347028  4.19279379 3.39635238]\n",
            "91037812.76960085\n"
          ],
          "name": "stdout"
        }
      ]
    },
    {
      "cell_type": "code",
      "metadata": {
        "colab_type": "code",
        "id": "Dj8dTWPSvAU_",
        "colab": {}
      },
      "source": [
        "%reset_selective -f ^(?!expl_95_index).*$ "
      ],
      "execution_count": 0,
      "outputs": []
    },
    {
      "cell_type": "markdown",
      "metadata": {
        "colab_type": "text",
        "id": "HSxPyw_KvAVB"
      },
      "source": [
        "## Run PCA + Decision Tree Regression with the # of components from above"
      ]
    },
    {
      "cell_type": "code",
      "metadata": {
        "colab_type": "code",
        "id": "tPyACMfOvAVB",
        "colab": {}
      },
      "source": [
        "#PCA Decision Tree\n",
        "\n",
        "import numpy as np\n",
        "import matplotlib.pyplot as plt\n",
        "import pandas as pd\n",
        "\n",
        "#Loading the dataset\n",
        "try:\n",
        "  dataset = pd.read_csv('drive/My Drive/processed.csv')\n",
        "except:\n",
        "  dataset = pd.read_csv('processed.csv')\n",
        "\n",
        "# print(dataset)\n",
        "\n",
        "X = dataset.iloc[:,2:].values #We are not using column 1. Also we slice it this way because we want X to be a matrix\n",
        "y = dataset.iloc[:,1].values\n",
        "\n",
        "#Splitting the data into Training Set and Test Set\n",
        "from sklearn.model_selection import train_test_split\n",
        "X_train, X_test, y_train, y_test = train_test_split(X,y,test_size=0.3,random_state=0)"
      ],
      "execution_count": 0,
      "outputs": []
    },
    {
      "cell_type": "code",
      "metadata": {
        "colab_type": "code",
        "outputId": "f28fe20c-1c23-43a3-bb75-1a4a5613c3a6",
        "id": "NF7S4e1HvAVD",
        "colab": {
          "base_uri": "https://localhost:8080/",
          "height": 221
        }
      },
      "source": [
        "# Import required libraries for making a PCA pipeline\n",
        "from sklearn.preprocessing import StandardScaler\n",
        "from sklearn.decomposition import PCA\n",
        "from sklearn.tree import DecisionTreeRegressor\n",
        "from sklearn.metrics import mean_squared_error\n",
        "from sklearn.pipeline import Pipeline\n",
        "from sklearn.model_selection import GridSearchCV\n",
        "\n",
        "# Pipeline for predicting the target\n",
        "DT_PCA_pipeline = Pipeline([\n",
        "                    ('scale', StandardScaler()), \n",
        "                    ('PCA', PCA(n_components=expl_95_index, random_state=0)),\n",
        "                    ('decision_tree', DecisionTreeRegressor(random_state=0))\n",
        "                     ], verbose=True)\n",
        "\n",
        "grid_param = dict(decision_tree__min_samples_leaf=[1,2,4,8,16])\n",
        "searchObj = GridSearchCV(DT_PCA_pipeline, grid_param, cv=10, scoring='neg_mean_squared_error', n_jobs=-1, verbose=10)\n",
        "searchObj.fit(X_train, y_train)\n",
        "y_pred = searchObj.predict(X_test)"
      ],
      "execution_count": 0,
      "outputs": [
        {
          "output_type": "stream",
          "text": [
            "Fitting 10 folds for each of 5 candidates, totalling 50 fits\n"
          ],
          "name": "stdout"
        },
        {
          "output_type": "stream",
          "text": [
            "[Parallel(n_jobs=-1)]: Using backend LokyBackend with 4 concurrent workers.\n",
            "[Parallel(n_jobs=-1)]: Done   5 tasks      | elapsed:  5.1min\n",
            "[Parallel(n_jobs=-1)]: Done  10 tasks      | elapsed:  7.6min\n",
            "[Parallel(n_jobs=-1)]: Done  17 tasks      | elapsed: 12.3min\n",
            "[Parallel(n_jobs=-1)]: Done  24 tasks      | elapsed: 14.7min\n",
            "[Parallel(n_jobs=-1)]: Done  33 tasks      | elapsed: 21.4min\n",
            "[Parallel(n_jobs=-1)]: Done  42 tasks      | elapsed: 25.8min\n",
            "[Parallel(n_jobs=-1)]: Done  50 out of  50 | elapsed: 29.3min finished\n"
          ],
          "name": "stderr"
        },
        {
          "output_type": "stream",
          "text": [
            "[Pipeline] ............. (step 1 of 3) Processing scale, total=   1.9s\n",
            "[Pipeline] ............... (step 2 of 3) Processing PCA, total=   7.2s\n",
            "[Pipeline] ..... (step 3 of 3) Processing decision_tree, total= 1.3min\n"
          ],
          "name": "stdout"
        }
      ]
    },
    {
      "cell_type": "code",
      "metadata": {
        "colab_type": "code",
        "outputId": "eebf10e0-10b5-4257-d267-cf4bb68a3b3c",
        "id": "cy9fmw9-vAVF",
        "colab": {
          "base_uri": "https://localhost:8080/",
          "height": 102
        }
      },
      "source": [
        "# Evaluating the model\n",
        "print(searchObj.best_params_)\n",
        "print(mean_squared_error(y_test, y_pred))\n",
        "\n",
        "print(y_test)\n",
        "print(y_pred)\n",
        "print(mean_squared_error(10**y_test, 10**y_pred))"
      ],
      "execution_count": 0,
      "outputs": [
        {
          "output_type": "stream",
          "text": [
            "{'decision_tree__min_samples_leaf': 16}\n",
            "0.05195000127555629\n",
            "[3.11394335 4.0374265  3.91381385 ... 4.10720997 3.87506126 3.54406804]\n",
            "[2.75767368 4.09654937 3.99312031 ... 4.11181464 4.04346161 3.58125818]\n",
            "59790124.6732731\n"
          ],
          "name": "stdout"
        }
      ]
    },
    {
      "cell_type": "markdown",
      "metadata": {
        "colab_type": "text",
        "id": "yXOBY0N6vAVO"
      },
      "source": [
        "## Run PCA + Random Forest Regression with the # of components from above"
      ]
    },
    {
      "cell_type": "code",
      "metadata": {
        "colab_type": "code",
        "id": "PV_AKkmFvAVO",
        "colab": {}
      },
      "source": [
        "# PCA Random Forest\n",
        "\n",
        "import numpy as np\n",
        "import matplotlib.pyplot as plt\n",
        "import pandas as pd\n",
        "\n",
        "#Loading the dataset\n",
        "try:\n",
        "  dataset = pd.read_csv('drive/My Drive/processed.csv')\n",
        "except:\n",
        "  dataset = pd.read_csv('processed.csv')\n",
        "\n",
        "# print(dataset)\n",
        "\n",
        "X = dataset.iloc[:,2:].values #We are not using column 1. Also we slice it this way because we want X to be a matrix\n",
        "y = dataset.iloc[:,1].values\n",
        "\n",
        "#Splitting the data into Training Set and Test Set\n",
        "from sklearn.model_selection import train_test_split\n",
        "X_train, X_test, y_train, y_test = train_test_split(X,y,test_size=0.3,random_state=0)"
      ],
      "execution_count": 0,
      "outputs": []
    },
    {
      "cell_type": "code",
      "metadata": {
        "colab_type": "code",
        "outputId": "acd1a692-7ead-4194-d830-1c66dfa8262d",
        "id": "uOcJhekevAVR",
        "colab": {
          "base_uri": "https://localhost:8080/",
          "height": 238
        }
      },
      "source": [
        "# Import required libraries for making a PCA pipeline\n",
        "from sklearn.preprocessing import StandardScaler\n",
        "from sklearn.decomposition import PCA\n",
        "from sklearn.ensemble import RandomForestRegressor\n",
        "from sklearn.metrics import mean_squared_error\n",
        "from sklearn.pipeline import Pipeline\n",
        "from sklearn.model_selection import GridSearchCV\n",
        "\n",
        "# Pipeline for predicting the target\n",
        "RF_PCA_pipeline = Pipeline([\n",
        "                    ('scale', StandardScaler()), \n",
        "                    ('PCA', PCA(n_components=expl_95_index, random_state=0)),\n",
        "                    ('random_forest', RandomForestRegressor(random_state=0, n_estimators=10))\n",
        "                     ], verbose=True)\n",
        "\n",
        "grid_param = dict(random_forest__min_samples_leaf=[1,2,4,8,16,32,64])\n",
        "searchObj = GridSearchCV(RF_PCA_pipeline, grid_param, cv=10, scoring='neg_mean_squared_error', n_jobs=-1, verbose=10)\n",
        "searchObj.fit(X_train, y_train)\n",
        "y_pred = searchObj.predict(X_test)"
      ],
      "execution_count": 0,
      "outputs": [
        {
          "output_type": "stream",
          "text": [
            "Fitting 10 folds for each of 7 candidates, totalling 70 fits\n"
          ],
          "name": "stdout"
        },
        {
          "output_type": "stream",
          "text": [
            "[Parallel(n_jobs=-1)]: Using backend LokyBackend with 4 concurrent workers.\n",
            "[Parallel(n_jobs=-1)]: Done   5 tasks      | elapsed: 28.8min\n",
            "[Parallel(n_jobs=-1)]: Done  10 tasks      | elapsed: 43.1min\n",
            "[Parallel(n_jobs=-1)]: Done  17 tasks      | elapsed: 70.4min\n",
            "[Parallel(n_jobs=-1)]: Done  24 tasks      | elapsed: 84.2min\n",
            "[Parallel(n_jobs=-1)]: Done  33 tasks      | elapsed: 121.7min\n",
            "[Parallel(n_jobs=-1)]: Done  42 tasks      | elapsed: 145.6min\n",
            "[Parallel(n_jobs=-1)]: Done  53 tasks      | elapsed: 177.9min\n",
            "[Parallel(n_jobs=-1)]: Done  70 out of  70 | elapsed: 214.8min finished\n"
          ],
          "name": "stderr"
        },
        {
          "output_type": "stream",
          "text": [
            "[Pipeline] ............. (step 1 of 3) Processing scale, total=   2.4s\n",
            "[Pipeline] ............... (step 2 of 3) Processing PCA, total=   6.9s\n",
            "[Pipeline] ..... (step 3 of 3) Processing random_forest, total= 9.8min\n"
          ],
          "name": "stdout"
        }
      ]
    },
    {
      "cell_type": "code",
      "metadata": {
        "colab_type": "code",
        "outputId": "bf9385dd-0499-4c02-8ff3-7011ffbe7654",
        "id": "pwPVKyTXvAVT",
        "colab": {
          "base_uri": "https://localhost:8080/",
          "height": 102
        }
      },
      "source": [
        "# Evaluating the model\n",
        "print(searchObj.best_params_)\n",
        "print(mean_squared_error(y_test, y_pred))\n",
        "\n",
        "print(y_test)\n",
        "print(y_pred)\n",
        "print(mean_squared_error(10**y_test, 10**y_pred))"
      ],
      "execution_count": 0,
      "outputs": [
        {
          "output_type": "stream",
          "text": [
            "{'random_forest__min_samples_leaf': 4}\n",
            "0.03994580883392388\n",
            "[3.11394335 4.0374265  3.91381385 ... 4.10720997 3.87506126 3.54406804]\n",
            "[2.80846738 4.11299933 3.97394404 ... 4.13821421 3.98940529 3.62429493]\n",
            "54557642.20787135\n"
          ],
          "name": "stdout"
        }
      ]
    },
    {
      "cell_type": "code",
      "metadata": {
        "colab_type": "code",
        "outputId": "447ef1ed-e82b-4b6e-a150-6071f8567af2",
        "id": "y2oF0vEPvAVW",
        "colab": {
          "base_uri": "https://localhost:8080/",
          "height": 279
        }
      },
      "source": [
        "plt.plot(grid_param['random_forest__min_samples_leaf'], searchObj.cv_results_['mean_test_score'],\n",
        "         )\n",
        "plt.ylabel('validation MSE (log-scale)')\n",
        "plt.xlabel('Random Forest Minimum Leaf Size')\n",
        "plt.show()"
      ],
      "execution_count": 0,
      "outputs": [
        {
          "output_type": "display_data",
          "data": {
            "image/png": "[encoded data removed]",
            "text/plain": [
              "<Figure size 432x288 with 1 Axes>"
            ]
          },
          "metadata": {
            "tags": [],
            "needs_background": "light"
          }
        }
      ]
    },
    {
      "cell_type": "code",
      "metadata": {
        "colab_type": "code",
        "id": "Lzp9CO_q0y8M",
        "outputId": "97ee7920-de5b-4fc0-8918-0ee08f195446",
        "colab": {
          "base_uri": "https://localhost:8080/",
          "height": 377
        }
      },
      "source": [
        "#store results for later by printing\n",
        "print(searchObj.cv_results_)"
      ],
      "execution_count": 0,
      "outputs": [
        {
          "output_type": "stream",
          "text": [
            "{'mean_fit_time': array([868.27028759, 829.42982767, 782.85304916, 735.92179899,\n",
            "       682.93900478, 628.19381087, 546.5219111 ]), 'std_fit_time': array([ 8.36835357,  9.98268077,  4.82307847,  5.89689005,  6.51048334,\n",
            "        4.79126662, 67.50454373]), 'mean_score_time': array([0.43250554, 0.3908941 , 0.4123816 , 0.40729544, 0.35730908,\n",
            "       0.31658986, 0.29618168]), 'std_score_time': array([0.03526371, 0.03062551, 0.05884805, 0.08023027, 0.03718543,\n",
            "       0.01229149, 0.04693929]), 'param_random_forest__min_samples_leaf': masked_array(data=[1, 2, 4, 8, 16, 32, 64],\n",
            "             mask=[False, False, False, False, False, False, False],\n",
            "       fill_value='?',\n",
            "            dtype=object), 'params': [{'random_forest__min_samples_leaf': 1}, {'random_forest__min_samples_leaf': 2}, {'random_forest__min_samples_leaf': 4}, {'random_forest__min_samples_leaf': 8}, {'random_forest__min_samples_leaf': 16}, {'random_forest__min_samples_leaf': 32}, {'random_forest__min_samples_leaf': 64}], 'split0_test_score': array([-0.04347036, -0.04275084, -0.0418966 , -0.0425715 , -0.0440139 ,\n",
            "       -0.04728454, -0.05246086]), 'split1_test_score': array([-0.04200335, -0.04108058, -0.04050071, -0.04053188, -0.04181829,\n",
            "       -0.04463888, -0.04928993]), 'split2_test_score': array([-0.04191756, -0.04127109, -0.04031223, -0.04076519, -0.04208032,\n",
            "       -0.04513651, -0.05005547]), 'split3_test_score': array([-0.04210587, -0.04124192, -0.04078814, -0.04100228, -0.04239605,\n",
            "       -0.04545305, -0.04993692]), 'split4_test_score': array([-0.04271207, -0.0424535 , -0.04202298, -0.04241539, -0.0438727 ,\n",
            "       -0.04763781, -0.05242139]), 'split5_test_score': array([-0.04254133, -0.04190832, -0.04129013, -0.04139327, -0.04271455,\n",
            "       -0.0458761 , -0.05075581]), 'split6_test_score': array([-0.04133194, -0.04011889, -0.03968072, -0.04001239, -0.04142449,\n",
            "       -0.04471023, -0.0497246 ]), 'split7_test_score': array([-0.04199645, -0.04101269, -0.04053827, -0.04068545, -0.04204848,\n",
            "       -0.04492262, -0.05019222]), 'split8_test_score': array([-0.0421534 , -0.04195776, -0.04136935, -0.04179507, -0.04339284,\n",
            "       -0.04685597, -0.05200409]), 'split9_test_score': array([-0.04207099, -0.04097016, -0.04045129, -0.04057796, -0.04151175,\n",
            "       -0.04437864, -0.04893714]), 'mean_test_score': array([-0.04223033, -0.04147657, -0.04088504, -0.04117504, -0.04252734,\n",
            "       -0.04568943, -0.05057784]), 'std_test_score': array([0.00054078, 0.000746  , 0.00070433, 0.00080499, 0.00089447,\n",
            "       0.00111653, 0.00122153]), 'rank_test_score': array([4, 3, 1, 2, 5, 6, 7], dtype=int32)}\n"
          ],
          "name": "stdout"
        }
      ]
    },
    {
      "cell_type": "markdown",
      "metadata": {
        "id": "RUZW5w8PxNX9",
        "colab_type": "text"
      },
      "source": [
        "#4. Kernel PCA"
      ]
    },
    {
      "cell_type": "markdown",
      "metadata": {
        "id": "jqzLqdoIxcrO",
        "colab_type": "text"
      },
      "source": [
        "## IMPORTANT - Set Ny_components depending on available RAM for training"
      ]
    },
    {
      "cell_type": "code",
      "metadata": {
        "colab_type": "code",
        "id": "zY4_FpKHAEPA",
        "colab": {}
      },
      "source": [
        "Ny_components = 2000 # number of samples in Nystroem subset, also number of components created\n",
        "                     # limited by the available RAM \n",
        "                     # use <=1000 for Colab instance (12GB RAM)\n",
        "                     # 4000 worked on GCP instance, but only for Linear Regression (64GB RAM)"
      ],
      "execution_count": 0,
      "outputs": []
    },
    {
      "cell_type": "markdown",
      "metadata": {
        "colab_type": "text",
        "id": "678hm3WmvAVb"
      },
      "source": [
        "##Initial modelling to determine # of components"
      ]
    },
    {
      "cell_type": "code",
      "metadata": {
        "colab_type": "code",
        "id": "vTXq_k3QvAVe",
        "colab": {}
      },
      "source": [
        "# Approximate Kernel PCA using Nystroem\n",
        "\n",
        "import numpy as np\n",
        "import matplotlib.pyplot as plt\n",
        "import pandas as pd\n",
        "\n",
        "#Loading the dataset\n",
        "try:\n",
        "  dataset = pd.read_csv('drive/My Drive/processed.csv')\n",
        "except:\n",
        "  dataset = pd.read_csv('processed.csv')\n",
        "\n",
        "# print(dataset)\n",
        "\n",
        "X = dataset.iloc[:,2:].values #We are not using column 1. Also we slice it this way because we want X to be a matrix\n",
        "y = dataset.iloc[:,1].values\n",
        "\n",
        "#Splitting the data into Training Set and Test Set\n",
        "from sklearn.model_selection import train_test_split\n",
        "X_train, X_test, y_train, y_test = train_test_split(X,y,test_size=0.3,random_state=0)"
      ],
      "execution_count": 0,
      "outputs": []
    },
    {
      "cell_type": "code",
      "metadata": {
        "colab_type": "code",
        "id": "ohsdQYK-vAVg",
        "colab": {}
      },
      "source": [
        "# Import required libraries for approximate Kernel PCA\n",
        "from sklearn.preprocessing import StandardScaler\n",
        "from sklearn.kernel_approximation import Nystroem\n",
        "from sklearn.decomposition import PCA\n",
        "\n",
        "#Normalizing the features\n",
        "sc_X = StandardScaler()\n",
        "X_train = sc_X.fit_transform(X_train)\n",
        "X_test = sc_X.transform(X_test)\n",
        "\n",
        "# Nystroem approximation on a subset of data\n",
        "# (used because kernelPCA is not feasible on the large dataset)\n",
        "Ny = Nystroem(n_components=Ny_components, random_state=0)\n",
        "X_train = Ny.fit_transform(X_train)\n",
        "X_test = Ny.transform(X_test)\n",
        "\n",
        "#Linear PCA\n",
        "PCAObj = PCA(n_components=None, random_state=0)\n",
        "X_train = PCAObj.fit_transform(X_train)\n",
        "X_test = PCAObj.transform(X_test)\n"
      ],
      "execution_count": 0,
      "outputs": []
    },
    {
      "cell_type": "code",
      "metadata": {
        "colab_type": "code",
        "outputId": "ed7a1853-10a1-4f7b-fa49-a5c9cc11fc96",
        "id": "JewcioxdvAVi",
        "colab": {
          "base_uri": "https://localhost:8080/",
          "height": 731
        }
      },
      "source": [
        "# Define cumulative explained variance ratio\n",
        "total_variance = np.cumsum(PCAObj.explained_variance_ratio_)\n",
        "\n",
        "# Show when total_variance is 0.95 using a plot\n",
        "plt.figure(1, figsize=[16,12])\n",
        "plot1 = plt.subplot(211)\n",
        "plt.plot(PCAObj.explained_variance_ratio_, c='red')\n",
        "plt.xlabel('Number of components')\n",
        "plt.ylabel('Explained variance ratio')\n",
        "\n",
        "plot2 = plt.subplot(212)\n",
        "plt.plot(total_variance, c='blue')\n",
        "plt.xlabel('Number of components')\n",
        "plt.ylabel('Total explained variance')\n",
        "# Look for where cumulative explained variance is 0.95\n",
        "expl_95_index = np.where((total_variance > 0.949) & (total_variance < 0.951))[0][0]\n",
        "print('Number of components with 0.95 cumulative variance: ', expl_95_index)\n",
        "plt.hlines(0.95, 0, len(total_variance), linestyles='dashed', color='green')\n",
        "plt.vlines(expl_95_index, 0, 1, linestyles='dashed')\n",
        "plot1.vlines(expl_95_index, 0, np.max(PCAObj.explained_variance_ratio_), linestyles='dashed')\n",
        "plt.text(0, 0.95-0.05, 'y = 0.95', color='green')\n",
        "plt.text(expl_95_index+2, 0, 'x = '+str(expl_95_index))\n",
        "\n",
        "plt.show()"
      ],
      "execution_count": 0,
      "outputs": [
        {
          "output_type": "stream",
          "text": [
            "Number of components with 0.95 cumulative variance:  241\n"
          ],
          "name": "stdout"
        },
        {
          "output_type": "display_data",
          "data": {
            "image/png": "[encoded data removed]",
            "text/plain": [
              "<Figure size 1152x864 with 2 Axes>"
            ]
          },
          "metadata": {
            "tags": [],
            "needs_background": "light"
          }
        }
      ]
    },
    {
      "cell_type": "markdown",
      "metadata": {
        "colab_type": "text",
        "id": "SKhMrJtAvAVj"
      },
      "source": [
        "## Clear variables except the index and Ny_components to \"reset\" the runtime"
      ]
    },
    {
      "cell_type": "code",
      "metadata": {
        "colab_type": "code",
        "id": "zWm9d-0KvAVk",
        "colab": {}
      },
      "source": [
        "%reset_selective -f ^(?!expl_95_index|Ny_components).*$ "
      ],
      "execution_count": 0,
      "outputs": []
    },
    {
      "cell_type": "markdown",
      "metadata": {
        "colab_type": "text",
        "id": "bnxWnOaIvAVl"
      },
      "source": [
        "## Run kPCA + Linear Regression with the # of components from above"
      ]
    },
    {
      "cell_type": "code",
      "metadata": {
        "colab_type": "code",
        "id": "xskxlQUKvAVl",
        "colab": {}
      },
      "source": [
        "#Kernal PCA (Nystroem approximation)\n",
        "\n",
        "import numpy as np\n",
        "import matplotlib.pyplot as plt\n",
        "import pandas as pd\n",
        "\n",
        "#Loading the dataset\n",
        "try:\n",
        "  dataset = pd.read_csv('drive/My Drive/processed.csv')\n",
        "except:\n",
        "  dataset = pd.read_csv('processed.csv')\n",
        "\n",
        "# print(dataset)\n",
        "\n",
        "X = dataset.iloc[:,2:].values #We are not using column 1. Also we slice it this way because we want X to be a matrix\n",
        "y = dataset.iloc[:,1].values\n",
        "\n",
        "#Splitting the data into Training Set and Test Set\n",
        "from sklearn.model_selection import train_test_split\n",
        "X_train, X_test, y_train, y_test = train_test_split(X,y,test_size=0.3,random_state=0)"
      ],
      "execution_count": 0,
      "outputs": []
    },
    {
      "cell_type": "code",
      "metadata": {
        "colab_type": "code",
        "outputId": "ce785e82-0d2b-46ca-bb02-88a5785deb85",
        "id": "DZ5GWLz3vAVm",
        "colab": {
          "base_uri": "https://localhost:8080/",
          "height": 84
        }
      },
      "source": [
        "# Import required libraries for making a PCA pipeline\n",
        "from sklearn.preprocessing import StandardScaler\n",
        "from sklearn.kernel_approximation import Nystroem\n",
        "from sklearn.decomposition import PCA\n",
        "from sklearn.linear_model import LinearRegression\n",
        "from sklearn.metrics import mean_squared_error\n",
        "from sklearn.pipeline import Pipeline\n",
        "\n",
        "# Pipeline for predicting the target\n",
        "LR_PCA_pipeline = Pipeline([\n",
        "                    ('scale', StandardScaler()), \n",
        "                    ('Ny', Nystroem(n_components=Ny_components, random_state=0)),\n",
        "                    ('PCA', PCA(n_components=expl_95_index, random_state=0)),\n",
        "                    ('LR', LinearRegression())\n",
        "                     ], verbose=True)\n",
        "\n",
        "LR_PCA_pipeline.fit(X_train, y_train)\n",
        "y_pred = LR_PCA_pipeline.predict(X_test)"
      ],
      "execution_count": 0,
      "outputs": [
        {
          "output_type": "stream",
          "text": [
            "[Pipeline] ............. (step 1 of 4) Processing scale, total=   1.5s\n",
            "[Pipeline] ................ (step 2 of 4) Processing Ny, total= 1.4min\n",
            "[Pipeline] ............... (step 3 of 4) Processing PCA, total= 1.6min\n",
            "[Pipeline] ................ (step 4 of 4) Processing LR, total=   2.2s\n"
          ],
          "name": "stdout"
        }
      ]
    },
    {
      "cell_type": "code",
      "metadata": {
        "colab_type": "code",
        "outputId": "c694fc3d-53b6-4677-aa6f-0f26108b5450",
        "id": "p-fRHT5XvAVo",
        "colab": {
          "base_uri": "https://localhost:8080/",
          "height": 101
        }
      },
      "source": [
        "# Evaluating the model\n",
        "print(mean_squared_error(y_test, y_pred))\n",
        "\n",
        "print(10**y_test)\n",
        "print(10**y_pred)\n",
        "print(mean_squared_error(10**y_test, 10**y_pred))"
      ],
      "execution_count": 0,
      "outputs": [
        {
          "output_type": "stream",
          "text": [
            "0.07775042461368689\n",
            "[ 1300. 10900.  8200. ... 12800.  7500.  3500.]\n",
            "[  787.92629034 11381.9390791   8149.83560953 ... 12982.08972874\n",
            "  9874.70002205  3063.78042276]\n",
            "86176888.96506321\n"
          ],
          "name": "stdout"
        }
      ]
    },
    {
      "cell_type": "markdown",
      "metadata": {
        "colab_type": "text",
        "id": "lA90TtP6vAVy"
      },
      "source": [
        "## Run kPCA + Decision Tree Regression with the # of components from above"
      ]
    },
    {
      "cell_type": "code",
      "metadata": {
        "colab_type": "code",
        "id": "4Bvq9SLMvAVy",
        "colab": {}
      },
      "source": [
        "#Kernal PCA (Nystroem approximation)\n",
        "\n",
        "import numpy as np\n",
        "import matplotlib.pyplot as plt\n",
        "import pandas as pd\n",
        "\n",
        "#Loading the dataset\n",
        "try:\n",
        "  dataset = pd.read_csv('drive/My Drive/processed.csv')\n",
        "except:\n",
        "  dataset = pd.read_csv('processed.csv')\n",
        "\n",
        "# print(dataset)\n",
        "\n",
        "X = dataset.iloc[:,2:].values #We are not using column 1. Also we slice it this way because we want X to be a matrix\n",
        "y = dataset.iloc[:,1].values\n",
        "\n",
        "#Splitting the data into Training Set and Test Set\n",
        "from sklearn.model_selection import train_test_split\n",
        "X_train, X_test, y_train, y_test = train_test_split(X,y,test_size=0.3,random_state=0)"
      ],
      "execution_count": 0,
      "outputs": []
    },
    {
      "cell_type": "code",
      "metadata": {
        "colab_type": "code",
        "outputId": "ce785e82-0d2b-46ca-bb02-88a5785deb85",
        "id": "Wrxn3PT8vAVz",
        "colab": {
          "base_uri": "https://localhost:8080/",
          "height": 84
        }
      },
      "source": [
        "# Import required libraries for making a PCA pipeline\n",
        "from sklearn.preprocessing import StandardScaler\n",
        "from sklearn.kernel_approximation import Nystroem\n",
        "from sklearn.decomposition import PCA\n",
        "from sklearn.tree import DecisionTreeRegressor\n",
        "from sklearn.metrics import mean_squared_error\n",
        "from sklearn.pipeline import Pipeline\n",
        "from sklearn.model_selection import GridSearchCV\n",
        "\n",
        "# Pipeline for predicting the target\n",
        "DT_PCA_pipeline = Pipeline([\n",
        "                    ('scale', StandardScaler()), \n",
        "                    ('Ny', Nystroem(n_components=Ny_components, random_state=0)),\n",
        "                    ('PCA', PCA(n_components=expl_95_index, random_state=0)),\n",
        "                    ('decision_tree', DecisionTreeRegressor(random_state=0))\n",
        "                     ], verbose=True)\n",
        "\n",
        "grid_param = dict(decision_tree__min_samples_leaf=[1,2,4,8,16,32,64])\n",
        "searchObj = GridSearchCV(DT_PCA_pipeline, grid_param, cv=10, scoring='neg_mean_squared_error', n_jobs=-1, verbose=10)\n",
        "searchObj.fit(X_train, y_train)\n",
        "y_pred = searchObj.predict(X_test)"
      ],
      "execution_count": 0,
      "outputs": [
        {
          "output_type": "stream",
          "text": [
            "Fitting 10 folds for each of 7 candidates, totalling 70 fits\n"
          ],
          "name": "stdout"
        },
        {
          "output_type": "stream",
          "text": [
            "[Parallel(n_jobs=-1)]: Using backend LokyBackend with 8 concurrent workers.\n",
            "[Parallel(n_jobs=-1)]: Done   2 tasks      | elapsed:  6.4min\n",
            "[Parallel(n_jobs=-1)]: Done   9 tasks      | elapsed: 12.7min\n",
            "[Parallel(n_jobs=-1)]: Done  16 tasks      | elapsed: 13.1min\n",
            "[Parallel(n_jobs=-1)]: Done  25 tasks      | elapsed: 25.2min\n",
            "[Parallel(n_jobs=-1)]: Done  34 tasks      | elapsed: 31.3min\n",
            "[Parallel(n_jobs=-1)]: Done  45 tasks      | elapsed: 37.4min\n",
            "[Parallel(n_jobs=-1)]: Done  63 out of  70 | elapsed: 49.6min remaining:  5.5min\n",
            "[Parallel(n_jobs=-1)]: Done  70 out of  70 | elapsed: 54.1min finished\n"
          ],
          "name": "stderr"
        },
        {
          "output_type": "stream",
          "text": [
            "[Pipeline] ............. (step 1 of 4) Processing scale, total=   1.9s\n",
            "[Pipeline] ................ (step 2 of 4) Processing Ny, total=  28.0s\n",
            "[Pipeline] ............... (step 3 of 4) Processing PCA, total=  36.3s\n",
            "[Pipeline] ..... (step 4 of 4) Processing decision_tree, total= 1.1min\n"
          ],
          "name": "stdout"
        }
      ]
    },
    {
      "cell_type": "code",
      "metadata": {
        "colab_type": "code",
        "outputId": "c694fc3d-53b6-4677-aa6f-0f26108b5450",
        "id": "xg-F6Sn-vAV1",
        "colab": {
          "base_uri": "https://localhost:8080/",
          "height": 101
        }
      },
      "source": [
        "# Evaluating the model\n",
        "print(mean_squared_error(y_test, y_pred))\n",
        "\n",
        "print(10**y_test)\n",
        "print(10**y_pred)\n",
        "print(mean_squared_error(10**y_test, 10**y_pred))"
      ],
      "execution_count": 0,
      "outputs": [
        {
          "output_type": "stream",
          "text": [
            "0.058316507267753295\n",
            "[ 1300. 10900.  8200. ... 12800.  7500.  3500.]\n",
            "[  629.54598337 11254.88281003 13309.77890146 ... 12462.20367362\n",
            " 14351.83913435  3346.39759444]\n",
            "63457872.02619472\n"
          ],
          "name": "stdout"
        }
      ]
    },
    {
      "cell_type": "code",
      "metadata": {
        "colab_type": "code",
        "id": "J-hAUPDqvAV2",
        "colab": {},
        "outputId": "8d0a63b6-e2e3-4c8f-d71f-7d7b0a9eda36"
      },
      "source": [
        "print(searchObj.best_params_)"
      ],
      "execution_count": 0,
      "outputs": [
        {
          "output_type": "stream",
          "text": [
            "{'decision_tree__min_samples_leaf': 32}\n"
          ],
          "name": "stdout"
        }
      ]
    },
    {
      "cell_type": "code",
      "metadata": {
        "id": "qKa0lbSevAV3",
        "colab_type": "code",
        "colab": {},
        "outputId": "24e0f5d2-a761-4eab-ec53-77e89040fadb"
      },
      "source": [
        "plt.plot(grid_param['decision_tree__min_samples_leaf'], searchObj.cv_results_['mean_test_score'],\n",
        "         )\n",
        "plt.ylabel('validation MSE (log-scale)')\n",
        "plt.xlabel('Decision Tree Minimum Leaf Size')\n",
        "plt.show()"
      ],
      "execution_count": 0,
      "outputs": [
        {
          "output_type": "display_data",
          "data": {
            "image/png": "[encoded data removed]",
            "text/plain": [
              "<Figure size 432x288 with 1 Axes>"
            ]
          },
          "metadata": {
            "tags": [],
            "needs_background": "light"
          }
        }
      ]
    },
    {
      "cell_type": "code",
      "metadata": {
        "colab_type": "code",
        "id": "I-Mzf2NQvAWA",
        "colab": {}
      },
      "source": [
        "%reset_selective -f ^(?!expl_95_index|Ny_components).*$ "
      ],
      "execution_count": 0,
      "outputs": []
    },
    {
      "cell_type": "markdown",
      "metadata": {
        "colab_type": "text",
        "id": "vVHjFWdTvAWB"
      },
      "source": [
        "## Run kPCA + Random Forest Regression with the # of components from above"
      ]
    },
    {
      "cell_type": "code",
      "metadata": {
        "colab_type": "code",
        "id": "VbpRHD67vAWB",
        "colab": {}
      },
      "source": [
        "#Kernal PCA (Nystroem approximation)\n",
        "\n",
        "import numpy as np\n",
        "import matplotlib.pyplot as plt\n",
        "import pandas as pd\n",
        "\n",
        "#Loading the dataset\n",
        "try:\n",
        "  dataset = pd.read_csv('drive/My Drive/processed.csv')\n",
        "except:\n",
        "  dataset = pd.read_csv('processed.csv')\n",
        "\n",
        "# print(dataset)\n",
        "\n",
        "X = dataset.iloc[:,2:].values #We are not using column 1. Also we slice it this way because we want X to be a matrix\n",
        "y = dataset.iloc[:,1].values\n",
        "\n",
        "#Splitting the data into Training Set and Test Set\n",
        "from sklearn.model_selection import train_test_split\n",
        "X_train, X_test, y_train, y_test = train_test_split(X,y,test_size=0.3,random_state=0)"
      ],
      "execution_count": 0,
      "outputs": []
    },
    {
      "cell_type": "code",
      "metadata": {
        "colab_type": "code",
        "outputId": "ce785e82-0d2b-46ca-bb02-88a5785deb85",
        "id": "gAbt4-EwvAWD",
        "colab": {
          "base_uri": "https://localhost:8080/",
          "height": 84
        }
      },
      "source": [
        "# Import required libraries for making a PCA pipeline\n",
        "from sklearn.preprocessing import StandardScaler\n",
        "from sklearn.kernel_approximation import Nystroem\n",
        "from sklearn.decomposition import PCA\n",
        "from sklearn.ensemble import RandomForestRegressor\n",
        "from sklearn.metrics import mean_squared_error\n",
        "from sklearn.pipeline import Pipeline\n",
        "from sklearn.model_selection import GridSearchCV\n",
        "\n",
        "# Pipeline for predicting the target\n",
        "RF_PCA_pipeline = Pipeline([\n",
        "                    ('scale', StandardScaler()), \n",
        "                    ('Ny', Nystroem(n_components=Ny_components, random_state=0)),\n",
        "                    ('PCA', PCA(n_components=expl_95_index, random_state=0)),\n",
        "                    ('random_forest', RandomForestRegressor(random_state=0, n_estimators=10))\n",
        "                     ], verbose=True)\n",
        "\n",
        "grid_param = dict(random_forest__min_samples_leaf=[8,16,32,48],\n",
        "                  random_forest__bootstrap=[True,False])\n",
        "searchObj = GridSearchCV(RF_PCA_pipeline, grid_param, cv=10, scoring='neg_mean_squared_error', n_jobs=-1, verbose=10)\n",
        "searchObj.fit(X_train, y_train)\n",
        "y_pred = searchObj.predict(X_test)"
      ],
      "execution_count": 0,
      "outputs": [
        {
          "output_type": "stream",
          "text": [
            "Fitting 10 folds for each of 8 candidates, totalling 80 fits\n"
          ],
          "name": "stdout"
        },
        {
          "output_type": "stream",
          "text": [
            "[Parallel(n_jobs=-1)]: Using backend LokyBackend with 8 concurrent workers.\n",
            "[Parallel(n_jobs=-1)]: Done   2 tasks      | elapsed: 14.4min\n",
            "[Parallel(n_jobs=-1)]: Done   9 tasks      | elapsed: 28.5min\n",
            "[Parallel(n_jobs=-1)]: Done  16 tasks      | elapsed: 29.4min\n",
            "[Parallel(n_jobs=-1)]: Done  25 tasks      | elapsed: 56.0min\n",
            "[Parallel(n_jobs=-1)]: Done  34 tasks      | elapsed: 69.0min\n",
            "[Parallel(n_jobs=-1)]: Done  45 tasks      | elapsed: 89.9min\n",
            "[Parallel(n_jobs=-1)]: Done  56 tasks      | elapsed: 110.3min\n",
            "[Parallel(n_jobs=-1)]: Done  74 out of  80 | elapsed: 165.3min remaining: 13.4min\n",
            "[Parallel(n_jobs=-1)]: Done  80 out of  80 | elapsed: 166.6min finished\n"
          ],
          "name": "stderr"
        },
        {
          "output_type": "stream",
          "text": [
            "[Pipeline] ............. (step 1 of 4) Processing scale, total=   3.2s\n",
            "[Pipeline] ................ (step 2 of 4) Processing Ny, total=  28.0s\n",
            "[Pipeline] ............... (step 3 of 4) Processing PCA, total=  38.9s\n",
            "[Pipeline] ..... (step 4 of 4) Processing random_forest, total= 8.1min\n"
          ],
          "name": "stdout"
        }
      ]
    },
    {
      "cell_type": "code",
      "metadata": {
        "colab_type": "code",
        "outputId": "c694fc3d-53b6-4677-aa6f-0f26108b5450",
        "id": "quPJEijKvAWE",
        "colab": {
          "base_uri": "https://localhost:8080/",
          "height": 101
        }
      },
      "source": [
        "# Evaluating the model\n",
        "print(mean_squared_error(y_test, y_pred))\n",
        "\n",
        "print(10**y_test)\n",
        "print(10**y_pred)\n",
        "print(mean_squared_error(10**y_test, 10**y_pred))"
      ],
      "execution_count": 0,
      "outputs": [
        {
          "output_type": "stream",
          "text": [
            "0.04287946927349297\n",
            "[ 1300. 10900.  8200. ... 12800.  7500.  3500.]\n",
            "[  596.45660441 13311.98569273 10758.77244215 ... 15173.44783019\n",
            " 10057.73924049  3877.37743028]\n",
            "58628144.88900101\n"
          ],
          "name": "stdout"
        }
      ]
    },
    {
      "cell_type": "code",
      "metadata": {
        "colab_type": "code",
        "id": "bfh84DUHvAWF",
        "colab": {},
        "outputId": "84667bb0-1ce3-4779-fe81-6afd0d724a8d"
      },
      "source": [
        "print(searchObj.best_params_)"
      ],
      "execution_count": 0,
      "outputs": [
        {
          "output_type": "stream",
          "text": [
            "{'random_forest__bootstrap': True, 'random_forest__min_samples_leaf': 8}\n"
          ],
          "name": "stdout"
        }
      ]
    },
    {
      "cell_type": "code",
      "metadata": {
        "id": "TY4QQUCTvAWG",
        "colab_type": "code",
        "colab": {},
        "outputId": "a5abd95a-ced6-4846-90b9-47cfe58a2f80"
      },
      "source": [
        "plt.plot(grid_param['random_forest__min_samples_leaf'], searchObj.cv_results_['mean_test_score'].reshape(4,2))\n",
        "plt.ylabel('validation MSE (log-scale)')\n",
        "plt.xlabel('Decision Tree Minimum Leaf Size')\n",
        "plt.legend(('Bootstrap True', 'Bootstrap False'))\n",
        "plt.show()"
      ],
      "execution_count": 0,
      "outputs": [
        {
          "output_type": "display_data",
          "data": {
            "image/png": "[encoded data removed]",
            "text/plain": [
              "<Figure size 432x288 with 1 Axes>"
            ]
          },
          "metadata": {
            "tags": [],
            "needs_background": "light"
          }
        }
      ]
    },
    {
      "cell_type": "code",
      "metadata": {
        "id": "gGpzXoOvvAWH",
        "colab_type": "code",
        "colab": {},
        "outputId": "6626b340-f8e4-4e48-880e-c10b6c0eb3a1"
      },
      "source": [
        "print(searchObj.cv_results_) # 4 true then 4 false"
      ],
      "execution_count": 0,
      "outputs": [
        {
          "output_type": "stream",
          "text": [
            "{'mean_fit_time': array([ 860.68234608,  831.65841589,  803.71851158,  771.84184527,\n",
            "       1224.29380484, 1164.56404448, 1115.97804136, 1078.44388468]), 'std_fit_time': array([ 9.98233539, 14.61076898, 16.01630267,  8.54521895, 11.25702971,\n",
            "       19.76944843, 19.26978512,  9.44378505]), 'mean_score_time': array([16.04355416, 13.74444447, 13.24606683, 12.64122586, 13.2256705 ,\n",
            "       13.6114974 , 13.36759188, 10.13246899]), 'std_score_time': array([3.00583258, 1.80988153, 1.08356447, 1.07425964, 1.13224469,\n",
            "       0.68816783, 0.78660765, 2.87188018]), 'param_random_forest__bootstrap': masked_array(data=[True, True, True, True, False, False, False, False],\n",
            "             mask=[False, False, False, False, False, False, False, False],\n",
            "       fill_value='?',\n",
            "            dtype=object), 'param_random_forest__min_samples_leaf': masked_array(data=[8, 16, 32, 48, 8, 16, 32, 48],\n",
            "             mask=[False, False, False, False, False, False, False, False],\n",
            "       fill_value='?',\n",
            "            dtype=object), 'params': [{'random_forest__bootstrap': True, 'random_forest__min_samples_leaf': 8}, {'random_forest__bootstrap': True, 'random_forest__min_samples_leaf': 16}, {'random_forest__bootstrap': True, 'random_forest__min_samples_leaf': 32}, {'random_forest__bootstrap': True, 'random_forest__min_samples_leaf': 48}, {'random_forest__bootstrap': False, 'random_forest__min_samples_leaf': 8}, {'random_forest__bootstrap': False, 'random_forest__min_samples_leaf': 16}, {'random_forest__bootstrap': False, 'random_forest__min_samples_leaf': 32}, {'random_forest__bootstrap': False, 'random_forest__min_samples_leaf': 48}], 'split0_test_score': array([-0.04429312, -0.04559202, -0.04908751, -0.05208882, -0.0635756 ,\n",
            "       -0.06178228, -0.06134273, -0.06241415]), 'split1_test_score': array([-0.04156007, -0.04248807, -0.04517618, -0.04761957, -0.06217094,\n",
            "       -0.05950299, -0.05923075, -0.0597041 ]), 'split2_test_score': array([-0.04257161, -0.04391816, -0.0472304 , -0.04962979, -0.06791817,\n",
            "       -0.06356652, -0.06191046, -0.06318834]), 'split3_test_score': array([-0.04309859, -0.04413048, -0.04691036, -0.0492596 , -0.07106027,\n",
            "       -0.06615464, -0.06180131, -0.0642887 ]), 'split4_test_score': array([-0.04447284, -0.04589305, -0.04882282, -0.05163452, -0.06282448,\n",
            "       -0.06096385, -0.0614196 , -0.06407134]), 'split5_test_score': array([-0.0437071 , -0.0454451 , -0.04875895, -0.05159775, -0.06833328,\n",
            "       -0.06377648, -0.06392716, -0.06534377]), 'split6_test_score': array([-0.04189892, -0.04345465, -0.04675592, -0.04923192, -0.06736838,\n",
            "       -0.06107182, -0.0609095 , -0.06542298]), 'split7_test_score': array([-0.04315054, -0.04459552, -0.04791997, -0.05044043, -0.06636058,\n",
            "       -0.06208661, -0.06080295, -0.06340348]), 'split8_test_score': array([-0.04320067, -0.04491337, -0.04827739, -0.05053884, -0.06322783,\n",
            "       -0.05967129, -0.05997639, -0.06284282]), 'split9_test_score': array([-0.04189622, -0.04345205, -0.04627939, -0.0485781 , -0.06384519,\n",
            "       -0.05929295, -0.06111112, -0.06105126]), 'mean_test_score': array([-0.04298497, -0.04438824, -0.04752189, -0.05006193, -0.06566847,\n",
            "       -0.06178694, -0.0612432 , -0.06317309]), 'std_test_score': array([0.00095391, 0.00103901, 0.00120395, 0.0013783 , 0.0028033 ,\n",
            "       0.0020831 , 0.00118232, 0.00170586]), 'rank_test_score': array([1, 2, 3, 4, 8, 6, 5, 7], dtype=int32)}\n"
          ],
          "name": "stdout"
        }
      ]
    },
    {
      "cell_type": "markdown",
      "metadata": {
        "id": "YxFRq_YJyiJ4",
        "colab_type": "text"
      },
      "source": [
        "#5. Recursive Feature Elimination"
      ]
    },
    {
      "cell_type": "markdown",
      "metadata": {
        "id": "smMyE_jKy1p3",
        "colab_type": "text"
      },
      "source": [
        "## Backward Elimination / Recursive Elimination using Linear Regression p-values"
      ]
    },
    {
      "cell_type": "code",
      "metadata": {
        "colab_type": "code",
        "id": "nrpH2RRXoTkA",
        "outputId": "3227906d-5a1b-469e-ba2d-0b10122dc04b",
        "colab": {
          "base_uri": "https://localhost:8080/",
          "height": 282
        }
      },
      "source": [
        "#Backward Elimination using statsmodels and Ordinary Least Squares p-values\n",
        "import statsmodels.api as sm\n",
        "X_cols = X.columns\n",
        "X_withconstant = np.append(arr=np.ones((271997,1)).astype(int), values=X, axis=1)\n",
        "\n",
        "X_sig = X_withconstant\n",
        "obj_OLS = sm.OLS(endog = y, exog = X_sig).fit()\n",
        "\n",
        "# scatterplot to evaluate if sklearn.model_feature_selection.RFECV\n",
        "# which drops the lowest coefficients is giving similar results\n",
        "\n",
        "#filter on p > 0.05 (likely to be dropped)\n",
        "coefficients = abs(obj_OLS.params[obj_OLS.pvalues > 0.05])\n",
        "p_values = obj_OLS.pvalues[obj_OLS.pvalues > 0.05]\n",
        "plt.subplot(211)\n",
        "plt.scatter(coefficients, p_values)\n",
        "\n",
        "#filter on p < 0.05 (likely to keep)\n",
        "coefficients2 = abs(obj_OLS.params[obj_OLS.pvalues < 0.05])\n",
        "p_values2 = obj_OLS.pvalues[obj_OLS.pvalues < 0.05]\n",
        "plt.subplot(212)\n",
        "plt.scatter(coefficients2, p_values2)"
      ],
      "execution_count": 0,
      "outputs": [
        {
          "output_type": "execute_result",
          "data": {
            "text/plain": [
              "<matplotlib.collections.PathCollection at 0x7fefb9f7a630>"
            ]
          },
          "metadata": {
            "tags": []
          },
          "execution_count": 19
        },
        {
          "output_type": "display_data",
          "data": {
            "image/png": "[encoded data removed]",
            "text/plain": [
              "<Figure size 432x288 with 2 Axes>"
            ]
          },
          "metadata": {
            "tags": [],
            "needs_background": "light"
          }
        }
      ]
    },
    {
      "cell_type": "markdown",
      "metadata": {
        "id": "qaNXO8BQzB5Q",
        "colab_type": "text"
      },
      "source": [
        "From the plots, we can see there is no significant correlation between coefficients and p-values, so this would give a different result than RFECV"
      ]
    },
    {
      "cell_type": "code",
      "metadata": {
        "colab_type": "code",
        "id": "BquRWPiCVhC-",
        "outputId": "7a4ca30c-72c0-451a-ffeb-58607b687416",
        "colab": {
          "base_uri": "https://localhost:8080/",
          "height": 765
        }
      },
      "source": [
        "# Loop to remove p > 0.05 recursively\n",
        "p_value = 1\n",
        "while p_value > 0.05:\n",
        "  obj_OLS = sm.OLS(endog = y, exog = X_sig).fit()\n",
        "  p_value = np.max(obj_OLS.pvalues)\n",
        "  p_index = np.argmax(obj_OLS.pvalues)\n",
        "  print(\"Dropped column at index \", p_index, \" with name\", X_cols[p_index])\n",
        "  X_cols = np.delete(X_cols, p_index)\n",
        "  X_sig = np.delete(X_sig, p_index, 1)\n",
        "\n",
        "print(\"Final shape\", X_sig.shape)"
      ],
      "execution_count": 0,
      "outputs": [
        {
          "output_type": "stream",
          "text": [
            "Dropped column at index  294  with name model_vivaro\n",
            "Dropped column at index  193  with name model_kuga\n",
            "Dropped column at index  62  with name model_1er\n",
            "Dropped column at index  199  with name model_lupo\n",
            "Dropped column at index  250  with name model_sandero\n",
            "Dropped column at index  11  with name brand_daewoo\n",
            "Dropped column at index  54  with name fuelType_hybrid\n",
            "Dropped column at index  130  with name model_clk\n",
            "Dropped column at index  278  with name model_v40\n",
            "Dropped column at index  173  with name model_i_reihe\n",
            "Dropped column at index  281  with name model_vectra\n",
            "Dropped column at index  21  with name brand_land_rover\n",
            "Dropped column at index  196  with name model_m_reihe\n",
            "Dropped column at index  142  with name model_delta\n",
            "Dropped column at index  132  with name model_cooper\n",
            "Dropped column at index  217  with name model_phaeton\n",
            "Dropped column at index  20  with name brand_lancia\n",
            "Dropped column at index  124  with name model_citigo\n",
            "Dropped column at index  137  with name model_cx_reihe\n",
            "Dropped column at index  26  with name brand_peugeot\n",
            "Dropped column at index  195  with name model_mii\n",
            "Dropped column at index  205  with name model_octavia\n",
            "Dropped column at index  35  with name brand_suzuki\n",
            "Dropped column at index  184  with name model_leon\n",
            "Dropped column at index  196  with name model_musa\n",
            "Dropped column at index  245  with name model_spider\n",
            "Dropped column at index  248  with name model_superb\n",
            "Dropped column at index  185  with name model_logan\n",
            "Dropped column at index  36  with name brand_trabant\n",
            "Dropped column at index  8  with name brand_chrysler\n",
            "Dropped column at index  136  with name model_doblo\n",
            "Dropped column at index  249  with name model_touareg\n",
            "Dropped column at index  90  with name model_astra\n",
            "Dropped column at index  118  with name model_cherokee\n",
            "Dropped column at index  228  with name model_scirocco\n",
            "Dropped column at index  120  with name model_clio\n",
            "Dropped column at index  147  with name model_fox\n",
            "Dropped column at index  32  with name brand_sonstige_autos\n",
            "Dropped column at index  86  with name model_andere\n",
            "Dropped column at index  136  with name model_escort\n",
            "Dropped column at index  63  with name model_6_reihe\n",
            "Dropped column at index  196  with name model_picanto\n",
            "Dropped column at index  184  with name model_mustang\n",
            "Final shape (271997, 265)\n"
          ],
          "name": "stdout"
        }
      ]
    },
    {
      "cell_type": "code",
      "metadata": {
        "colab_type": "code",
        "id": "fml7whpdlKGq",
        "outputId": "0cbf8f2b-14b1-4a13-f73c-b152203a962a",
        "colab": {
          "base_uri": "https://localhost:8080/",
          "height": 357
        }
      },
      "source": [
        "#Splitting the data into Training Set and Test Set\n",
        "X_sig_train, X_sig_test, y_sig_train, y_sig_test = train_test_split(X_sig, y, test_size=0.2,random_state=0)\n",
        "\n",
        "# Import required libraries and create pipeline\n",
        "from sklearn.preprocessing import StandardScaler\n",
        "from sklearn.linear_model import LinearRegression\n",
        "from sklearn.metrics import mean_squared_error\n",
        "from sklearn.pipeline import Pipeline\n",
        "\n",
        "print('starting pipeline')\n",
        "\n",
        "lr_pipeline = Pipeline([\n",
        "                    ('scale', StandardScaler()), \n",
        "                    ('LR', LinearRegression())\n",
        "                     ], verbose=True)\n",
        "\n",
        "lr_pipeline.fit(X_sig_train, y_sig_train)\n",
        "y_sig_pred = lr_pipeline.predict(X_sig_test)\n",
        "\n",
        "print(y_sig_pred)\n",
        "print(y_test)\n",
        "print(mean_squared_error(y_test, y_pred))\n",
        "print(mean_squared_error(y_sig_test, y_sig_pred))\n",
        "print(mean_squared_error(10**y_test, 10**y_pred))\n",
        "print(mean_squared_error(10**y_sig_test, 10**y_sig_pred))"
      ],
      "execution_count": 0,
      "outputs": [
        {
          "output_type": "stream",
          "text": [
            "starting pipeline\n",
            "[Pipeline] ............. (step 1 of 2) Processing scale, total=   1.9s\n",
            "[Pipeline] ................ (step 2 of 2) Processing LR, total=   4.4s\n",
            "[2.86304988 4.01560928 3.90240744 ... 4.46237258 3.69146352 3.3384798 ]\n",
            "85971     3.113943\n",
            "205804    4.037426\n",
            "13374     3.913814\n",
            "235012    4.041393\n",
            "169522    3.060698\n",
            "            ...   \n",
            "16494     3.653213\n",
            "259055    3.397940\n",
            "24516     4.107210\n",
            "13263     3.875061\n",
            "25001     3.544068\n",
            "Name: log_price, Length: 81600, dtype: float64\n",
            "0.06779693364579975\n",
            "0.06695273751429334\n",
            "232717125.6909711\n",
            "114938853.19178033\n"
          ],
          "name": "stdout"
        }
      ]
    },
    {
      "cell_type": "code",
      "metadata": {
        "colab_type": "code",
        "id": "_A1sMhIiN4DG",
        "outputId": "1c01c2a7-a70b-4f28-b45e-12f999e132af",
        "colab": {
          "base_uri": "https://localhost:8080/",
          "height": 54
        }
      },
      "source": [
        "# store boolean mask of removed variables\n",
        "mask = [True if item in X_cols.to_list() else False for item in X.columns.to_list()]\n",
        "print(mask)"
      ],
      "execution_count": 0,
      "outputs": [
        {
          "output_type": "stream",
          "text": [
            "[True, True, True, True, True, True, True, True, False, True, True, False, True, True, True, True, True, True, True, True, True, False, False, True, True, True, True, True, True, False, True, True, True, True, True, True, True, False, True, False, True, False, True, True, True, True, True, True, True, True, True, True, True, True, True, False, True, True, True, True, True, True, False, True, True, True, True, True, True, True, True, True, True, False, True, True, True, True, True, True, True, True, True, True, True, True, True, True, True, True, True, True, True, True, True, True, False, True, True, False, True, True, True, True, True, True, True, True, True, True, True, True, True, True, True, True, True, True, True, True, True, True, True, True, True, True, True, True, False, False, True, True, False, False, True, True, True, False, True, True, True, True, True, True, True, False, True, False, True, True, False, True, True, True, True, True, False, True, True, True, True, True, True, True, True, False, True, True, True, True, True, True, True, True, True, True, True, False, True, True, True, True, True, True, True, True, True, True, True, True, True, True, True, False, True, True, True, True, False, True, False, False, True, True, False, True, True, True, True, True, False, True, True, True, False, False, True, True, True, True, True, False, True, True, True, True, True, True, False, False, True, True, True, True, True, True, True, True, True, True, True, True, True, True, True, True, True, True, True, True, True, True, True, False, True, True, False, True, True, True, True, True, True, True, True, True, True, False, True, True, True, False, True, True, True, True, True, False, True, True, True, True, True, True, True, False, True, True, True, True, False, True, True, True, False, True, True, True, True, True, True, True, True, True, True, True, True]\n"
          ],
          "name": "stdout"
        }
      ]
    },
    {
      "cell_type": "code",
      "metadata": {
        "colab_type": "code",
        "id": "kGE_mWIIMlza",
        "colab": {}
      },
      "source": [
        "# Copy of previous output\n",
        "mask = [True, True, True, True, True, True, True, True, False, True, True, False, True, True, True, True, True, True, True, True, True, False, False, True, True, True, True, True, True, False, True, True, True, True, True, True, True, False, True, False, True, False, True, True, True, True, True, True, True, True, True, True, True, True, True, False, True, True, True, True, True, True, False, True, True, True, True, True, True, True, True, True, True, False, True, True, True, True, True, True, True, True, True, True, True, True, True, True, True, True, True, True, True, True, True, True, False, True, True, False, True, True, True, True, True, True, True, True, True, True, True, True, True, True, True, True, True, True, True, True, True, True, True, True, True, True, True, True, False, False, True, True, False, False, True, True, True, False, True, True, True, True, True, True, True, False, True, False, True, True, False, True, True, True, True, True, False, True, True, True, True, True, True, True, True, False, True, True, True, True, True, True, True, True, True, True, True, False, True, True, True, True, True, True, True, True, True, True, True, True, True, True, True, False, True, True, True, True, False, True, False, False, True, True, False, True, True, True, True, True, False, True, True, True, False, False, True, True, True, True, True, False, True, True, True, True, True, True, False, False, True, True, True, True, True, True, True, True, True, True, True, True, True, True, True, True, True, True, True, True, True, True, True, False, True, True, False, True, True, True, True, True, True, True, True, True, True, False, True, True, True, False, True, True, True, True, True, False, True, True, True, True, True, True, True, False, True, True, True, True, False, True, True, True, False, True, True, True, True, True, True, True, True, True, True, True, True]\n",
        "#On new runtime, fetch selected columns using the mask\n",
        "df = X.iloc[:, mask]"
      ],
      "execution_count": 0,
      "outputs": []
    },
    {
      "cell_type": "code",
      "metadata": {
        "colab_type": "code",
        "id": "WwtGu1DqPySZ",
        "outputId": "5f90438e-6f53-4e89-be65-6ef673e4d86d",
        "colab": {
          "base_uri": "https://localhost:8080/",
          "height": 68
        }
      },
      "source": [
        "#Loop for counting brand and model variables\n",
        "column_list = df.columns.tolist()\n",
        "model_cnt = 0\n",
        "brand_cnt = 0\n",
        "total_cnt = 0\n",
        "\n",
        "for item in column_list:\n",
        "  if item.startswith('model'):\n",
        "    model_cnt += 1\n",
        "  elif item.startswith('brand'):\n",
        "    brand_cnt += 1\n",
        "  total_cnt +=1\n",
        "print('models: ', model_cnt)\n",
        "print('brands: ', brand_cnt)\n",
        "print('total: ', total_cnt)"
      ],
      "execution_count": 0,
      "outputs": [
        {
          "output_type": "stream",
          "text": [
            "models:  215\n",
            "brands:  31\n",
            "total:  264\n"
          ],
          "name": "stdout"
        }
      ]
    },
    {
      "cell_type": "markdown",
      "metadata": {
        "id": "HOW-mdyrzZeC",
        "colab_type": "text"
      },
      "source": [
        "## RFE on Decision Tree Models"
      ]
    },
    {
      "cell_type": "code",
      "metadata": {
        "colab_type": "code",
        "id": "5UL3RvvLvcwY",
        "colab": {}
      },
      "source": [
        "# Decision Tree + Feature Selection\n",
        "\n",
        "import numpy as np\n",
        "import matplotlib.pyplot as plt\n",
        "import pandas as pd\n",
        "\n",
        "#Loading the dataset\n",
        "try:\n",
        "  dataset = pd.read_csv('processed.csv')\n",
        "except:\n",
        "  dataset = pd.read_csv('drive/My Drive/processed.csv')\n",
        "\n",
        "# print(dataset)\n",
        "\n",
        "X = dataset.iloc[:,2:] #We are not using column 1. Also we slice it this way because we want X to be a matrix\n",
        "y = dataset.iloc[:,1]\n",
        "\n",
        "from sklearn.model_selection import train_test_split\n",
        "X_train, X_test, y_train, y_test = train_test_split(X,y, test_size = 0.3, random_state = 0)"
      ],
      "execution_count": 0,
      "outputs": []
    },
    {
      "cell_type": "code",
      "metadata": {
        "colab_type": "code",
        "id": "QdoxqBuzvfPe",
        "outputId": "90980756-a0a6-4f84-d985-534aae84c2eb",
        "colab": {
          "base_uri": "https://localhost:8080/",
          "height": 1000
        }
      },
      "source": [
        "#import model\n",
        "from sklearn.preprocessing import StandardScaler\n",
        "from sklearn.tree import DecisionTreeRegressor\n",
        "from sklearn.pipeline import Pipeline\n",
        "from sklearn.feature_selection import RFECV\n",
        "\n",
        "# define new class for pipeline that passes feature importance or coef to RFE\n",
        "class PipelineRFE(Pipeline):\n",
        "\n",
        "    def fit(self, X, y=None, **fit_params):\n",
        "        super(PipelineRFE, self).fit(X, y, **fit_params)\n",
        "        self.feature_importances_ = self.steps[-1][-1].feature_importances_\n",
        "        return self\n",
        "\n",
        "DT_pipeline =  PipelineRFE([\n",
        "                    ('scale', StandardScaler()), \n",
        "                    ('DT', DecisionTreeRegressor(random_state=0, min_samples_leaf=32))\n",
        "                     ], verbose=True)\n",
        "\n",
        "selectionObj = RFECV(DT_pipeline, min_features_to_select=1, step=5, cv=10, scoring='neg_mean_squared_error', n_jobs=-1, verbose=10)\n",
        "selectionObj.fit(X_train, y_train)\n",
        "print(\"Optimal number of features : %d\" % selectionObj.n_features_)"
      ],
      "execution_count": 0,
      "outputs": [
        {
          "output_type": "stream",
          "text": [
            "Fitting estimator with 307 features.\n",
            "[Pipeline] ............. (step 1 of 2) Processing scale, total=   1.5s\n",
            "[Pipeline] ................ (step 2 of 2) Processing DT, total=   4.5s\n",
            "Fitting estimator with 302 features.\n",
            "[Pipeline] ............. (step 1 of 2) Processing scale, total=   1.3s\n",
            "[Pipeline] ................ (step 2 of 2) Processing DT, total=   4.5s\n",
            "Fitting estimator with 297 features.\n",
            "[Pipeline] ............. (step 1 of 2) Processing scale, total=   1.2s\n",
            "[Pipeline] ................ (step 2 of 2) Processing DT, total=   4.4s\n",
            "Fitting estimator with 292 features.\n",
            "[Pipeline] ............. (step 1 of 2) Processing scale, total=   1.2s\n",
            "[Pipeline] ................ (step 2 of 2) Processing DT, total=   4.3s\n",
            "Fitting estimator with 287 features.\n",
            "[Pipeline] ............. (step 1 of 2) Processing scale, total=   1.2s\n",
            "[Pipeline] ................ (step 2 of 2) Processing DT, total=   4.3s\n",
            "Fitting estimator with 282 features.\n",
            "[Pipeline] ............. (step 1 of 2) Processing scale, total=   1.1s\n",
            "[Pipeline] ................ (step 2 of 2) Processing DT, total=   4.2s\n",
            "Fitting estimator with 277 features.\n",
            "[Pipeline] ............. (step 1 of 2) Processing scale, total=   1.1s\n",
            "[Pipeline] ................ (step 2 of 2) Processing DT, total=   4.1s\n",
            "Fitting estimator with 272 features.\n",
            "[Pipeline] ............. (step 1 of 2) Processing scale, total=   1.1s\n",
            "[Pipeline] ................ (step 2 of 2) Processing DT, total=   4.1s\n",
            "Fitting estimator with 267 features.\n",
            "[Pipeline] ............. (step 1 of 2) Processing scale, total=   1.1s\n",
            "[Pipeline] ................ (step 2 of 2) Processing DT, total=   4.0s\n",
            "Fitting estimator with 262 features.\n",
            "[Pipeline] ............. (step 1 of 2) Processing scale, total=   1.1s\n",
            "[Pipeline] ................ (step 2 of 2) Processing DT, total=   3.9s\n",
            "Fitting estimator with 257 features.\n",
            "[Pipeline] ............. (step 1 of 2) Processing scale, total=   1.1s\n",
            "[Pipeline] ................ (step 2 of 2) Processing DT, total=   3.9s\n",
            "Fitting estimator with 252 features.\n",
            "[Pipeline] ............. (step 1 of 2) Processing scale, total=   1.0s\n",
            "[Pipeline] ................ (step 2 of 2) Processing DT, total=   3.9s\n",
            "Fitting estimator with 247 features.\n",
            "[Pipeline] ............. (step 1 of 2) Processing scale, total=   1.0s\n",
            "[Pipeline] ................ (step 2 of 2) Processing DT, total=   3.7s\n",
            "Fitting estimator with 242 features.\n",
            "[Pipeline] ............. (step 1 of 2) Processing scale, total=   1.0s\n",
            "[Pipeline] ................ (step 2 of 2) Processing DT, total=   3.7s\n",
            "Fitting estimator with 237 features.\n",
            "[Pipeline] ............. (step 1 of 2) Processing scale, total=   1.0s\n",
            "[Pipeline] ................ (step 2 of 2) Processing DT, total=   3.7s\n",
            "Fitting estimator with 232 features.\n",
            "[Pipeline] ............. (step 1 of 2) Processing scale, total=   0.9s\n",
            "[Pipeline] ................ (step 2 of 2) Processing DT, total=   3.6s\n",
            "Fitting estimator with 227 features.\n",
            "[Pipeline] ............. (step 1 of 2) Processing scale, total=   0.9s\n",
            "[Pipeline] ................ (step 2 of 2) Processing DT, total=   3.5s\n",
            "Fitting estimator with 222 features.\n",
            "[Pipeline] ............. (step 1 of 2) Processing scale, total=   0.9s\n",
            "[Pipeline] ................ (step 2 of 2) Processing DT, total=   3.5s\n",
            "Fitting estimator with 217 features.\n",
            "[Pipeline] ............. (step 1 of 2) Processing scale, total=   0.9s\n",
            "[Pipeline] ................ (step 2 of 2) Processing DT, total=   3.4s\n",
            "Fitting estimator with 212 features.\n",
            "[Pipeline] ............. (step 1 of 2) Processing scale, total=   0.9s\n",
            "[Pipeline] ................ (step 2 of 2) Processing DT, total=   3.4s\n",
            "Fitting estimator with 207 features.\n",
            "[Pipeline] ............. (step 1 of 2) Processing scale, total=   0.8s\n",
            "[Pipeline] ................ (step 2 of 2) Processing DT, total=   3.2s\n",
            "Fitting estimator with 202 features.\n",
            "[Pipeline] ............. (step 1 of 2) Processing scale, total=   0.8s\n",
            "[Pipeline] ................ (step 2 of 2) Processing DT, total=   3.3s\n",
            "Fitting estimator with 197 features.\n",
            "[Pipeline] ............. (step 1 of 2) Processing scale, total=   0.8s\n",
            "[Pipeline] ................ (step 2 of 2) Processing DT, total=   3.1s\n",
            "Fitting estimator with 192 features.\n",
            "[Pipeline] ............. (step 1 of 2) Processing scale, total=   0.8s\n",
            "[Pipeline] ................ (step 2 of 2) Processing DT, total=   3.1s\n",
            "Fitting estimator with 187 features.\n",
            "[Pipeline] ............. (step 1 of 2) Processing scale, total=   0.8s\n",
            "[Pipeline] ................ (step 2 of 2) Processing DT, total=   3.0s\n",
            "Fitting estimator with 182 features.\n",
            "[Pipeline] ............. (step 1 of 2) Processing scale, total=   0.8s\n",
            "[Pipeline] ................ (step 2 of 2) Processing DT, total=   3.0s\n",
            "Fitting estimator with 177 features.\n",
            "[Pipeline] ............. (step 1 of 2) Processing scale, total=   0.7s\n",
            "[Pipeline] ................ (step 2 of 2) Processing DT, total=   2.9s\n",
            "Fitting estimator with 172 features.\n",
            "[Pipeline] ............. (step 1 of 2) Processing scale, total=   0.7s\n",
            "[Pipeline] ................ (step 2 of 2) Processing DT, total=   2.8s\n",
            "Fitting estimator with 167 features.\n",
            "[Pipeline] ............. (step 1 of 2) Processing scale, total=   0.7s\n",
            "[Pipeline] ................ (step 2 of 2) Processing DT, total=   2.9s\n",
            "Fitting estimator with 162 features.\n",
            "[Pipeline] ............. (step 1 of 2) Processing scale, total=   0.7s\n",
            "[Pipeline] ................ (step 2 of 2) Processing DT, total=   2.5s\n",
            "Fitting estimator with 157 features.\n",
            "[Pipeline] ............. (step 1 of 2) Processing scale, total=   0.7s\n",
            "[Pipeline] ................ (step 2 of 2) Processing DT, total=   2.6s\n",
            "Fitting estimator with 152 features.\n",
            "[Pipeline] ............. (step 1 of 2) Processing scale, total=   0.6s\n",
            "[Pipeline] ................ (step 2 of 2) Processing DT, total=   2.4s\n",
            "Fitting estimator with 147 features.\n",
            "[Pipeline] ............. (step 1 of 2) Processing scale, total=   0.6s\n",
            "[Pipeline] ................ (step 2 of 2) Processing DT, total=   2.3s\n",
            "Fitting estimator with 142 features.\n",
            "[Pipeline] ............. (step 1 of 2) Processing scale, total=   0.6s\n",
            "[Pipeline] ................ (step 2 of 2) Processing DT, total=   2.3s\n",
            "Fitting estimator with 137 features.\n",
            "[Pipeline] ............. (step 1 of 2) Processing scale, total=   0.6s\n",
            "[Pipeline] ................ (step 2 of 2) Processing DT, total=   2.2s\n",
            "Fitting estimator with 132 features.\n",
            "[Pipeline] ............. (step 1 of 2) Processing scale, total=   0.6s\n",
            "[Pipeline] ................ (step 2 of 2) Processing DT, total=   2.1s\n",
            "Fitting estimator with 127 features.\n",
            "[Pipeline] ............. (step 1 of 2) Processing scale, total=   0.5s\n",
            "[Pipeline] ................ (step 2 of 2) Processing DT, total=   2.1s\n",
            "[Pipeline] ............. (step 1 of 2) Processing scale, total=   0.5s\n",
            "[Pipeline] ................ (step 2 of 2) Processing DT, total=   2.0s\n",
            "[Pipeline] ............. (step 1 of 2) Processing scale, total=   0.5s\n",
            "[Pipeline] ................ (step 2 of 2) Processing DT, total=   2.0s\n",
            "Optimal number of features : 122\n"
          ],
          "name": "stdout"
        }
      ]
    },
    {
      "cell_type": "code",
      "metadata": {
        "colab_type": "code",
        "id": "YP_3TVcMvg8R",
        "outputId": "b536aa95-5181-476a-f4ef-d9698e1f806f",
        "colab": {
          "base_uri": "https://localhost:8080/",
          "height": 280
        }
      },
      "source": [
        "# Plot number of features VS. cross-validation scores\n",
        "plt.figure()\n",
        "plt.xlabel(\"Number of features selected\")\n",
        "plt.ylabel(\"Cross validation score (mean squared error)\")\n",
        "plt.plot(range(2, 5*len(selectionObj.grid_scores_) + 2, 5), selectionObj.grid_scores_)\n",
        "plt.show()"
      ],
      "execution_count": 0,
      "outputs": [
        {
          "output_type": "display_data",
          "data": {
            "image/png": "[encoded data removed]",
            "text/plain": [
              "<Figure size 432x288 with 1 Axes>"
            ]
          },
          "metadata": {
            "tags": [],
            "needs_background": "light"
          }
        }
      ]
    },
    {
      "cell_type": "code",
      "metadata": {
        "colab_type": "code",
        "id": "3PDn0OeZviwK",
        "outputId": "f7733daf-a8e5-4e5e-d03d-dc8cc553f0a8",
        "colab": {
          "base_uri": "https://localhost:8080/",
          "height": 153
        }
      },
      "source": [
        "#check features\n",
        "selected_features = X_train.columns[selectionObj.support_]\n",
        "print(selected_features)"
      ],
      "execution_count": 0,
      "outputs": [
        {
          "output_type": "stream",
          "text": [
            "Index(['gearbox', 'powerPS', 'kilometer', 'monthOfRegistration',\n",
            "       'notRepairedDamage', 'brand_audi', 'brand_bmw', 'brand_chevrolet',\n",
            "       'brand_chrysler', 'brand_citroen',\n",
            "       ...\n",
            "       'model_x_reihe', 'model_x_trail', 'model_x_type', 'model_xc_reihe',\n",
            "       'model_yaris', 'model_yeti', 'model_ypsilon', 'model_z_reihe',\n",
            "       'model_zafira', 'years_old'],\n",
            "      dtype='object', length=122)\n"
          ],
          "name": "stdout"
        }
      ]
    },
    {
      "cell_type": "code",
      "metadata": {
        "colab_type": "code",
        "id": "nFPAHWWovkJy",
        "outputId": "73a4e6aa-0a9f-4a6e-c48e-30c998d97b64",
        "colab": {
          "base_uri": "https://localhost:8080/",
          "height": 34
        }
      },
      "source": [
        "#Making predictions on the Test Set\n",
        "y_pred = selectionObj.predict(X_test)\n",
        "\n",
        "#Evaluating the predictions using a Confusion Matrix\n",
        "from sklearn.metrics import mean_squared_error\n",
        "print(mean_squared_error(y_pred,y_test))"
      ],
      "execution_count": 0,
      "outputs": [
        {
          "output_type": "stream",
          "text": [
            "0.040099079653937095\n"
          ],
          "name": "stdout"
        }
      ]
    },
    {
      "cell_type": "code",
      "metadata": {
        "colab_type": "code",
        "id": "ZbAOD_wVvwv_",
        "outputId": "3dd09f8d-1557-403e-93fe-30af0bca4560",
        "colab": {
          "base_uri": "https://localhost:8080/",
          "height": 272
        }
      },
      "source": [
        "print(10**y_pred)\n",
        "print(10**y_test)\n",
        "print(mean_squared_error(10**y_test,10**y_pred))"
      ],
      "execution_count": 0,
      "outputs": [
        {
          "output_type": "stream",
          "text": [
            "[  748.35256113 13942.4438755  11425.02599297 ... 11264.18436024\n",
            "  7787.98431295  3208.37772608]\n",
            "85971      1300.0\n",
            "205804    10900.0\n",
            "13374      8200.0\n",
            "235012    11000.0\n",
            "169522     1150.0\n",
            "           ...   \n",
            "16494      4500.0\n",
            "259055     2500.0\n",
            "24516     12800.0\n",
            "13263      7500.0\n",
            "25001      3500.0\n",
            "Name: log_price, Length: 81600, dtype: float64\n",
            "58869216.0597717\n"
          ],
          "name": "stdout"
        }
      ]
    },
    {
      "cell_type": "code",
      "metadata": {
        "colab_type": "code",
        "id": "dpjSlV_qXUNg",
        "outputId": "040b11e4-589a-4771-9551-6246a8b239c0",
        "colab": {
          "base_uri": "https://localhost:8080/",
          "height": 54
        }
      },
      "source": [
        "# store resulting model columns\n",
        "print(selectionObj.support_.tolist())"
      ],
      "execution_count": 0,
      "outputs": [
        {
          "output_type": "stream",
          "text": [
            "[True, True, True, True, True, True, True, True, True, True, True, True, True, True, True, True, True, True, True, True, False, False, False, True, True, True, True, False, True, True, True, True, False, False, True, True, True, True, False, False, True, False, True, True, True, True, True, True, True, True, True, True, False, True, False, False, False, True, False, True, False, False, True, False, True, False, True, True, False, True, False, True, False, False, False, False, True, False, False, False, False, True, True, False, True, True, True, True, False, True, False, False, False, False, False, False, True, False, True, True, False, False, False, False, False, False, False, False, False, False, False, False, False, False, False, False, True, False, False, True, False, False, False, False, False, False, False, False, False, False, False, False, True, True, False, False, False, True, False, False, True, False, False, False, False, False, False, False, False, False, False, False, False, True, False, False, False, False, False, False, True, True, False, False, True, True, False, False, False, False, False, False, False, False, True, False, False, False, True, False, True, False, False, False, False, False, True, False, False, False, False, False, False, False, False, False, False, False, False, False, False, True, False, True, True, False, True, True, False, True, False, False, True, False, False, False, True, False, False, False, False, False, True, False, False, False, False, True, False, False, True, False, False, True, True, False, True, False, False, False, False, False, False, False, False, True, False, False, False, True, False, False, False, False, False, False, False, False, False, False, True, False, False, True, True, False, False, False, False, True, True, True, False, False, False, True, True, True, True, False, True, True, False, True, True, True, False, False, False, False, True, False, False, True, True, False, False, True, True, True, True, True, True, True, True, True, True]\n"
          ],
          "name": "stdout"
        }
      ]
    },
    {
      "cell_type": "code",
      "metadata": {
        "colab_type": "code",
        "id": "eu5dO8hMXiob",
        "colab": {}
      },
      "source": [
        "# Get selected columns from previous result\n",
        "mask = [True, True, True, True, True, True, True, True, True, True, True, True, True, True, True, True, True, True, True, True, False, False, False, True, True, True, True, False, True, True, True, True, False, False, True, True, True, True, False, False, True, False, True, True, True, True, True, True, True, True, True, True, False, True, False, False, False, True, False, True, False, False, True, False, True, False, True, True, False, True, False, True, False, False, False, False, True, False, False, False, False, True, True, False, True, True, True, True, False, True, False, False, False, False, False, False, True, False, True, True, False, False, False, False, False, False, False, False, False, False, False, False, False, False, False, False, True, False, False, True, False, False, False, False, False, False, False, False, False, False, False, False, True, True, False, False, False, True, False, False, True, False, False, False, False, False, False, False, False, False, False, False, False, True, False, False, False, False, False, False, True, True, False, False, True, True, False, False, False, False, False, False, False, False, True, False, False, False, True, False, True, False, False, False, False, False, True, False, False, False, False, False, False, False, False, False, False, False, False, False, False, True, False, True, True, False, True, True, False, True, False, False, True, False, False, False, True, False, False, False, False, False, True, False, False, False, False, True, False, False, True, False, False, True, True, False, True, False, False, False, False, False, False, False, False, True, False, False, False, True, False, False, False, False, False, False, False, False, False, False, True, False, False, True, True, False, False, False, False, True, True, True, False, False, False, True, True, True, True, False, True, True, False, True, True, True, False, False, False, False, True, False, False, True, True, False, False, True, True, True, True, True, True, True, True, True, True]\n",
        "df = X.iloc[:,mask]"
      ],
      "execution_count": 0,
      "outputs": []
    },
    {
      "cell_type": "code",
      "metadata": {
        "colab_type": "code",
        "id": "gSh-2SC-Kbp8",
        "outputId": "7dfbc17b-3d8c-4f90-e89e-cb089e00f569",
        "colab": {
          "base_uri": "https://localhost:8080/",
          "height": 68
        }
      },
      "source": [
        "#Loop for counting brand and model variables\n",
        "column_list = df.columns.tolist()\n",
        "model_cnt = 0\n",
        "brand_cnt = 0\n",
        "total_cnt = 0\n",
        "\n",
        "for item in column_list:\n",
        "  if item.startswith('model'):\n",
        "    model_cnt += 1\n",
        "  elif item.startswith('brand'):\n",
        "    brand_cnt += 1\n",
        "  total_cnt +=1\n",
        "print('models: ', model_cnt)\n",
        "print('brands: ', brand_cnt)\n",
        "print('total: ', total_cnt)"
      ],
      "execution_count": 0,
      "outputs": [
        {
          "output_type": "stream",
          "text": [
            "models:  77\n",
            "brands:  30\n",
            "total:  122\n"
          ],
          "name": "stdout"
        }
      ]
    },
    {
      "cell_type": "markdown",
      "metadata": {
        "id": "xSTEy5xl0Vgf",
        "colab_type": "text"
      },
      "source": [
        "## RFE on Random Forest models"
      ]
    },
    {
      "cell_type": "code",
      "metadata": {
        "colab_type": "code",
        "id": "wUfupTgqvAWX",
        "colab": {}
      },
      "source": [
        "# Random Forest + Feature Selection\n",
        "\n",
        "import numpy as np\n",
        "import matplotlib.pyplot as plt\n",
        "import pandas as pd\n",
        "\n",
        "#Loading the dataset\n",
        "try:\n",
        "  dataset = pd.read_csv('processed.csv')\n",
        "except:\n",
        "  dataset = pd.read_csv('drive/My Drive/processed.csv')\n",
        "\n",
        "# print(dataset)\n",
        "\n",
        "X = dataset.iloc[:,2:] #We are not using column 1. Also we slice it this way because we want X to be a matrix\n",
        "y = dataset.iloc[:,1]\n",
        "\n",
        "from sklearn.model_selection import train_test_split\n",
        "X_train, X_test, y_train, y_test = train_test_split(X,y, test_size = 0.3, random_state = 0)"
      ],
      "execution_count": 0,
      "outputs": []
    },
    {
      "cell_type": "code",
      "metadata": {
        "colab_type": "code",
        "outputId": "a9ea23cf-661e-4edd-c727-a3271a3eb5d0",
        "id": "NPBvFJUgvAWY",
        "colab": {
          "base_uri": "https://localhost:8080/",
          "height": 403
        }
      },
      "source": [
        "#import model\n",
        "from sklearn.preprocessing import StandardScaler\n",
        "from sklearn.ensemble import RandomForestRegressor\n",
        "from sklearn.pipeline import Pipeline\n",
        "from sklearn.feature_selection import RFECV\n",
        "\n",
        "# define new class for pipeline that passes feature importance or coef to RFE\n",
        "class PipelineRFE(Pipeline):\n",
        "\n",
        "    def fit(self, X, y=None, **fit_params):\n",
        "        super(PipelineRFE, self).fit(X, y, **fit_params)\n",
        "        self.feature_importances_ = self.steps[-1][-1].feature_importances_\n",
        "        return self\n",
        "\n",
        "RF_pipeline =  PipelineRFE([\n",
        "                    ('scale', StandardScaler()), \n",
        "                    ('RF', RandomForestRegressor(random_state=0, n_estimators=10, min_samples_leaf=4))\n",
        "                     ], verbose=True)\n",
        "\n",
        "selectionObj = RFECV(RF_pipeline, min_features_to_select=1, step=5, cv=10, scoring='neg_mean_squared_error', n_jobs=-1, verbose=10)\n",
        "selectionObj.fit(X_train, y_train)\n",
        "print(\"Optimal number of features : %d\" % selectionObj.n_features_)"
      ],
      "execution_count": 0,
      "outputs": [
        {
          "output_type": "stream",
          "text": [
            "Fitting estimator with 307 features.\n",
            "[Pipeline] ............. (step 1 of 2) Processing scale, total=   2.1s\n",
            "[Pipeline] ................ (step 2 of 2) Processing RF, total=  37.1s\n",
            "Fitting estimator with 302 features.\n",
            "[Pipeline] ............. (step 1 of 2) Processing scale, total=   1.4s\n",
            "[Pipeline] ................ (step 2 of 2) Processing RF, total=  36.2s\n",
            "Fitting estimator with 297 features.\n",
            "[Pipeline] ............. (step 1 of 2) Processing scale, total=   1.4s\n",
            "[Pipeline] ................ (step 2 of 2) Processing RF, total=  36.6s\n",
            "Fitting estimator with 292 features.\n",
            "[Pipeline] ............. (step 1 of 2) Processing scale, total=   1.4s\n",
            "[Pipeline] ................ (step 2 of 2) Processing RF, total=  36.2s\n",
            "Fitting estimator with 287 features.\n",
            "[Pipeline] ............. (step 1 of 2) Processing scale, total=   1.4s\n",
            "[Pipeline] ................ (step 2 of 2) Processing RF, total=  35.7s\n",
            "Fitting estimator with 282 features.\n",
            "[Pipeline] ............. (step 1 of 2) Processing scale, total=   1.3s\n",
            "[Pipeline] ................ (step 2 of 2) Processing RF, total=  35.1s\n",
            "Fitting estimator with 277 features.\n",
            "[Pipeline] ............. (step 1 of 2) Processing scale, total=   1.3s\n",
            "[Pipeline] ................ (step 2 of 2) Processing RF, total=  35.6s\n",
            "Fitting estimator with 272 features.\n",
            "[Pipeline] ............. (step 1 of 2) Processing scale, total=   1.3s\n",
            "[Pipeline] ................ (step 2 of 2) Processing RF, total=  34.8s\n",
            "Fitting estimator with 267 features.\n",
            "[Pipeline] ............. (step 1 of 2) Processing scale, total=   1.3s\n",
            "[Pipeline] ................ (step 2 of 2) Processing RF, total=  34.4s\n",
            "Fitting estimator with 262 features.\n",
            "[Pipeline] ............. (step 1 of 2) Processing scale, total=   1.2s\n",
            "[Pipeline] ................ (step 2 of 2) Processing RF, total=  33.6s\n",
            "Fitting estimator with 257 features.\n",
            "[Pipeline] ............. (step 1 of 2) Processing scale, total=   1.2s\n",
            "[Pipeline] ................ (step 2 of 2) Processing RF, total=  33.0s\n",
            "Fitting estimator with 252 features.\n",
            "[Pipeline] ............. (step 1 of 2) Processing scale, total=   1.2s\n",
            "[Pipeline] ................ (step 2 of 2) Processing RF, total=  33.0s\n",
            "Fitting estimator with 247 features.\n",
            "[Pipeline] ............. (step 1 of 2) Processing scale, total=   1.2s\n",
            "[Pipeline] ................ (step 2 of 2) Processing RF, total=  32.1s\n",
            "Fitting estimator with 242 features.\n",
            "[Pipeline] ............. (step 1 of 2) Processing scale, total=   1.2s\n",
            "[Pipeline] ................ (step 2 of 2) Processing RF, total=  32.4s\n",
            "Fitting estimator with 237 features.\n",
            "[Pipeline] ............. (step 1 of 2) Processing scale, total=   1.1s\n",
            "[Pipeline] ................ (step 2 of 2) Processing RF, total=  31.7s\n",
            "Fitting estimator with 232 features.\n",
            "[Pipeline] ............. (step 1 of 2) Processing scale, total=   1.1s\n",
            "[Pipeline] ................ (step 2 of 2) Processing RF, total=  31.2s\n",
            "Fitting estimator with 227 features.\n",
            "[Pipeline] ............. (step 1 of 2) Processing scale, total=   1.1s\n",
            "[Pipeline] ................ (step 2 of 2) Processing RF, total=  31.2s\n",
            "Fitting estimator with 222 features.\n",
            "[Pipeline] ............. (step 1 of 2) Processing scale, total=   1.1s\n",
            "[Pipeline] ................ (step 2 of 2) Processing RF, total=  30.9s\n",
            "Fitting estimator with 217 features.\n",
            "[Pipeline] ............. (step 1 of 2) Processing scale, total=   1.0s\n",
            "[Pipeline] ................ (step 2 of 2) Processing RF, total=  30.3s\n",
            "Fitting estimator with 212 features.\n",
            "[Pipeline] ............. (step 1 of 2) Processing scale, total=   1.0s\n",
            "[Pipeline] ................ (step 2 of 2) Processing RF, total=  30.0s\n",
            "Fitting estimator with 207 features.\n",
            "[Pipeline] ............. (step 1 of 2) Processing scale, total=   1.0s\n",
            "[Pipeline] ................ (step 2 of 2) Processing RF, total=  29.9s\n",
            "Fitting estimator with 202 features.\n",
            "[Pipeline] ............. (step 1 of 2) Processing scale, total=   1.0s\n",
            "[Pipeline] ................ (step 2 of 2) Processing RF, total=  29.3s\n",
            "Fitting estimator with 197 features.\n",
            "[Pipeline] ............. (step 1 of 2) Processing scale, total=   0.9s\n",
            "[Pipeline] ................ (step 2 of 2) Processing RF, total=  28.4s\n",
            "Fitting estimator with 192 features.\n",
            "[Pipeline] ............. (step 1 of 2) Processing scale, total=   0.9s\n",
            "[Pipeline] ................ (step 2 of 2) Processing RF, total=  28.1s\n",
            "Fitting estimator with 187 features.\n",
            "[Pipeline] ............. (step 1 of 2) Processing scale, total=   0.9s\n",
            "[Pipeline] ................ (step 2 of 2) Processing RF, total=  30.7s\n",
            "Fitting estimator with 182 features.\n",
            "[Pipeline] ............. (step 1 of 2) Processing scale, total=   0.9s\n",
            "[Pipeline] ................ (step 2 of 2) Processing RF, total=  29.3s\n",
            "Fitting estimator with 177 features.\n",
            "[Pipeline] ............. (step 1 of 2) Processing scale, total=   0.8s\n",
            "[Pipeline] ................ (step 2 of 2) Processing RF, total=  29.0s\n",
            "Fitting estimator with 172 features.\n",
            "[Pipeline] ............. (step 1 of 2) Processing scale, total=   0.8s\n",
            "[Pipeline] ................ (step 2 of 2) Processing RF, total=  28.1s\n",
            "Fitting estimator with 167 features.\n",
            "[Pipeline] ............. (step 1 of 2) Processing scale, total=   0.8s\n",
            "[Pipeline] ................ (step 2 of 2) Processing RF, total=  27.7s\n",
            "Fitting estimator with 162 features.\n",
            "[Pipeline] ............. (step 1 of 2) Processing scale, total=   0.8s\n",
            "[Pipeline] ................ (step 2 of 2) Processing RF, total=  27.0s\n",
            "[Pipeline] ............. (step 1 of 2) Processing scale, total=   0.8s\n",
            "[Pipeline] ................ (step 2 of 2) Processing RF, total=  26.5s\n",
            "[Pipeline] ............. (step 1 of 2) Processing scale, total=   0.8s\n",
            "[Pipeline] ................ (step 2 of 2) Processing RF, total=  26.8s\n",
            "Optimal number of features : 157\n"
          ],
          "name": "stdout"
        }
      ]
    },
    {
      "cell_type": "code",
      "metadata": {
        "colab_type": "code",
        "outputId": "5e174eeb-a33d-46dd-be70-99e43f2e60f4",
        "id": "lGbueFSPvAWZ",
        "colab": {
          "base_uri": "https://localhost:8080/",
          "height": 280
        }
      },
      "source": [
        "# Plot number of features VS. cross-validation scores\n",
        "plt.figure()\n",
        "plt.xlabel(\"Number of features selected\")\n",
        "plt.ylabel(\"Cross validation score (mean squared error)\")\n",
        "plt.plot(range(2, 5*len(selectionObj.grid_scores_) + 2, 5), selectionObj.grid_scores_)\n",
        "plt.show()"
      ],
      "execution_count": 0,
      "outputs": [
        {
          "output_type": "display_data",
          "data": {
            "image/png": "[encoded data removed]",
            "text/plain": [
              "<Figure size 432x288 with 1 Axes>"
            ]
          },
          "metadata": {
            "tags": [],
            "needs_background": "light"
          }
        }
      ]
    },
    {
      "cell_type": "code",
      "metadata": {
        "colab_type": "code",
        "outputId": "7d6645e1-922e-496e-eaff-59eade9f7f61",
        "id": "bkuoRbuNvAWa",
        "colab": {
          "base_uri": "https://localhost:8080/",
          "height": 151
        }
      },
      "source": [
        "#check features\n",
        "selected_features = X_train.columns[selectionObj.support_]\n",
        "print(selected_features)"
      ],
      "execution_count": 0,
      "outputs": [
        {
          "output_type": "stream",
          "text": [
            "Index(['gearbox', 'powerPS', 'kilometer', 'monthOfRegistration',\n",
            "       'notRepairedDamage', 'brand_audi', 'brand_bmw', 'brand_chevrolet',\n",
            "       'brand_chrysler', 'brand_citroen',\n",
            "       ...\n",
            "       'model_v70', 'model_vectra', 'model_viano', 'model_vito',\n",
            "       'model_vivaro', 'model_wrangler', 'model_x_reihe', 'model_z_reihe',\n",
            "       'model_zafira', 'years_old'],\n",
            "      dtype='object', length=157)\n"
          ],
          "name": "stdout"
        }
      ]
    },
    {
      "cell_type": "code",
      "metadata": {
        "colab_type": "code",
        "outputId": "bd10ee40-a87d-49b4-9cec-ba1ffd27d5a1",
        "id": "CyFurSQ4vAWb",
        "colab": {
          "base_uri": "https://localhost:8080/",
          "height": 34
        }
      },
      "source": [
        "#Making predictions on the Test Set\n",
        "y_pred = selectionObj.predict(X_test)\n",
        "\n",
        "#Evaluating the predictions using a Confusion Matrix\n",
        "from sklearn.metrics import mean_squared_error\n",
        "print(mean_squared_error(y_pred,y_test))"
      ],
      "execution_count": 0,
      "outputs": [
        {
          "output_type": "stream",
          "text": [
            "0.03405538725913902\n"
          ],
          "name": "stdout"
        }
      ]
    },
    {
      "cell_type": "code",
      "metadata": {
        "colab_type": "code",
        "outputId": "f8ce49e7-b8a7-48fa-b012-858bebd2fb01",
        "id": "JzSpF-aTvAWc",
        "colab": {
          "base_uri": "https://localhost:8080/",
          "height": 269
        }
      },
      "source": [
        "print(10**y_pred)\n",
        "print(10**y_test)\n",
        "print(mean_squared_error(10**y_test,10**y_pred))"
      ],
      "execution_count": 0,
      "outputs": [
        {
          "output_type": "stream",
          "text": [
            "[  797.16396685 12185.19869657 10298.9587313  ... 12831.01816248\n",
            "  9583.69195246  4200.84133083]\n",
            "85971      1300.0\n",
            "205804    10900.0\n",
            "13374      8200.0\n",
            "235012    11000.0\n",
            "169522     1150.0\n",
            "           ...   \n",
            "16494      4500.0\n",
            "259055     2500.0\n",
            "24516     12800.0\n",
            "13263      7500.0\n",
            "25001      3500.0\n",
            "Name: log_price, Length: 81600, dtype: float64\n",
            "52049748.08540151\n"
          ],
          "name": "stdout"
        }
      ]
    },
    {
      "cell_type": "code",
      "metadata": {
        "colab_type": "code",
        "outputId": "c91cd051-96e2-45bb-b2c7-5a2c9319fb9d",
        "id": "c81HH9j6vAWd",
        "colab": {}
      },
      "source": [
        "not_selected = np.invert(selectionObj.support_)\n",
        "removed_features = X_train.iloc[:,not_selected]\n",
        "selected_features = X_train.iloc[:, selectionObj.support_]\n",
        "#Display removed features by count of positives\n",
        "print(dict(zip(removed_features.columns.tolist(), removed_features.sum().tolist())))"
      ],
      "execution_count": 0,
      "outputs": [
        {
          "output_type": "stream",
          "text": [
            "{'brand_lada': 88, 'brand_lancia': 230, 'brand_rover': 207, 'brand_subaru': 399, 'fuelType_cng': 326, 'fuelType_elektro': 39, 'fuelType_hybrid': 167, 'model_145': 20, 'model_159': 127, 'model_200': 8, 'model_300c': 82, 'model_5_reihe': 246, 'model_601': 113, 'model_6er': 140, 'model_850': 100, 'model_90': 43, 'model_900': 55, 'model_9000': 23, 'model_a1': 410, 'model_accord': 200, 'model_agila': 216, 'model_almera': 285, 'model_altea': 198, 'model_amarok': 23, 'model_antara': 64, 'model_auris': 140, 'model_avensis': 335, 'model_aveo': 70, 'model_aygo': 237, 'model_b_max': 17, 'model_boxster': 259, 'model_bravo': 151, 'model_c1': 218, 'model_c2': 217, 'model_c3': 273, 'model_c4': 260, 'model_c_max': 389, 'model_c_reihe': 123, 'model_captiva': 115, 'model_cayenne': 259, 'model_cc': 105, 'model_ceed': 148, 'model_charade': 13, 'model_cherokee': 75, 'model_citigo': 57, 'model_cl': 158, 'model_clubman': 124, 'model_combo': 205, 'model_cordoba': 185, 'model_corolla': 366, 'model_croma': 29, 'model_crossfire': 38, 'model_cx_reihe': 77, 'model_delta': 23, 'model_discovery': 63, 'model_discovery_sport': 1, 'model_doblo': 174, 'model_ducato': 183, 'model_duster': 120, 'model_elefantino': 4, 'model_eos': 341, 'model_espace': 259, 'model_exeo': 64, 'model_forester': 83, 'model_forfour': 209, 'model_freelander': 115, 'model_fusion': 158, 'model_getz': 216, 'model_gl': 39, 'model_glk': 138, 'model_grand': 363, 'model_i3': 3, 'model_impreza': 128, 'model_insignia': 431, 'model_jazz': 171, 'model_jetta': 171, 'model_juke': 64, 'model_justy': 64, 'model_kadett': 139, 'model_kalina': 3, 'model_kalos': 50, 'model_kangoo': 437, 'model_kappa': 8, 'model_kuga': 251, 'model_lancer': 124, 'model_lanos': 40, 'model_legacy': 72, 'model_lodgy': 18, 'model_logan': 184, 'model_lybra': 23, 'model_materia': 10, 'model_meriva': 598, 'model_mii': 54, 'model_modus': 168, 'model_move': 19, 'model_musa': 10, 'model_mustang': 165, 'model_navara': 61, 'model_niva': 64, 'model_note': 72, 'model_nubira': 25, 'model_outlander': 73, 'model_pajero': 120, 'model_phaeton': 132, 'model_picanto': 227, 'model_primera': 292, 'model_ptcruiser': 154, 'model_q3': 165, 'model_qashqai': 347, 'model_r19': 58, 'model_range_rover': 55, 'model_range_rover_evoque': 45, 'model_range_rover_sport': 68, 'model_rangerover': 3, 'model_rav': 214, 'model_rio': 216, 'model_roomster': 181, 'model_rx_reihe': 79, 'model_s60': 86, 'model_s_type': 71, 'model_samara': 3, 'model_sandero': 180, 'model_santa': 195, 'model_scirocco': 364, 'model_serie_2': 3, 'model_serie_3': 2, 'model_signum': 273, 'model_sirion': 78, 'model_sorento': 209, 'model_spark': 79, 'model_sportage': 176, 'model_superb': 248, 'model_swift': 378, 'model_terios': 17, 'model_tigra': 398, 'model_toledo': 156, 'model_touareg': 437, 'model_tucson': 129, 'model_up': 227, 'model_v50': 157, 'model_v60': 32, 'model_v_klasse': 79, 'model_verso': 199, 'model_voyager': 159, 'model_x_trail': 136, 'model_x_type': 80, 'model_xc_reihe': 215, 'model_yaris': 602, 'model_yeti': 140, 'model_ypsilon': 106}\n"
          ],
          "name": "stdout"
        }
      ]
    },
    {
      "cell_type": "code",
      "metadata": {
        "colab_type": "code",
        "id": "peirFbaSNsZ8",
        "outputId": "0ef760a4-9f86-4943-becc-e9cf86af533a",
        "colab": {}
      },
      "source": [
        "#Display selected features\n",
        "print(selected_features.columns.tolist())"
      ],
      "execution_count": 0,
      "outputs": [
        {
          "output_type": "stream",
          "text": [
            "['gearbox', 'powerPS', 'kilometer', 'monthOfRegistration', 'notRepairedDamage', 'brand_audi', 'brand_bmw', 'brand_chevrolet', 'brand_chrysler', 'brand_citroen', 'brand_dacia', 'brand_daewoo', 'brand_daihatsu', 'brand_fiat', 'brand_ford', 'brand_honda', 'brand_hyundai', 'brand_jaguar', 'brand_jeep', 'brand_kia', 'brand_land_rover', 'brand_mazda', 'brand_mercedes_benz', 'brand_mini', 'brand_mitsubishi', 'brand_nissan', 'brand_opel', 'brand_peugeot', 'brand_porsche', 'brand_renault', 'brand_saab', 'brand_seat', 'brand_skoda', 'brand_smart', 'brand_sonstige_autos', 'brand_suzuki', 'brand_toyota', 'brand_trabant', 'brand_volkswagen', 'brand_volvo', 'vehicleType_bus', 'vehicleType_cabrio', 'vehicleType_coupe', 'vehicleType_kleinwagen', 'vehicleType_kombi', 'vehicleType_limousine', 'vehicleType_suv', 'fuelType_benzin', 'fuelType_diesel', 'fuelType_lpg', 'model_147', 'model_156', 'model_1_reihe', 'model_1er', 'model_2_reihe', 'model_3_reihe', 'model_3er', 'model_4_reihe', 'model_500', 'model_5er', 'model_6_reihe', 'model_7er', 'model_80', 'model_911', 'model_a2', 'model_a3', 'model_a4', 'model_a5', 'model_a6', 'model_a8', 'model_a_klasse', 'model_alhambra', 'model_andere', 'model_arosa', 'model_astra', 'model_b_klasse', 'model_beetle', 'model_berlingo', 'model_bora', 'model_c5', 'model_c_klasse', 'model_caddy', 'model_calibra', 'model_carisma', 'model_carnival', 'model_civic', 'model_clio', 'model_clk', 'model_colt', 'model_cooper', 'model_corsa', 'model_cr_reihe', 'model_cuore', 'model_defender', 'model_e_klasse', 'model_escort', 'model_fabia', 'model_fiesta', 'model_focus', 'model_fortwo', 'model_fox', 'model_g_klasse', 'model_galant', 'model_galaxy', 'model_golf', 'model_i_reihe', 'model_ibiza', 'model_jimny', 'model_ka', 'model_kaefer', 'model_laguna', 'model_leon', 'model_lupo', 'model_m_klasse', 'model_m_reihe', 'model_matiz', 'model_megane', 'model_micra', 'model_mondeo', 'model_mx_reihe', 'model_octavia', 'model_omega', 'model_one', 'model_panda', 'model_passat', 'model_polo', 'model_punto', 'model_q5', 'model_q7', 'model_roadster', 'model_s_klasse', 'model_s_max', 'model_scenic', 'model_seicento', 'model_sharan', 'model_sl', 'model_slk', 'model_spider', 'model_sprinter', 'model_stilo', 'model_tiguan', 'model_touran', 'model_transit', 'model_transporter', 'model_tt', 'model_twingo', 'model_v40', 'model_v70', 'model_vectra', 'model_viano', 'model_vito', 'model_vivaro', 'model_wrangler', 'model_x_reihe', 'model_z_reihe', 'model_zafira', 'years_old']\n"
          ],
          "name": "stdout"
        }
      ]
    },
    {
      "cell_type": "code",
      "metadata": {
        "colab_type": "code",
        "id": "8dwH8jHQNwwQ",
        "colab": {}
      },
      "source": [
        "# Get columns without re-running model\n",
        "# copy previous output \n",
        "column_names = ['gearbox', 'powerPS', 'kilometer', 'monthOfRegistration', 'notRepairedDamage', 'brand_audi', 'brand_bmw', 'brand_chevrolet', 'brand_chrysler', 'brand_citroen', 'brand_dacia', 'brand_daewoo', 'brand_daihatsu', 'brand_fiat', 'brand_ford', 'brand_honda', 'brand_hyundai', 'brand_jaguar', 'brand_jeep', 'brand_kia', 'brand_land_rover', 'brand_mazda', 'brand_mercedes_benz', 'brand_mini', 'brand_mitsubishi', 'brand_nissan', 'brand_opel', 'brand_peugeot', 'brand_porsche', 'brand_renault', 'brand_saab', 'brand_seat', 'brand_skoda', 'brand_smart', 'brand_sonstige_autos', 'brand_suzuki', 'brand_toyota', 'brand_trabant', 'brand_volkswagen', 'brand_volvo', 'vehicleType_bus', 'vehicleType_cabrio', 'vehicleType_coupe', 'vehicleType_kleinwagen', 'vehicleType_kombi', 'vehicleType_limousine', 'vehicleType_suv', 'fuelType_benzin', 'fuelType_diesel', 'fuelType_lpg', 'model_147', 'model_156', 'model_1_reihe', 'model_1er', 'model_2_reihe', 'model_3_reihe', 'model_3er', 'model_4_reihe', 'model_500', 'model_5er', 'model_6_reihe', 'model_7er', 'model_80', 'model_911', 'model_a2', 'model_a3', 'model_a4', 'model_a5', 'model_a6', 'model_a8', 'model_a_klasse', 'model_alhambra', 'model_andere', 'model_arosa', 'model_astra', 'model_b_klasse', 'model_beetle', 'model_berlingo', 'model_bora', 'model_c5', 'model_c_klasse', 'model_caddy', 'model_calibra', 'model_carisma', 'model_carnival', 'model_civic', 'model_clio', 'model_clk', 'model_colt', 'model_cooper', 'model_corsa', 'model_cr_reihe', 'model_cuore', 'model_defender', 'model_e_klasse', 'model_escort', 'model_fabia', 'model_fiesta', 'model_focus', 'model_fortwo', 'model_fox', 'model_g_klasse', 'model_galant', 'model_galaxy', 'model_golf', 'model_i_reihe', 'model_ibiza', 'model_jimny', 'model_ka', 'model_kaefer', 'model_laguna', 'model_leon', 'model_lupo', 'model_m_klasse', 'model_m_reihe', 'model_matiz', 'model_megane', 'model_micra', 'model_mondeo', 'model_mx_reihe', 'model_octavia', 'model_omega', 'model_one', 'model_panda', 'model_passat', 'model_polo', 'model_punto', 'model_q5', 'model_q7', 'model_roadster', 'model_s_klasse', 'model_s_max', 'model_scenic', 'model_seicento', 'model_sharan', 'model_sl', 'model_slk', 'model_spider', 'model_sprinter', 'model_stilo', 'model_tiguan', 'model_touran', 'model_transit', 'model_transporter', 'model_tt', 'model_twingo', 'model_v40', 'model_v70', 'model_vectra', 'model_viano', 'model_vito', 'model_vivaro', 'model_wrangler', 'model_x_reihe', 'model_z_reihe', 'model_zafira', 'years_old']\n",
        "\n",
        "df = X.loc[:, X.columns.isin(column_names)]"
      ],
      "execution_count": 0,
      "outputs": []
    },
    {
      "cell_type": "code",
      "metadata": {
        "colab_type": "code",
        "id": "S3znEXL0NsZ-",
        "outputId": "37c3f474-d42b-4d4b-cffb-1df55fb3c59d",
        "colab": {
          "base_uri": "https://localhost:8080/",
          "height": 68
        }
      },
      "source": [
        "#Loop for counting brand and model variables\n",
        "column_list = df.columns.tolist()\n",
        "model_cnt = 0\n",
        "brand_cnt = 0\n",
        "total_cnt = 0\n",
        "\n",
        "for item in column_list:\n",
        "  if item.startswith('model'):\n",
        "    model_cnt += 1\n",
        "  elif item.startswith('brand'):\n",
        "    brand_cnt += 1\n",
        "  total_cnt +=1\n",
        "print('models: ', model_cnt)\n",
        "print('brands: ', brand_cnt)\n",
        "print('total: ', total_cnt)"
      ],
      "execution_count": 0,
      "outputs": [
        {
          "output_type": "stream",
          "text": [
            "models:  106\n",
            "brands:  35\n",
            "total:  157\n"
          ],
          "name": "stdout"
        }
      ]
    },
    {
      "cell_type": "markdown",
      "metadata": {
        "id": "rhdY4WmM0cWC",
        "colab_type": "text"
      },
      "source": [
        "#6. Polynomial and Regularized Regression"
      ]
    },
    {
      "cell_type": "code",
      "metadata": {
        "colab_type": "code",
        "id": "kGb6olXB1tly",
        "colab": {}
      },
      "source": [
        "# Regularized Regression\n",
        "# We will now be importing some required libraries\n",
        "\n",
        "import numpy as np\n",
        "import matplotlib.pyplot as plt\n",
        "import pandas as pd\n",
        "\n",
        "#Loading the dataset\n",
        "try:\n",
        "  dataset = pd.read_csv('processed_without_modelbrand.csv')\n",
        "except:\n",
        "  dataset = pd.read_csv('drive/My Drive/processed_without_modelbrand.csv')\n",
        "X = dataset.iloc[:,2:].values #We are not using column 1. Also we slice it this way because we want X to be a matrix\n",
        "y = dataset.iloc[:,1].values\n",
        "\n",
        "#Splitting the data into Training Set and Test Set\n",
        "from sklearn.model_selection import train_test_split\n",
        "X_train, X_test, y_train, y_test = train_test_split(X,y,test_size=0.3,random_state=0)"
      ],
      "execution_count": 0,
      "outputs": []
    },
    {
      "cell_type": "code",
      "metadata": {
        "colab_type": "code",
        "id": "MdCmIVG01tl2",
        "outputId": "94cdf959-f09b-411f-97e0-b4de1c3c02a1",
        "colab": {
          "base_uri": "https://localhost:8080/",
          "height": 34
        }
      },
      "source": [
        "from sklearn.preprocessing import PolynomialFeatures, StandardScaler\n",
        "from sklearn.linear_model import LinearRegression, RidgeCV, LassoCV, ElasticNetCV\n",
        "\n",
        "#Normalizing the features\n",
        "sc_X = StandardScaler()\n",
        "X_train = sc_X.fit_transform(X_train)\n",
        "X_test = sc_X.transform(X_test)\n",
        "\n",
        "#Polynomial Regression with No Regularization\n",
        "polyFeatureObj = PolynomialFeatures(degree=2)\n",
        "X_poly = polyFeatureObj.fit_transform(X_train)\n",
        "X_poly_test = polyFeatureObj.transform(X_test)\n",
        "prObj = LinearRegression(n_jobs=-1)\n",
        "prObj.fit(X_poly, y_train)\n"
      ],
      "execution_count": 0,
      "outputs": [
        {
          "output_type": "execute_result",
          "data": {
            "text/plain": [
              "LinearRegression(copy_X=True, fit_intercept=True, n_jobs=-1, normalize=False)"
            ]
          },
          "metadata": {
            "tags": []
          },
          "execution_count": 25
        }
      ]
    },
    {
      "cell_type": "code",
      "metadata": {
        "colab_type": "code",
        "id": "xorl36jh9QZ-",
        "outputId": "d286a480-9d71-4a60-d477-e921002155bb",
        "colab": {
          "base_uri": "https://localhost:8080/",
          "height": 68
        }
      },
      "source": [
        "#Polynomial Regression with Ridge\n",
        "ridgeObj = RidgeCV(cv=10, scoring='neg_mean_squared_error')\n",
        "ridgeObj.fit(X_poly, y_train)"
      ],
      "execution_count": 0,
      "outputs": [
        {
          "output_type": "execute_result",
          "data": {
            "text/plain": [
              "RidgeCV(alphas=array([ 0.1,  1. , 10. ]), cv=10, fit_intercept=True,\n",
              "        gcv_mode=None, normalize=False, scoring='neg_mean_squared_error',\n",
              "        store_cv_values=False)"
            ]
          },
          "metadata": {
            "tags": []
          },
          "execution_count": 26
        }
      ]
    },
    {
      "cell_type": "code",
      "metadata": {
        "colab_type": "code",
        "id": "7ZGATBXQ9ERO",
        "outputId": "42bab452-4cca-45e4-ebb9-e0cfcb0e9dda",
        "colab": {
          "base_uri": "https://localhost:8080/",
          "height": 139
        }
      },
      "source": [
        "#Polynomial Regression with Lasso\n",
        "lassoObj = LassoCV(cv=10, random_state=0, n_jobs=-1, max_iter=3000)\n",
        "lassoObj.fit(X_poly, y_train)\n"
      ],
      "execution_count": 0,
      "outputs": [
        {
          "output_type": "stream",
          "text": [
            "/usr/local/lib/python3.6/dist-packages/sklearn/linear_model/_coordinate_descent.py:476: ConvergenceWarning: Objective did not converge. You might want to increase the number of iterations. Duality gap: 11.711534847372604, tolerance: 4.912299988902881\n",
            "  positive)\n"
          ],
          "name": "stderr"
        },
        {
          "output_type": "execute_result",
          "data": {
            "text/plain": [
              "LassoCV(alphas=None, copy_X=True, cv=10, eps=0.001, fit_intercept=True,\n",
              "        max_iter=3000, n_alphas=100, n_jobs=-1, normalize=False, positive=False,\n",
              "        precompute='auto', random_state=0, selection='cyclic', tol=0.0001,\n",
              "        verbose=False)"
            ]
          },
          "metadata": {
            "tags": []
          },
          "execution_count": 31
        }
      ]
    },
    {
      "cell_type": "code",
      "metadata": {
        "colab_type": "code",
        "id": "dB26DSDO9EyP",
        "outputId": "3a9a8fec-1c3e-4e0c-c22d-facf9f697571",
        "colab": {
          "base_uri": "https://localhost:8080/",
          "height": 85
        }
      },
      "source": [
        "#Polynomial Regression with ElasticNet\n",
        "enObj = ElasticNetCV(cv=10, l1_ratio=0.5, random_state=0,n_jobs=-1, max_iter=3000)\n",
        "enObj.fit(X_poly, y_train)"
      ],
      "execution_count": 0,
      "outputs": [
        {
          "output_type": "execute_result",
          "data": {
            "text/plain": [
              "ElasticNetCV(alphas=None, copy_X=True, cv=10, eps=0.001, fit_intercept=True,\n",
              "             l1_ratio=0.5, max_iter=3000, n_alphas=100, n_jobs=-1,\n",
              "             normalize=False, positive=False, precompute='auto', random_state=0,\n",
              "             selection='cyclic', tol=0.0001, verbose=0)"
            ]
          },
          "metadata": {
            "tags": []
          },
          "execution_count": 32
        }
      ]
    },
    {
      "cell_type": "code",
      "metadata": {
        "colab_type": "code",
        "id": "sUOhG_Ya7lGL",
        "outputId": "fd09a8a8-a906-410a-d2b7-74900ab202ab",
        "colab": {
          "base_uri": "https://localhost:8080/",
          "height": 85
        }
      },
      "source": [
        "from sklearn.metrics import mean_squared_error\n",
        "\n",
        "y_pred = prObj.predict(X_poly_test)\n",
        "print(mean_squared_error(y_test,y_pred))\n",
        "print(y_pred)\n",
        "print(y_test)\n",
        "# bug due to non convergence?\n",
        "print(min(y_pred))"
      ],
      "execution_count": 0,
      "outputs": [
        {
          "output_type": "stream",
          "text": [
            "135379902545064.4\n",
            "[3.02706873 4.07456481 3.98421633 ... 4.09948266 3.57837391 3.48377097]\n",
            "[3.11394335 4.0374265  3.91381385 ... 4.10720997 3.87506126 3.54406804]\n",
            "-3197157203.5727425\n"
          ],
          "name": "stdout"
        }
      ]
    },
    {
      "cell_type": "markdown",
      "metadata": {
        "id": "QQ-V1Nb30rz9",
        "colab_type": "text"
      },
      "source": [
        "The y_pred predicted a very low, very negative value which affected the mean squared error."
      ]
    },
    {
      "cell_type": "code",
      "metadata": {
        "colab_type": "code",
        "id": "5WALIslT7k2q",
        "outputId": "83e24211-c64c-4615-8db3-23cb337ffee8",
        "colab": {
          "base_uri": "https://localhost:8080/",
          "height": 51
        }
      },
      "source": [
        "#Result of Ridge\n",
        "y_pred = ridgeObj.predict(X_poly_test)\n",
        "print(mean_squared_error(y_test,y_pred))\n",
        "print(mean_squared_error(10**y_test, 10**y_pred)) # why is this so large?? Some coefficient blew up"
      ],
      "execution_count": 0,
      "outputs": [
        {
          "output_type": "stream",
          "text": [
            "0.05600523655390345\n",
            "6.44642427149154e+16\n"
          ],
          "name": "stdout"
        }
      ]
    },
    {
      "cell_type": "code",
      "metadata": {
        "colab_type": "code",
        "id": "JQQYveK_8lyo",
        "outputId": "8334cf9b-ed42-40ad-d298-5b7f299992c7",
        "colab": {
          "base_uri": "https://localhost:8080/",
          "height": 51
        }
      },
      "source": [
        "#Result of Lasso\n",
        "y_pred = lassoObj.predict(X_poly_test)\n",
        "print(mean_squared_error(y_test,y_pred))\n",
        "print(mean_squared_error(10**y_test, 10**y_pred)) # why is this so large?? Some coefficient blew up"
      ],
      "execution_count": 0,
      "outputs": [
        {
          "output_type": "stream",
          "text": [
            "0.05596342835536045\n",
            "2.3893581539345564e+16\n"
          ],
          "name": "stdout"
        }
      ]
    },
    {
      "cell_type": "code",
      "metadata": {
        "colab_type": "code",
        "id": "DEnW16ak8w9I",
        "outputId": "7230f097-6976-4111-8310-c563efb80285",
        "colab": {
          "base_uri": "https://localhost:8080/",
          "height": 51
        }
      },
      "source": [
        "# Result of ElasticNet\n",
        "y_pred = enObj.predict(X_poly_test)\n",
        "print(mean_squared_error(y_test,y_pred))\n",
        "print(mean_squared_error(10**y_test, 10**y_pred)) # why is this so large?? Some coefficient blew up\n"
      ],
      "execution_count": 0,
      "outputs": [
        {
          "output_type": "stream",
          "text": [
            "0.05596786387460332\n",
            "2.280015055215357e+16\n"
          ],
          "name": "stdout"
        }
      ]
    },
    {
      "cell_type": "markdown",
      "metadata": {
        "id": "8SuGqXjp02Ae",
        "colab_type": "text"
      },
      "source": [
        "Unclear why the mean squared error in the exponentiated values is so large.\n",
        "\n",
        "Could be due to the non-convergence warning?"
      ]
    }
  ]
}