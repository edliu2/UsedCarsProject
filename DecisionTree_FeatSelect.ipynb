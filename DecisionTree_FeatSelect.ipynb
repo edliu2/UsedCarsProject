{
 "cells": [
  {
   "cell_type": "code",
   "execution_count": 1,
   "metadata": {},
   "outputs": [],
   "source": [
    "# Linear Regression + Feature Selection\n",
    "\n",
    "import numpy as np\n",
    "import matplotlib.pyplot as plt\n",
    "import pandas as pd\n",
    "\n",
    "#Loading the dataset\n",
    "dataset = pd.read_csv('processed.csv')\n",
    "\n",
    "# print(dataset)\n",
    "\n",
    "X = dataset.iloc[:,2:] #We are not using column 1. Also we slice it this way because we want X to be a matrix\n",
    "y = dataset.iloc[:,1]\n",
    "\n",
    "from sklearn.model_selection import train_test_split\n",
    "X_train, X_test, y_train, y_test = train_test_split(X,y, test_size = 0.3, random_state = 0)"
   ]
  },
  {
   "cell_type": "code",
   "execution_count": 4,
   "metadata": {},
   "outputs": [
    {
     "name": "stdout",
     "output_type": "stream",
     "text": [
      "Fitting estimator with 311 features.\n",
      "[Pipeline] ............. (step 1 of 2) Processing scale, total=   1.6s\n",
      "[Pipeline] ................ (step 2 of 2) Processing DT, total=   9.5s\n",
      "Fitting estimator with 306 features.\n",
      "[Pipeline] ............. (step 1 of 2) Processing scale, total=   1.5s\n",
      "[Pipeline] ................ (step 2 of 2) Processing DT, total=   9.7s\n",
      "Fitting estimator with 301 features.\n",
      "[Pipeline] ............. (step 1 of 2) Processing scale, total=   1.5s\n",
      "[Pipeline] ................ (step 2 of 2) Processing DT, total=   9.4s\n",
      "Fitting estimator with 296 features.\n",
      "[Pipeline] ............. (step 1 of 2) Processing scale, total=   1.4s\n",
      "[Pipeline] ................ (step 2 of 2) Processing DT, total=   9.3s\n",
      "Fitting estimator with 291 features.\n",
      "[Pipeline] ............. (step 1 of 2) Processing scale, total=   1.4s\n",
      "[Pipeline] ................ (step 2 of 2) Processing DT, total=   9.3s\n",
      "Fitting estimator with 286 features.\n",
      "[Pipeline] ............. (step 1 of 2) Processing scale, total=   1.4s\n",
      "[Pipeline] ................ (step 2 of 2) Processing DT, total=   9.1s\n",
      "Fitting estimator with 281 features.\n",
      "[Pipeline] ............. (step 1 of 2) Processing scale, total=   1.4s\n",
      "[Pipeline] ................ (step 2 of 2) Processing DT, total=   9.0s\n",
      "Fitting estimator with 276 features.\n",
      "[Pipeline] ............. (step 1 of 2) Processing scale, total=   1.3s\n",
      "[Pipeline] ................ (step 2 of 2) Processing DT, total=   9.0s\n",
      "Fitting estimator with 271 features.\n",
      "[Pipeline] ............. (step 1 of 2) Processing scale, total=   1.3s\n",
      "[Pipeline] ................ (step 2 of 2) Processing DT, total=   8.9s\n",
      "Fitting estimator with 266 features.\n",
      "[Pipeline] ............. (step 1 of 2) Processing scale, total=   1.3s\n",
      "[Pipeline] ................ (step 2 of 2) Processing DT, total=   8.8s\n",
      "Fitting estimator with 261 features.\n",
      "[Pipeline] ............. (step 1 of 2) Processing scale, total=   1.3s\n",
      "[Pipeline] ................ (step 2 of 2) Processing DT, total=   8.7s\n",
      "Fitting estimator with 256 features.\n",
      "[Pipeline] ............. (step 1 of 2) Processing scale, total=   1.2s\n",
      "[Pipeline] ................ (step 2 of 2) Processing DT, total=   8.5s\n",
      "Fitting estimator with 251 features.\n",
      "[Pipeline] ............. (step 1 of 2) Processing scale, total=   1.2s\n",
      "[Pipeline] ................ (step 2 of 2) Processing DT, total=   8.5s\n",
      "Fitting estimator with 246 features.\n",
      "[Pipeline] ............. (step 1 of 2) Processing scale, total=   1.2s\n",
      "[Pipeline] ................ (step 2 of 2) Processing DT, total=   8.4s\n",
      "Fitting estimator with 241 features.\n",
      "[Pipeline] ............. (step 1 of 2) Processing scale, total=   1.2s\n",
      "[Pipeline] ................ (step 2 of 2) Processing DT, total=   8.4s\n",
      "Fitting estimator with 236 features.\n",
      "[Pipeline] ............. (step 1 of 2) Processing scale, total=   1.2s\n",
      "[Pipeline] ................ (step 2 of 2) Processing DT, total=   8.0s\n",
      "Fitting estimator with 231 features.\n",
      "[Pipeline] ............. (step 1 of 2) Processing scale, total=   1.1s\n",
      "[Pipeline] ................ (step 2 of 2) Processing DT, total=   7.9s\n",
      "Fitting estimator with 226 features.\n",
      "[Pipeline] ............. (step 1 of 2) Processing scale, total=   1.1s\n",
      "[Pipeline] ................ (step 2 of 2) Processing DT, total=   8.3s\n",
      "Fitting estimator with 221 features.\n",
      "[Pipeline] ............. (step 1 of 2) Processing scale, total=   1.1s\n",
      "[Pipeline] ................ (step 2 of 2) Processing DT, total=   8.2s\n",
      "Fitting estimator with 216 features.\n",
      "[Pipeline] ............. (step 1 of 2) Processing scale, total=   1.1s\n",
      "[Pipeline] ................ (step 2 of 2) Processing DT, total=   8.6s\n",
      "Fitting estimator with 211 features.\n",
      "[Pipeline] ............. (step 1 of 2) Processing scale, total=   1.0s\n",
      "[Pipeline] ................ (step 2 of 2) Processing DT, total=   8.0s\n",
      "Fitting estimator with 206 features.\n",
      "[Pipeline] ............. (step 1 of 2) Processing scale, total=   1.0s\n",
      "[Pipeline] ................ (step 2 of 2) Processing DT, total=   7.8s\n",
      "Fitting estimator with 201 features.\n",
      "[Pipeline] ............. (step 1 of 2) Processing scale, total=   1.0s\n",
      "[Pipeline] ................ (step 2 of 2) Processing DT, total=   7.7s\n",
      "Fitting estimator with 196 features.\n",
      "[Pipeline] ............. (step 1 of 2) Processing scale, total=   0.9s\n",
      "[Pipeline] ................ (step 2 of 2) Processing DT, total=   7.6s\n",
      "Fitting estimator with 191 features.\n",
      "[Pipeline] ............. (step 1 of 2) Processing scale, total=   0.9s\n",
      "[Pipeline] ................ (step 2 of 2) Processing DT, total=   7.4s\n",
      "Fitting estimator with 186 features.\n",
      "[Pipeline] ............. (step 1 of 2) Processing scale, total=   0.9s\n",
      "[Pipeline] ................ (step 2 of 2) Processing DT, total=   7.2s\n",
      "Fitting estimator with 181 features.\n",
      "[Pipeline] ............. (step 1 of 2) Processing scale, total=   0.9s\n",
      "[Pipeline] ................ (step 2 of 2) Processing DT, total=   7.1s\n",
      "Fitting estimator with 176 features.\n",
      "[Pipeline] ............. (step 1 of 2) Processing scale, total=   0.9s\n",
      "[Pipeline] ................ (step 2 of 2) Processing DT, total=   6.9s\n",
      "Fitting estimator with 171 features.\n",
      "[Pipeline] ............. (step 1 of 2) Processing scale, total=   0.8s\n",
      "[Pipeline] ................ (step 2 of 2) Processing DT, total=   6.8s\n",
      "Fitting estimator with 166 features.\n",
      "[Pipeline] ............. (step 1 of 2) Processing scale, total=   0.8s\n",
      "[Pipeline] ................ (step 2 of 2) Processing DT, total=   6.5s\n",
      "Fitting estimator with 161 features.\n",
      "[Pipeline] ............. (step 1 of 2) Processing scale, total=   0.8s\n",
      "[Pipeline] ................ (step 2 of 2) Processing DT, total=   6.3s\n",
      "Fitting estimator with 156 features.\n",
      "[Pipeline] ............. (step 1 of 2) Processing scale, total=   0.8s\n",
      "[Pipeline] ................ (step 2 of 2) Processing DT, total=   6.3s\n",
      "Fitting estimator with 151 features.\n",
      "[Pipeline] ............. (step 1 of 2) Processing scale, total=   0.7s\n",
      "[Pipeline] ................ (step 2 of 2) Processing DT, total=   6.0s\n",
      "Fitting estimator with 146 features.\n",
      "[Pipeline] ............. (step 1 of 2) Processing scale, total=   0.7s\n",
      "[Pipeline] ................ (step 2 of 2) Processing DT, total=   5.8s\n",
      "Fitting estimator with 141 features.\n",
      "[Pipeline] ............. (step 1 of 2) Processing scale, total=   0.7s\n",
      "[Pipeline] ................ (step 2 of 2) Processing DT, total=   5.7s\n",
      "Fitting estimator with 136 features.\n",
      "[Pipeline] ............. (step 1 of 2) Processing scale, total=   0.7s\n",
      "[Pipeline] ................ (step 2 of 2) Processing DT, total=   5.4s\n",
      "Fitting estimator with 131 features.\n",
      "[Pipeline] ............. (step 1 of 2) Processing scale, total=   0.6s\n",
      "[Pipeline] ................ (step 2 of 2) Processing DT, total=   5.4s\n",
      "Fitting estimator with 126 features.\n",
      "[Pipeline] ............. (step 1 of 2) Processing scale, total=   0.6s\n",
      "[Pipeline] ................ (step 2 of 2) Processing DT, total=   5.2s\n",
      "Fitting estimator with 121 features.\n",
      "[Pipeline] ............. (step 1 of 2) Processing scale, total=   0.6s\n",
      "[Pipeline] ................ (step 2 of 2) Processing DT, total=   5.0s\n",
      "Fitting estimator with 116 features.\n",
      "[Pipeline] ............. (step 1 of 2) Processing scale, total=   0.6s\n",
      "[Pipeline] ................ (step 2 of 2) Processing DT, total=   4.9s\n",
      "Fitting estimator with 111 features.\n",
      "[Pipeline] ............. (step 1 of 2) Processing scale, total=   0.5s\n",
      "[Pipeline] ................ (step 2 of 2) Processing DT, total=   4.5s\n",
      "Fitting estimator with 106 features.\n",
      "[Pipeline] ............. (step 1 of 2) Processing scale, total=   0.5s\n",
      "[Pipeline] ................ (step 2 of 2) Processing DT, total=   4.2s\n",
      "Fitting estimator with 101 features.\n",
      "[Pipeline] ............. (step 1 of 2) Processing scale, total=   0.5s\n",
      "[Pipeline] ................ (step 2 of 2) Processing DT, total=   4.0s\n",
      "Fitting estimator with 96 features.\n",
      "[Pipeline] ............. (step 1 of 2) Processing scale, total=   0.5s\n",
      "[Pipeline] ................ (step 2 of 2) Processing DT, total=   3.9s\n",
      "Fitting estimator with 91 features.\n",
      "[Pipeline] ............. (step 1 of 2) Processing scale, total=   0.4s\n",
      "[Pipeline] ................ (step 2 of 2) Processing DT, total=   3.8s\n",
      "Fitting estimator with 86 features.\n",
      "[Pipeline] ............. (step 1 of 2) Processing scale, total=   0.4s\n",
      "[Pipeline] ................ (step 2 of 2) Processing DT, total=   3.6s\n",
      "Fitting estimator with 81 features.\n",
      "[Pipeline] ............. (step 1 of 2) Processing scale, total=   0.4s\n",
      "[Pipeline] ................ (step 2 of 2) Processing DT, total=   3.5s\n",
      "Fitting estimator with 76 features.\n",
      "[Pipeline] ............. (step 1 of 2) Processing scale, total=   0.4s\n",
      "[Pipeline] ................ (step 2 of 2) Processing DT, total=   3.5s\n",
      "Fitting estimator with 71 features.\n",
      "[Pipeline] ............. (step 1 of 2) Processing scale, total=   0.3s\n",
      "[Pipeline] ................ (step 2 of 2) Processing DT, total=   3.2s\n",
      "Fitting estimator with 66 features.\n",
      "[Pipeline] ............. (step 1 of 2) Processing scale, total=   0.3s\n",
      "[Pipeline] ................ (step 2 of 2) Processing DT, total=   3.1s\n",
      "Fitting estimator with 61 features.\n",
      "[Pipeline] ............. (step 1 of 2) Processing scale, total=   0.3s\n",
      "[Pipeline] ................ (step 2 of 2) Processing DT, total=   2.9s\n",
      "Fitting estimator with 56 features.\n",
      "[Pipeline] ............. (step 1 of 2) Processing scale, total=   0.3s\n",
      "[Pipeline] ................ (step 2 of 2) Processing DT, total=   2.6s\n",
      "Fitting estimator with 51 features.\n",
      "[Pipeline] ............. (step 1 of 2) Processing scale, total=   0.2s\n",
      "[Pipeline] ................ (step 2 of 2) Processing DT, total=   2.5s\n",
      "Fitting estimator with 46 features.\n",
      "[Pipeline] ............. (step 1 of 2) Processing scale, total=   0.2s\n",
      "[Pipeline] ................ (step 2 of 2) Processing DT, total=   2.4s\n",
      "Fitting estimator with 41 features.\n",
      "[Pipeline] ............. (step 1 of 2) Processing scale, total=   0.2s\n",
      "[Pipeline] ................ (step 2 of 2) Processing DT, total=   2.2s\n",
      "Fitting estimator with 36 features.\n",
      "[Pipeline] ............. (step 1 of 2) Processing scale, total=   0.1s\n",
      "[Pipeline] ................ (step 2 of 2) Processing DT, total=   2.0s\n",
      "Fitting estimator with 31 features.\n",
      "[Pipeline] ............. (step 1 of 2) Processing scale, total=   0.1s\n",
      "[Pipeline] ................ (step 2 of 2) Processing DT, total=   1.7s\n",
      "Fitting estimator with 26 features.\n",
      "[Pipeline] ............. (step 1 of 2) Processing scale, total=   0.1s\n",
      "[Pipeline] ................ (step 2 of 2) Processing DT, total=   1.5s\n",
      "Fitting estimator with 21 features.\n",
      "[Pipeline] ............. (step 1 of 2) Processing scale, total=   0.1s\n",
      "[Pipeline] ................ (step 2 of 2) Processing DT, total=   1.2s\n",
      "Fitting estimator with 16 features.\n",
      "[Pipeline] ............. (step 1 of 2) Processing scale, total=   0.1s\n",
      "[Pipeline] ................ (step 2 of 2) Processing DT, total=   1.0s\n",
      "Fitting estimator with 11 features.\n",
      "[Pipeline] ............. (step 1 of 2) Processing scale, total=   0.0s\n",
      "[Pipeline] ................ (step 2 of 2) Processing DT, total=   0.8s\n",
      "Fitting estimator with 6 features.\n",
      "[Pipeline] ............. (step 1 of 2) Processing scale, total=   0.0s\n",
      "[Pipeline] ................ (step 2 of 2) Processing DT, total=   0.6s\n",
      "[Pipeline] ............. (step 1 of 2) Processing scale, total=   0.0s\n",
      "[Pipeline] ................ (step 2 of 2) Processing DT, total=   0.1s\n",
      "[Pipeline] ............. (step 1 of 2) Processing scale, total=   0.0s\n",
      "[Pipeline] ................ (step 2 of 2) Processing DT, total=   0.1s\n",
      "Optimal number of features : 1\n"
     ]
    }
   ],
   "source": [
    "#import model\n",
    "from sklearn.preprocessing import StandardScaler\n",
    "from sklearn.tree import DecisionTreeRegressor\n",
    "from sklearn.pipeline import Pipeline\n",
    "from sklearn.feature_selection import RFECV\n",
    "\n",
    "# define new class for pipeline that passes feature importance or coef to RFE\n",
    "class PipelineRFE(Pipeline):\n",
    "\n",
    "    def fit(self, X, y=None, **fit_params):\n",
    "        super(PipelineRFE, self).fit(X, y, **fit_params)\n",
    "        self.feature_importances_ = self.steps[-1][-1].feature_importances_\n",
    "        return self\n",
    "\n",
    "DT_pipeline =  PipelineRFE([\n",
    "                    ('scale', StandardScaler()), \n",
    "                    ('DT', DecisionTreeRegressor())\n",
    "                     ], verbose=True)\n",
    "\n",
    "selectionObj = RFECV(DT_pipeline, min_features_to_select=1, step=5, cv=10, scoring='neg_mean_squared_error', n_jobs=-1, verbose=1)\n",
    "selectionObj.fit(X_train, y_train)\n",
    "print(\"Optimal number of features : %d\" % selectionObj.n_features_)"
   ]
  },
  {
   "cell_type": "code",
   "execution_count": 5,
   "metadata": {},
   "outputs": [
    {
     "data": {
      "image/png": "[encoded data removed]",
      "text/plain": [
       "<Figure size 432x288 with 1 Axes>"
      ]
     },
     "metadata": {
      "needs_background": "light"
     },
     "output_type": "display_data"
    }
   ],
   "source": [
    "# Plot number of features VS. cross-validation scores\n",
    "plt.figure()\n",
    "plt.xlabel(\"Number of features selected\")\n",
    "plt.ylabel(\"Cross validation score (mean squared error)\")\n",
    "plt.plot(range(1, len(selectionObj.grid_scores_) + 1), selectionObj.grid_scores_)\n",
    "plt.show()"
   ]
  },
  {
   "cell_type": "code",
   "execution_count": 6,
   "metadata": {},
   "outputs": [
    {
     "name": "stdout",
     "output_type": "stream",
     "text": [
      "Index(['powerPS'], dtype='object')\n"
     ]
    }
   ],
   "source": [
    "#check features\n",
    "selected_features = X_train.columns[selectionObj.support_]\n",
    "print(selected_features)"
   ]
  },
  {
   "cell_type": "code",
   "execution_count": 7,
   "metadata": {},
   "outputs": [
    {
     "name": "stdout",
     "output_type": "stream",
     "text": [
      "124713049348.62552\n"
     ]
    }
   ],
   "source": [
    "#Making predictions on the Test Set\n",
    "y_pred = selectionObj.predict(X_test)\n",
    "\n",
    "#Evaluating the predictions using a Confusion Matrix\n",
    "from sklearn.metrics import mean_squared_error\n",
    "print(mean_squared_error(y_pred,y_test))"
   ]
  },
  {
   "cell_type": "code",
   "execution_count": 9,
   "metadata": {},
   "outputs": [
    {
     "ename": "AttributeError",
     "evalue": "'RFECV' object has no attribute 'ranking_'",
     "output_type": "error",
     "traceback": [
      "\u001b[0;31m---------------------------------------------------------------------------\u001b[0m",
      "\u001b[0;31mAttributeError\u001b[0m                            Traceback (most recent call last)",
      "\u001b[0;32m<ipython-input-9-102d98239a68>\u001b[0m in \u001b[0;36m<module>\u001b[0;34m\u001b[0m\n\u001b[0;32m----> 1\u001b[0;31m \u001b[0mprint\u001b[0m\u001b[0;34m(\u001b[0m\u001b[0mselectionObj\u001b[0m\u001b[0;34m.\u001b[0m\u001b[0mranking_\u001b[0m\u001b[0;34m)\u001b[0m\u001b[0;34m\u001b[0m\u001b[0;34m\u001b[0m\u001b[0m\n\u001b[0m",
      "\u001b[0;31mAttributeError\u001b[0m: 'RFECV' object has no attribute 'ranking_'"
     ]
    }
   ],
   "source": [
    "pro"
   ]
  },
  {
   "cell_type": "code",
   "execution_count": null,
   "metadata": {},
   "outputs": [],
   "source": []
  }
 ],
 "metadata": {
  "environment": {
   "name": "common-cpu.m47",
   "type": "gcloud",
   "uri": "gcr.io/deeplearning-platform-release/base-cpu:m47"
  },
  "kernelspec": {
   "display_name": "Python 3",
   "language": "python",
   "name": "python3"
  },
  "language_info": {
   "codemirror_mode": {
    "name": "ipython",
    "version": 3
   },
   "file_extension": ".py",
   "mimetype": "text/x-python",
   "name": "python",
   "nbconvert_exporter": "python",
   "pygments_lexer": "ipython3",
   "version": "3.7.6"
  }
 },
 "nbformat": 4,
 "nbformat_minor": 4
}
