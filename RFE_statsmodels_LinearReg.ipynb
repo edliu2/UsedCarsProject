{
  "nbformat": 4,
  "nbformat_minor": 0,
  "metadata": {
    "kernelspec": {
      "display_name": "Python 3",
      "language": "python",
      "name": "python3"
    },
    "language_info": {
      "codemirror_mode": {
        "name": "ipython",
        "version": 3
      },
      "file_extension": ".py",
      "mimetype": "text/x-python",
      "name": "python",
      "nbconvert_exporter": "python",
      "pygments_lexer": "ipython3",
      "version": "3.8.1"
    },
    "colab": {
      "name": "MultipleLR.ipynb",
      "provenance": [],
      "machine_shape": "hm"
    }
  },
  "cells": [
    {
      "cell_type": "code",
      "metadata": {
        "id": "_9zmIz5lVhC1",
        "colab_type": "code",
        "colab": {}
      },
      "source": [
        "#Multiple Linear Regression\n",
        "\n",
        "import numpy as np\n",
        "import matplotlib.pyplot as plt\n",
        "import pandas as pd\n",
        "\n",
        "#Loading the dataset\n",
        "try:\n",
        "  dataset = pd.read_csv('processed.csv')\n",
        "except:\n",
        "  dataset = pd.read_csv('drive/My Drive/processed.csv')\n",
        "# print(dataset)\n",
        "\n",
        "X = dataset.iloc[:,2:] #We are not using column 1. Also we slice it this way because we want X to be a matrix\n",
        "y = dataset.iloc[:,1]\n",
        "\n",
        "#Splitting the data into Training Set and Test Set\n",
        "from sklearn.model_selection import train_test_split\n",
        "X_train, X_test, y_train, y_test = train_test_split(X,y,test_size=0.3,random_state=0)"
      ],
      "execution_count": 0,
      "outputs": []
    },
    {
      "cell_type": "code",
      "metadata": {
        "id": "t6Wak0ySArzH",
        "colab_type": "code",
        "colab": {
          "base_uri": "https://localhost:8080/",
          "height": 34
        },
        "outputId": "193258ad-78ec-412f-dc69-83827bdfd2dd"
      },
      "source": [
        "from google.colab import drive\n",
        "drive.mount('/content/drive')"
      ],
      "execution_count": 3,
      "outputs": [
        {
          "output_type": "stream",
          "text": [
            "Drive already mounted at /content/drive; to attempt to forcibly remount, call drive.mount(\"/content/drive\", force_remount=True).\n"
          ],
          "name": "stdout"
        }
      ]
    },
    {
      "cell_type": "code",
      "metadata": {
        "id": "fBVfchpmVhC5",
        "colab_type": "code",
        "outputId": "62e37402-0eab-471b-f485-0f3ceaa2b89f",
        "colab": {
          "base_uri": "https://localhost:8080/",
          "height": 306
        }
      },
      "source": [
        "# Import required libraries and create pipeline\n",
        "from sklearn.preprocessing import StandardScaler\n",
        "from sklearn.linear_model import LinearRegression\n",
        "from sklearn.metrics import mean_squared_error\n",
        "from sklearn.pipeline import Pipeline\n",
        "\n",
        "print('starting pipeline')\n",
        "\n",
        "lr_pipeline = Pipeline([\n",
        "                    ('scale', StandardScaler()), \n",
        "                    ('LR', LinearRegression())\n",
        "                     ], verbose=True)\n",
        "\n",
        "lr_pipeline.fit(X_train, y_train)\n",
        "y_pred = lr_pipeline.predict(X_test)\n",
        "\n",
        "print(y_pred)\n",
        "print(y_test)\n",
        "print(mean_squared_error(y_test, y_pred))"
      ],
      "execution_count": 4,
      "outputs": [
        {
          "output_type": "stream",
          "text": [
            "starting pipeline\n",
            "[Pipeline] ............. (step 1 of 2) Processing scale, total=   1.6s\n",
            "[Pipeline] ................ (step 2 of 2) Processing LR, total=   3.5s\n",
            "[2.85932719 4.0153248  3.90359306 ... 4.14138205 3.95396876 3.45497342]\n",
            "85971     3.113943\n",
            "205804    4.037426\n",
            "13374     3.913814\n",
            "235012    4.041393\n",
            "169522    3.060698\n",
            "            ...   \n",
            "16494     3.653213\n",
            "259055    3.397940\n",
            "24516     4.107210\n",
            "13263     3.875061\n",
            "25001     3.544068\n",
            "Name: log_price, Length: 81600, dtype: float64\n",
            "0.06779693364579975\n"
          ],
          "name": "stdout"
        }
      ]
    },
    {
      "cell_type": "code",
      "metadata": {
        "id": "jxhDSYH6koN4",
        "colab_type": "code",
        "outputId": "dfc522f1-68a1-46e1-a9df-d20fca0138eb",
        "colab": {
          "base_uri": "https://localhost:8080/",
          "height": 272
        }
      },
      "source": [
        "print(10**y_pred)\n",
        "print(10**y_test)\n",
        "print(mean_squared_error(10**y_test, 10**y_pred))"
      ],
      "execution_count": 5,
      "outputs": [
        {
          "output_type": "stream",
          "text": [
            "[  723.31453045 10359.16613224  8009.27232257 ... 13847.84041978\n",
            "  8994.32877639  2850.84375044]\n",
            "85971      1300.0\n",
            "205804    10900.0\n",
            "13374      8200.0\n",
            "235012    11000.0\n",
            "169522     1150.0\n",
            "           ...   \n",
            "16494      4500.0\n",
            "259055     2500.0\n",
            "24516     12800.0\n",
            "13263      7500.0\n",
            "25001      3500.0\n",
            "Name: log_price, Length: 81600, dtype: float64\n",
            "232717125.6909711\n"
          ],
          "name": "stdout"
        }
      ]
    },
    {
      "cell_type": "code",
      "metadata": {
        "id": "nrpH2RRXoTkA",
        "colab_type": "code",
        "outputId": "832aee3e-4395-4c8e-c12b-d6d060fabeb0",
        "colab": {
          "base_uri": "https://localhost:8080/",
          "height": 316
        }
      },
      "source": [
        "#Backward Elimination\n",
        "import statsmodels.api as sm\n",
        "X_cols = X.columns\n",
        "X_withconstant = np.append(arr=np.ones((271997,1)).astype(int), values=X, axis=1)\n",
        "\n",
        "X_sig = X_withconstant\n",
        "obj_OLS = sm.OLS(endog = y, exog = X_sig).fit()\n",
        "\n",
        "# scatterplot to evaluate if sklearn.model_feature_selection.RFECV\n",
        "# which drops the lowest coefficients is giving similar results\n",
        "\n",
        "#filter on p > 0.05 (likely to be dropped)\n",
        "coefficients = abs(obj_OLS.params[obj_OLS.pvalues > 0.05])\n",
        "p_values = obj_OLS.pvalues[obj_OLS.pvalues > 0.05]\n",
        "plt.subplot(211)\n",
        "plt.scatter(coefficients, p_values)\n",
        "\n",
        "#filter on p < 0.05 (likely to keep)\n",
        "coefficients2 = abs(obj_OLS.params[obj_OLS.pvalues < 0.05])\n",
        "p_values2 = obj_OLS.pvalues[obj_OLS.pvalues < 0.05]\n",
        "plt.subplot(212)\n",
        "plt.scatter(coefficients2, p_values2)"
      ],
      "execution_count": 6,
      "outputs": [
        {
          "output_type": "stream",
          "text": [
            "/usr/local/lib/python3.6/dist-packages/statsmodels/tools/_testing.py:19: FutureWarning: pandas.util.testing is deprecated. Use the functions in the public API at pandas.testing instead.\n",
            "  import pandas.util.testing as tm\n"
          ],
          "name": "stderr"
        },
        {
          "output_type": "execute_result",
          "data": {
            "text/plain": [
              "<matplotlib.collections.PathCollection at 0x7f8bd55e5898>"
            ]
          },
          "metadata": {
            "tags": []
          },
          "execution_count": 6
        },
        {
          "output_type": "display_data",
          "data": {
            "image/png": "[encoded data removed]",
            "text/plain": [
              "<Figure size 432x288 with 2 Axes>"
            ]
          },
          "metadata": {
            "tags": [],
            "needs_background": "light"
          }
        }
      ]
    },
    {
      "cell_type": "code",
      "metadata": {
        "id": "BquRWPiCVhC-",
        "colab_type": "code",
        "outputId": "192f58fa-20c4-4813-e36d-fa947cc64c8e",
        "colab": {
          "base_uri": "https://localhost:8080/",
          "height": 765
        }
      },
      "source": [
        "# Loop to remove p > 0.05 recursively\n",
        "p_value = 1\n",
        "while p_value > 0.05:\n",
        "  obj_OLS = sm.OLS(endog = y, exog = X_sig).fit()\n",
        "  p_value = np.max(obj_OLS.pvalues)\n",
        "  p_index = np.argmax(obj_OLS.pvalues)\n",
        "  print(\"Dropped column at index \", p_index, \" with name\", X_cols[p_index])\n",
        "  X_cols = np.delete(X_cols, p_index)\n",
        "  X_sig = np.delete(X_sig, p_index, 1)\n",
        "\n",
        "print(\"Final shape\", X_sig.shape)"
      ],
      "execution_count": 7,
      "outputs": [
        {
          "output_type": "stream",
          "text": [
            "Dropped column at index  294  with name model_vivaro\n",
            "Dropped column at index  193  with name model_kuga\n",
            "Dropped column at index  62  with name model_1er\n",
            "Dropped column at index  199  with name model_lupo\n",
            "Dropped column at index  250  with name model_sandero\n",
            "Dropped column at index  11  with name brand_daewoo\n",
            "Dropped column at index  54  with name fuelType_hybrid\n",
            "Dropped column at index  130  with name model_clk\n",
            "Dropped column at index  278  with name model_v40\n",
            "Dropped column at index  173  with name model_i_reihe\n",
            "Dropped column at index  281  with name model_vectra\n",
            "Dropped column at index  21  with name brand_land_rover\n",
            "Dropped column at index  196  with name model_m_reihe\n",
            "Dropped column at index  142  with name model_delta\n",
            "Dropped column at index  132  with name model_cooper\n",
            "Dropped column at index  217  with name model_phaeton\n",
            "Dropped column at index  20  with name brand_lancia\n",
            "Dropped column at index  124  with name model_citigo\n",
            "Dropped column at index  137  with name model_cx_reihe\n",
            "Dropped column at index  26  with name brand_peugeot\n",
            "Dropped column at index  195  with name model_mii\n",
            "Dropped column at index  205  with name model_octavia\n",
            "Dropped column at index  35  with name brand_suzuki\n",
            "Dropped column at index  184  with name model_leon\n",
            "Dropped column at index  196  with name model_musa\n",
            "Dropped column at index  245  with name model_spider\n",
            "Dropped column at index  248  with name model_superb\n",
            "Dropped column at index  185  with name model_logan\n",
            "Dropped column at index  36  with name brand_trabant\n",
            "Dropped column at index  8  with name brand_chrysler\n",
            "Dropped column at index  136  with name model_doblo\n",
            "Dropped column at index  249  with name model_touareg\n",
            "Dropped column at index  90  with name model_astra\n",
            "Dropped column at index  118  with name model_cherokee\n",
            "Dropped column at index  228  with name model_scirocco\n",
            "Dropped column at index  120  with name model_clio\n",
            "Dropped column at index  147  with name model_fox\n",
            "Dropped column at index  32  with name brand_sonstige_autos\n",
            "Dropped column at index  86  with name model_andere\n",
            "Dropped column at index  136  with name model_escort\n",
            "Dropped column at index  63  with name model_6_reihe\n",
            "Dropped column at index  196  with name model_picanto\n",
            "Dropped column at index  184  with name model_mustang\n",
            "Final shape (271997, 265)\n"
          ],
          "name": "stdout"
        }
      ]
    },
    {
      "cell_type": "code",
      "metadata": {
        "id": "fml7whpdlKGq",
        "colab_type": "code",
        "outputId": "8afde433-b344-40a3-9bce-0038b268f5ae",
        "colab": {
          "base_uri": "https://localhost:8080/",
          "height": 357
        }
      },
      "source": [
        "#Splitting the data into Training Set and Test Set\n",
        "X_sig_train, X_sig_test, y_sig_train, y_sig_test = train_test_split(X_sig, y, test_size=0.2,random_state=0)\n",
        "\n",
        "# Import required libraries and create pipeline\n",
        "from sklearn.preprocessing import StandardScaler\n",
        "from sklearn.linear_model import LinearRegression\n",
        "from sklearn.metrics import mean_squared_error\n",
        "from sklearn.pipeline import Pipeline\n",
        "\n",
        "print('starting pipeline')\n",
        "\n",
        "lr_pipeline = Pipeline([\n",
        "                    ('scale', StandardScaler()), \n",
        "                    ('LR', LinearRegression())\n",
        "                     ], verbose=True)\n",
        "\n",
        "lr_pipeline.fit(X_sig_train, y_sig_train)\n",
        "y_sig_pred = lr_pipeline.predict(X_sig_test)\n",
        "\n",
        "print(y_sig_pred)\n",
        "print(y_test)\n",
        "print(mean_squared_error(y_test, y_pred))\n",
        "print(mean_squared_error(y_sig_test, y_sig_pred))\n",
        "print(mean_squared_error(10**y_test, 10**y_pred))\n",
        "print(mean_squared_error(10**y_sig_test, 10**y_sig_pred))"
      ],
      "execution_count": 8,
      "outputs": [
        {
          "output_type": "stream",
          "text": [
            "starting pipeline\n",
            "[Pipeline] ............. (step 1 of 2) Processing scale, total=   1.4s\n",
            "[Pipeline] ................ (step 2 of 2) Processing LR, total=   4.5s\n",
            "[2.86304988 4.01560928 3.90240744 ... 4.46237258 3.69146352 3.3384798 ]\n",
            "85971     3.113943\n",
            "205804    4.037426\n",
            "13374     3.913814\n",
            "235012    4.041393\n",
            "169522    3.060698\n",
            "            ...   \n",
            "16494     3.653213\n",
            "259055    3.397940\n",
            "24516     4.107210\n",
            "13263     3.875061\n",
            "25001     3.544068\n",
            "Name: log_price, Length: 81600, dtype: float64\n",
            "0.06779693364579975\n",
            "0.06695273751429334\n",
            "232717125.6909711\n",
            "114938853.19178033\n"
          ],
          "name": "stdout"
        }
      ]
    },
    {
      "cell_type": "code",
      "metadata": {
        "id": "P-Dbh29lIGen",
        "colab_type": "code",
        "colab": {
          "base_uri": "https://localhost:8080/",
          "height": 51
        },
        "outputId": "3da87e16-1f8d-41d9-82f4-c13e23b6f5b1"
      },
      "source": [
        "lr_pipeline.fit(X_sig_train, y_sig_train)\n",
        "y_sig_pred = lr_pipeline.predict(X_sig_test)"
      ],
      "execution_count": 31,
      "outputs": [
        {
          "output_type": "stream",
          "text": [
            "[Pipeline] ............. (step 1 of 2) Processing scale, total=   1.5s\n",
            "[Pipeline] ................ (step 2 of 2) Processing LR, total=   4.2s\n"
          ],
          "name": "stdout"
        }
      ]
    },
    {
      "cell_type": "code",
      "metadata": {
        "id": "_A1sMhIiN4DG",
        "colab_type": "code",
        "outputId": "ba821b9a-da1f-4110-abc0-7b36b56eaf6d",
        "colab": {
          "base_uri": "https://localhost:8080/",
          "height": 54
        }
      },
      "source": [
        "# store boolean mask of removed variables\n",
        "mask = [True if item in X_cols.to_list() else False for item in X.columns.to_list()]\n",
        "print(mask)"
      ],
      "execution_count": 9,
      "outputs": [
        {
          "output_type": "stream",
          "text": [
            "[True, True, True, True, True, True, True, True, False, True, True, False, True, True, True, True, True, True, True, True, True, False, False, True, True, True, True, True, True, False, True, True, True, True, True, True, True, False, True, False, True, False, True, True, True, True, True, True, True, True, True, True, True, True, True, False, True, True, True, True, True, True, False, True, True, True, True, True, True, True, True, True, True, False, True, True, True, True, True, True, True, True, True, True, True, True, True, True, True, True, True, True, True, True, True, True, False, True, True, False, True, True, True, True, True, True, True, True, True, True, True, True, True, True, True, True, True, True, True, True, True, True, True, True, True, True, True, True, False, False, True, True, False, False, True, True, True, False, True, True, True, True, True, True, True, False, True, False, True, True, False, True, True, True, True, True, False, True, True, True, True, True, True, True, True, False, True, True, True, True, True, True, True, True, True, True, True, False, True, True, True, True, True, True, True, True, True, True, True, True, True, True, True, False, True, True, True, True, False, True, False, False, True, True, False, True, True, True, True, True, False, True, True, True, False, False, True, True, True, True, True, False, True, True, True, True, True, True, False, False, True, True, True, True, True, True, True, True, True, True, True, True, True, True, True, True, True, True, True, True, True, True, True, False, True, True, False, True, True, True, True, True, True, True, True, True, True, False, True, True, True, False, True, True, True, True, True, False, True, True, True, True, True, True, True, False, True, True, True, True, False, True, True, True, False, True, True, True, True, True, True, True, True, True, True, True, True]\n"
          ],
          "name": "stdout"
        }
      ]
    },
    {
      "cell_type": "code",
      "metadata": {
        "id": "kGE_mWIIMlza",
        "colab_type": "code",
        "colab": {}
      },
      "source": [
        "# Copy of previous output\n",
        "mask = [True, True, True, True, True, True, True, True, False, True, True, False, True, True, True, True, True, True, True, True, True, False, False, True, True, True, True, True, True, False, True, True, True, True, True, True, True, False, True, False, True, False, True, True, True, True, True, True, True, True, True, True, True, True, True, False, True, True, True, True, True, True, False, True, True, True, True, True, True, True, True, True, True, False, True, True, True, True, True, True, True, True, True, True, True, True, True, True, True, True, True, True, True, True, True, True, False, True, True, False, True, True, True, True, True, True, True, True, True, True, True, True, True, True, True, True, True, True, True, True, True, True, True, True, True, True, True, True, False, False, True, True, False, False, True, True, True, False, True, True, True, True, True, True, True, False, True, False, True, True, False, True, True, True, True, True, False, True, True, True, True, True, True, True, True, False, True, True, True, True, True, True, True, True, True, True, True, False, True, True, True, True, True, True, True, True, True, True, True, True, True, True, True, False, True, True, True, True, False, True, False, False, True, True, False, True, True, True, True, True, False, True, True, True, False, False, True, True, True, True, True, False, True, True, True, True, True, True, False, False, True, True, True, True, True, True, True, True, True, True, True, True, True, True, True, True, True, True, True, True, True, True, True, False, True, True, False, True, True, True, True, True, True, True, True, True, True, False, True, True, True, False, True, True, True, True, True, False, True, True, True, True, True, True, True, False, True, True, True, True, False, True, True, True, False, True, True, True, True, True, True, True, True, True, True, True, True]\n",
        "#On new runtime, fetch selected columns using the mask\n",
        "df = X.iloc[:, mask]"
      ],
      "execution_count": 0,
      "outputs": []
    },
    {
      "cell_type": "code",
      "metadata": {
        "id": "zgKshfRpEjHt",
        "colab_type": "code",
        "colab": {
          "base_uri": "https://localhost:8080/",
          "height": 54
        },
        "outputId": "8a46acf4-a0e3-45f1-f777-f605462010f7"
      },
      "source": [
        "#sorted coefficients and columns\n",
        "coefficient_arr = lr_pipeline.named_steps.LR.coef_\n",
        "# print(coefficient_arr)\n",
        "column_coef = dict(zip(df.columns, coefficient_arr))\n",
        "# print(column_coef)\n",
        "print({k: v for k, v in sorted(column_coef.items(), key=lambda item: item[1])})"
      ],
      "execution_count": 36,
      "outputs": [
        {
          "output_type": "stream",
          "text": [
            "{'monthOfRegistration': -0.13703381765543526, 'brand_audi': -0.09566777062217868, 'brand_jaguar': -0.0254438610762076, 'brand_honda': -0.023097224466012825, 'brand_dacia': -0.02112448343020805, 'brand_porsche': -0.020902098812606337, 'brand_ford': -0.020450345566747366, 'brand_lada': -0.020275242524632753, 'brand_mercedes_benz': -0.02021296941133094, 'brand_smart': -0.01874934600155727, 'model_accord': -0.017599678940934782, 'powerPS': -0.016040686907168276, 'brand_nissan': -0.01578606602404881, 'model_one': -0.01380578905165904, 'model_c_max': -0.013660745316566494, 'model_verso': -0.013028164971148622, 'brand_citroen': -0.012753327450110041, 'brand_saab': -0.010899960198760245, 'brand_skoda': -0.01080643161022074, 'brand_toyota': -0.010790027620523895, 'brand_daihatsu': -0.01019035014127126, 'model_fusion': -0.010161901769107345, 'model_primera': -0.01000782334319128, 'model_kadett': -0.009847757513856626, 'model_cordoba': -0.009407671176087973, 'brand_fiat': -0.009168838912092327, 'model_v50': -0.009133986683396681, 'model_159': -0.008709152414457206, 'brand_rover': -0.008239220855239138, 'model_up': -0.007865939427039349, 'model_espace': -0.007810032633849749, 'brand_seat': -0.007618012140458867, 'brand_opel': -0.007380696001111117, 'model_cc': -0.00725940360760389, 'model_cr_reihe': -0.0071888164689516, 'model_lancer': -0.006984701649940702, 'model_lybra': -0.006605700732385471, 'model_clubman': -0.006518204391827102, 'model_elefantino': -0.006314856971135815, 'model_bravo': -0.006269966049241323, 'model_rangerover': -0.0055460812094413085, 'brand_hyundai': -0.005132650966033447, 'model_discovery_sport': -0.005111801299429824, 'model_range_rover_evoque': -0.004610999321360265, 'model_range_rover_sport': -0.0046081242237764435, 'model_850': -0.00452374475919267, 'model_tiguan': -0.004517001802108176, 'model_m_klasse': -0.004508736692598097, 'model_outlander': -0.004506362823194741, 'model_serie_2': -0.0038221739767191603, 'model_samara': -0.0037265455989934776, 'model_z_reihe': -0.0033941234975428, 'model_range_rover': -0.0031446659893470726, 'model_corolla': -0.0030715540333352137, 'model_xc_reihe': -0.0030340939005155387, 'model_meriva': -0.0029088362302375475, 'model_90': -0.002852095242174794, 'model_sorento': -0.002720208417123061, 'model_move': -0.002597052575126632, 'model_147': -0.002476855184914046, 'model_156': -0.0023779281711830726, 'model_ka': -0.002339627685989659, 'model_ptcruiser': -0.002245611325001205, 'model_note': -0.0019558170484026945, 'model_kalos': -0.0019103472057886988, 'model_altea': -0.0018847196294380936, 'model_auris': -0.0018251158526462405, 'model_colt': -0.0017372547745925435, 'model_carnival': -0.0017053054098485412, 'model_eos': -0.0015844989266328028, 'model_megane': -0.0015508741389659215, 'model_galaxy': -0.0015042642140393478, 'model_exeo': -0.0014301963556703923, 'model_boxster': -0.0014008277981714633, 'model_freelander': -0.0011911047622525546, 'model_legacy': -0.0010590340097506425, 'model_alhambra': -0.000898056658901707, 'gearbox': -2.6963478488193907e-19, 'model_santa': 0.0009931678374390245, 'model_serie_3': 0.0009990807025529829, 'model_aygo': 0.0011349116142903345, 'model_captiva': 0.001371747113669674, 'model_cayenne': 0.0014092063107656021, 'model_v_klasse': 0.001527125465644024, 'model_golf': 0.001674529003603549, 'model_sharan': 0.001736496881574864, 'model_crossfire': 0.0017784389020437897, 'model_911': 0.0017898240729578006, 'model_glk': 0.0018792577884420483, 'model_s_klasse': 0.0019175814377133233, 'model_80': 0.0021149662336565397, 'model_insignia': 0.0021323528975308766, 'model_4_reihe': 0.002193804297534501, 'model_a_klasse': 0.002258851470276775, 'model_roomster': 0.002369637925322861, 'model_kangoo': 0.002381422188301221, 'model_e_klasse': 0.0024014072764472413, 'model_c1': 0.002465162753999677, 'model_kappa': 0.002495246984889972, 'model_rav': 0.0025982985176133283, 'model_caddy': 0.0026129976690135812, 'model_900': 0.0026205992858697666, 'model_modus': 0.0026394725209170984, 'model_matiz': 0.0026463001537479535, 'model_beetle': 0.0027628005260357654, 'model_arosa': 0.002784986430386012, 'model_corsa': 0.0028093422774321114, 'model_wrangler': 0.0028759050563189094, 'model_mondeo': 0.002918443631794936, 'model_b_klasse': 0.002938768533799335, 'model_civic': 0.0029601813057755933, 'model_sirion': 0.002997690179636728, 'model_q3': 0.003061192429817833, 'model_v70': 0.00316369815269124, 'model_fortwo': 0.003295573043227173, 'model_forfour': 0.0033346001992865656, 'model_grand': 0.0033689155252190142, 'model_2_reihe': 0.00338293665079005, 'model_materia': 0.0033950894399211754, 'model_jimny': 0.003459034036109229, 'model_ceed': 0.003581896705153702, 'model_berlingo': 0.003662620953920492, 'model_carisma': 0.0037549662905191185, 'model_s60': 0.0038184580356565414, 'model_tigra': 0.0038927256086601254, 'fuelType_lpg': 0.003941441449475065, 'model_stilo': 0.003992031462437186, 'model_punto': 0.004036326825714854, 'model_500': 0.004044776855935005, 'model_v60': 0.00411072589836616, 'model_s_max': 0.004132652765677163, 'model_1_reihe': 0.004218869439995112, 'model_sl': 0.004275017067417709, 'model_q5': 0.004355243571633179, 'model_discovery': 0.004397355492918828, 'model_touran': 0.004449350455623146, 'model_nubira': 0.004520856935053855, 'brand_kia': 0.004686401714666642, 'model_justy': 0.004726970313558943, 'model_9000': 0.004759892901738668, 'model_avensis': 0.0048023014063250675, 'model_combo': 0.0048112331867865305, 'model_7er': 0.0048483455530950416, 'vehicleType_bus': 0.004942367377601842, 'model_x_type': 0.005006839006947095, 'model_cuore': 0.0050715332452171335, 'model_signum': 0.0051466929063630155, 'model_fabia': 0.005162913559607982, 'model_cl': 0.005426129244159934, 'model_b_max': 0.005519716043523097, 'fuelType_diesel': 0.005522335336970618, 'model_601': 0.005634421422128923, 'model_c_klasse': 0.005698412224001186, 'model_g_klasse': 0.00574889474388786, 'model_agila': 0.005782607558940946, 'model_niva': 0.006173778756064573, 'model_ducato': 0.006327841377433193, 'model_micra': 0.006619993338114906, 'model_jetta': 0.006758956560208064, 'model_yaris': 0.006779018017541822, 'model_aveo': 0.006779329928614215, 'model_qashqai': 0.006942203854423586, 'model_passat': 0.0069540396473231, 'model_defender': 0.006967151006327077, 'model_seicento': 0.007043454621243146, 'model_rio': 0.007085708061389163, 'model_lanos': 0.007140167025685665, 'model_vito': 0.007221432272195442, 'model_focus': 0.007290774954173816, 'model_calibra': 0.007436063806879566, 'model_x_reihe': 0.007502739265160352, 'model_voyager': 0.007526894833856176, 'model_gl': 0.007596067130024175, 'model_c2': 0.007597329714859475, 'model_viano': 0.007616267404911598, 'model_pajero': 0.007619221301186915, 'model_yeti': 0.00787919583326477, 'model_c3': 0.007937898217290584, 'model_roadster': 0.00806515891689661, 'model_a3': 0.008093737980960015, 'model_i3': 0.00817652559454719, 'model_zafira': 0.008287730900370289, 'model_3_reihe': 0.008293035317390072, 'years_old': 0.008329184802506424, 'model_juke': 0.008420089537930777, 'model_toledo': 0.008446923016623533, 'model_terios': 0.00846244810120975, 'model_almera': 0.008550824624693738, 'model_croma': 0.008681701915947384, 'model_145': 0.008701448918162519, 'model_sportage': 0.008871996726190774, 'model_duster': 0.008904586084365144, 'model_a2': 0.008942124738802657, 'model_kaefer': 0.008970380877444771, 'brand_volkswagen': 0.009002042129094645, 'model_amarok': 0.009031912289424038, 'model_a8': 0.009060325600969879, 'model_q7': 0.009104420014671093, 'model_ypsilon': 0.00910586424933076, 'model_polo': 0.009282521132328662, 'model_getz': 0.009350137410708437, 'model_panda': 0.009379780424198441, 'model_3er': 0.009508612296193101, 'brand_jeep': 0.009560208371870459, 'notRepairedDamage': 0.009585411819535428, 'model_laguna': 0.009692182945103406, 'model_twingo': 0.009855672712841391, 'model_c5': 0.009914141828839443, 'model_jazz': 0.009973388012274872, 'model_c4': 0.009985004476152505, 'model_charade': 0.01050779568996793, 'model_bora': 0.010556560518280687, 'model_6er': 0.010608546418236135, 'model_tucson': 0.010628614054424494, 'model_galant': 0.010862463552778246, 'model_rx_reihe': 0.01091525598451351, 'model_a6': 0.01110485615365081, 'model_transporter': 0.011119745121936333, 'model_scenic': 0.01134495828841766, 'model_x_trail': 0.011499505345028464, 'model_spark': 0.01155782250923036, 'model_forester': 0.011630412073572747, 'model_sprinter': 0.011849356448050751, 'model_c_reihe': 0.012236715496164086, 'model_200': 0.012879358662036211, 'model_a5': 0.013091036626963155, 'model_300c': 0.013099255448064034, 'model_impreza': 0.013578432331791571, 'model_5er': 0.013652222629138688, 'model_swift': 0.013750500805782466, 'model_slk': 0.01389877251354621, 'model_s_type': 0.013940564377599073, 'model_r19': 0.013993916232002255, 'model_navara': 0.014176435028952699, 'model_a4': 0.015136168457241306, 'model_lodgy': 0.015710290666467078, 'model_transit': 0.01604723869029604, 'model_a1': 0.016604289633766943, 'model_5_reihe': 0.017798729145591788, 'model_mx_reihe': 0.020383768759544167, 'model_fiesta': 0.021890562164608374, 'model_ibiza': 0.02244415332607304, 'fuelType_cng': 0.02292205688135126, 'model_omega': 0.02842775273812819, 'model_kalina': 0.028556227397892747, 'brand_mazda': 0.028833271676573444, 'brand_bmw': 0.03052167188079724, 'brand_subaru': 0.03757440165506686, 'brand_renault': 0.03944568261941746, 'brand_mitsubishi': 0.040113474406229324, 'model_tt': 0.04558728593980748, 'brand_volvo': 0.046566006387151096, 'model_antara': 0.0468980972744399, 'brand_chevrolet': 0.05043873247622177, 'brand_mini': 0.06885149065595775, 'fuelType_benzin': 0.08010624463627715, 'vehicleType_cabrio': 0.08675634602529485, 'vehicleType_kleinwagen': 0.0900367810759283, 'fuelType_elektro': 0.09209462770562879, 'vehicleType_kombi': 0.11190575541988611, 'vehicleType_limousine': 0.12249408647052543, 'vehicleType_coupe': 0.12774878010340157, 'kilometer': 0.1306353247616935, 'vehicleType_suv': 0.14612961478658443}\n"
          ],
          "name": "stdout"
        }
      ]
    },
    {
      "cell_type": "code",
      "metadata": {
        "id": "WwtGu1DqPySZ",
        "colab_type": "code",
        "outputId": "9a8e56c0-611e-455e-8ae0-8a383f052049",
        "colab": {
          "base_uri": "https://localhost:8080/",
          "height": 68
        }
      },
      "source": [
        "#Loop for counting brand and model variables\n",
        "column_list = df.columns.tolist()\n",
        "model_cnt = 0\n",
        "brand_cnt = 0\n",
        "total_cnt = 0\n",
        "\n",
        "for item in column_list:\n",
        "  if item.startswith('model'):\n",
        "    model_cnt += 1\n",
        "  elif item.startswith('brand'):\n",
        "    brand_cnt += 1\n",
        "  total_cnt +=1\n",
        "print('models: ', model_cnt)\n",
        "print('brands: ', brand_cnt)\n",
        "print('total: ', total_cnt)"
      ],
      "execution_count": 11,
      "outputs": [
        {
          "output_type": "stream",
          "text": [
            "models:  215\n",
            "brands:  31\n",
            "total:  264\n"
          ],
          "name": "stdout"
        }
      ]
    }
  ]
}