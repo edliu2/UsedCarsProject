{
  "nbformat": 4,
  "nbformat_minor": 0,
  "metadata": {
    "kernelspec": {
      "display_name": "Python 3",
      "language": "python",
      "name": "python3"
    },
    "language_info": {
      "codemirror_mode": {
        "name": "ipython",
        "version": 3
      },
      "file_extension": ".py",
      "mimetype": "text/x-python",
      "name": "python",
      "nbconvert_exporter": "python",
      "pygments_lexer": "ipython3",
      "version": "3.8.1"
    },
    "colab": {
      "name": "MultipleLR.ipynb",
      "provenance": [],
      "machine_shape": "hm"
    }
  },
  "cells": [
    {
      "cell_type": "code",
      "metadata": {
        "id": "_9zmIz5lVhC1",
        "colab_type": "code",
        "colab": {}
      },
      "source": [
        "#Multiple Linear Regression\n",
        "\n",
        "import numpy as np\n",
        "import matplotlib.pyplot as plt\n",
        "import pandas as pd\n",
        "\n",
        "#Loading the dataset\n",
        "try:\n",
        "  dataset = pd.read_csv('processed.csv')\n",
        "except:\n",
        "  dataset = pd.read_csv('drive/My Drive/processed.csv')\n",
        "# print(dataset)\n",
        "\n",
        "X = dataset.iloc[:,2:] #We are not using column 1. Also we slice it this way because we want X to be a matrix\n",
        "y = dataset.iloc[:,1]\n",
        "\n",
        "#Splitting the data into Training Set and Test Set\n",
        "from sklearn.model_selection import train_test_split\n",
        "X_train, X_test, y_train, y_test = train_test_split(X,y,test_size=0.3,random_state=0)"
      ],
      "execution_count": 0,
      "outputs": []
    },
    {
      "cell_type": "code",
      "metadata": {
        "id": "fBVfchpmVhC5",
        "colab_type": "code",
        "colab": {
          "base_uri": "https://localhost:8080/",
          "height": 306
        },
        "outputId": "5c1fac89-876c-46b3-990d-66e159cdc9b7"
      },
      "source": [
        "# Import required libraries and create pipeline\n",
        "from sklearn.preprocessing import StandardScaler\n",
        "from sklearn.linear_model import LinearRegression\n",
        "from sklearn.metrics import mean_squared_error\n",
        "from sklearn.pipeline import Pipeline\n",
        "\n",
        "print('starting pipeline')\n",
        "\n",
        "lr_pipeline = Pipeline([\n",
        "                    ('scale', StandardScaler()), \n",
        "                    ('LR', LinearRegression())\n",
        "                     ], verbose=True)\n",
        "\n",
        "lr_pipeline.fit(X_train, y_train)\n",
        "y_pred = lr_pipeline.predict(X_test)\n",
        "\n",
        "print(y_pred)\n",
        "print(y_test)\n",
        "print(mean_squared_error(y_test, y_pred))"
      ],
      "execution_count": 17,
      "outputs": [
        {
          "output_type": "stream",
          "text": [
            "starting pipeline\n",
            "[Pipeline] ............. (step 1 of 2) Processing scale, total=   1.8s\n",
            "[Pipeline] ................ (step 2 of 2) Processing LR, total=   5.3s\n",
            "[2.85932719 4.0153248  3.90359306 ... 4.14138205 3.95396876 3.45497342]\n",
            "85971     3.113943\n",
            "205804    4.037426\n",
            "13374     3.913814\n",
            "235012    4.041393\n",
            "169522    3.060698\n",
            "            ...   \n",
            "16494     3.653213\n",
            "259055    3.397940\n",
            "24516     4.107210\n",
            "13263     3.875061\n",
            "25001     3.544068\n",
            "Name: log_price, Length: 81600, dtype: float64\n",
            "0.06779693364579975\n"
          ],
          "name": "stdout"
        }
      ]
    },
    {
      "cell_type": "code",
      "metadata": {
        "id": "jxhDSYH6koN4",
        "colab_type": "code",
        "colab": {
          "base_uri": "https://localhost:8080/",
          "height": 272
        },
        "outputId": "eda6e637-58a3-4f0f-fa1e-6cb83da8e111"
      },
      "source": [
        "print(10**y_pred)\n",
        "print(10**y_test)\n",
        "print(mean_squared_error(10**y_test, 10**y_pred))"
      ],
      "execution_count": 18,
      "outputs": [
        {
          "output_type": "stream",
          "text": [
            "[  723.31453045 10359.16613224  8009.27232257 ... 13847.84041978\n",
            "  8994.32877639  2850.84375044]\n",
            "85971      1300.0\n",
            "205804    10900.0\n",
            "13374      8200.0\n",
            "235012    11000.0\n",
            "169522     1150.0\n",
            "           ...   \n",
            "16494      4500.0\n",
            "259055     2500.0\n",
            "24516     12800.0\n",
            "13263      7500.0\n",
            "25001      3500.0\n",
            "Name: log_price, Length: 81600, dtype: float64\n",
            "232717125.6909711\n"
          ],
          "name": "stdout"
        }
      ]
    },
    {
      "cell_type": "code",
      "metadata": {
        "id": "nrpH2RRXoTkA",
        "colab_type": "code",
        "outputId": "3227906d-5a1b-469e-ba2d-0b10122dc04b",
        "colab": {
          "base_uri": "https://localhost:8080/",
          "height": 282
        }
      },
      "source": [
        "#Backward Elimination\n",
        "import statsmodels.api as sm\n",
        "X_cols = X.columns\n",
        "X_withconstant = np.append(arr=np.ones((271997,1)).astype(int), values=X, axis=1)\n",
        "\n",
        "X_sig = X_withconstant\n",
        "obj_OLS = sm.OLS(endog = y, exog = X_sig).fit()\n",
        "\n",
        "# scatterplot to evaluate if sklearn.model_feature_selection.RFECV\n",
        "# which drops the lowest coefficients is giving similar results\n",
        "\n",
        "#filter on p > 0.05 (likely to be dropped)\n",
        "coefficients = abs(obj_OLS.params[obj_OLS.pvalues > 0.05])\n",
        "p_values = obj_OLS.pvalues[obj_OLS.pvalues > 0.05]\n",
        "plt.subplot(211)\n",
        "plt.scatter(coefficients, p_values)\n",
        "\n",
        "#filter on p < 0.05 (likely to keep)\n",
        "coefficients2 = abs(obj_OLS.params[obj_OLS.pvalues < 0.05])\n",
        "p_values2 = obj_OLS.pvalues[obj_OLS.pvalues < 0.05]\n",
        "plt.subplot(212)\n",
        "plt.scatter(coefficients2, p_values2)"
      ],
      "execution_count": 19,
      "outputs": [
        {
          "output_type": "execute_result",
          "data": {
            "text/plain": [
              "<matplotlib.collections.PathCollection at 0x7fefb9f7a630>"
            ]
          },
          "metadata": {
            "tags": []
          },
          "execution_count": 19
        },
        {
          "output_type": "display_data",
          "data": {
            "image/png": "[encoded data removed]",
            "text/plain": [
              "<Figure size 432x288 with 2 Axes>"
            ]
          },
          "metadata": {
            "tags": [],
            "needs_background": "light"
          }
        }
      ]
    },
    {
      "cell_type": "code",
      "metadata": {
        "id": "BquRWPiCVhC-",
        "colab_type": "code",
        "colab": {
          "base_uri": "https://localhost:8080/",
          "height": 765
        },
        "outputId": "7a4ca30c-72c0-451a-ffeb-58607b687416"
      },
      "source": [
        "# Loop to remove p > 0.05 recursively\n",
        "p_value = 1\n",
        "while p_value > 0.05:\n",
        "  obj_OLS = sm.OLS(endog = y, exog = X_sig).fit()\n",
        "  p_value = np.max(obj_OLS.pvalues)\n",
        "  p_index = np.argmax(obj_OLS.pvalues)\n",
        "  print(\"Dropped column at index \", p_index, \" with name\", X_cols[p_index])\n",
        "  X_cols = np.delete(X_cols, p_index)\n",
        "  X_sig = np.delete(X_sig, p_index, 1)\n",
        "\n",
        "print(\"Final shape\", X_sig.shape)"
      ],
      "execution_count": 20,
      "outputs": [
        {
          "output_type": "stream",
          "text": [
            "Dropped column at index  294  with name model_vivaro\n",
            "Dropped column at index  193  with name model_kuga\n",
            "Dropped column at index  62  with name model_1er\n",
            "Dropped column at index  199  with name model_lupo\n",
            "Dropped column at index  250  with name model_sandero\n",
            "Dropped column at index  11  with name brand_daewoo\n",
            "Dropped column at index  54  with name fuelType_hybrid\n",
            "Dropped column at index  130  with name model_clk\n",
            "Dropped column at index  278  with name model_v40\n",
            "Dropped column at index  173  with name model_i_reihe\n",
            "Dropped column at index  281  with name model_vectra\n",
            "Dropped column at index  21  with name brand_land_rover\n",
            "Dropped column at index  196  with name model_m_reihe\n",
            "Dropped column at index  142  with name model_delta\n",
            "Dropped column at index  132  with name model_cooper\n",
            "Dropped column at index  217  with name model_phaeton\n",
            "Dropped column at index  20  with name brand_lancia\n",
            "Dropped column at index  124  with name model_citigo\n",
            "Dropped column at index  137  with name model_cx_reihe\n",
            "Dropped column at index  26  with name brand_peugeot\n",
            "Dropped column at index  195  with name model_mii\n",
            "Dropped column at index  205  with name model_octavia\n",
            "Dropped column at index  35  with name brand_suzuki\n",
            "Dropped column at index  184  with name model_leon\n",
            "Dropped column at index  196  with name model_musa\n",
            "Dropped column at index  245  with name model_spider\n",
            "Dropped column at index  248  with name model_superb\n",
            "Dropped column at index  185  with name model_logan\n",
            "Dropped column at index  36  with name brand_trabant\n",
            "Dropped column at index  8  with name brand_chrysler\n",
            "Dropped column at index  136  with name model_doblo\n",
            "Dropped column at index  249  with name model_touareg\n",
            "Dropped column at index  90  with name model_astra\n",
            "Dropped column at index  118  with name model_cherokee\n",
            "Dropped column at index  228  with name model_scirocco\n",
            "Dropped column at index  120  with name model_clio\n",
            "Dropped column at index  147  with name model_fox\n",
            "Dropped column at index  32  with name brand_sonstige_autos\n",
            "Dropped column at index  86  with name model_andere\n",
            "Dropped column at index  136  with name model_escort\n",
            "Dropped column at index  63  with name model_6_reihe\n",
            "Dropped column at index  196  with name model_picanto\n",
            "Dropped column at index  184  with name model_mustang\n",
            "Final shape (271997, 265)\n"
          ],
          "name": "stdout"
        }
      ]
    },
    {
      "cell_type": "code",
      "metadata": {
        "id": "fml7whpdlKGq",
        "colab_type": "code",
        "colab": {
          "base_uri": "https://localhost:8080/",
          "height": 357
        },
        "outputId": "0cbf8f2b-14b1-4a13-f73c-b152203a962a"
      },
      "source": [
        "#Splitting the data into Training Set and Test Set\n",
        "X_sig_train, X_sig_test, y_sig_train, y_sig_test = train_test_split(X_sig, y, test_size=0.2,random_state=0)\n",
        "\n",
        "# Import required libraries and create pipeline\n",
        "from sklearn.preprocessing import StandardScaler\n",
        "from sklearn.linear_model import LinearRegression\n",
        "from sklearn.metrics import mean_squared_error\n",
        "from sklearn.pipeline import Pipeline\n",
        "\n",
        "print('starting pipeline')\n",
        "\n",
        "lr_pipeline = Pipeline([\n",
        "                    ('scale', StandardScaler()), \n",
        "                    ('LR', LinearRegression())\n",
        "                     ], verbose=True)\n",
        "\n",
        "lr_pipeline.fit(X_sig_train, y_sig_train)\n",
        "y_sig_pred = lr_pipeline.predict(X_sig_test)\n",
        "\n",
        "print(y_sig_pred)\n",
        "print(y_test)\n",
        "print(mean_squared_error(y_test, y_pred))\n",
        "print(mean_squared_error(y_sig_test, y_sig_pred))\n",
        "print(mean_squared_error(10**y_test, 10**y_pred))\n",
        "print(mean_squared_error(10**y_sig_test, 10**y_sig_pred))"
      ],
      "execution_count": 22,
      "outputs": [
        {
          "output_type": "stream",
          "text": [
            "starting pipeline\n",
            "[Pipeline] ............. (step 1 of 2) Processing scale, total=   1.9s\n",
            "[Pipeline] ................ (step 2 of 2) Processing LR, total=   4.4s\n",
            "[2.86304988 4.01560928 3.90240744 ... 4.46237258 3.69146352 3.3384798 ]\n",
            "85971     3.113943\n",
            "205804    4.037426\n",
            "13374     3.913814\n",
            "235012    4.041393\n",
            "169522    3.060698\n",
            "            ...   \n",
            "16494     3.653213\n",
            "259055    3.397940\n",
            "24516     4.107210\n",
            "13263     3.875061\n",
            "25001     3.544068\n",
            "Name: log_price, Length: 81600, dtype: float64\n",
            "0.06779693364579975\n",
            "0.06695273751429334\n",
            "232717125.6909711\n",
            "114938853.19178033\n"
          ],
          "name": "stdout"
        }
      ]
    },
    {
      "cell_type": "code",
      "metadata": {
        "id": "_A1sMhIiN4DG",
        "colab_type": "code",
        "colab": {
          "base_uri": "https://localhost:8080/",
          "height": 54
        },
        "outputId": "1c01c2a7-a70b-4f28-b45e-12f999e132af"
      },
      "source": [
        "# store boolean mask of removed variables\n",
        "mask = [True if item in X_cols.to_list() else False for item in X.columns.to_list()]\n",
        "print(mask)"
      ],
      "execution_count": 23,
      "outputs": [
        {
          "output_type": "stream",
          "text": [
            "[True, True, True, True, True, True, True, True, False, True, True, False, True, True, True, True, True, True, True, True, True, False, False, True, True, True, True, True, True, False, True, True, True, True, True, True, True, False, True, False, True, False, True, True, True, True, True, True, True, True, True, True, True, True, True, False, True, True, True, True, True, True, False, True, True, True, True, True, True, True, True, True, True, False, True, True, True, True, True, True, True, True, True, True, True, True, True, True, True, True, True, True, True, True, True, True, False, True, True, False, True, True, True, True, True, True, True, True, True, True, True, True, True, True, True, True, True, True, True, True, True, True, True, True, True, True, True, True, False, False, True, True, False, False, True, True, True, False, True, True, True, True, True, True, True, False, True, False, True, True, False, True, True, True, True, True, False, True, True, True, True, True, True, True, True, False, True, True, True, True, True, True, True, True, True, True, True, False, True, True, True, True, True, True, True, True, True, True, True, True, True, True, True, False, True, True, True, True, False, True, False, False, True, True, False, True, True, True, True, True, False, True, True, True, False, False, True, True, True, True, True, False, True, True, True, True, True, True, False, False, True, True, True, True, True, True, True, True, True, True, True, True, True, True, True, True, True, True, True, True, True, True, True, False, True, True, False, True, True, True, True, True, True, True, True, True, True, False, True, True, True, False, True, True, True, True, True, False, True, True, True, True, True, True, True, False, True, True, True, True, False, True, True, True, False, True, True, True, True, True, True, True, True, True, True, True, True]\n"
          ],
          "name": "stdout"
        }
      ]
    },
    {
      "cell_type": "code",
      "metadata": {
        "id": "WwtGu1DqPySZ",
        "colab_type": "code",
        "colab": {}
      },
      "source": [
        ""
      ],
      "execution_count": 0,
      "outputs": []
    }
  ]
}
