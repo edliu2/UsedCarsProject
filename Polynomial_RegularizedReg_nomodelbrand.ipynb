{
  "nbformat": 4,
  "nbformat_minor": 0,
  "metadata": {
    "kernelspec": {
      "display_name": "Python 3",
      "language": "python",
      "name": "python3"
    },
    "language_info": {
      "codemirror_mode": {
        "name": "ipython",
        "version": 3
      },
      "file_extension": ".py",
      "mimetype": "text/x-python",
      "name": "python",
      "nbconvert_exporter": "python",
      "pygments_lexer": "ipython3",
      "version": "3.8.1"
    },
    "colab": {
      "name": "RegularizedRegression.ipynb",
      "provenance": []
    }
  },
  "cells": [
    {
      "cell_type": "code",
      "metadata": {
        "id": "kGb6olXB1tly",
        "colab_type": "code",
        "colab": {}
      },
      "source": [
        "# Regularized Regression\n",
        "# We will now be importing some required libraries\n",
        "\n",
        "import numpy as np\n",
        "import matplotlib.pyplot as plt\n",
        "import pandas as pd\n",
        "\n",
        "#Loading the dataset\n",
        "try:\n",
        "  dataset = pd.read_csv('processed_without_modelbrand.csv')\n",
        "except:\n",
        "  dataset = pd.read_csv('drive/My Drive/processed_without_modelbrand.csv')\n",
        "X = dataset.iloc[:,2:].values #We are not using column 1. Also we slice it this way because we want X to be a matrix\n",
        "y = dataset.iloc[:,1].values\n",
        "\n",
        "#Splitting the data into Training Set and Test Set\n",
        "from sklearn.model_selection import train_test_split\n",
        "X_train, X_test, y_train, y_test = train_test_split(X,y,test_size=0.3,random_state=0)"
      ],
      "execution_count": 0,
      "outputs": []
    },
    {
      "cell_type": "code",
      "metadata": {
        "id": "MdCmIVG01tl2",
        "colab_type": "code",
        "colab": {
          "base_uri": "https://localhost:8080/",
          "height": 34
        },
        "outputId": "94cdf959-f09b-411f-97e0-b4de1c3c02a1"
      },
      "source": [
        "from sklearn.preprocessing import PolynomialFeatures, StandardScaler\n",
        "from sklearn.linear_model import LinearRegression, RidgeCV, LassoCV, ElasticNetCV\n",
        "\n",
        "#Normalizing the features\n",
        "sc_X = StandardScaler()\n",
        "X_train = sc_X.fit_transform(X_train)\n",
        "X_test = sc_X.transform(X_test)\n",
        "\n",
        "#Polynomial Regression with No Regularization\n",
        "polyFeatureObj = PolynomialFeatures(degree=2)\n",
        "X_poly = polyFeatureObj.fit_transform(X_train)\n",
        "X_poly_test = polyFeatureObj.transform(X_test)\n",
        "prObj = LinearRegression(n_jobs=-1)\n",
        "prObj.fit(X_poly, y_train)\n"
      ],
      "execution_count": 25,
      "outputs": [
        {
          "output_type": "execute_result",
          "data": {
            "text/plain": [
              "LinearRegression(copy_X=True, fit_intercept=True, n_jobs=-1, normalize=False)"
            ]
          },
          "metadata": {
            "tags": []
          },
          "execution_count": 25
        }
      ]
    },
    {
      "cell_type": "code",
      "metadata": {
        "id": "xorl36jh9QZ-",
        "colab_type": "code",
        "colab": {
          "base_uri": "https://localhost:8080/",
          "height": 68
        },
        "outputId": "d286a480-9d71-4a60-d477-e921002155bb"
      },
      "source": [
        "#Polynomial Regression with Ridge\n",
        "ridgeObj = RidgeCV(cv=10, scoring='neg_mean_squared_error')\n",
        "ridgeObj.fit(X_poly, y_train)"
      ],
      "execution_count": 26,
      "outputs": [
        {
          "output_type": "execute_result",
          "data": {
            "text/plain": [
              "RidgeCV(alphas=array([ 0.1,  1. , 10. ]), cv=10, fit_intercept=True,\n",
              "        gcv_mode=None, normalize=False, scoring='neg_mean_squared_error',\n",
              "        store_cv_values=False)"
            ]
          },
          "metadata": {
            "tags": []
          },
          "execution_count": 26
        }
      ]
    },
    {
      "cell_type": "code",
      "metadata": {
        "id": "7ZGATBXQ9ERO",
        "colab_type": "code",
        "colab": {
          "base_uri": "https://localhost:8080/",
          "height": 139
        },
        "outputId": "42bab452-4cca-45e4-ebb9-e0cfcb0e9dda"
      },
      "source": [
        "#Polynomial Regression with Lasso\n",
        "lassoObj = LassoCV(cv=10, random_state=0, n_jobs=-1, max_iter=3000)\n",
        "lassoObj.fit(X_poly, y_train)\n"
      ],
      "execution_count": 31,
      "outputs": [
        {
          "output_type": "stream",
          "text": [
            "/usr/local/lib/python3.6/dist-packages/sklearn/linear_model/_coordinate_descent.py:476: ConvergenceWarning: Objective did not converge. You might want to increase the number of iterations. Duality gap: 11.711534847372604, tolerance: 4.912299988902881\n",
            "  positive)\n"
          ],
          "name": "stderr"
        },
        {
          "output_type": "execute_result",
          "data": {
            "text/plain": [
              "LassoCV(alphas=None, copy_X=True, cv=10, eps=0.001, fit_intercept=True,\n",
              "        max_iter=3000, n_alphas=100, n_jobs=-1, normalize=False, positive=False,\n",
              "        precompute='auto', random_state=0, selection='cyclic', tol=0.0001,\n",
              "        verbose=False)"
            ]
          },
          "metadata": {
            "tags": []
          },
          "execution_count": 31
        }
      ]
    },
    {
      "cell_type": "code",
      "metadata": {
        "id": "dB26DSDO9EyP",
        "colab_type": "code",
        "colab": {
          "base_uri": "https://localhost:8080/",
          "height": 85
        },
        "outputId": "3a9a8fec-1c3e-4e0c-c22d-facf9f697571"
      },
      "source": [
        "#Polynomial Regression with ElasticNet\n",
        "enObj = ElasticNetCV(cv=10, l1_ratio=0.5, random_state=0,n_jobs=-1, max_iter=3000)\n",
        "enObj.fit(X_poly, y_train)"
      ],
      "execution_count": 32,
      "outputs": [
        {
          "output_type": "execute_result",
          "data": {
            "text/plain": [
              "ElasticNetCV(alphas=None, copy_X=True, cv=10, eps=0.001, fit_intercept=True,\n",
              "             l1_ratio=0.5, max_iter=3000, n_alphas=100, n_jobs=-1,\n",
              "             normalize=False, positive=False, precompute='auto', random_state=0,\n",
              "             selection='cyclic', tol=0.0001, verbose=0)"
            ]
          },
          "metadata": {
            "tags": []
          },
          "execution_count": 32
        }
      ]
    },
    {
      "cell_type": "code",
      "metadata": {
        "id": "sUOhG_Ya7lGL",
        "colab_type": "code",
        "colab": {
          "base_uri": "https://localhost:8080/",
          "height": 85
        },
        "outputId": "fd09a8a8-a906-410a-d2b7-74900ab202ab"
      },
      "source": [
        "from sklearn.metrics import mean_squared_error\n",
        "\n",
        "y_pred = prObj.predict(X_poly_test)\n",
        "print(mean_squared_error(y_test,y_pred))\n",
        "print(y_pred)\n",
        "print(y_test)\n",
        "# bug due to non convergence?\n",
        "print(min(y_pred))"
      ],
      "execution_count": 33,
      "outputs": [
        {
          "output_type": "stream",
          "text": [
            "135379902545064.4\n",
            "[3.02706873 4.07456481 3.98421633 ... 4.09948266 3.57837391 3.48377097]\n",
            "[3.11394335 4.0374265  3.91381385 ... 4.10720997 3.87506126 3.54406804]\n",
            "-3197157203.5727425\n"
          ],
          "name": "stdout"
        }
      ]
    },
    {
      "cell_type": "code",
      "metadata": {
        "id": "5WALIslT7k2q",
        "colab_type": "code",
        "colab": {
          "base_uri": "https://localhost:8080/",
          "height": 51
        },
        "outputId": "83e24211-c64c-4615-8db3-23cb337ffee8"
      },
      "source": [
        "#Result of Ridge\n",
        "y_pred = ridgeObj.predict(X_poly_test)\n",
        "print(mean_squared_error(y_test,y_pred))\n",
        "print(mean_squared_error(10**y_test, 10**y_pred)) # why is this so large?? Some coefficient blew up"
      ],
      "execution_count": 34,
      "outputs": [
        {
          "output_type": "stream",
          "text": [
            "0.05600523655390345\n",
            "6.44642427149154e+16\n"
          ],
          "name": "stdout"
        }
      ]
    },
    {
      "cell_type": "code",
      "metadata": {
        "id": "JQQYveK_8lyo",
        "colab_type": "code",
        "colab": {
          "base_uri": "https://localhost:8080/",
          "height": 51
        },
        "outputId": "8334cf9b-ed42-40ad-d298-5b7f299992c7"
      },
      "source": [
        "#Result of Lasso\n",
        "y_pred = lassoObj.predict(X_poly_test)\n",
        "print(mean_squared_error(y_test,y_pred))\n",
        "print(mean_squared_error(10**y_test, 10**y_pred)) # why is this so large?? Some coefficient blew up"
      ],
      "execution_count": 35,
      "outputs": [
        {
          "output_type": "stream",
          "text": [
            "0.05596342835536045\n",
            "2.3893581539345564e+16\n"
          ],
          "name": "stdout"
        }
      ]
    },
    {
      "cell_type": "code",
      "metadata": {
        "id": "DEnW16ak8w9I",
        "colab_type": "code",
        "colab": {
          "base_uri": "https://localhost:8080/",
          "height": 51
        },
        "outputId": "7230f097-6976-4111-8310-c563efb80285"
      },
      "source": [
        "# Result of ElasticNet\n",
        "y_pred = enObj.predict(X_poly_test)\n",
        "print(mean_squared_error(y_test,y_pred))\n",
        "print(mean_squared_error(10**y_test, 10**y_pred)) # why is this so large?? Some coefficient blew up\n"
      ],
      "execution_count": 36,
      "outputs": [
        {
          "output_type": "stream",
          "text": [
            "0.05596786387460332\n",
            "2.280015055215357e+16\n"
          ],
          "name": "stdout"
        }
      ]
    },
    {
      "cell_type": "code",
      "metadata": {
        "id": "kDvi2xE_1tl4",
        "colab_type": "code",
        "colab": {}
      },
      "source": [
        "\n",
        "# #Visualizing Results of Polynomial Regression\n",
        "# plt.scatter(X, y, color='red')\n",
        "# plt.plot(X, prObj.predict(X_poly), color='blue')\n",
        "# plt.title('Results of Polynomial Regression Model')\n",
        "# plt.xlabel('Level')\n",
        "# plt.ylabel('Salary')\n",
        "# plt.show()\n",
        "\n",
        "# #Visualizing Results of Ridge Regression\n",
        "# plt.scatter(X, y, color='red')\n",
        "# plt.plot(X, ridgeObj.predict(X_poly), color='blue')\n",
        "# plt.title('Results of Ridge Regression Model')\n",
        "# plt.xlabel('Level')\n",
        "# plt.ylabel('Salary')\n",
        "# plt.show()\n",
        "\n",
        "# #Visualizing Results of Lasso Regression\n",
        "# plt.scatter(X, y, color='red')\n",
        "# plt.plot(X, lassoObj.predict(X_poly), color='blue')\n",
        "# plt.title('Results of Lasso Regression Model')\n",
        "# plt.xlabel('Level')\n",
        "# plt.ylabel('Salary')\n",
        "# plt.show()\n",
        "\n",
        "# #Visualizing Results of ElasticNet Regression\n",
        "# plt.scatter(X, y, color='red')\n",
        "# plt.plot(X, enObj.predict(X_poly), color='blue')\n",
        "# plt.title('Results of ElasticNet Regression Model')\n",
        "# plt.xlabel('Level')\n",
        "# plt.ylabel('Salary')\n",
        "# plt.show()\n"
      ],
      "execution_count": 0,
      "outputs": []
    }
  ]
}
