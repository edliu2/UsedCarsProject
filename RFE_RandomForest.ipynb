{
 "cells": [
  {
   "cell_type": "markdown",
   "metadata": {
    "colab_type": "text",
    "id": "view-in-github"
   },
   "source": [
    "<a href=\"https://colab.research.google.com/github/edliu2/UsedCarsProject/blob/master/DecisionTree_RFECV.ipynb\" target=\"_parent\"><img src=\"https://colab.research.google.com/assets/colab-badge.svg\" alt=\"Open In Colab\"/></a>"
   ]
  },
  {
   "cell_type": "code",
   "execution_count": 1,
   "metadata": {
    "colab": {},
    "colab_type": "code",
    "id": "5UL3RvvLvcwY"
   },
   "outputs": [],
   "source": [
    "# Random Forest + Feature Selection\n",
    "\n",
    "import numpy as np\n",
    "import matplotlib.pyplot as plt\n",
    "import pandas as pd\n",
    "\n",
    "#Loading the dataset\n",
    "try:\n",
    "  dataset = pd.read_csv('processed.csv')\n",
    "except:\n",
    "  dataset = pd.read_csv('drive/My Drive/processed.csv')\n",
    "\n",
    "# print(dataset)\n",
    "\n",
    "X = dataset.iloc[:,2:] #We are not using column 1. Also we slice it this way because we want X to be a matrix\n",
    "y = dataset.iloc[:,1]\n",
    "\n",
    "from sklearn.model_selection import train_test_split\n",
    "X_train, X_test, y_train, y_test = train_test_split(X,y, test_size = 0.3, random_state = 0)"
   ]
  },
  {
   "cell_type": "code",
   "execution_count": 2,
   "metadata": {
    "colab": {
     "base_uri": "https://localhost:8080/",
     "height": 403
    },
    "colab_type": "code",
    "id": "QdoxqBuzvfPe",
    "outputId": "a9ea23cf-661e-4edd-c727-a3271a3eb5d0"
   },
   "outputs": [
    {
     "name": "stdout",
     "output_type": "stream",
     "text": [
      "Fitting estimator with 307 features.\n",
      "[Pipeline] ............. (step 1 of 2) Processing scale, total=   2.1s\n",
      "[Pipeline] ................ (step 2 of 2) Processing RF, total=  37.1s\n",
      "Fitting estimator with 302 features.\n",
      "[Pipeline] ............. (step 1 of 2) Processing scale, total=   1.4s\n",
      "[Pipeline] ................ (step 2 of 2) Processing RF, total=  36.2s\n",
      "Fitting estimator with 297 features.\n",
      "[Pipeline] ............. (step 1 of 2) Processing scale, total=   1.4s\n",
      "[Pipeline] ................ (step 2 of 2) Processing RF, total=  36.6s\n",
      "Fitting estimator with 292 features.\n",
      "[Pipeline] ............. (step 1 of 2) Processing scale, total=   1.4s\n",
      "[Pipeline] ................ (step 2 of 2) Processing RF, total=  36.2s\n",
      "Fitting estimator with 287 features.\n",
      "[Pipeline] ............. (step 1 of 2) Processing scale, total=   1.4s\n",
      "[Pipeline] ................ (step 2 of 2) Processing RF, total=  35.7s\n",
      "Fitting estimator with 282 features.\n",
      "[Pipeline] ............. (step 1 of 2) Processing scale, total=   1.3s\n",
      "[Pipeline] ................ (step 2 of 2) Processing RF, total=  35.1s\n",
      "Fitting estimator with 277 features.\n",
      "[Pipeline] ............. (step 1 of 2) Processing scale, total=   1.3s\n",
      "[Pipeline] ................ (step 2 of 2) Processing RF, total=  35.6s\n",
      "Fitting estimator with 272 features.\n",
      "[Pipeline] ............. (step 1 of 2) Processing scale, total=   1.3s\n",
      "[Pipeline] ................ (step 2 of 2) Processing RF, total=  34.8s\n",
      "Fitting estimator with 267 features.\n",
      "[Pipeline] ............. (step 1 of 2) Processing scale, total=   1.3s\n",
      "[Pipeline] ................ (step 2 of 2) Processing RF, total=  34.4s\n",
      "Fitting estimator with 262 features.\n",
      "[Pipeline] ............. (step 1 of 2) Processing scale, total=   1.2s\n",
      "[Pipeline] ................ (step 2 of 2) Processing RF, total=  33.6s\n",
      "Fitting estimator with 257 features.\n",
      "[Pipeline] ............. (step 1 of 2) Processing scale, total=   1.2s\n",
      "[Pipeline] ................ (step 2 of 2) Processing RF, total=  33.0s\n",
      "Fitting estimator with 252 features.\n",
      "[Pipeline] ............. (step 1 of 2) Processing scale, total=   1.2s\n",
      "[Pipeline] ................ (step 2 of 2) Processing RF, total=  33.0s\n",
      "Fitting estimator with 247 features.\n",
      "[Pipeline] ............. (step 1 of 2) Processing scale, total=   1.2s\n",
      "[Pipeline] ................ (step 2 of 2) Processing RF, total=  32.1s\n",
      "Fitting estimator with 242 features.\n",
      "[Pipeline] ............. (step 1 of 2) Processing scale, total=   1.2s\n",
      "[Pipeline] ................ (step 2 of 2) Processing RF, total=  32.4s\n",
      "Fitting estimator with 237 features.\n",
      "[Pipeline] ............. (step 1 of 2) Processing scale, total=   1.1s\n",
      "[Pipeline] ................ (step 2 of 2) Processing RF, total=  31.7s\n",
      "Fitting estimator with 232 features.\n",
      "[Pipeline] ............. (step 1 of 2) Processing scale, total=   1.1s\n",
      "[Pipeline] ................ (step 2 of 2) Processing RF, total=  31.2s\n",
      "Fitting estimator with 227 features.\n",
      "[Pipeline] ............. (step 1 of 2) Processing scale, total=   1.1s\n",
      "[Pipeline] ................ (step 2 of 2) Processing RF, total=  31.2s\n",
      "Fitting estimator with 222 features.\n",
      "[Pipeline] ............. (step 1 of 2) Processing scale, total=   1.1s\n",
      "[Pipeline] ................ (step 2 of 2) Processing RF, total=  30.9s\n",
      "Fitting estimator with 217 features.\n",
      "[Pipeline] ............. (step 1 of 2) Processing scale, total=   1.0s\n",
      "[Pipeline] ................ (step 2 of 2) Processing RF, total=  30.3s\n",
      "Fitting estimator with 212 features.\n",
      "[Pipeline] ............. (step 1 of 2) Processing scale, total=   1.0s\n",
      "[Pipeline] ................ (step 2 of 2) Processing RF, total=  30.0s\n",
      "Fitting estimator with 207 features.\n",
      "[Pipeline] ............. (step 1 of 2) Processing scale, total=   1.0s\n",
      "[Pipeline] ................ (step 2 of 2) Processing RF, total=  29.9s\n",
      "Fitting estimator with 202 features.\n",
      "[Pipeline] ............. (step 1 of 2) Processing scale, total=   1.0s\n",
      "[Pipeline] ................ (step 2 of 2) Processing RF, total=  29.3s\n",
      "Fitting estimator with 197 features.\n",
      "[Pipeline] ............. (step 1 of 2) Processing scale, total=   0.9s\n",
      "[Pipeline] ................ (step 2 of 2) Processing RF, total=  28.4s\n",
      "Fitting estimator with 192 features.\n",
      "[Pipeline] ............. (step 1 of 2) Processing scale, total=   0.9s\n",
      "[Pipeline] ................ (step 2 of 2) Processing RF, total=  28.1s\n",
      "Fitting estimator with 187 features.\n",
      "[Pipeline] ............. (step 1 of 2) Processing scale, total=   0.9s\n",
      "[Pipeline] ................ (step 2 of 2) Processing RF, total=  30.7s\n",
      "Fitting estimator with 182 features.\n",
      "[Pipeline] ............. (step 1 of 2) Processing scale, total=   0.9s\n",
      "[Pipeline] ................ (step 2 of 2) Processing RF, total=  29.3s\n",
      "Fitting estimator with 177 features.\n",
      "[Pipeline] ............. (step 1 of 2) Processing scale, total=   0.8s\n",
      "[Pipeline] ................ (step 2 of 2) Processing RF, total=  29.0s\n",
      "Fitting estimator with 172 features.\n",
      "[Pipeline] ............. (step 1 of 2) Processing scale, total=   0.8s\n",
      "[Pipeline] ................ (step 2 of 2) Processing RF, total=  28.1s\n",
      "Fitting estimator with 167 features.\n",
      "[Pipeline] ............. (step 1 of 2) Processing scale, total=   0.8s\n",
      "[Pipeline] ................ (step 2 of 2) Processing RF, total=  27.7s\n",
      "Fitting estimator with 162 features.\n",
      "[Pipeline] ............. (step 1 of 2) Processing scale, total=   0.8s\n",
      "[Pipeline] ................ (step 2 of 2) Processing RF, total=  27.0s\n",
      "[Pipeline] ............. (step 1 of 2) Processing scale, total=   0.8s\n",
      "[Pipeline] ................ (step 2 of 2) Processing RF, total=  26.5s\n",
      "[Pipeline] ............. (step 1 of 2) Processing scale, total=   0.8s\n",
      "[Pipeline] ................ (step 2 of 2) Processing RF, total=  26.8s\n",
      "Optimal number of features : 157\n"
     ]
    }
   ],
   "source": [
    "#import model\n",
    "from sklearn.preprocessing import StandardScaler\n",
    "from sklearn.ensemble import RandomForestRegressor\n",
    "from sklearn.pipeline import Pipeline\n",
    "from sklearn.feature_selection import RFECV\n",
    "\n",
    "# define new class for pipeline that passes feature importance or coef to RFE\n",
    "class PipelineRFE(Pipeline):\n",
    "\n",
    "    def fit(self, X, y=None, **fit_params):\n",
    "        super(PipelineRFE, self).fit(X, y, **fit_params)\n",
    "        self.feature_importances_ = self.steps[-1][-1].feature_importances_\n",
    "        return self\n",
    "\n",
    "RF_pipeline =  PipelineRFE([\n",
    "                    ('scale', StandardScaler()), \n",
    "                    ('RF', RandomForestRegressor(random_state=0, n_estimators=10, min_samples_leaf=4))\n",
    "                     ], verbose=True)\n",
    "\n",
    "selectionObj = RFECV(RF_pipeline, min_features_to_select=1, step=5, cv=10, scoring='neg_mean_squared_error', n_jobs=-1, verbose=10)\n",
    "selectionObj.fit(X_train, y_train)\n",
    "print(\"Optimal number of features : %d\" % selectionObj.n_features_)"
   ]
  },
  {
   "cell_type": "code",
   "execution_count": 3,
   "metadata": {
    "colab": {
     "base_uri": "https://localhost:8080/",
     "height": 280
    },
    "colab_type": "code",
    "id": "YP_3TVcMvg8R",
    "outputId": "5e174eeb-a33d-46dd-be70-99e43f2e60f4"
   },
   "outputs": [
    {
     "data": {
      "image/png": "[encoded data removed]",
      "text/plain": [
       "<Figure size 432x288 with 1 Axes>"
      ]
     },
     "metadata": {
      "needs_background": "light"
     },
     "output_type": "display_data"
    }
   ],
   "source": [
    "# Plot number of features VS. cross-validation scores\n",
    "plt.figure()\n",
    "plt.xlabel(\"Number of features selected\")\n",
    "plt.ylabel(\"Cross validation score (mean squared error)\")\n",
    "plt.plot(range(2, 5*len(selectionObj.grid_scores_) + 2, 5), selectionObj.grid_scores_)\n",
    "plt.show()"
   ]
  },
  {
   "cell_type": "code",
   "execution_count": 4,
   "metadata": {
    "colab": {
     "base_uri": "https://localhost:8080/",
     "height": 151
    },
    "colab_type": "code",
    "id": "3PDn0OeZviwK",
    "outputId": "7d6645e1-922e-496e-eaff-59eade9f7f61"
   },
   "outputs": [
    {
     "name": "stdout",
     "output_type": "stream",
     "text": [
      "Index(['gearbox', 'powerPS', 'kilometer', 'monthOfRegistration',\n",
      "       'notRepairedDamage', 'brand_audi', 'brand_bmw', 'brand_chevrolet',\n",
      "       'brand_chrysler', 'brand_citroen',\n",
      "       ...\n",
      "       'model_v70', 'model_vectra', 'model_viano', 'model_vito',\n",
      "       'model_vivaro', 'model_wrangler', 'model_x_reihe', 'model_z_reihe',\n",
      "       'model_zafira', 'years_old'],\n",
      "      dtype='object', length=157)\n"
     ]
    }
   ],
   "source": [
    "#check features\n",
    "selected_features = X_train.columns[selectionObj.support_]\n",
    "print(selected_features)"
   ]
  },
  {
   "cell_type": "code",
   "execution_count": 5,
   "metadata": {
    "colab": {
     "base_uri": "https://localhost:8080/",
     "height": 34
    },
    "colab_type": "code",
    "id": "nFPAHWWovkJy",
    "outputId": "bd10ee40-a87d-49b4-9cec-ba1ffd27d5a1"
   },
   "outputs": [
    {
     "name": "stdout",
     "output_type": "stream",
     "text": [
      "0.03405538725913902\n"
     ]
    }
   ],
   "source": [
    "#Making predictions on the Test Set\n",
    "y_pred = selectionObj.predict(X_test)\n",
    "\n",
    "#Evaluating the predictions using a Confusion Matrix\n",
    "from sklearn.metrics import mean_squared_error\n",
    "print(mean_squared_error(y_pred,y_test))"
   ]
  },
  {
   "cell_type": "code",
   "execution_count": 6,
   "metadata": {
    "colab": {
     "base_uri": "https://localhost:8080/",
     "height": 269
    },
    "colab_type": "code",
    "id": "ZbAOD_wVvwv_",
    "outputId": "f8ce49e7-b8a7-48fa-b012-858bebd2fb01"
   },
   "outputs": [
    {
     "name": "stdout",
     "output_type": "stream",
     "text": [
      "[  797.16396685 12185.19869657 10298.9587313  ... 12831.01816248\n",
      "  9583.69195246  4200.84133083]\n",
      "85971      1300.0\n",
      "205804    10900.0\n",
      "13374      8200.0\n",
      "235012    11000.0\n",
      "169522     1150.0\n",
      "           ...   \n",
      "16494      4500.0\n",
      "259055     2500.0\n",
      "24516     12800.0\n",
      "13263      7500.0\n",
      "25001      3500.0\n",
      "Name: log_price, Length: 81600, dtype: float64\n",
      "52049748.08540151\n"
     ]
    }
   ],
   "source": [
    "print(10**y_pred)\n",
    "print(10**y_test)\n",
    "print(mean_squared_error(10**y_test,10**y_pred))"
   ]
  },
  {
   "cell_type": "code",
   "execution_count": 37,
   "metadata": {
    "colab": {},
    "colab_type": "code",
    "id": "gSh-2SC-Kbp8"
   },
   "outputs": [
    {
     "name": "stdout",
     "output_type": "stream",
     "text": [
      "{'brand_lada': 88, 'brand_lancia': 230, 'brand_rover': 207, 'brand_subaru': 399, 'fuelType_cng': 326, 'fuelType_elektro': 39, 'fuelType_hybrid': 167, 'model_145': 20, 'model_159': 127, 'model_200': 8, 'model_300c': 82, 'model_5_reihe': 246, 'model_601': 113, 'model_6er': 140, 'model_850': 100, 'model_90': 43, 'model_900': 55, 'model_9000': 23, 'model_a1': 410, 'model_accord': 200, 'model_agila': 216, 'model_almera': 285, 'model_altea': 198, 'model_amarok': 23, 'model_antara': 64, 'model_auris': 140, 'model_avensis': 335, 'model_aveo': 70, 'model_aygo': 237, 'model_b_max': 17, 'model_boxster': 259, 'model_bravo': 151, 'model_c1': 218, 'model_c2': 217, 'model_c3': 273, 'model_c4': 260, 'model_c_max': 389, 'model_c_reihe': 123, 'model_captiva': 115, 'model_cayenne': 259, 'model_cc': 105, 'model_ceed': 148, 'model_charade': 13, 'model_cherokee': 75, 'model_citigo': 57, 'model_cl': 158, 'model_clubman': 124, 'model_combo': 205, 'model_cordoba': 185, 'model_corolla': 366, 'model_croma': 29, 'model_crossfire': 38, 'model_cx_reihe': 77, 'model_delta': 23, 'model_discovery': 63, 'model_discovery_sport': 1, 'model_doblo': 174, 'model_ducato': 183, 'model_duster': 120, 'model_elefantino': 4, 'model_eos': 341, 'model_espace': 259, 'model_exeo': 64, 'model_forester': 83, 'model_forfour': 209, 'model_freelander': 115, 'model_fusion': 158, 'model_getz': 216, 'model_gl': 39, 'model_glk': 138, 'model_grand': 363, 'model_i3': 3, 'model_impreza': 128, 'model_insignia': 431, 'model_jazz': 171, 'model_jetta': 171, 'model_juke': 64, 'model_justy': 64, 'model_kadett': 139, 'model_kalina': 3, 'model_kalos': 50, 'model_kangoo': 437, 'model_kappa': 8, 'model_kuga': 251, 'model_lancer': 124, 'model_lanos': 40, 'model_legacy': 72, 'model_lodgy': 18, 'model_logan': 184, 'model_lybra': 23, 'model_materia': 10, 'model_meriva': 598, 'model_mii': 54, 'model_modus': 168, 'model_move': 19, 'model_musa': 10, 'model_mustang': 165, 'model_navara': 61, 'model_niva': 64, 'model_note': 72, 'model_nubira': 25, 'model_outlander': 73, 'model_pajero': 120, 'model_phaeton': 132, 'model_picanto': 227, 'model_primera': 292, 'model_ptcruiser': 154, 'model_q3': 165, 'model_qashqai': 347, 'model_r19': 58, 'model_range_rover': 55, 'model_range_rover_evoque': 45, 'model_range_rover_sport': 68, 'model_rangerover': 3, 'model_rav': 214, 'model_rio': 216, 'model_roomster': 181, 'model_rx_reihe': 79, 'model_s60': 86, 'model_s_type': 71, 'model_samara': 3, 'model_sandero': 180, 'model_santa': 195, 'model_scirocco': 364, 'model_serie_2': 3, 'model_serie_3': 2, 'model_signum': 273, 'model_sirion': 78, 'model_sorento': 209, 'model_spark': 79, 'model_sportage': 176, 'model_superb': 248, 'model_swift': 378, 'model_terios': 17, 'model_tigra': 398, 'model_toledo': 156, 'model_touareg': 437, 'model_tucson': 129, 'model_up': 227, 'model_v50': 157, 'model_v60': 32, 'model_v_klasse': 79, 'model_verso': 199, 'model_voyager': 159, 'model_x_trail': 136, 'model_x_type': 80, 'model_xc_reihe': 215, 'model_yaris': 602, 'model_yeti': 140, 'model_ypsilon': 106}\n"
     ]
    }
   ],
   "source": [
    "not_selected = np.invert(selectionObj.support_)\n",
    "removed_features = X_train.iloc[:,not_selected]\n",
    "selected_features = X_train.iloc[:, selectionObj.support_]\n",
    "#Display removed features by count of positives\n",
    "print(dict(zip(removed_features.columns.tolist(), removed_features.sum().tolist())))"
   ]
  },
  {
   "cell_type": "code",
   "execution_count": 39,
   "metadata": {},
   "outputs": [
    {
     "name": "stdout",
     "output_type": "stream",
     "text": [
      "['gearbox', 'powerPS', 'kilometer', 'monthOfRegistration', 'notRepairedDamage', 'brand_audi', 'brand_bmw', 'brand_chevrolet', 'brand_chrysler', 'brand_citroen', 'brand_dacia', 'brand_daewoo', 'brand_daihatsu', 'brand_fiat', 'brand_ford', 'brand_honda', 'brand_hyundai', 'brand_jaguar', 'brand_jeep', 'brand_kia', 'brand_land_rover', 'brand_mazda', 'brand_mercedes_benz', 'brand_mini', 'brand_mitsubishi', 'brand_nissan', 'brand_opel', 'brand_peugeot', 'brand_porsche', 'brand_renault', 'brand_saab', 'brand_seat', 'brand_skoda', 'brand_smart', 'brand_sonstige_autos', 'brand_suzuki', 'brand_toyota', 'brand_trabant', 'brand_volkswagen', 'brand_volvo', 'vehicleType_bus', 'vehicleType_cabrio', 'vehicleType_coupe', 'vehicleType_kleinwagen', 'vehicleType_kombi', 'vehicleType_limousine', 'vehicleType_suv', 'fuelType_benzin', 'fuelType_diesel', 'fuelType_lpg', 'model_147', 'model_156', 'model_1_reihe', 'model_1er', 'model_2_reihe', 'model_3_reihe', 'model_3er', 'model_4_reihe', 'model_500', 'model_5er', 'model_6_reihe', 'model_7er', 'model_80', 'model_911', 'model_a2', 'model_a3', 'model_a4', 'model_a5', 'model_a6', 'model_a8', 'model_a_klasse', 'model_alhambra', 'model_andere', 'model_arosa', 'model_astra', 'model_b_klasse', 'model_beetle', 'model_berlingo', 'model_bora', 'model_c5', 'model_c_klasse', 'model_caddy', 'model_calibra', 'model_carisma', 'model_carnival', 'model_civic', 'model_clio', 'model_clk', 'model_colt', 'model_cooper', 'model_corsa', 'model_cr_reihe', 'model_cuore', 'model_defender', 'model_e_klasse', 'model_escort', 'model_fabia', 'model_fiesta', 'model_focus', 'model_fortwo', 'model_fox', 'model_g_klasse', 'model_galant', 'model_galaxy', 'model_golf', 'model_i_reihe', 'model_ibiza', 'model_jimny', 'model_ka', 'model_kaefer', 'model_laguna', 'model_leon', 'model_lupo', 'model_m_klasse', 'model_m_reihe', 'model_matiz', 'model_megane', 'model_micra', 'model_mondeo', 'model_mx_reihe', 'model_octavia', 'model_omega', 'model_one', 'model_panda', 'model_passat', 'model_polo', 'model_punto', 'model_q5', 'model_q7', 'model_roadster', 'model_s_klasse', 'model_s_max', 'model_scenic', 'model_seicento', 'model_sharan', 'model_sl', 'model_slk', 'model_spider', 'model_sprinter', 'model_stilo', 'model_tiguan', 'model_touran', 'model_transit', 'model_transporter', 'model_tt', 'model_twingo', 'model_v40', 'model_v70', 'model_vectra', 'model_viano', 'model_vito', 'model_vivaro', 'model_wrangler', 'model_x_reihe', 'model_z_reihe', 'model_zafira', 'years_old']\n"
     ]
    }
   ],
   "source": [
    "#Display selected features\n",
    "print(selected_features.columns.tolist())"
   ]
  },
  {
   "cell_type": "code",
   "execution_count": null,
   "metadata": {},
   "outputs": [],
   "source": []
  }
 ],
 "metadata": {
  "accelerator": "GPU",
  "colab": {
   "authorship_tag": "ABX9TyPD36dbQ5i14i9szR2fED5F",
   "include_colab_link": true,
   "mount_file_id": "https://github.com/edliu2/UsedCarsProject/blob/master/DecisionTree_RFECV.ipynb",
   "name": "Untitled1.ipynb",
   "provenance": []
  },
  "environment": {
   "name": "common-cpu.m47",
   "type": "gcloud",
   "uri": "gcr.io/deeplearning-platform-release/base-cpu:m47"
  },
  "kernelspec": {
   "display_name": "Python 3",
   "language": "python",
   "name": "python3"
  },
  "language_info": {
   "codemirror_mode": {
    "name": "ipython",
    "version": 3
   },
   "file_extension": ".py",
   "mimetype": "text/x-python",
   "name": "python",
   "nbconvert_exporter": "python",
   "pygments_lexer": "ipython3",
   "version": "3.7.6"
  }
 },
 "nbformat": 4,
 "nbformat_minor": 4
}
